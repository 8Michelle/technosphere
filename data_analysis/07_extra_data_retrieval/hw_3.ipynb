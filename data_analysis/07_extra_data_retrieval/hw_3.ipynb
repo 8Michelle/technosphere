{
 "cells": [
  {
   "cell_type": "code",
   "execution_count": 94,
   "metadata": {},
   "outputs": [],
   "source": [
    "import requests\n",
    "from bs4 import BeautifulSoup\n",
    "import os\n",
    "from multiprocessing.dummy import Pool\n",
    "import json\n",
    "from tqdm.notebook import tqdm\n",
    "import time"
   ]
  },
  {
   "cell_type": "markdown",
   "metadata": {},
   "source": [
    "`check_links` - проверяет полноту парсинга ссылок на книги данного автора"
   ]
  },
  {
   "cell_type": "code",
   "execution_count": 78,
   "metadata": {},
   "outputs": [],
   "source": [
    "def check_links(result, links):\n",
    "    links_total = int(result.find('span', class_='rd-listing-count__total').get_text())\n",
    "    return links_total == len(links)"
   ]
  },
  {
   "cell_type": "code",
   "execution_count": 110,
   "metadata": {},
   "outputs": [
    {
     "name": "stdout",
     "output_type": "stream",
     "text": [
      "\u001b[34mdata\u001b[m\u001b[m                  \u001b[34mparsing\u001b[m\u001b[m               \u001b[31mspotify-api-token.key\u001b[m\u001b[m\r\n",
      "\u001b[34mimages\u001b[m\u001b[m                \u001b[31mseminar.ipynb\u001b[m\u001b[m\r\n",
      "\u001b[31mmain.ipynb\u001b[m\u001b[m            \u001b[31msphere-cookies.json\u001b[m\u001b[m\r\n"
     ]
    }
   ],
   "source": [
    "!ls"
   ]
  },
  {
   "cell_type": "markdown",
   "metadata": {},
   "source": [
    "`get_urls` - возвращает `tuple` из `id` автора и списка ссылок на его книги. Если список неполный, к `id` дописывает `_not_full`."
   ]
  },
  {
   "cell_type": "code",
   "execution_count": 79,
   "metadata": {},
   "outputs": [],
   "source": [
    "def get_links(author):\n",
    "    \n",
    "    url = 'https://www.respublica.ru/authors/'\n",
    "    page = 0\n",
    "    links = []\n",
    "    \n",
    "    while True:\n",
    "        page += 1\n",
    "        link = url + author + '?page=' + str(page)\n",
    "            try:\n",
    "                response = requests.get(link, timeout=30)\n",
    "            except:\n",
    "                with open('')\n",
    "        result = BeautifulSoup(response.content, 'html.parser')\n",
    "        last_page = result.find_all('a',\n",
    "                                    class_='rd-listing-pagination__link')[-1].get_text()\n",
    "        if int(last_page) < page:\n",
    "            if  not check_links(result, links):\n",
    "                author += '_not_full'\n",
    "            return (author, links)\n",
    "        link_blocks = result.find_all('a',\n",
    "                                      class_='rd-listing-product-item__image-wrapper')\n",
    "        links += [link['href'] for link in link_blocks]"
   ]
  },
  {
   "cell_type": "code",
   "execution_count": 84,
   "metadata": {},
   "outputs": [],
   "source": [
    "def progresser(n):\n",
    "    interval = 0.001 / (n + 2)\n",
    "    total = 5000\n",
    "    text = \"#{}, est. {:<04.2}s\".format(n, interval * total)\n",
    "    for _ in trange(total, desc=text, position=n):\n",
    "        sleep(interval)"
   ]
  },
  {
   "cell_type": "markdown",
   "metadata": {},
   "source": [
    "Читаем список `id` авторов из файла и запускаем мультипроцессорный парсинг функцией `get_links`, преобразуем результат в словарь с ключами `id` авторов и значениями списками ссылок на книги."
   ]
  },
  {
   "cell_type": "code",
   "execution_count": 95,
   "metadata": {},
   "outputs": [
    {
     "data": {
      "application/vnd.jupyter.widget-view+json": {
       "model_id": "32e6b2e37e2843cfbc072eb268533808",
       "version_major": 2,
       "version_minor": 0
      },
      "text/plain": [
       "HBox(children=(IntProgress(value=0, max=35), HTML(value='')))"
      ]
     },
     "metadata": {},
     "output_type": "display_data"
    },
    {
     "name": "stdout",
     "output_type": "stream",
     "text": [
      "\n"
     ]
    }
   ],
   "source": [
    "with open('authors.txt', 'r') as f:\n",
    "    authors = f.read().split('\\n')\n",
    "    \n",
    "with Pool(processes=4) as pool:\n",
    "    links = dict(tqdm(pool.imap(get_links, authors), total=len(authors)))"
   ]
  },
  {
   "cell_type": "markdown",
   "metadata": {},
   "source": [
    "Проверяем полноту парсинга для всех авторов."
   ]
  },
  {
   "cell_type": "code",
   "execution_count": 97,
   "metadata": {},
   "outputs": [
    {
     "name": "stdout",
     "output_type": "stream",
     "text": [
      "All links are parsed\n"
     ]
    }
   ],
   "source": [
    "links_full = True\n",
    "for item_link in links:\n",
    "    if item_link.endswith('_not_full'):\n",
    "        links_full = False\n",
    "        print(item_link)\n",
    "if links_full:\n",
    "    print('All links are parsed')\n",
    "else:\n",
    "    print('Some links are not parsed')"
   ]
  },
  {
   "cell_type": "markdown",
   "metadata": {},
   "source": [
    "Сохраняем ссылки в файл."
   ]
  },
  {
   "cell_type": "code",
   "execution_count": 73,
   "metadata": {},
   "outputs": [],
   "source": [
    "with open('links.json', 'w') as f:\n",
    "    json.dump(dict(links), f)"
   ]
  },
  {
   "cell_type": "code",
   "execution_count": null,
   "metadata": {},
   "outputs": [],
   "source": []
  }
 ],
 "metadata": {
  "kernelspec": {
   "display_name": "Python 3",
   "language": "python",
   "name": "python3"
  },
  "language_info": {
   "codemirror_mode": {
    "name": "ipython",
    "version": 3
   },
   "file_extension": ".py",
   "mimetype": "text/x-python",
   "name": "python",
   "nbconvert_exporter": "python",
   "pygments_lexer": "ipython3",
   "version": "3.7.4"
  }
 },
 "nbformat": 4,
 "nbformat_minor": 2
}
