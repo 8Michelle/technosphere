{
 "cells": [
  {
   "cell_type": "code",
   "execution_count": 58,
   "metadata": {},
   "outputs": [],
   "source": [
    "import base64\n",
    "\n",
    "import requests\n",
    "\n",
    "from lxml import html as lhtml\n",
    "\n",
    "from tqdm.notebook import tqdm"
   ]
  },
  {
   "cell_type": "code",
   "execution_count": 59,
   "metadata": {},
   "outputs": [
    {
     "data": {
      "application/vnd.jupyter.widget-view+json": {
       "model_id": "d068e99b2dfd4c129c03dcaaf5c2bbc0",
       "version_major": 2,
       "version_minor": 0
      },
      "text/plain": [
       "HBox(children=(FloatProgress(value=0.0), HTML(value='')))"
      ]
     },
     "metadata": {},
     "output_type": "display_data"
    },
    {
     "name": "stdout",
     "output_type": "stream",
     "text": [
      "\n"
     ]
    },
    {
     "data": {
      "text/plain": [
       "['https://hightech.fm/2020/04/01/seastar-cd2',\n",
       " 'https://hightech.fm/2020/04/01/sarge',\n",
       " 'https://hightech.fm/2020/04/01/biomars',\n",
       " 'https://hightech.fm/2020/04/01/extreme-high-frequency-enable',\n",
       " 'https://hightech.fm/2020/04/01/nightingale',\n",
       " 'https://hightech.fm/2020/04/01/hubble-new-type',\n",
       " 'https://hightech.fm/2020/04/01/uran-sattelites',\n",
       " 'https://hightech.fm/2020/04/01/3d-print-covid-19',\n",
       " 'https://hightech.fm/2020/04/01/prod',\n",
       " 'https://hightech.fm/2020/04/01/mars-bees']"
      ]
     },
     "execution_count": 59,
     "metadata": {},
     "output_type": "execute_result"
    }
   ],
   "source": [
    "documents = []\n",
    "\n",
    "for page_i in tqdm(range(1, 101)):\n",
    "    page = requests.post('https://hightech.fm/wp-admin/admin-ajax.php', data={\n",
    "        'action': 'loadmore',\n",
    "        'posts_per_page': 7,\n",
    "        'template': 'other',\n",
    "        'offset': 0,\n",
    "        'page': page_i,\n",
    "        'nonce': 'c13ec0ef9f',\n",
    "    })\n",
    "    \n",
    "    if not page.ok:\n",
    "        print(page.status_code, page_i)\n",
    "    \n",
    "    tree = lhtml.fromstring(page.text)\n",
    "    urls = tree.xpath('//article/a[@href]/attribute::href')\n",
    "    \n",
    "    if not urls:\n",
    "        break\n",
    "    \n",
    "    documents.extend(urls)\n",
    "    \n",
    "documents[:10]"
   ]
  },
  {
   "cell_type": "code",
   "execution_count": 60,
   "metadata": {},
   "outputs": [
    {
     "data": {
      "text/plain": [
       "(700, 700)"
      ]
     },
     "execution_count": 60,
     "metadata": {},
     "output_type": "execute_result"
    }
   ],
   "source": [
    "len(documents), len(set(documents))"
   ]
  },
  {
   "cell_type": "code",
   "execution_count": 74,
   "metadata": {},
   "outputs": [],
   "source": [
    "def process_page(url):\n",
    "    page = requests.get(url)\n",
    "    tree = lhtml.fromstring(page.content)\n",
    "\n",
    "    title = tree.xpath('//h1[@itemprop=\"headline\"]/text()')\n",
    "    title = ''.join(title) or None\n",
    "\n",
    "    description = tree.xpath('//div[@class=\"page-content__head\"]//p[contains(@class, \"lead\")]//text()')\n",
    "    description = ''.join(description) or None\n",
    "\n",
    "    rubric = tree.xpath('//div[@class=\"hero-main__category\"]//span[@itemprop=\"genre\"]/text()')\n",
    "\n",
    "    info = {\n",
    "        'title': title,\n",
    "        'description': description,\n",
    "        'rubric': rubric,\n",
    "        'url': page.url,\n",
    "    }\n",
    "\n",
    "    return info"
   ]
  },
  {
   "cell_type": "code",
   "execution_count": 75,
   "metadata": {},
   "outputs": [
    {
     "data": {
      "text/plain": [
       "{'title': 'Робототехническая компания представила терминалы для проверки на коронавирус',\n",
       " 'description': 'Производитель сервисных роботов — компания Promobot — представила терминалы для проверки на коронавирус. Устройства предназначены для дистанционного измерения температуры у людей в местах повышенной проходимости.',\n",
       " 'rubric': ['COVID-19'],\n",
       " 'url': 'https://hightech.fm/2020/03/30/coronavirus-terminal'}"
      ]
     },
     "execution_count": 75,
     "metadata": {},
     "output_type": "execute_result"
    }
   ],
   "source": [
    "process_page('https://hightech.fm/2020/03/30/coronavirus-terminal')"
   ]
  },
  {
   "cell_type": "code",
   "execution_count": 76,
   "metadata": {},
   "outputs": [],
   "source": [
    "records = []\n",
    "\n",
    "for doc in documents[:10]:\n",
    "    record = process_page(doc)\n",
    "    records.append(record)"
   ]
  },
  {
   "cell_type": "code",
   "execution_count": 79,
   "metadata": {},
   "outputs": [],
   "source": [
    "import json\n",
    "\n",
    "with open('/tmp/text.txt', 'w') as f_json:\n",
    "    for record in records:\n",
    "        record_str = json.dumps(record, ensure_ascii=False)\n",
    "        print(record_str, file=f_json)"
   ]
  },
  {
   "cell_type": "code",
   "execution_count": 80,
   "metadata": {},
   "outputs": [
    {
     "name": "stdout",
     "output_type": "stream",
     "text": [
      "{\"title\": \"Dornier Seawings испытала самолет-амфибию с тандемным расположением двигателей\", \"description\": \"Dornier Seawings испытала самолет-амфибию с тандемным расположением двигателей. Испытания аппарата под названием Seastar CD2 были признаны успешными, пишет FlightGlobal.\", \"rubric\": [\"Новости\"], \"url\": \"https://hightech.fm/2020/04/01/seastar-cd2\"}\r\n",
      "{\"title\": \"ВВС США будут использовать геофизические ракеты для гиперзвуковых испытаний\", \"description\": \"ВВС США будут использовать малозаметные ракеты для гиперзвуковых испытаний. Американские военные заключили контракт с компанией Exos Aerospace Systems & Technologies на доработку геофизических ракет SARGE для их использования в рамках создания гиперзвукового оружия.\", \"rubric\": [\"Новости\"], \"url\": \"https://hightech.fm/2020/04/01/sarge\"}\r\n",
      "{\"title\": \"Новые бактериальные батарейки позволят производить энергию на Марсе\", \"description\": \"Новые бактериальные батарейки позволят производить энергию на Марсе. Биогенератор электричества на основе бактерий и нанопроводов из кремния создали ученые из Калифорнийского университета в Беркли, их исследование опубликовано в научном журнале Joule.\", \"rubric\": [\"Наука\"], \"url\": \"https://hightech.fm/2020/04/01/biomars\"}\r\n",
      "{\"title\": \"Крайне высокочастотные сигналы увеличили скорость передачи данных до 10 Тб/сек\", \"description\": \"Крайне высокочастотные сигналы увеличили скорость передачи данных до 10 Тб/сек. Это намного выше скорости, с которой существующие каналы могут передавать данные, говорится в исследовании ученых из Американского института физики, опубликованном в журнале Applied Physics Letters.\", \"rubric\": [\"Наука\"], \"url\": \"https://hightech.fm/2020/04/01/extreme-high-frequency-enable\"}\r\n",
      "{\"title\": \"Из-за глобального потепления у соловьев станут короче крылья. И они могут вымереть!\", \"description\": \"Из-за глобального потепления у соловьев станут короче крылья, что приведет к остановке миграции этих птиц. Об этом говорится в исследовании ученых из Мадридского университета на сайте Американского орнитологического общества.\", \"rubric\": [\"Наука\"], \"url\": \"https://hightech.fm/2020/04/01/nightingale\"}\r\n",
      "{\"title\": \"Посмотрите на новый тип черных дыр, сфотографированных телескопом Hubble\", \"description\": \"Телескоп Hubble снял «неуловимую» черную дыру нового типа 3XMM J215022.4? 055108. Она меньше сверхмассивных черных дыр, но больше объектов звездной массы, образовавшихся в результате коллапса звезды. Об этом говорится в исследовании ученых из Университета Нового Хэмпшира, опубликованном в журнале Astrophysical Journal Letters.\", \"rubric\": [\"Наука\"], \"url\": \"https://hightech.fm/2020/04/01/hubble-new-type\"}\r\n",
      "{\"title\": \"Спутники Урана формировались внутри гигантского облака из пара\", \"description\": \"Спутники Урана формировались внутри гигантского облака из пара. Это объясняет странность их орбиты и относительно небольшую массу, говорится в исследовании ученых из Токийского технологического института, опубликованном в журнале Nature Astronomy.\", \"rubric\": [\"Новости\"], \"url\": \"https://hightech.fm/2020/04/01/uran-sattelites\"}\r\n",
      "{\"title\": \"Около 1,5 тыс. владельцев 3D-принтеров начали печатать маски для британских больниц\", \"description\": \"Около 1,5 тыс владельцев 3D-принтеров начали печатать маски для британских больниц. Об этом пишет BBC.\", \"rubric\": [\"COVID-19\"], \"url\": \"https://hightech.fm/2020/04/01/3d-print-covid-19\"}\r\n",
      "{\"title\": \"Исследование: пандемия радикально изменила модель потребления продуктов\", \"description\": \"Пандемия COVID-19 радикально изменила модель потребления продуктов по всему миру, пишет SCMP.\", \"rubric\": [\"COVID-19\"], \"url\": \"https://hightech.fm/2020/04/01/prod\"}\r\n",
      "{\"title\": \"Российский изобретатель запатентовал эксперимент по доставке пчел на Марс\", \"description\": \"Российский изобретатель запатентовал эксперимент по доставке пчел на Марс. Житель Архангельска (его имя не раскрывается) планирует отправить в космос колонию спящих внутри улья пчел. Об этом пишет РИА Новости со ссылкой на данные Федеральной службы по интеллектуальной собственности.\", \"rubric\": [\"Новости\"], \"url\": \"https://hightech.fm/2020/04/01/mars-bees\"}\r\n"
     ]
    }
   ],
   "source": [
    "!cat /tmp/text.txt"
   ]
  },
  {
   "cell_type": "code",
   "execution_count": null,
   "metadata": {},
   "outputs": [],
   "source": []
  },
  {
   "cell_type": "code",
   "execution_count": null,
   "metadata": {},
   "outputs": [],
   "source": []
  },
  {
   "cell_type": "code",
   "execution_count": null,
   "metadata": {},
   "outputs": [],
   "source": []
  },
  {
   "cell_type": "code",
   "execution_count": null,
   "metadata": {},
   "outputs": [],
   "source": []
  }
 ],
 "metadata": {
  "kernelspec": {
   "display_name": "Python 3",
   "language": "python",
   "name": "python3"
  },
  "language_info": {
   "codemirror_mode": {
    "name": "ipython",
    "version": 3
   },
   "file_extension": ".py",
   "mimetype": "text/x-python",
   "name": "python",
   "nbconvert_exporter": "python",
   "pygments_lexer": "ipython3",
   "version": "3.7.4"
  }
 },
 "nbformat": 4,
 "nbformat_minor": 2
}
