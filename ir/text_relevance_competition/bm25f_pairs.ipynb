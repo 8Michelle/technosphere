{
 "cells": [
  {
   "cell_type": "markdown",
   "metadata": {},
   "source": [
    "В этом ноутбуке реализованы дополнения к BM25f. Были добавлены биграммы слов из запроса, проверку орфографии и расширения запросов."
   ]
  },
  {
   "cell_type": "code",
   "execution_count": 1,
   "metadata": {},
   "outputs": [],
   "source": [
    "import pickle\n",
    "import math\n",
    "import os\n",
    "from smart_parser import clean_text, lemmatize_text\n",
    "from tqdm.notebook import tqdm\n",
    "from collections import defaultdict\n",
    "from pymystem3 import Mystem\n",
    "from joblib import Parallel, delayed\n",
    "from ndcg_standart import mean_ndcg\n",
    "import requests\n",
    "\n",
    "PATH = \"/Users/michelle/data/text-relevance-competition-ir-1-ts-fall-2020/\"\n"
   ]
  },
  {
   "cell_type": "code",
   "execution_count": 2,
   "metadata": {},
   "outputs": [],
   "source": [
    "stemmer = Mystem()"
   ]
  },
  {
   "cell_type": "code",
   "execution_count": 3,
   "metadata": {},
   "outputs": [],
   "source": [
    "def get_parsed_doc(docid):\n",
    "    filename = f\"parsed_{docid}.pkl\"\n",
    "    with open(os.path.join(PATH, \"parsed_content\", filename), \"rb\") as f:\n",
    "        return pickle.load(f)"
   ]
  },
  {
   "cell_type": "code",
   "execution_count": 4,
   "metadata": {},
   "outputs": [],
   "source": [
    "listdir = os.listdir(os.path.join(PATH, \"parsed_content\"))"
   ]
  },
  {
   "cell_type": "code",
   "execution_count": 5,
   "metadata": {},
   "outputs": [],
   "source": [
    "with open(PATH + \"queries.numerate.txt\", \"r\") as f:\n",
    "    queries = f.read().split(\"\\n\")\n",
    "\n",
    "with open(PATH + \"sample.technosphere.ir1.textrelevance.submission.txt\", \"r\") as f:\n",
    "    sample = f.read().split(\"\\n\")\n",
    "    \n",
    "query_docid = defaultdict(list)\n",
    "for item in sample[1:]:\n",
    "    if item:\n",
    "        qid = item.split(\",\")[0]\n",
    "        docid = item.split(\",\")[1]\n",
    "        query_docid[qid].append(docid)\n",
    "        \n",
    "queries = [None] + [item.split(\"\\t\")[1] for item in queries if item]"
   ]
  },
  {
   "cell_type": "code",
   "execution_count": 6,
   "metadata": {},
   "outputs": [],
   "source": [
    "average_doc_len = 8682.4\n",
    "corpus_len = 38115"
   ]
  },
  {
   "cell_type": "markdown",
   "metadata": {},
   "source": [
    "Здесь и далее считаем общий IDF по всей базе."
   ]
  },
  {
   "cell_type": "code",
   "execution_count": 7,
   "metadata": {},
   "outputs": [
    {
     "data": {
      "application/vnd.jupyter.widget-view+json": {
       "model_id": "767886947d0848e29ef49dd5b1f81da6",
       "version_major": 2,
       "version_minor": 0
      },
      "text/plain": [
       "HBox(children=(HTML(value=''), FloatProgress(value=0.0, max=38115.0), HTML(value='')))"
      ]
     },
     "metadata": {},
     "output_type": "display_data"
    },
    {
     "name": "stdout",
     "output_type": "stream",
     "text": [
      "\n"
     ]
    }
   ],
   "source": [
    "words_count = defaultdict(int)\n",
    "for filename in tqdm(listdir, total=len(listdir)):\n",
    "    if filename.endswith(\".pkl\"):\n",
    "        with open(os.path.join(PATH, \"parsed_content\", filename), \"rb\") as f:\n",
    "            doc = pickle.load(f)\n",
    "        for word in set(doc[0].split()):\n",
    "            words_count[word] += 1"
   ]
  },
  {
   "cell_type": "code",
   "execution_count": 8,
   "metadata": {},
   "outputs": [],
   "source": [
    "words_idf = {}\n",
    "for word, count in words_count.items():\n",
    "    words_idf[word] = -math.log(count / corpus_len)"
   ]
  },
  {
   "cell_type": "markdown",
   "metadata": {},
   "source": [
    "Как в последнем примере из ноутбука BM25f, сначала считаем tf для разных полей, а потом их складываем с весами."
   ]
  },
  {
   "cell_type": "code",
   "execution_count": 37,
   "metadata": {},
   "outputs": [],
   "source": [
    "def tf_score(tf, field_len):\n",
    "    return tf / (tf + 1 + 0.001 * field_len)\n",
    "\n",
    "def word_score(word, doc, idf): # условие при добавлении веса источника\n",
    "    text_weight = 1\n",
    "    headers_weight = 1.5\n",
    "    meta_weight = 4\n",
    "    title_weight = 5\n",
    "    headers_coef = 1.2\n",
    "    \n",
    "    text_tf = doc[0].split(' ').count(word)\n",
    "    title_tf = doc[1].split(' ').count(word)\n",
    "    meta_tf = doc[2].split(' ').count(word)\n",
    "    headers_tf = [header.split(' ').count(word) for header in doc[3]]\n",
    "        \n",
    "    text_score = tf_score(text_tf, len(doc[0].split(' '))) * text_weight# if text_tf else 0\n",
    "    title_score = tf_score(title_tf, len(doc[1].split(' '))) * title_weight# if title_tf else 0\n",
    "    meta_score = tf_score(meta_tf, len(doc[2].split())) * meta_weight\n",
    "    headers_score = sum([tf_score(header_tf, len(doc[3][i].split(' ')))\\\n",
    "                     * headers_weight ** 6 / headers_coef ** i\\\n",
    "                     for i, header_tf in enumerate(headers_tf)])# if header_tf])\n",
    "    \n",
    "    print(idf, text_score, title_score, meta_score, headers_score)\n",
    "    \n",
    "    return idf * (text_score + title_score + headers_score + meta_score)"
   ]
  },
  {
   "cell_type": "code",
   "execution_count": 16,
   "metadata": {},
   "outputs": [],
   "source": [
    "with open(os.path.join(PATH, \"words_idf\"), \"wb\") as f:\n",
    "    pickle.dump(words_idf, f)"
   ]
  },
  {
   "cell_type": "markdown",
   "metadata": {},
   "source": [
    "Аналогично учитываем пары, отдельно рассматривая то, в какому порядке слова встретились в документе."
   ]
  },
  {
   "cell_type": "code",
   "execution_count": 22,
   "metadata": {},
   "outputs": [],
   "source": [
    "def tf_pair(word1, word2, text):\n",
    "    bigram_weight = 1\n",
    "    inverse_weight = 0.75\n",
    "    skip_weight = 0.5\n",
    "    skip_inverse_weight = 0.25\n",
    "\n",
    "    text_len = len(text)\n",
    "    bigram_tf = 0\n",
    "    inverse_tf = 0\n",
    "    skip_tf = 0\n",
    "    skip_inverse_tf = 0\n",
    "    for index, _ in enumerate(text):\n",
    "        if index < text_len - 1:\n",
    "            bigram_tf += (text[index] == word1 and text[index + 1] == word2)\n",
    "\n",
    "        if index > 0:\n",
    "            inverse_tf += (text[index] == word1 and text[index - 1] == word2)\n",
    "\n",
    "        if index < text_len - 2:\n",
    "            skip_tf += (text[index] == word1 and text[index + 2] == word2)\n",
    "\n",
    "        if index > 1:\n",
    "            skip_inverse_tf += (text[index] == word1 and text[index - 2] == word2)\n",
    "#     print(bigram_tf, inverse_tf, skip_tf, skip_inverse_tf)\n",
    "\n",
    "    return bigram_tf * bigram_weight + inverse_tf * inverse_weight +\\\n",
    "            skip_tf * skip_weight + skip_inverse_tf * skip_inverse_weight\n",
    "\n",
    "def pair_score(word1, word2, doc, idf1, idf2): # check веса для особых тегов\n",
    "    text_weight = 1\n",
    "    headers_weight = 1.5\n",
    "    meta_weight = 4\n",
    "    title_weight = 5\n",
    "    headers_coef = 1.2\n",
    "    \n",
    "    text = doc[0].split(\" \")\n",
    "    text_tf = tf_pair(word1, word2, text)\n",
    "    \n",
    "    headers = [header.split(\" \") for header in doc[3]]\n",
    "    headers_tf = [tf_pair(word1, word2, header) for header in headers]\n",
    "    \n",
    "    title = doc[1].split(\" \")\n",
    "    title_tf = tf_pair(word1, word2, title)\n",
    "    \n",
    "    meta = doc[2].split(\" \")\n",
    "    meta_tf = tf_pair(word1, word2, meta)\n",
    "    \n",
    "    text_score = text_weight * text_tf / (1 + text_tf)\n",
    "    title_score = title_weight * title_tf / (1 + title_tf)\n",
    "    headers_score = sum([(headers_weight ** 6 / headers_coef ** i) *\\\n",
    "                         header_tf / (1 + header_tf)\\\n",
    "                         for i, header_tf in enumerate(headers_tf)])\n",
    "    meta_score = meta_weight * meta_tf / (1 + meta_tf)\n",
    "    \n",
    "#     print(text_score, title_score, headers_score, meta_score)\n",
    "    \n",
    "    return (idf1 + idf2) * (text_score + title_score + headers_score + meta_score)\n",
    "    "
   ]
  },
  {
   "cell_type": "code",
   "execution_count": 163,
   "metadata": {},
   "outputs": [],
   "source": [
    "with open(os.path.join(PATH, \"urls.numerate.txt\"), \"r\") as f:\n",
    "    urls = f.read().split(\"\\n\")\n",
    "    \n",
    "urls_dict = {url.split(\"\\t\")[0]: url.split(\"\\t\")[1] for url in urls[:-1]}"
   ]
  },
  {
   "cell_type": "code",
   "execution_count": 168,
   "metadata": {},
   "outputs": [
    {
     "data": {
      "application/vnd.jupyter.widget-view+json": {
       "model_id": "047d741434ba4803850b161ff49276d4",
       "version_major": 2,
       "version_minor": 0
      },
      "text/plain": [
       "HBox(children=(HTML(value=''), FloatProgress(value=0.0, max=38115.0), HTML(value='')))"
      ]
     },
     "metadata": {},
     "output_type": "display_data"
    },
    {
     "name": "stdout",
     "output_type": "stream",
     "text": [
      "\n"
     ]
    }
   ],
   "source": [
    "for filename in tqdm(listdir, total=len(listdir)):\n",
    "    if filename.endswith(\".pkl\"):\n",
    "        docid = filename.split(\".\")[0].split(\"_\")[1]\n",
    "        if docid == \"00\":\n",
    "            continue\n",
    "        with open(os.path.join(PATH, \"parsed_content\", filename), \"rb\") as f:\n",
    "            doc = pickle.load(f)\n",
    "        new_doc = (doc[0], doc[1], doc[2], doc[3], urls_dict[docid])\n",
    "        with open(os.path.join(PATH, \"parsed_content\", filename), \"wb\") as f:\n",
    "            pickle.dump(new_doc, f)"
   ]
  },
  {
   "cell_type": "code",
   "execution_count": 256,
   "metadata": {},
   "outputs": [],
   "source": [
    "def total_score(query, doc, words_idf):\n",
    "    score = 0\n",
    "    query_words = query.split(\" \")\n",
    "    \n",
    "    # single words\n",
    "    for word in query_words:\n",
    "        if word in words_idf:\n",
    "            score += word_score(word, doc, words_idf[word])\n",
    "        \n",
    "    # bigrams\n",
    "    for index, _ in enumerate(query_words[:-1]):\n",
    "        word1 = query_words[index]\n",
    "        word2 = query_words[index + 1]\n",
    "        if word1 in words_idf and word2 in words_idf:\n",
    "            score += pair_score(word1, word2, doc,\n",
    "                                words_idf[word1], words_idf[word2])\n",
    "        \n",
    "    score += get_popularity(doc[4])\n",
    "    return score"
   ]
  },
  {
   "cell_type": "code",
   "execution_count": 257,
   "metadata": {},
   "outputs": [
    {
     "data": {
      "application/vnd.jupyter.widget-view+json": {
       "model_id": "86bdca53a57849a59d8a252f7af7d6fa",
       "version_major": 2,
       "version_minor": 0
      },
      "text/plain": [
       "HBox(children=(HTML(value=''), FloatProgress(value=0.0, max=399.0), HTML(value='')))"
      ]
     },
     "metadata": {},
     "output_type": "display_data"
    },
    {
     "name": "stdout",
     "output_type": "stream",
     "text": [
      "ERROR parsed_31733.pkl\n",
      "\n"
     ]
    }
   ],
   "source": [
    "new_query_docid = {}\n",
    "for item in tqdm(query_docid.items(), total=len(query_docid)):\n",
    "    query = queries[int(item[0])]\n",
    "    docids = item[1]\n",
    "    result = []\n",
    "    for docid in docids:\n",
    "        filename = f\"parsed_{docid}.pkl\"\n",
    "        if filename in listdir:\n",
    "            with open(os.path.join(PATH, \"parsed_content\", filename), \"rb\") as f:\n",
    "                doc = pickle.load(f)\n",
    "            score = total_score(lemmatize_text(clean_text(query), stemmer)[:-1],\n",
    "                                doc, words_idf)\n",
    "        else:\n",
    "            score = 0\n",
    "            print(\"ERROR\", filename)\n",
    "        result.append((score, docid))\n",
    "    result.sort(reverse=True)\n",
    "    new_query_docid[item[0]] = [doc_item[1] for doc_item in result]"
   ]
  },
  {
   "cell_type": "code",
   "execution_count": 258,
   "metadata": {},
   "outputs": [],
   "source": [
    "submit = ['QueryId,DocumentId']\n",
    "for i in range(1, len(queries)):\n",
    "    docids = new_query_docid[str(i)]\n",
    "    for docid in docids:\n",
    "        submit.append(f\"{i},{docid}\")\n",
    "        \n",
    "with open(PATH + \"submit_22_3.txt\", \"w\") as f:\n",
    "    f.write(\"\\n\".join(submit))"
   ]
  },
  {
   "cell_type": "markdown",
   "metadata": {},
   "source": [
    "Прогоним запросы через спеллчекер для улучшения ранжирования."
   ]
  },
  {
   "cell_type": "code",
   "execution_count": 300,
   "metadata": {},
   "outputs": [],
   "source": [
    "def spellcheck(text):\n",
    "    payload = {\"text\": text}\n",
    "    response = requests.get(\"https://speller.yandex.net/services/spellservice.json/checkText\",\n",
    "                            params=payload).json()\n",
    "    \n",
    "    fixed_text = text\n",
    "    for item in response:\n",
    "        fixed_text = fixed_text.replace(item[\"word\"], item[\"s\"][0])\n",
    "    return fixed_text"
   ]
  },
  {
   "cell_type": "code",
   "execution_count": 302,
   "metadata": {},
   "outputs": [
    {
     "data": {
      "application/vnd.jupyter.widget-view+json": {
       "model_id": "aa47dca8364f4a9580207d5e7e0bb3f6",
       "version_major": 2,
       "version_minor": 0
      },
      "text/plain": [
       "HBox(children=(HTML(value=''), FloatProgress(value=0.0, max=400.0), HTML(value='')))"
      ]
     },
     "metadata": {},
     "output_type": "display_data"
    },
    {
     "name": "stdout",
     "output_type": "stream",
     "text": [
      "\n"
     ]
    }
   ],
   "source": [
    "fix_queries = [spellcheck(query) for query in tqdm(queries, total=len(queries))]"
   ]
  },
  {
   "cell_type": "code",
   "execution_count": 315,
   "metadata": {},
   "outputs": [
    {
     "data": {
      "application/vnd.jupyter.widget-view+json": {
       "model_id": "e0d8e81e63234cc9bc350c513069f3a6",
       "version_major": 2,
       "version_minor": 0
      },
      "text/plain": [
       "HBox(children=(HTML(value=''), FloatProgress(value=0.0, max=399.0), HTML(value='')))"
      ]
     },
     "metadata": {},
     "output_type": "display_data"
    },
    {
     "name": "stdout",
     "output_type": "stream",
     "text": [
      "ERROR parsed_31733.pkl\n",
      "\n"
     ]
    }
   ],
   "source": [
    "new_query_docid = {}\n",
    "for item in tqdm(query_docid.items(), total=len(query_docid)):\n",
    "    query = fix_queries[int(item[0])]\n",
    "    docids = item[1]\n",
    "    result = []\n",
    "    for docid in docids:\n",
    "        filename = f\"parsed_{docid}.pkl\"\n",
    "        if filename in listdir:\n",
    "            with open(os.path.join(PATH, \"parsed_content\", filename), \"rb\") as f:\n",
    "                doc = pickle.load(f)\n",
    "            score = total_score(lemmatize_text(clean_text(query), stemmer)[:-1],\n",
    "                                doc, words_idf)\n",
    "        else:\n",
    "            score = 0\n",
    "            print(\"ERROR\", filename)\n",
    "        result.append((score, docid))\n",
    "    result.sort(reverse=True)\n",
    "    new_query_docid[item[0]] = [doc_item[1] for doc_item in result]"
   ]
  },
  {
   "cell_type": "code",
   "execution_count": 316,
   "metadata": {},
   "outputs": [],
   "source": [
    "submit = ['QueryId,DocumentId']\n",
    "for i in range(1, len(queries)):\n",
    "    docids = new_query_docid[str(i)]\n",
    "    for docid in docids:\n",
    "        submit.append(f\"{i},{docid}\")\n",
    "        \n",
    "with open(PATH + \"submit_22_4.txt\", \"w\") as f:\n",
    "    f.write(\"\\n\".join(submit))"
   ]
  },
  {
   "cell_type": "markdown",
   "metadata": {},
   "source": [
    "Перепишем фукнцию скора для учета расширений запросов (скор по расширенному запросу будет добавляться с некоторым весом)"
   ]
  },
  {
   "cell_type": "code",
   "execution_count": 354,
   "metadata": {},
   "outputs": [],
   "source": [
    "def total_score(query_all, doc, words_idf):\n",
    "    query = query_all.split(\"\\t\")[0]\n",
    "    query_ext = query_all.split(\"\\t\")[1]\n",
    "    ext_words_weight = 0.5\n",
    "    score = 0\n",
    "    query_words = query.split(\" \")\n",
    "    query_ext_words = query_ext.split(\" \")\n",
    "    \n",
    "    # single words\n",
    "    for word in query_words:\n",
    "        if word in words_idf:\n",
    "            score += word_score(word, doc, words_idf[word])\n",
    "        \n",
    "    # bigrams\n",
    "    for index, _ in enumerate(query_words[:-1]):\n",
    "        word1 = query_words[index]\n",
    "        word2 = query_words[index + 1]\n",
    "        if word1 in words_idf and word2 in words_idf:\n",
    "            score += pair_score(word1, word2, doc,\n",
    "                                words_idf[word1], words_idf[word2])\n",
    "    try:\n",
    "        for index, word in enumerate(query_ext_words):\n",
    "            if word in words_idf and word != query_words[index]:\n",
    "                score += ext_words_weight * word_score(word, doc, words_idf[word])\n",
    "\n",
    "        for index, _ in enumerate(query_ext_words[:-1]):\n",
    "            word1 = query_ext_words[index]\n",
    "            word2 = query_ext_words[index + 1]\n",
    "            if word1 in words_idf and word2 in words_idf and (word1 != query_words[index] or word2 != query_words[index + 1]):\n",
    "                score += ext_words_weight * pair_score(word1, word2, doc,\n",
    "                                    words_idf[word1], words_idf[word2])\n",
    "    except:\n",
    "        pass\n",
    "        \n",
    "    score += get_popularity(doc[4])\n",
    "    return score"
   ]
  },
  {
   "cell_type": "code",
   "execution_count": 321,
   "metadata": {},
   "outputs": [],
   "source": [
    "with open(PATH + \"queries_all.pkl\", \"rb\") as f:\n",
    "    queries = pickle.load(f)"
   ]
  },
  {
   "cell_type": "code",
   "execution_count": 323,
   "metadata": {},
   "outputs": [],
   "source": [
    "for item in queries:\n",
    "    if len(item.split(\"\\t\")[0].split(\" \")) != len(item.split(\"\\t\")[1].split(\" \")):\n",
    "        print(item)"
   ]
  },
  {
   "cell_type": "code",
   "execution_count": 355,
   "metadata": {},
   "outputs": [
    {
     "data": {
      "application/vnd.jupyter.widget-view+json": {
       "model_id": "edeb1180f23a4eeb8a6b623520732a5f",
       "version_major": 2,
       "version_minor": 0
      },
      "text/plain": [
       "HBox(children=(HTML(value=''), FloatProgress(value=0.0, max=399.0), HTML(value='')))"
      ]
     },
     "metadata": {},
     "output_type": "display_data"
    },
    {
     "name": "stdout",
     "output_type": "stream",
     "text": [
      "ERROR parsed_31733.pkl\n",
      "\n"
     ]
    }
   ],
   "source": [
    "new_query_docid = {}\n",
    "for item in tqdm(query_docid.items(), total=len(query_docid)):\n",
    "    query = queries[int(item[0])]\n",
    "    docids = item[1]\n",
    "    result = []\n",
    "    for docid in docids:\n",
    "        filename = f\"parsed_{docid}.pkl\"\n",
    "        if filename in listdir:\n",
    "            with open(os.path.join(PATH, \"parsed_content\", filename), \"rb\") as f:\n",
    "                doc = pickle.load(f)\n",
    "            base_query = query.split(\"\\t\")[0]\n",
    "            ext_query = query.split(\"\\t\")[1]\n",
    "            base_query = lemmatize_text(clean_text(base_query), stemmer)[:-1]\n",
    "            ext_query = lemmatize_text(clean_text(ext_query), stemmer)[:-1]\n",
    "            score = total_score(base_query + \"\\t\" + ext_query,\n",
    "                                doc, words_idf)\n",
    "        else:\n",
    "            score = 0\n",
    "            print(\"ERROR\", filename)\n",
    "        result.append((score, docid))\n",
    "    result.sort(reverse=True)\n",
    "    new_query_docid[item[0]] = [doc_item[1] for doc_item in result]"
   ]
  },
  {
   "cell_type": "code",
   "execution_count": 356,
   "metadata": {},
   "outputs": [],
   "source": [
    "submit = ['QueryId,DocumentId']\n",
    "for i in range(1, len(queries)):\n",
    "    docids = new_query_docid[str(i)]\n",
    "    for docid in docids:\n",
    "        submit.append(f\"{i},{docid}\")\n",
    "        \n",
    "with open(PATH + \"submit_23_1.txt\", \"w\") as f:\n",
    "    f.write(\"\\n\".join(submit))"
   ]
  },
  {
   "cell_type": "markdown",
   "metadata": {},
   "source": [
    "$$score = \\sum{WordScore(orig)} + \\sum{PairScore(orig)} + \\sum{WordScore(ext)}$$\n",
    "\n",
    "$$WordScore(w) = idf_w * \\sum_{f\\in{Fields}}{\n",
    "weight_f*\\frac{tf_f(w)}{(1 + tf_f(w) + k*doclen)}\n",
    "}$$\n",
    "\n",
    "$$PairScore(w_1, w_2) = (idf(w_1) + idf(w_2)) \\sum_{f\\in{Fields}}{\n",
    "weight_f*\\frac{tf_f(w)}{(1 + tf_f(w))}\n",
    "}$$"
   ]
  }
 ],
 "metadata": {
  "kernelspec": {
   "display_name": "Python 3",
   "language": "python",
   "name": "python3"
  },
  "language_info": {
   "codemirror_mode": {
    "name": "ipython",
    "version": 3
   },
   "file_extension": ".py",
   "mimetype": "text/x-python",
   "name": "python",
   "nbconvert_exporter": "python",
   "pygments_lexer": "ipython3",
   "version": "3.7.4"
  }
 },
 "nbformat": 4,
 "nbformat_minor": 4
}
