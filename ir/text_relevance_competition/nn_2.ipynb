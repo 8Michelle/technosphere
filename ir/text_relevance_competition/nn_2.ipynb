{
 "cells": [
  {
   "cell_type": "markdown",
   "metadata": {},
   "source": [
    "# Semantic baseline, 2\n",
    "Данный ноутбук продолждает решение на USE с использованием улучшенного парсера, новых полей и расширения запросов."
   ]
  },
  {
   "cell_type": "code",
   "execution_count": 1,
   "metadata": {},
   "outputs": [],
   "source": [
    "import tensorflow_hub as hub\n",
    "import tensorflow_text\n",
    "import numpy as np\n",
    "from sklearn import metrics\n",
    "import tensorflow as tf\n",
    "import os\n",
    "import pickle\n",
    "from tqdm.notebook import tqdm\n",
    "from collections import defaultdict, OrderedDict\n",
    "import requests"
   ]
  },
  {
   "cell_type": "markdown",
   "metadata": {},
   "source": [
    "Скачиваем модель."
   ]
  },
  {
   "cell_type": "code",
   "execution_count": 2,
   "metadata": {},
   "outputs": [],
   "source": [
    "embed = hub.load(\"https://tfhub.dev/google/universal-sentence-encoder-multilingual-large/3\")"
   ]
  },
  {
   "cell_type": "code",
   "execution_count": 3,
   "metadata": {},
   "outputs": [],
   "source": [
    "PATH = \"/Users/michelle/data/nn_text-relevance-competition-ir-1-ts-fall-2020/\""
   ]
  },
  {
   "cell_type": "markdown",
   "metadata": {},
   "source": [
    "Читаем запросы и sample, переводим sample в словарь запрос-документы."
   ]
  },
  {
   "cell_type": "code",
   "execution_count": 9,
   "metadata": {},
   "outputs": [],
   "source": [
    "with open(PATH + \"queries.numerate.txt\", \"r\") as f:\n",
    "    queries = f.read().split(\"\\n\")"
   ]
  },
  {
   "cell_type": "code",
   "execution_count": 10,
   "metadata": {},
   "outputs": [],
   "source": [
    "with open(PATH + \"sample.technosphere.ir1.textrelevance.submission.txt\", \"r\") as f:\n",
    "    sample = f.read().split(\"\\n\")"
   ]
  },
  {
   "cell_type": "code",
   "execution_count": 11,
   "metadata": {},
   "outputs": [],
   "source": [
    "query_docid = defaultdict(list)\n",
    "for item in sample[1:]:\n",
    "    if item:\n",
    "        qid = item.split(\",\")[0]\n",
    "        docid = item.split(\",\")[1]\n",
    "        query_docid[qid].append(docid)"
   ]
  },
  {
   "cell_type": "markdown",
   "metadata": {},
   "source": [
    "Читаем эмбединги запросов"
   ]
  },
  {
   "cell_type": "code",
   "execution_count": 12,
   "metadata": {},
   "outputs": [],
   "source": [
    "with open(os.path.join(PATH, \"queries_embeddings\"), \"rb\") as f:\n",
    "    queries_embeddings = pickle.load(f)"
   ]
  },
  {
   "cell_type": "markdown",
   "metadata": {},
   "source": [
    "# Headers"
   ]
  },
  {
   "cell_type": "markdown",
   "metadata": {},
   "source": [
    "Читаем поля headers, полученные с помощью парсера с улучшенной обработкой пунктукции. Для каждого документа выбираем имеющийся header с максимальным порядком."
   ]
  },
  {
   "cell_type": "code",
   "execution_count": 48,
   "metadata": {},
   "outputs": [
    {
     "data": {
      "application/vnd.jupyter.widget-view+json": {
       "model_id": "ef5e75b7096943458b1f9b83519d5309",
       "version_major": 2,
       "version_minor": 0
      },
      "text/plain": [
       "HBox(children=(HTML(value=''), FloatProgress(value=0.0, max=38114.0), HTML(value='')))"
      ]
     },
     "metadata": {},
     "output_type": "display_data"
    },
    {
     "name": "stdout",
     "output_type": "stream",
     "text": [
      "\n"
     ]
    }
   ],
   "source": [
    "listdir = os.listdir(os.path.join(PATH, \"parsed_punc_content\"))\n",
    "\n",
    "headers = defaultdict(str)\n",
    "bad_files = []\n",
    "for file in tqdm(listdir, total=len(listdir)):\n",
    "    try:\n",
    "        docid = file.split(\"_\")[-1].split(\".\")[0]\n",
    "        with open(os.path.join(PATH, \"parsed_punc_content\", file), \"rb\") as f:\n",
    "            for header in pickle.load(f)[3]:\n",
    "                if header != \"\":\n",
    "                    headers[docid] = header\n",
    "                    break\n",
    "                    \n",
    "    except:\n",
    "        bad_files.append(file)"
   ]
  },
  {
   "cell_type": "code",
   "execution_count": 49,
   "metadata": {},
   "outputs": [],
   "source": [
    "with open(os.path.join(PATH, \"headers_punc.pkl\"), \"wb\") as f:\n",
    "    pickle.dump(headers, f)"
   ]
  },
  {
   "cell_type": "code",
   "execution_count": 51,
   "metadata": {},
   "outputs": [],
   "source": [
    "!mkdir /Users/michelle/data/nn_text-relevance-competition-ir-1-ts-fall-2020/headers_punc_embeddings"
   ]
  },
  {
   "cell_type": "markdown",
   "metadata": {},
   "source": [
    "С помощью USE считаем эмбединги headers"
   ]
  },
  {
   "cell_type": "code",
   "execution_count": 71,
   "metadata": {},
   "outputs": [
    {
     "data": {
      "application/vnd.jupyter.widget-view+json": {
       "model_id": "182ae924149d453485532874445eb631",
       "version_major": 2,
       "version_minor": 0
      },
      "text/plain": [
       "HBox(children=(HTML(value=''), FloatProgress(value=0.0, max=399.0), HTML(value='')))"
      ]
     },
     "metadata": {},
     "output_type": "display_data"
    },
    {
     "name": "stdout",
     "output_type": "stream",
     "text": [
      "\n"
     ]
    }
   ],
   "source": [
    "bad_queries = []\n",
    "for query, docids in tqdm(query_docid.items(), total=len(query_docid)):\n",
    "    try:\n",
    "        headers_tmp = [headers[docid][:1000] for docid in docids]\n",
    "        headers_emb_tmp = embed(headers_tmp)\n",
    "        with open(os.path.join(PATH, \"headers_punc_embeddings\", f\"{query}.pkl\"), \"wb\") as f:\n",
    "            pickle.dump(headers_emb_tmp, f)\n",
    "        \n",
    "    except:\n",
    "        print(query)\n",
    "        bad_queries.append(query)"
   ]
  },
  {
   "cell_type": "markdown",
   "metadata": {},
   "source": [
    "Для каждой пары запрос-документ считаем косинусы между эмебдингом запроса и эмбедингом заголовка или headerа. Складываем получившиеся величины с весами 0.7 и 0.3 соответственно."
   ]
  },
  {
   "cell_type": "code",
   "execution_count": 72,
   "metadata": {},
   "outputs": [
    {
     "data": {
      "application/vnd.jupyter.widget-view+json": {
       "model_id": "82724ec48d364a3aaf7684ee98c3a3af",
       "version_major": 2,
       "version_minor": 0
      },
      "text/plain": [
       "HBox(children=(HTML(value=''), FloatProgress(value=0.0, max=399.0), HTML(value='')))"
      ]
     },
     "metadata": {},
     "output_type": "display_data"
    },
    {
     "name": "stdout",
     "output_type": "stream",
     "text": [
      "\n"
     ]
    }
   ],
   "source": [
    "ranged_query_docid = {}\n",
    "for query, docids in tqdm(query_docid.items(), total=len(query_docid)):\n",
    "    with open(os.path.join(PATH, f\"title_embeddings/{query}.pkl\"), \"rb\") as f: # titles with punc\n",
    "        data_title = pickle.load(f)\n",
    "    \n",
    "    with open(os.path.join(PATH, f\"headers_punc_embeddings/{query}.pkl\"), \"rb\") as f: # headers without punc\n",
    "        data_headers = pickle.load(f)\n",
    "        \n",
    "    title_score = metrics.pairwise.cosine_distances(tf.reshape(queries_embeddings[int(query) - 1], (1, -1)), data_title)[0]\n",
    "    headers_score = metrics.pairwise.cosine_distances(tf.reshape(queries_embeddings[int(query) - 1], (1, -1)), data_headers)[0]\n",
    "    \n",
    "    ranged_query_docid[query] = np.array(docids)[np.argsort(0.7 * title_score + 0.3 * headers_score)]"
   ]
  },
  {
   "cell_type": "code",
   "execution_count": 73,
   "metadata": {},
   "outputs": [],
   "source": [
    "for query in ranged_query_docid:\n",
    "    ranged_query_docid[query] = list(ranged_query_docid[query])"
   ]
  },
  {
   "cell_type": "code",
   "execution_count": 75,
   "metadata": {},
   "outputs": [],
   "source": [
    "submit = ['QueryId,DocumentId']\n",
    "for i in range(1, len(ranged_query_docid) + 1):\n",
    "    docids = ranged_query_docid[str(i)]\n",
    "    for docid in docids:\n",
    "        submit.append(f\"{i},{docid}\")\n",
    "        \n",
    "with open(PATH + \"submit_10_4.txt\", \"w\") as f:\n",
    "    f.write(\"\\n\".join(submit))"
   ]
  },
  {
   "cell_type": "markdown",
   "metadata": {},
   "source": [
    "Далее делаем всё то же самое, только с эмбедингами для расширенных запросов."
   ]
  },
  {
   "cell_type": "code",
   "execution_count": 84,
   "metadata": {},
   "outputs": [],
   "source": [
    "with open(os.path.join(PATH, \"queries_all_large.pkl\"), \"rb\") as f:\n",
    "    queries = pickle.load(f)"
   ]
  },
  {
   "cell_type": "code",
   "execution_count": 77,
   "metadata": {},
   "outputs": [],
   "source": [
    "queries_to_map = []\n",
    "\n",
    "for query in queries[:-1]:\n",
    "    queries_to_map.append(query.split(\"\\t\")[1])"
   ]
  },
  {
   "cell_type": "code",
   "execution_count": 79,
   "metadata": {},
   "outputs": [],
   "source": [
    "queries_embeddings = embed(queries_to_map)"
   ]
  },
  {
   "cell_type": "code",
   "execution_count": 80,
   "metadata": {},
   "outputs": [],
   "source": [
    "with open(os.path.join(PATH, \"queries_embeddings_ext.pkl\"), \"wb\") as f:\n",
    "    pickle.dump(queries_embeddings, f)"
   ]
  },
  {
   "cell_type": "code",
   "execution_count": 81,
   "metadata": {},
   "outputs": [
    {
     "data": {
      "application/vnd.jupyter.widget-view+json": {
       "model_id": "b6876747a2b44d4898d23878a833b382",
       "version_major": 2,
       "version_minor": 0
      },
      "text/plain": [
       "HBox(children=(HTML(value=''), FloatProgress(value=0.0, max=399.0), HTML(value='')))"
      ]
     },
     "metadata": {},
     "output_type": "display_data"
    },
    {
     "name": "stdout",
     "output_type": "stream",
     "text": [
      "\n"
     ]
    }
   ],
   "source": [
    "ranged_query_docid = {}\n",
    "for query, docids in tqdm(query_docid.items(), total=len(query_docid)):\n",
    "    with open(os.path.join(PATH, f\"title_embeddings/{query}.pkl\"), \"rb\") as f: # titles with punc\n",
    "        data_title = pickle.load(f)\n",
    "    \n",
    "    with open(os.path.join(PATH, f\"headers_punc_embeddings/{query}.pkl\"), \"rb\") as f: # headers without punc\n",
    "        data_headers = pickle.load(f)\n",
    "        \n",
    "    title_score = metrics.pairwise.cosine_distances(tf.reshape(queries_embeddings[int(query) - 1], (1, -1)), data_title)[0]\n",
    "    headers_score = metrics.pairwise.cosine_distances(tf.reshape(queries_embeddings[int(query) - 1], (1, -1)), data_headers)[0]\n",
    "    \n",
    "    ranged_query_docid[query] = np.array(docids)[np.argsort(0.7 * title_score + 0.3 * headers_score)]"
   ]
  },
  {
   "cell_type": "code",
   "execution_count": 82,
   "metadata": {},
   "outputs": [],
   "source": [
    "for query in ranged_query_docid:\n",
    "    ranged_query_docid[query] = list(ranged_query_docid[query])"
   ]
  },
  {
   "cell_type": "code",
   "execution_count": 86,
   "metadata": {},
   "outputs": [],
   "source": [
    "submit = ['QueryId,DocumentId']\n",
    "for i in range(1, len(ranged_query_docid) + 1):\n",
    "    docids = ranged_query_docid[str(i)]\n",
    "    for docid in docids:\n",
    "        submit.append(f\"{i},{docid}\")\n",
    "        \n",
    "with open(PATH + \"submit_10_5.txt\", \"w\") as f:\n",
    "    f.write(\"\\n\".join(submit))"
   ]
  }
 ],
 "metadata": {
  "kernelspec": {
   "display_name": "Python 3",
   "language": "python",
   "name": "python3"
  },
  "language_info": {
   "codemirror_mode": {
    "name": "ipython",
    "version": 3
   },
   "file_extension": ".py",
   "mimetype": "text/x-python",
   "name": "python",
   "nbconvert_exporter": "python",
   "pygments_lexer": "ipython3",
   "version": "3.7.4"
  }
 },
 "nbformat": 4,
 "nbformat_minor": 4
}
