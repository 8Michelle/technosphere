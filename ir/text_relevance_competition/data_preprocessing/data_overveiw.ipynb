{
 "cells": [
  {
   "cell_type": "markdown",
   "metadata": {},
   "source": [
    "# Datat overview"
   ]
  },
  {
   "cell_type": "markdown",
   "metadata": {},
   "source": [
    "В данном ноутбуке производится обзор имеющихся данных (документов, запросов и sample submission), а также перезапись документов в формат .pkl по номерами их docid."
   ]
  },
  {
   "cell_type": "code",
   "execution_count": 1,
   "metadata": {},
   "outputs": [
    {
     "name": "stderr",
     "output_type": "stream",
     "text": [
      "[nltk_data] Downloading package stopwords to\n",
      "[nltk_data]     /Users/michelle/nltk_data...\n",
      "[nltk_data]   Package stopwords is already up-to-date!\n"
     ]
    }
   ],
   "source": [
    "import os\n",
    "from tqdm.notebook import tqdm\n",
    "import pickle\n",
    "from bs4 import BeautifulSoup\n",
    "import re\n",
    "from pymystem3 import Mystem\n",
    "import nltk\n",
    "from nltk.corpus import stopwords\n",
    "nltk.download(\"stopwords\")\n",
    "\n",
    "PATH = \"/Users/michelle/data/text-relevance-competition-ir-1-ts-fall-2020/\""
   ]
  },
  {
   "cell_type": "code",
   "execution_count": 82,
   "metadata": {},
   "outputs": [],
   "source": [
    "mystem = Mystem()\n",
    "stop_list = stopwords.words(\"russian\")"
   ]
  },
  {
   "cell_type": "code",
   "execution_count": 85,
   "metadata": {},
   "outputs": [],
   "source": [
    "with open(os.path.join(PATH, \"stop_words.pkl\"), \"wb\") as f:\n",
    "    pickle.dump(stop_list, f)"
   ]
  },
  {
   "cell_type": "code",
   "execution_count": 3,
   "metadata": {},
   "outputs": [],
   "source": [
    "with open(PATH + \"urls.numerate.txt\", \"r\") as f:\n",
    "    urls = f.read().split(\"\\n\")"
   ]
  },
  {
   "cell_type": "code",
   "execution_count": 4,
   "metadata": {},
   "outputs": [
    {
     "data": {
      "text/plain": [
       "38115"
      ]
     },
     "execution_count": 4,
     "metadata": {},
     "output_type": "execute_result"
    }
   ],
   "source": [
    "len(urls)"
   ]
  },
  {
   "cell_type": "code",
   "execution_count": 7,
   "metadata": {
    "scrolled": true
   },
   "outputs": [
    {
     "data": {
      "text/plain": [
       "['1\\teva.ru/forum/topic-tree-mobile.htm?messageId=89211158&topicId=3285169',\n",
       " '2\\te1.ru/articles/travel/page_4/009/994/article_9994.html',\n",
       " '3\\tbikepost.ru/qa/post/9065/Kak-pravilno-sdelat-vizu-v-Polshu-shengen.html',\n",
       " '4\\trutax.polpred.com/?ns=1&page=2',\n",
       " '5\\tcoollib.com/b/259649/read',\n",
       " '6\\tcoollib.com/b/244202/read',\n",
       " '7\\trabotatut.do.am/index/o_vizakh/0-5',\n",
       " '8\\tkaliningrad.zoon.ru/hotels/turisticheskoe_agentstvo_dyuna39/social',\n",
       " '9\\tforum.materinstvo.ru/lofiversion/index.php/t1358686',\n",
       " '10\\tbookslist.me/read2.php?id=8834',\n",
       " '11\\tlifecz.ru/threads/1375/page-111',\n",
       " '12\\tstudenttests.ru/%D1%83%D0%BD%D0%B8%D0%B2%D0%B5%D1%80%D1%81%D0%B8%D1%82%D0%B5%D1%82%D1%8B/Niderlandy',\n",
       " '13\\tgulfcoolcontracting.com/uploads/userfiles/file/dom8197-sertifikat-na-pokupku-bileta-v-teatr-jam7575.xml',\n",
       " '14\\tdigesttour.ru/node/749',\n",
       " '15\\tforum.immigration.cz/archive/index.php/t-5389.html',\n",
       " '16\\tspaininvestor.com/Views/TextosWebForm.aspx?IdTexto=379',\n",
       " '17\\tsarov24.ru/mneniya/640-bezvizovye-strany-2017-dlya-rossiyan.html',\n",
       " '18\\tinfovisa.ru/oformlenie-priglasheniya-inostrantsam',\n",
       " '19\\tyoutube.com/user/NikolaMulti',\n",
       " '20\\tdfwbackup.weebly.com/blog/archives/05-2016/3',\n",
       " '21\\tpodosinovets.ru/forum/archive/index.php/t-2758.html',\n",
       " '22\\ttravelismylife.ru/vetnam-viza-dlya-rossiyan',\n",
       " '23\\tkoltushi.org/index.php?action=printpage;topic=650.0',\n",
       " '24\\tsunhome.ru/journal/129096',\n",
       " '25\\tvietnam.polpred.ru/news/?detail=145&ns=2&page=4',\n",
       " '26\\trussiantraveller.ru/asia/india?t=kultura',\n",
       " '27\\tkailash.ru/m/tibet/288.html',\n",
       " '28\\tvizavsem.by/dopolnitelnyie-materialyi/faq/strani-posetit-po-vize.html',\n",
       " '29\\tforum.immigration.cz/archive/index.php/t-2015-p-6.html',\n",
       " '30\\tfluence-club.ru/forum/showthread.php?t=1098',\n",
       " '31\\tautotravel.ru/v_report.php/1923',\n",
       " '32\\tchinapk.ru/chinese-lover',\n",
       " '33\\tokolomoto64.ru/viewtopic.php?f=21&t=140',\n",
       " '34\\tvikitravel.ru/tours/uk?catid=142&tourId=380&tourTask=tourDetails',\n",
       " '35\\thome-hotel.info/trudoustrojstvo-v-raznie-strani-v-2017',\n",
       " '36\\tmeinland.ru/archiver/tid-1300.html',\n",
       " '37\\tpaterton.ru/status_bejenca_otzivi_klientov/paterton-otzivi-klientov-8.html?sphrase_id=48115',\n",
       " '38\\tyaplakal.com/forum2/st/175/topic955070.html',\n",
       " '39\\tan-maximum.ru/faq/kakie_prava_imeet_vladelec_nedvizhimosti_v_chekhii.html',\n",
       " '40\\tfictionbook.ru/static/trials/08/48/24/08482419.html',\n",
       " '41\\tvk.com/arambol_goa',\n",
       " '42\\tbikepost.ru/qa/post/9807/Oplata-gostinits-po-puti-marshruta-v-Evrope-dlja-vizy.html',\n",
       " '43\\ticdfnepal.com/userfiles/stoimost-biletov-na-samolet-krasnodar-minsk-51370.xml',\n",
       " '44\\tezdili-znaem.com/shengenskaya-multiviza-strany',\n",
       " '45\\tforum.materinstvo.ru/lofiversion/index.php/t1454954-100.html',\n",
       " '46\\temigrantforum.ru/archive/index.php/t-2839.html',\n",
       " '47\\tbaby.ru/community/view/125878/forum/post/457722715',\n",
       " '48\\tuzbekistan.polpred.com/news/?detail=34&ns=2&page=457',\n",
       " '49\\tliveinternet.ru/users/spiner/post127283500',\n",
       " '50\\tnsmirnova.wordpress.com/page/5',\n",
       " '51\\tvisasam.ru/oformlenie/shengen/snengenskaya-multivisa.html',\n",
       " '52\\tceedclub.ru/forums/index.php?topic=27942.60',\n",
       " '53\\tfb.ru/article/274612/kakaya-summa-nujna-dlya-posescheniya-izrailya-nujna-li-viza-v-izrail-dlya-rossiyan-turyi-v-izrail',\n",
       " '54\\tcaravankzn.ru/shengenskaya-viza/italy',\n",
       " '55\\tbloger51.com/2013/09/45774?replytocom=359767',\n",
       " '56\\teva.ru/travel/messages-3014015.htm',\n",
       " '57\\ttravel.ru/formalities/visa/national_visa.html',\n",
       " '58\\tregafaq.ru/threads/otpusk-s-raschjotom-5-stran-u-kotoryx-legko-poluchit-shengenskuju-multivizu.1347',\n",
       " '59\\tdeadland.ru/node/12953?page=1',\n",
       " '60\\tafina-pallada.org/sovety-turistu/samostoyatelnoe-poluchenie-vizy',\n",
       " '61\\tbglife.ru/threads/4015/page-12',\n",
       " '62\\tpolusharie.com/index.php?topic=17704.300',\n",
       " '63\\tmetal.polpred.com/news/?cat_a=on&ns=1&page=33',\n",
       " '64\\tbrd24.com/article/Ob_otdyhe_v_Ukraine_i_mire',\n",
       " '65\\trusspain.ru/news/index.php?id=9290',\n",
       " '66\\totvet.biznet.ru/1545.html',\n",
       " '67\\tlaw-enforcement.ru/viewtopic.php?f=120&t=9756',\n",
       " '68\\t4stur.com.ua/ru/tourist/doki/viza.html?subscribe',\n",
       " '69\\ticeland.polpred.com/news/?person_id=16446&sector=4',\n",
       " '70\\tforum.liga.net/Messages.asp?did=111808&page=42',\n",
       " '71\\tkommersant.ru/doc/309290',\n",
       " '72\\tforum.materinstvo.ru/lofiversion/index.php/t1391998.html',\n",
       " '73\\tvseobr.com/viza-dlya-obucheniya/bolgarija',\n",
       " '74\\ttonkosti.ru/%D0%92%D0%B8%D0%B7%D0%B0_%D0%B2_%D0%98%D0%B7%D1%80%D0%B0%D0%B8%D0%BB%D1%8C',\n",
       " '75\\tworldroads.ru/kak-poluchit-shengenskuyu-vizu',\n",
       " '76\\tforum.tupa-germania.ru/threads/poisk-raboty-sobesedovanie.421',\n",
       " '77\\tforumriga.lv/index.php?topic=114.1110',\n",
       " '78\\tshevis.ru/travel/est_shengen_multiviza_cherez_kakuju_stranu_mozhno',\n",
       " '79\\tptel.cz/2015/02/shengen-v-obmen-na-otpechatki-palcev',\n",
       " '80\\tmvc-visa.ru/ivanovo',\n",
       " '81\\tyogalib.ru/osho/1412-osho-messia1?limitstart&showall=1',\n",
       " '82\\torgvisa.ru/vizy/viza_v_irlandiyu',\n",
       " '83\\ttravel-child.ru/pravilo-pervogo-vezda-v-shengen-i-shengenskaya-multiviza',\n",
       " '84\\teva.ru/forum/topic-tree-mobile.htm?topicId=3444317',\n",
       " '85\\thotbestrest.ru/viza/viza-v-avstriyu.html',\n",
       " '86\\tforum.mozohin.ru/index.php?action=printpage;topic=128.0',\n",
       " '87\\tmalta.polpred.com/news/?cat_a=on&page=80&person_id=non',\n",
       " '88\\tturimm.com/viza/v-latviyu-dlya-rossiyan.html',\n",
       " '89\\tautokadabra.ru/shouts/5596',\n",
       " '90\\tslovomame.ru/article/607',\n",
       " '91\\tkiratty.com/post/15-uvelichivaem-shansy-na-poluchenie-shengenskoy-vizy.html',\n",
       " '92\\tcivfanatics.ru/archive/index.php/t-6067-p-62.html',\n",
       " '93\\tprogurukak.ru/eda/drugoe-24/206334-kak-popast-na-aljasku.html',\n",
       " '94\\tvisa-express.org/visa/turisticheskaya-viza',\n",
       " '95\\tchemflex.ru/viza-niderlandy-punkt-grazhdanstvo.tpl',\n",
       " '96\\trususa.com/forum/message.asp-msgid-677093',\n",
       " '97\\tmpmo.ru/%D0%BC%D0%B5%D1%80%D0%BE%D0%BF%D1%80%D0%B8%D1%8F%D1%82%D0%B8%D1%8F/page/16',\n",
       " '98\\teva.ru/forum/topic-tree-mobile.htm?topicId=3457726',\n",
       " '99\\tkakmed.com/16446/natoptyshi-na-nogakh',\n",
       " '100\\tskalpil.ru/professionalnye-zabolevaniya/2572-rastyazhenie-svyazok-na-ruke.html']"
      ]
     },
     "execution_count": 7,
     "metadata": {},
     "output_type": "execute_result"
    }
   ],
   "source": [
    "urls[:100]"
   ]
  },
  {
   "cell_type": "code",
   "execution_count": 4,
   "metadata": {},
   "outputs": [],
   "source": [
    "with open(PATH + \"queries.numerate.txt\", \"r\") as f:\n",
    "    queries = f.read().split(\"\\n\")"
   ]
  },
  {
   "cell_type": "code",
   "execution_count": 10,
   "metadata": {},
   "outputs": [
    {
     "data": {
      "text/plain": [
       "400"
      ]
     },
     "execution_count": 10,
     "metadata": {},
     "output_type": "execute_result"
    }
   ],
   "source": [
    "len(queries)"
   ]
  },
  {
   "cell_type": "code",
   "execution_count": 10,
   "metadata": {
    "scrolled": true
   },
   "outputs": [
    {
     "data": {
      "text/plain": [
       "['1\\tмультивиза в израиль какие страны можно посетить',\n",
       " '2\\tнадо ли носить компрес гольфы после операции на голеностопе',\n",
       " '3\\tжировики на спине можно ли применить пиявки',\n",
       " '4\\trfr ghjgbcfnm ghjcnj flvbre',\n",
       " '5\\tхто буде судити суперкубок 2017 між шахтар динамо який відбудеться в одесі',\n",
       " '6\\tкак доехать от метро мякинино до крокус сити молл',\n",
       " '7\\tкак заменить подшипник ступицы ваз 2121',\n",
       " '8\\tкак установить мод сумеречный лес на майнкрафт 1 12',\n",
       " '9\\tможно ли ставить горчичник при ларингите',\n",
       " '10\\tсамый точный прогноз погоды в балашове',\n",
       " '11\\tчто нейтрализует ожог борщевика',\n",
       " '12\\tсмородина черная протертая сколько нужно сахара',\n",
       " '13\\tкак подключить роутер',\n",
       " '14\\tот воды зуд в руках почему',\n",
       " '15\\tсамый компактный пистолет в ссср',\n",
       " '16\\tкак подключить двухконтурный газовый котел видео',\n",
       " '17\\tесли есть один раз вечером можно похудеть',\n",
       " '18\\tкаквернуть налог в аэропорту парижа',\n",
       " '19\\tкак добраться до деревни бобруйск васьково',\n",
       " '20\\tна какой день цикла сдают т3',\n",
       " '21\\tчто означают знак бесконечность',\n",
       " '22\\tможет ли пристав арестовать алименты',\n",
       " '23\\tкак будут меняться цены на новостройки в новосибирске в 2018 году',\n",
       " '24\\tчто входитв стоимиость авиабилетов',\n",
       " '25\\tгде в барнауле купить листогиб',\n",
       " '26\\tкак поднимать пост на стене в контакте',\n",
       " '27\\tкогда можно сажать еще щавель и шпинат',\n",
       " '28\\tстоит ли вкладывать в инвестиционный фонд',\n",
       " '29\\tкакоформить отказ от подписания акта о невыходе на работу',\n",
       " '30\\tпочему с возрастом появляется храп',\n",
       " '31\\tкак пройти миссию трюки на лодке gta vice city',\n",
       " '32\\tдопустима ли работа онкобольных в детских учреждениях',\n",
       " '33\\tкак открыть свои чувства любимому',\n",
       " '34\\tкакой длины должны быть шторы',\n",
       " '35\\tкак химическим путем доказать наличие примеси сульфата бария в твердом карбонате бария',\n",
       " '36\\tпочему много воды пить для почек полезно',\n",
       " '37\\tкак вылечить насморк после аллергии',\n",
       " '38\\tкак быстро доставить письмо',\n",
       " '39\\tсколько лечится туберкулез по времени',\n",
       " '40\\tкак в кс го через консоль сделать маленький прицел',\n",
       " '41\\tкак удалить профиль инстаграм',\n",
       " '42\\tсколько платят за кап ремонт в воркуте',\n",
       " '43\\tкакие вопросы задать парню при знакомстве',\n",
       " '44\\tможет ли работать компьютер без батарейки биос',\n",
       " '45\\tчто нужно для того что бы провести свет в гараж',\n",
       " '46\\tкак устоновит ps cs6',\n",
       " '47\\tчем полить рассаду помидор для быстрого роста',\n",
       " '48\\tможно ли пить таблетки аугументин с молоком',\n",
       " '49\\tкак создать нового персонажа в блок страйке',\n",
       " '50\\tкак ппишется справа',\n",
       " '51\\tкто создал в речице каплицу ефросиньи',\n",
       " '52\\tнужно ли менять масло в механической коробке передач',\n",
       " '53\\tкак подключить передние юсб выходы',\n",
       " '54\\tкак ставить варп в майнкрафте',\n",
       " '55\\tв каком отеле остановиться в стамбуле',\n",
       " '56\\tкак закалялся стайл',\n",
       " '57\\tкак узнать когда следует качать мёд из улья',\n",
       " '58\\tчто пить от лямблей',\n",
       " '59\\tкак сделать ромашку из бумаги',\n",
       " '60\\tкак приготовить вкусный соус к мантам',\n",
       " '61\\tкак построить потолок без колонн длиной 8 метров',\n",
       " '62\\tна каких поверхностях используют окись цинка для выявления следов',\n",
       " '63\\tкак установить читалку на планшет самсунг 5 м т561 через пк',\n",
       " '64\\tкак снять порчу и сглаз в домашних условиях',\n",
       " '65\\tчто такое теги',\n",
       " '66\\tчем кормить крысу',\n",
       " '67\\trfr elfkbnm rdtcn crfqhbv',\n",
       " '68\\tот чего резкая потеря мощности двигателя авто',\n",
       " '69\\tкак установить google на veizu',\n",
       " '70\\tкак сделать загрузочную флешку you tube',\n",
       " '71\\tкак будет по английски контактное лицо',\n",
       " '72\\tгде написать завещание в тюмени',\n",
       " '73\\tкак избавиться от муравьёв на огороде народными средствами',\n",
       " '74\\tчто такое асц',\n",
       " '75\\tкак вставить рисунок из бронзы в железо',\n",
       " '76\\tкакие растения сажать в пруд',\n",
       " '77\\tкак понять что ты нравишься парню',\n",
       " '78\\tкак закрыть доступ к странице mail ru',\n",
       " '79\\tкто родился сегодня',\n",
       " '80\\tкак добавить админа в группу',\n",
       " '81\\tкак расширить экран гта 5',\n",
       " '82\\tкак крепить стропила',\n",
       " '83\\tпочему черная икра теряет цвет',\n",
       " '84\\tлучшие средства от каларадского жука',\n",
       " '85\\tкак высчитать средний дневной заработок',\n",
       " '86\\tдопустимо ли добавлять жидкость в акпп',\n",
       " '87\\tкак написать управляющему опфр по омской области',\n",
       " '88\\tкак лечить язык ребенку',\n",
       " '89\\tлучшие бифокальные линзы очки',\n",
       " '90\\tкак часто можно посещать солярий',\n",
       " '91\\tдибазол через какое время можно повторить курс',\n",
       " '92\\tкакие батарейки нужны для радиотелефона филлипс',\n",
       " '93\\tкак приготовить раствор для мыльных пузырей дома',\n",
       " '94\\tгде купить в казани медилис ципер',\n",
       " '95\\tчто лучше патрол или инфинити',\n",
       " '96\\tв какую ифнс платить налоги с зарплаты дистанционного работника',\n",
       " '97\\tсколько бюджетных мест в педагогическом колледже',\n",
       " '98\\tесли женщину бесиш это хорошо или плохо',\n",
       " '99\\trfr gjvtyznm gfhjkm yf dfq afq hjentht ngkbyr',\n",
       " '100\\tчто можно сделать своими руками можно торговать на ярмарках']"
      ]
     },
     "execution_count": 10,
     "metadata": {},
     "output_type": "execute_result"
    }
   ],
   "source": [
    "queries[:100]"
   ]
  },
  {
   "cell_type": "code",
   "execution_count": 5,
   "metadata": {},
   "outputs": [],
   "source": [
    "with open(PATH + \"sample.technosphere.ir1.textrelevance.submission.txt\", \"r\") as f:\n",
    "    sample = f.read().split(\"\\n\")"
   ]
  },
  {
   "cell_type": "markdown",
   "metadata": {},
   "source": [
    "Считаем количество пар запрос-документ и общее количество документов в базе"
   ]
  },
  {
   "cell_type": "code",
   "execution_count": 20,
   "metadata": {},
   "outputs": [
    {
     "name": "stdout",
     "output_type": "stream",
     "text": [
      "38114\n"
     ]
    }
   ],
   "source": [
    "query_set = set()\n",
    "for item in sample:\n",
    "    if \",\" in item:\n",
    "        query_set.add(item.split(\",\")[1])\n",
    "print(len(query_set) - 1) # headers"
   ]
  },
  {
   "cell_type": "code",
   "execution_count": 15,
   "metadata": {},
   "outputs": [
    {
     "name": "stdout",
     "output_type": "stream",
     "text": [
      "38114\n"
     ]
    }
   ],
   "source": [
    "counter = 0\n",
    "for folder in os.listdir(PATH + \"content/content/\"):\n",
    "    if folder.startswith(\"20\"):\n",
    "        counter += len(os.listdir(PATH + \"content/content/\" + folder))\n",
    "print(counter)"
   ]
  },
  {
   "cell_type": "markdown",
   "metadata": {},
   "source": [
    "По урлам сопоставим каждому документу его docid и сохраним в соответствующий файл."
   ]
  },
  {
   "cell_type": "code",
   "execution_count": 6,
   "metadata": {},
   "outputs": [],
   "source": [
    "urls_docids = {item.split(\"\\t\")[1]: int(item.split(\"\\t\")[0]) for item in urls if len(item)}"
   ]
  },
  {
   "cell_type": "code",
   "execution_count": 8,
   "metadata": {},
   "outputs": [
    {
     "data": {
      "application/vnd.jupyter.widget-view+json": {
       "model_id": "1fbaf79dbba14a1791ca6a4bfccfaef1",
       "version_major": 2,
       "version_minor": 0
      },
      "text/plain": [
       "HBox(children=(HTML(value=''), FloatProgress(value=0.0, max=4878.0), HTML(value='')))"
      ]
     },
     "metadata": {},
     "output_type": "display_data"
    },
    {
     "name": "stdout",
     "output_type": "stream",
     "text": [
      "\n"
     ]
    },
    {
     "data": {
      "application/vnd.jupyter.widget-view+json": {
       "model_id": "1a73a5bbd4194d32b949b5cba6aee1dc",
       "version_major": 2,
       "version_minor": 0
      },
      "text/plain": [
       "HBox(children=(HTML(value=''), FloatProgress(value=0.0, max=4804.0), HTML(value='')))"
      ]
     },
     "metadata": {},
     "output_type": "display_data"
    },
    {
     "name": "stdout",
     "output_type": "stream",
     "text": [
      "\n"
     ]
    },
    {
     "data": {
      "application/vnd.jupyter.widget-view+json": {
       "model_id": "9b30c4c0dbb340a882d60b28729370ad",
       "version_major": 2,
       "version_minor": 0
      },
      "text/plain": [
       "HBox(children=(HTML(value=''), FloatProgress(value=0.0, max=4955.0), HTML(value='')))"
      ]
     },
     "metadata": {},
     "output_type": "display_data"
    },
    {
     "name": "stdout",
     "output_type": "stream",
     "text": [
      "\n"
     ]
    },
    {
     "data": {
      "application/vnd.jupyter.widget-view+json": {
       "model_id": "9154f4b5a4404117918a53e41fc4cb7f",
       "version_major": 2,
       "version_minor": 0
      },
      "text/plain": [
       "HBox(children=(HTML(value=''), FloatProgress(value=0.0, max=5050.0), HTML(value='')))"
      ]
     },
     "metadata": {},
     "output_type": "display_data"
    },
    {
     "name": "stdout",
     "output_type": "stream",
     "text": [
      "\n"
     ]
    },
    {
     "data": {
      "application/vnd.jupyter.widget-view+json": {
       "model_id": "1339a8f6e14d4b1e98766d0f06f7a750",
       "version_major": 2,
       "version_minor": 0
      },
      "text/plain": [
       "HBox(children=(HTML(value=''), FloatProgress(value=0.0, max=4617.0), HTML(value='')))"
      ]
     },
     "metadata": {},
     "output_type": "display_data"
    },
    {
     "name": "stdout",
     "output_type": "stream",
     "text": [
      "\n"
     ]
    },
    {
     "data": {
      "application/vnd.jupyter.widget-view+json": {
       "model_id": "b6b3e5077dcf4ee687621ae27dfdaf38",
       "version_major": 2,
       "version_minor": 0
      },
      "text/plain": [
       "HBox(children=(HTML(value=''), FloatProgress(value=0.0, max=4533.0), HTML(value='')))"
      ]
     },
     "metadata": {},
     "output_type": "display_data"
    },
    {
     "name": "stdout",
     "output_type": "stream",
     "text": [
      "\n"
     ]
    },
    {
     "data": {
      "application/vnd.jupyter.widget-view+json": {
       "model_id": "806d80bbce9843a588e35e0e993390dd",
       "version_major": 2,
       "version_minor": 0
      },
      "text/plain": [
       "HBox(children=(HTML(value=''), FloatProgress(value=0.0, max=4610.0), HTML(value='')))"
      ]
     },
     "metadata": {},
     "output_type": "display_data"
    },
    {
     "name": "stdout",
     "output_type": "stream",
     "text": [
      "\n"
     ]
    },
    {
     "data": {
      "application/vnd.jupyter.widget-view+json": {
       "model_id": "94c32854b3d54c3d96aa582777247dc5",
       "version_major": 2,
       "version_minor": 0
      },
      "text/plain": [
       "HBox(children=(HTML(value=''), FloatProgress(value=0.0, max=4667.0), HTML(value='')))"
      ]
     },
     "metadata": {},
     "output_type": "display_data"
    },
    {
     "name": "stdout",
     "output_type": "stream",
     "text": [
      "\n",
      "595\n"
     ]
    }
   ],
   "source": [
    "error_counter = 0\n",
    "error_list = []\n",
    "for folder in os.listdir(os.path.join(PATH, \"content/content\")):\n",
    "    if folder.startswith(\"20\"):\n",
    "        filelist = os.listdir(os.path.join(PATH, \"content/content\", folder))\n",
    "        for filename in tqdm(filelist, total=len(filelist)):\n",
    "            with open(os.path.join(PATH, \"content/content\", folder, filename), \"r\") as f:\n",
    "                try:\n",
    "                    doc = f.read()\n",
    "                except Exception as e:\n",
    "                    error_counter += 1\n",
    "                    error_list.append(os.path.join(folder, filename))\n",
    "                    continue\n",
    "            url = doc.split(\"\\n\")[0]\n",
    "            docid = urls_docids[url]\n",
    "            with open(os.path.join(PATH, \"content\", f\"{docid}.pkl\"), \"wb\") as f:\n",
    "                pickle.dump(doc, f)\n",
    "            os.remove(os.path.join(PATH, \"content/content\", folder, filename))\n",
    "            \n",
    "print(error_counter)"
   ]
  },
  {
   "cell_type": "code",
   "execution_count": 9,
   "metadata": {},
   "outputs": [],
   "source": [
    "for filename in error_list:\n",
    "    with open(os.path.join(PATH, \"content/content\", filename), \"rb\") as f:\n",
    "        doc = f.read().decode(errors='ignore')\n",
    "    url = doc.split(\"\\n\")[0]\n",
    "    docid = urls_docids[url]\n",
    "    with open(os.path.join(PATH, \"content\", f\"{docid}.pkl\"), \"wb\") as f:\n",
    "        pickle.dump(doc, f)"
   ]
  },
  {
   "cell_type": "code",
   "execution_count": 11,
   "metadata": {},
   "outputs": [
    {
     "name": "stdout",
     "output_type": "stream",
     "text": [
      "38114\n"
     ]
    }
   ],
   "source": [
    "pkl_counter = 0\n",
    "for filename in os.listdir(os.path.join(PATH, \"content\")):\n",
    "    pkl_counter += int(filename.endswith(\".pkl\"))\n",
    "print(pkl_counter)"
   ]
  }
 ],
 "metadata": {
  "kernelspec": {
   "display_name": "Python 3",
   "language": "python",
   "name": "python3"
  },
  "language_info": {
   "codemirror_mode": {
    "name": "ipython",
    "version": 3
   },
   "file_extension": ".py",
   "mimetype": "text/x-python",
   "name": "python",
   "nbconvert_exporter": "python",
   "pygments_lexer": "ipython3",
   "version": "3.7.4"
  }
 },
 "nbformat": 4,
 "nbformat_minor": 4
}
