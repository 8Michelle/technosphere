{
 "cells": [
  {
   "cell_type": "markdown",
   "metadata": {},
   "source": [
    "Данный ноутбук использует проиндексированные документы, что позволило значительно ускорить ранжирование."
   ]
  },
  {
   "cell_type": "code",
   "execution_count": 2,
   "metadata": {},
   "outputs": [],
   "source": [
    "import pickle\n",
    "import math\n",
    "import os\n",
    "from smart_parser import clean_text, lemmatize_text\n",
    "from tqdm.notebook import tqdm\n",
    "from collections import defaultdict\n",
    "from pymystem3 import Mystem\n",
    "from joblib import Parallel, delayed\n",
    "from ndcg_standart import mean_ndcg\n",
    "import requests\n",
    "\n",
    "PATH = \"/Users/michelle/data/text-relevance-competition-ir-1-ts-fall-2020/\""
   ]
  },
  {
   "cell_type": "code",
   "execution_count": 24,
   "metadata": {},
   "outputs": [],
   "source": [
    "stemmer = Mystem()"
   ]
  },
  {
   "cell_type": "code",
   "execution_count": 3,
   "metadata": {},
   "outputs": [],
   "source": [
    "with open(PATH + \"sample.technosphere.ir1.textrelevance.submission.txt\", \"r\") as f:\n",
    "    sample = f.read().split(\"\\n\")\n",
    "    \n",
    "query_docid = defaultdict(list)\n",
    "for item in sample[1:]:\n",
    "    if item:\n",
    "        qid = item.split(\",\")[0]\n",
    "        docid = item.split(\",\")[1]\n",
    "        query_docid[qid].append(docid)\n",
    "        \n",
    "average_doc_len = 8682.4\n",
    "corpus_len = 38115\n",
    "\n",
    "listdir = os.listdir(os.path.join(PATH, \"index\"))\n",
    "\n",
    "with open(PATH + \"queries_all.pkl\", \"rb\") as f:\n",
    "    queries = pickle.load(f)"
   ]
  },
  {
   "cell_type": "code",
   "execution_count": 110,
   "metadata": {},
   "outputs": [
    {
     "data": {
      "application/vnd.jupyter.widget-view+json": {
       "model_id": "41e30d0cf9164f75bea055d41a359622",
       "version_major": 2,
       "version_minor": 0
      },
      "text/plain": [
       "HBox(children=(HTML(value=''), FloatProgress(value=0.0, max=38113.0), HTML(value='')))"
      ]
     },
     "metadata": {},
     "output_type": "display_data"
    },
    {
     "name": "stdout",
     "output_type": "stream",
     "text": [
      "\n"
     ]
    }
   ],
   "source": [
    "words_count = defaultdict(int)\n",
    "for filename in tqdm(listdir, total=len(listdir)):\n",
    "    with open(os.path.join(PATH, \"index\", filename), \"rb\") as f:\n",
    "        doc = pickle.load(f)\n",
    "    for word in doc[0][0].keys():\n",
    "        words_count[word] += 1"
   ]
  },
  {
   "cell_type": "code",
   "execution_count": 111,
   "metadata": {},
   "outputs": [],
   "source": [
    "words_idf = {}\n",
    "for word, count in words_count.items():\n",
    "    words_idf[word] = -math.log(count / corpus_len)"
   ]
  },
  {
   "cell_type": "code",
   "execution_count": 112,
   "metadata": {},
   "outputs": [],
   "source": [
    "with open(os.path.join(PATH, \"words_idf\"), \"wb\") as f:\n",
    "    pickle.dump(words_idf, f)"
   ]
  },
  {
   "cell_type": "code",
   "execution_count": 18,
   "metadata": {},
   "outputs": [],
   "source": [
    "with open(os.path.join(PATH, \"words_idf\"), \"rb\") as f:\n",
    "    words_idf = pickle.load(f)"
   ]
  },
  {
   "cell_type": "code",
   "execution_count": 104,
   "metadata": {},
   "outputs": [],
   "source": [
    "def tf_score(tf, field_len):\n",
    "    return tf / (tf + 1 + 0.001 * field_len)\n",
    "\n",
    "def word_score(word, doc, idf): # условие при добавлении веса источника\n",
    "    text_weight = 1\n",
    "    headers_weight = 1.5\n",
    "    meta_weight = 4\n",
    "    title_weight = 5\n",
    "    headers_coef = 1.2\n",
    "    \n",
    "    text_tf = len(doc[0][0][word])\n",
    "    title_tf = len(doc[1][0][word])\n",
    "    meta_tf = len(doc[2][0][word])\n",
    "    headers_tf = [len(header[0][word]) for header in doc[3]]\n",
    "    \n",
    "    text_score = tf_score(text_tf, doc[0][1]) * text_weight# if text_tf else 0\n",
    "    title_score = tf_score(title_tf, doc[1][1]) * title_weight# if title_tf else 0\n",
    "    meta_score = tf_score(meta_tf, doc[2][1]) * meta_weight\n",
    "    headers_score = sum([tf_score(header_tf, doc[3][i][1])\\\n",
    "                     * headers_weight ** 6 / headers_coef ** i\\\n",
    "                     for i, header_tf in enumerate(headers_tf)])# if header_tf])\n",
    "    \n",
    "#     print(idf, text_score, title_score, meta_score, headers_score)\n",
    "    \n",
    "    return idf * (text_score + title_score + headers_score + meta_score)"
   ]
  },
  {
   "cell_type": "code",
   "execution_count": 97,
   "metadata": {},
   "outputs": [],
   "source": [
    "def tf_pair(word1, word2, text_index):\n",
    "    bigram_weight = 1\n",
    "    inverse_weight = 0.75\n",
    "    skip_weight = 0.5\n",
    "    skip_inverse_weight = 0.25\n",
    "\n",
    "    bigram_tf = 0\n",
    "    inverse_tf = 0\n",
    "    skip_tf = 0\n",
    "    skip_inverse_tf = 0\n",
    "    \n",
    "    for index in text_index[word1]:\n",
    "        if index + 1 in text_index[word2]:\n",
    "            bigram_tf += 1\n",
    "        if index - 1 in text_index[word2]:\n",
    "            inverse_tf += 1\n",
    "        if index + 2 in text_index[word2]:\n",
    "            skip_weight += 1\n",
    "        if index - 1 in text_index[word2]:\n",
    "            skip_inverse_weight += 1\n",
    "\n",
    "    return bigram_tf * bigram_weight + inverse_tf * inverse_weight +\\\n",
    "            skip_tf * skip_weight + skip_inverse_tf * skip_inverse_weight\n",
    "\n",
    "\n",
    "def pair_score(word1, word2, doc, idf1, idf2): # check веса для особых тегов\n",
    "    text_weight = 1\n",
    "    headers_weight = 1.5\n",
    "    meta_weight = 4\n",
    "    title_weight = 5\n",
    "    headers_coef = 1.2\n",
    "    \n",
    "    text_tf = tf_pair(word1, word2, doc[0][0])\n",
    "    headers_tf = [tf_pair(word1, word2, header[0]) for header in doc[3]]    \n",
    "    title_tf = tf_pair(word1, word2, doc[1][0])\n",
    "    meta_tf = tf_pair(word1, word2, doc[2][0])\n",
    "    \n",
    "    text_score = text_weight * text_tf / (1 + text_tf)\n",
    "    title_score = title_weight * title_tf / (1 + title_tf)\n",
    "    headers_score = sum([(headers_weight ** 6 / headers_coef ** i) *\\\n",
    "                         header_tf / (1 + header_tf)\\\n",
    "                         for i, header_tf in enumerate(headers_tf)])\n",
    "    meta_score = meta_weight * meta_tf / (1 + meta_tf)\n",
    "        \n",
    "    return (idf1 + idf2) * (text_score + title_score + headers_score + meta_score)\n",
    "    "
   ]
  },
  {
   "cell_type": "code",
   "execution_count": 126,
   "metadata": {},
   "outputs": [],
   "source": [
    "def total_score(query_all, doc, words_idf):\n",
    "    query = query_all.split(\"\\t\")[0]\n",
    "    query_ext = query_all.split(\"\\t\")[1]\n",
    "    ext_words_weight = 0.25\n",
    "    score = 0\n",
    "    query_words = query.split(\" \")\n",
    "    query_ext_words = query_ext.split(\" \")\n",
    "    \n",
    "    # single words\n",
    "    for word in query_words:\n",
    "        if word in words_idf:\n",
    "            score += word_score(word, doc, words_idf[word])\n",
    "        \n",
    "    # bigrams\n",
    "    for index, _ in enumerate(query_words[:-1]):\n",
    "        word1 = query_words[index]\n",
    "        word2 = query_words[index + 1]\n",
    "        if word1 in words_idf and word2 in words_idf:\n",
    "            score += pair_score(word1, word2, doc,\n",
    "                                words_idf[word1], words_idf[word2])\n",
    "    try:\n",
    "        for index, word in enumerate(query_ext_words):\n",
    "            if word in words_idf and word != query_words[index]:\n",
    "                score += ext_words_weight * word_score(word, doc, words_idf[word])\n",
    "                    \n",
    "    except:\n",
    "        pass\n",
    "        \n",
    "    return score"
   ]
  },
  {
   "cell_type": "code",
   "execution_count": 128,
   "metadata": {},
   "outputs": [
    {
     "data": {
      "application/vnd.jupyter.widget-view+json": {
       "model_id": "dcf2c2eaf6a4409b80a8809c76ebaf92",
       "version_major": 2,
       "version_minor": 0
      },
      "text/plain": [
       "HBox(children=(HTML(value=''), FloatProgress(value=0.0, max=399.0), HTML(value='')))"
      ]
     },
     "metadata": {},
     "output_type": "display_data"
    },
    {
     "name": "stdout",
     "output_type": "stream",
     "text": [
      "ERROR parsed_31733.pkl\n",
      "\n"
     ]
    }
   ],
   "source": [
    "new_query_docid = {}\n",
    "for item in tqdm(query_docid.items(), total=len(query_docid)):\n",
    "    query = queries[int(item[0])]\n",
    "    docids = item[1]\n",
    "    result = []\n",
    "    for docid in docids:\n",
    "        filename = f\"parsed_{docid}.pkl\"\n",
    "        if filename in listdir:\n",
    "            with open(os.path.join(PATH, \"index\", filename), \"rb\") as f:\n",
    "                doc = pickle.load(f)\n",
    "            base_query = query.split(\"\\t\")[0]\n",
    "            ext_query = query.split(\"\\t\")[1]\n",
    "            base_query = lemmatize_text(clean_text(base_query), stemmer)[:-1]\n",
    "            ext_query = lemmatize_text(clean_text(ext_query), stemmer)[:-1]\n",
    "            score = total_score(base_query + \"\\t\" + ext_query,\n",
    "                                doc, words_idf)\n",
    "        else:\n",
    "            score = 0\n",
    "            print(\"ERROR\", filename)\n",
    "        result.append((score, docid))\n",
    "    result.sort(reverse=True)\n",
    "    new_query_docid[item[0]] = [doc_item[1] for doc_item in result]"
   ]
  },
  {
   "cell_type": "code",
   "execution_count": 129,
   "metadata": {},
   "outputs": [],
   "source": [
    "submit = ['QueryId,DocumentId']\n",
    "for i in range(1, len(queries)):\n",
    "    docids = new_query_docid[str(i)]\n",
    "    for docid in docids:\n",
    "        submit.append(f\"{i},{docid}\")\n",
    "        \n",
    "with open(PATH + \"submit_24_4.txt\", \"w\") as f:\n",
    "    f.write(\"\\n\".join(submit))"
   ]
  },
  {
   "cell_type": "code",
   "execution_count": 131,
   "metadata": {},
   "outputs": [],
   "source": [
    "def total_score(query_all, doc, words_idf):\n",
    "    query = query_all.split(\"\\t\")[0]\n",
    "    query_ext = query_all.split(\"\\t\")[1]\n",
    "    ext_words_weight = 0.25\n",
    "    score = 0\n",
    "    query_words = query.split(\" \")\n",
    "    query_ext_words = query_ext.split(\" \")\n",
    "    \n",
    "    # single words\n",
    "    for word in query_words:\n",
    "        if word in words_idf:\n",
    "            score += word_score(word, doc, words_idf[word])\n",
    "        \n",
    "    # bigrams\n",
    "    for index, _ in enumerate(query_words[:-1]):\n",
    "        word1 = query_words[index]\n",
    "        word2 = query_words[index + 1]\n",
    "        if word1 in words_idf and word2 in words_idf:\n",
    "            score += pair_score(word1, word2, doc,\n",
    "                                words_idf[word1], words_idf[word2])\n",
    "    try:\n",
    "        for index, word in enumerate(query_ext_words):\n",
    "            if word in words_idf and word not in query_words:\n",
    "                score += ext_words_weight * word_score(word, doc, words_idf[word])\n",
    "                    \n",
    "    except:\n",
    "        pass\n",
    "        \n",
    "    return score"
   ]
  },
  {
   "cell_type": "code",
   "execution_count": 132,
   "metadata": {},
   "outputs": [
    {
     "data": {
      "application/vnd.jupyter.widget-view+json": {
       "model_id": "c03e2c104aba4ced9874f1c631627866",
       "version_major": 2,
       "version_minor": 0
      },
      "text/plain": [
       "HBox(children=(HTML(value=''), FloatProgress(value=0.0, max=399.0), HTML(value='')))"
      ]
     },
     "metadata": {},
     "output_type": "display_data"
    },
    {
     "name": "stdout",
     "output_type": "stream",
     "text": [
      "ERROR parsed_31733.pkl\n",
      "\n"
     ]
    }
   ],
   "source": [
    "new_query_docid = {}\n",
    "for item in tqdm(query_docid.items(), total=len(query_docid)):\n",
    "    query = queries[int(item[0])]\n",
    "    docids = item[1]\n",
    "    result = []\n",
    "    for docid in docids:\n",
    "        filename = f\"parsed_{docid}.pkl\"\n",
    "        if filename in listdir:\n",
    "            with open(os.path.join(PATH, \"index\", filename), \"rb\") as f:\n",
    "                doc = pickle.load(f)\n",
    "            base_query = query.split(\"\\t\")[0]\n",
    "            ext_query = query.split(\"\\t\")[1]\n",
    "            base_query = lemmatize_text(clean_text(base_query), stemmer)[:-1]\n",
    "            ext_query = lemmatize_text(clean_text(ext_query), stemmer)[:-1]\n",
    "            score = total_score(base_query + \"\\t\" + ext_query,\n",
    "                                doc, words_idf)\n",
    "        else:\n",
    "            score = 0\n",
    "            print(\"ERROR\", filename)\n",
    "        result.append((score, docid))\n",
    "    result.sort(reverse=True)\n",
    "    new_query_docid[item[0]] = [doc_item[1] for doc_item in result]"
   ]
  },
  {
   "cell_type": "code",
   "execution_count": 143,
   "metadata": {},
   "outputs": [],
   "source": [
    "submit = ['QueryId,DocumentId']\n",
    "for i in range(1, len(queries)):\n",
    "    docids = new_query_docid[str(i)]\n",
    "    for docid in docids:\n",
    "        submit.append(f\"{i},{docid}\")\n",
    "        \n",
    "with open(PATH + \"submit_25_1.txt\", \"w\") as f:\n",
    "    f.write(\"\\n\".join(submit))"
   ]
  }
 ],
 "metadata": {
  "kernelspec": {
   "display_name": "Python 3",
   "language": "python",
   "name": "python3"
  },
  "language_info": {
   "codemirror_mode": {
    "name": "ipython",
    "version": 3
   },
   "file_extension": ".py",
   "mimetype": "text/x-python",
   "name": "python",
   "nbconvert_exporter": "python",
   "pygments_lexer": "ipython3",
   "version": "3.7.4"
  }
 },
 "nbformat": 4,
 "nbformat_minor": 4
}
