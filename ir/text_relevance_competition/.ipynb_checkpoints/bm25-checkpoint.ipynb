{
 "cells": [
  {
   "cell_type": "markdown",
   "metadata": {},
   "source": [
    "# BM25\n",
    "Данный ноутбук реализует решение с использованием алгоритма BM25. Как и в случае TF-IDF метрика рассчитывалась с использованием IDF для всей базы, и для подмножества документов для каждого запроса."
   ]
  },
  {
   "cell_type": "code",
   "execution_count": 1,
   "metadata": {},
   "outputs": [
    {
     "name": "stderr",
     "output_type": "stream",
     "text": [
      "[nltk_data] Downloading package stopwords to\n",
      "[nltk_data]     /Users/michelle/nltk_data...\n",
      "[nltk_data]   Package stopwords is already up-to-date!\n"
     ]
    }
   ],
   "source": [
    "import pickle\n",
    "import math\n",
    "import os\n",
    "from parser import parse, text_handler\n",
    "from tqdm.notebook import tqdm\n",
    "from collections import defaultdict\n",
    "PATH = \"/Users/michelle/data/text-relevance-competition-ir-1-ts-fall-2020/\""
   ]
  },
  {
   "cell_type": "markdown",
   "metadata": {},
   "source": [
    "# IDF для всех документов"
   ]
  },
  {
   "cell_type": "code",
   "execution_count": 19,
   "metadata": {},
   "outputs": [
    {
     "data": {
      "application/vnd.jupyter.widget-view+json": {
       "model_id": "7896c3445f924035a6cf184968a32164",
       "version_major": 2,
       "version_minor": 0
      },
      "text/plain": [
       "HBox(children=(HTML(value=''), FloatProgress(value=0.0, max=38106.0), HTML(value='')))"
      ]
     },
     "metadata": {},
     "output_type": "display_data"
    },
    {
     "name": "stdout",
     "output_type": "stream",
     "text": [
      "\n"
     ]
    }
   ],
   "source": [
    "files = os.listdir(os.path.join(PATH, \"texts\"))\n",
    "corpus_len = len(files)\n",
    "\n",
    "sum_doc_len = 0\n",
    "for file in tqdm(files, total=corpus_len):\n",
    "    if file.endswith(\".pkl\"):\n",
    "        with open(os.path.join(PATH, \"texts\", file), \"rb\") as f:\n",
    "            sum_doc_len += len(pickle.load(f).split())\n",
    "\n",
    "average_doc_len = sum_doc_len / corpus_len"
   ]
  },
  {
   "cell_type": "code",
   "execution_count": 20,
   "metadata": {},
   "outputs": [],
   "source": [
    "with open(os.path.join(PATH, \"inv_index\"), \"rb\") as f:\n",
    "    terms_count = pickle.load(f)"
   ]
  },
  {
   "cell_type": "code",
   "execution_count": 21,
   "metadata": {},
   "outputs": [],
   "source": [
    "def bm25_score(query, doc, terms_count, k1=1.2, k2=1000, b=0.75):\n",
    "    lemmed_query_list = text_handler(query).split()\n",
    "    score = 0\n",
    "    text_terms = doc.split()\n",
    "    for term in set(lemmed_query_list):\n",
    "        idf = (corpus_len - terms_count[term] + 0.5) / (terms_count[term] + 0.5)\n",
    "        tf = text_terms.count(term)\n",
    "        qf = lemmed_query_list.count(term)\n",
    "        dl = len(text_terms)\n",
    "        K = k1 * ((1 - b) + b * dl / average_doc_len)\n",
    "        score += math.log(idf) * (k1 + 1) * tf / (K + tf) * (k2 + 1) * qf / (k2 + qf)\n",
    "    return score"
   ]
  },
  {
   "cell_type": "markdown",
   "metadata": {},
   "source": [
    "Создаем словарь запрос-документы"
   ]
  },
  {
   "cell_type": "code",
   "execution_count": 22,
   "metadata": {},
   "outputs": [],
   "source": [
    "with open(PATH + \"queries.numerate.txt\", \"r\") as f:\n",
    "    queries = f.read().split(\"\\n\")\n",
    "    \n",
    "with open(PATH + \"sample.technosphere.ir1.textrelevance.submission.txt\", \"r\") as f:\n",
    "    sample = f.read().split(\"\\n\")\n",
    "    \n",
    "query_docid = defaultdict(list)\n",
    "for item in sample[1:]:\n",
    "    if item:\n",
    "        qid = item.split(\",\")[0]\n",
    "        docid = item.split(\",\")[1]\n",
    "        query_docid[qid].append(docid)\n",
    "        \n",
    "queries = [None] + [item.split(\"\\t\")[1] for item in queries if item]"
   ]
  },
  {
   "cell_type": "code",
   "execution_count": 25,
   "metadata": {},
   "outputs": [],
   "source": [
    "listdir = os.listdir(os.path.join(PATH, \"texts\"))\n",
    "listdir = set(listdir)"
   ]
  },
  {
   "cell_type": "markdown",
   "metadata": {},
   "source": [
    "Считаем bm25 для каждой пары запрос-документ."
   ]
  },
  {
   "cell_type": "code",
   "execution_count": 11,
   "metadata": {},
   "outputs": [
    {
     "data": {
      "application/vnd.jupyter.widget-view+json": {
       "model_id": "fb728bb398a6471284cef906b05d85fb",
       "version_major": 2,
       "version_minor": 0
      },
      "text/plain": [
       "HBox(children=(HTML(value=''), FloatProgress(value=0.0, max=399.0), HTML(value='')))"
      ]
     },
     "metadata": {},
     "output_type": "display_data"
    },
    {
     "name": "stdout",
     "output_type": "stream",
     "text": [
      "\n"
     ]
    }
   ],
   "source": [
    "new_query_docid = {}\n",
    "for item in tqdm(query_docid.items(), total=len(query_docid)):\n",
    "    query = queries[int(item[0])]\n",
    "    docids = item[1]\n",
    "    result = []\n",
    "    for docid in docids:\n",
    "        filename = f\"{docid}.pkl_text.pkl\"\n",
    "        if filename in listdir:\n",
    "            with open(os.path.join(PATH, \"texts\", filename), \"rb\") as f:\n",
    "                text = pickle.load(f)\n",
    "            score = bm25_score(query, text, terms_count)\n",
    "        else:\n",
    "            score = 0\n",
    "        result.append((score, docid))\n",
    "    result.sort(reverse=True)\n",
    "    new_query_docid[item[0]] = [doc_item[1] for doc_item in result]"
   ]
  },
  {
   "cell_type": "code",
   "execution_count": 12,
   "metadata": {},
   "outputs": [],
   "source": [
    "submit = ['QueryId,DocumentId']\n",
    "for i in range(1, len(queries)):\n",
    "    docids = new_query_docid[str(i)]\n",
    "    for docid in docids:\n",
    "        submit.append(f\"{i},{docid}\")\n",
    "        \n",
    "with open(PATH + \"submit_19_07.txt\", \"w\") as f:\n",
    "    f.write(\"\\n\".join(submit))"
   ]
  },
  {
   "cell_type": "markdown",
   "metadata": {},
   "source": [
    "# IDF for subset"
   ]
  },
  {
   "cell_type": "markdown",
   "metadata": {},
   "source": [
    "Делаем аналогичные действия с IDF для подможеств документов."
   ]
  },
  {
   "cell_type": "code",
   "execution_count": 37,
   "metadata": {},
   "outputs": [
    {
     "data": {
      "application/vnd.jupyter.widget-view+json": {
       "model_id": "a1f7ac4a74574f5fb1b0781bdfdb2797",
       "version_major": 2,
       "version_minor": 0
      },
      "text/plain": [
       "HBox(children=(HTML(value=''), FloatProgress(value=0.0, max=400.0), HTML(value='')))"
      ]
     },
     "metadata": {},
     "output_type": "display_data"
    },
    {
     "name": "stdout",
     "output_type": "stream",
     "text": [
      "\n"
     ]
    }
   ],
   "source": [
    "terms_count_dicts = []\n",
    "lost_files = []\n",
    "for item in tqdm(query_docid.items(), total=len(queries)):\n",
    "    terms_count = defaultdict(int)\n",
    "    for docid in item[1]:\n",
    "        filename = f\"{docid}.pkl_text.pkl\"\n",
    "        try:\n",
    "            with open(os.path.join(PATH, \"texts\", filename), \"rb\") as f:\n",
    "                doc = pickle.load(f)\n",
    "            for term in set(doc.split()):\n",
    "                terms_count[term] += 1\n",
    "        except:\n",
    "            lost_files.append(docid)\n",
    "    terms_count_dicts.append(terms_count)"
   ]
  },
  {
   "cell_type": "code",
   "execution_count": 38,
   "metadata": {},
   "outputs": [],
   "source": [
    "with open(os.path.join(PATH, \"term_count_subsets\"), \"wb\") as f:\n",
    "    pickle.dump(terms_count_dicts, f)"
   ]
  },
  {
   "cell_type": "code",
   "execution_count": 14,
   "metadata": {},
   "outputs": [
    {
     "data": {
      "application/vnd.jupyter.widget-view+json": {
       "model_id": "3b8111c9332d4e55a1e272447f7cc8c8",
       "version_major": 2,
       "version_minor": 0
      },
      "text/plain": [
       "HBox(children=(HTML(value=''), FloatProgress(value=0.0, max=399.0), HTML(value='')))"
      ]
     },
     "metadata": {},
     "output_type": "display_data"
    },
    {
     "name": "stdout",
     "output_type": "stream",
     "text": [
      "\n"
     ]
    }
   ],
   "source": [
    "new_query_docid = {}\n",
    "for item in tqdm(query_docid.items(), total=len(query_docid)):\n",
    "    query = queries[int(item[0])]\n",
    "    docids = item[1]\n",
    "    result = []\n",
    "    for docid in docids:\n",
    "        filename = f\"{docid}.pkl_text.pkl\"\n",
    "        if filename in listdir:\n",
    "            with open(os.path.join(PATH, \"texts\", filename), \"rb\") as f:\n",
    "                text = pickle.load(f)\n",
    "            score = bm25_score(query, text, terms_count_dicts[int(item[0]) - 1])\n",
    "        else:\n",
    "            score = 0\n",
    "        result.append((score, docid))\n",
    "    result.sort(reverse=True)\n",
    "    new_query_docid[item[0]] = [doc_item[1] for doc_item in result]"
   ]
  },
  {
   "cell_type": "code",
   "execution_count": 15,
   "metadata": {},
   "outputs": [],
   "source": [
    "submit = ['QueryId,DocumentId']\n",
    "for i in range(1, len(queries)):\n",
    "    docids = new_query_docid[str(i)]\n",
    "    for docid in docids:\n",
    "        submit.append(f\"{i},{docid}\")\n",
    "        \n",
    "with open(PATH + \"submit_19_08.txt\", \"w\") as f:\n",
    "    f.write(\"\\n\".join(submit))"
   ]
  }
 ],
 "metadata": {
  "kernelspec": {
   "display_name": "Python 3",
   "language": "python",
   "name": "python3"
  },
  "language_info": {
   "codemirror_mode": {
    "name": "ipython",
    "version": 3
   },
   "file_extension": ".py",
   "mimetype": "text/x-python",
   "name": "python",
   "nbconvert_exporter": "python",
   "pygments_lexer": "ipython3",
   "version": "3.7.4"
  }
 },
 "nbformat": 4,
 "nbformat_minor": 4
}
