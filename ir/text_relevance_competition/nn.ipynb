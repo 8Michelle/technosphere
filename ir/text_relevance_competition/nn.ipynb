{
 "cells": [
  {
   "cell_type": "markdown",
   "metadata": {},
   "source": [
    "# Semantic baseline\n",
    "Данный ноутбук реализует решение с исползованием семантических моделей ранжирования."
   ]
  },
  {
   "cell_type": "code",
   "execution_count": 1,
   "metadata": {},
   "outputs": [],
   "source": [
    "import tensorflow_hub as hub\n",
    "import tensorflow_text\n",
    "import numpy as np\n",
    "from sklearn import metrics\n",
    "import tensorflow as tf\n",
    "import os\n",
    "import pickle\n",
    "from tqdm.notebook import tqdm\n",
    "from collections import defaultdict, OrderedDict\n",
    "import requests"
   ]
  },
  {
   "cell_type": "markdown",
   "metadata": {},
   "source": [
    "Скачиваем universal sentence encoder"
   ]
  },
  {
   "cell_type": "code",
   "execution_count": 2,
   "metadata": {},
   "outputs": [],
   "source": [
    "embed = hub.load(\"https://tfhub.dev/google/universal-sentence-encoder-multilingual-large/3\")"
   ]
  },
  {
   "cell_type": "code",
   "execution_count": 3,
   "metadata": {},
   "outputs": [],
   "source": [
    "PATH = \"/Users/michelle/data/nn_text-relevance-competition-ir-1-ts-fall-2020/\""
   ]
  },
  {
   "cell_type": "code",
   "execution_count": 4,
   "metadata": {},
   "outputs": [],
   "source": [
    "listdir = os.listdir(os.path.join(PATH, \"parsed_content\"))"
   ]
  },
  {
   "cell_type": "markdown",
   "metadata": {},
   "source": [
    "Читаем заголовки из файлов, которые были получены кодом nn_parser.py."
   ]
  },
  {
   "cell_type": "code",
   "execution_count": 5,
   "metadata": {
    "scrolled": true
   },
   "outputs": [
    {
     "data": {
      "application/vnd.jupyter.widget-view+json": {
       "model_id": "22ec170f1b90481ea58983565f324de0",
       "version_major": 2,
       "version_minor": 0
      },
      "text/plain": [
       "HBox(children=(HTML(value=''), FloatProgress(value=0.0, max=38114.0), HTML(value='')))"
      ]
     },
     "metadata": {},
     "output_type": "display_data"
    },
    {
     "name": "stderr",
     "output_type": "stream",
     "text": [
      "ERROR:root:Internal Python error in the inspect module.\n",
      "Below is the traceback from this internal error.\n",
      "\n"
     ]
    },
    {
     "name": "stdout",
     "output_type": "stream",
     "text": [
      "\n",
      "Traceback (most recent call last):\n",
      "  File \"/Users/michelle/Library/Python/3.7/lib/python/site-packages/IPython/core/interactiveshell.py\", line 3331, in run_code\n",
      "    exec(code_obj, self.user_global_ns, self.user_ns)\n",
      "  File \"<ipython-input-5-9da8ada4c0c7>\", line 3, in <module>\n",
      "    for file in tqdm(listdir, total=len(listdir)):\n",
      "  File \"/Users/michelle/Library/Python/3.7/lib/python/site-packages/tqdm/notebook.py\", line 234, in __iter__\n",
      "    for obj in super(tqdm_notebook, self).__iter__(*args, **kwargs):\n",
      "  File \"/Users/michelle/Library/Python/3.7/lib/python/site-packages/tqdm/std.py\", line 1184, in __iter__\n",
      "    self.refresh(lock_args=self.lock_args)\n",
      "  File \"/Users/michelle/Library/Python/3.7/lib/python/site-packages/tqdm/std.py\", line 1380, in refresh\n",
      "    self.display()\n",
      "  File \"/Users/michelle/Library/Python/3.7/lib/python/site-packages/tqdm/notebook.py\", line 152, in display\n",
      "    pbar.value = self.n\n",
      "  File \"/Users/michelle/Library/Python/3.7/lib/python/site-packages/traitlets/traitlets.py\", line 585, in __set__\n",
      "    self.set(obj, value)\n",
      "  File \"/Users/michelle/Library/Python/3.7/lib/python/site-packages/traitlets/traitlets.py\", line 574, in set\n",
      "    obj._notify_trait(self.name, old_value, new_value)\n",
      "  File \"/Users/michelle/Library/Python/3.7/lib/python/site-packages/traitlets/traitlets.py\", line 1134, in _notify_trait\n",
      "    self.notify_change(Bunch(\n",
      "KeyboardInterrupt\n",
      "\n",
      "During handling of the above exception, another exception occurred:\n",
      "\n",
      "Traceback (most recent call last):\n",
      "  File \"/Users/michelle/Library/Python/3.7/lib/python/site-packages/IPython/core/interactiveshell.py\", line 2044, in showtraceback\n",
      "    stb = value._render_traceback_()\n",
      "AttributeError: 'KeyboardInterrupt' object has no attribute '_render_traceback_'\n",
      "\n",
      "During handling of the above exception, another exception occurred:\n",
      "\n",
      "Traceback (most recent call last):\n",
      "  File \"/Users/michelle/Library/Python/3.7/lib/python/site-packages/IPython/core/ultratb.py\", line 1148, in get_records\n",
      "    return _fixed_getinnerframes(etb, number_of_lines_of_context, tb_offset)\n",
      "  File \"/Users/michelle/Library/Python/3.7/lib/python/site-packages/IPython/core/ultratb.py\", line 316, in wrapped\n",
      "    return f(*args, **kwargs)\n",
      "  File \"/Users/michelle/Library/Python/3.7/lib/python/site-packages/IPython/core/ultratb.py\", line 350, in _fixed_getinnerframes\n",
      "    records = fix_frame_records_filenames(inspect.getinnerframes(etb, context))\n",
      "  File \"/usr/local/Cellar/python/3.7.4_1/Frameworks/Python.framework/Versions/3.7/lib/python3.7/inspect.py\", line 1502, in getinnerframes\n",
      "    frameinfo = (tb.tb_frame,) + getframeinfo(tb, context)\n",
      "  File \"/usr/local/Cellar/python/3.7.4_1/Frameworks/Python.framework/Versions/3.7/lib/python3.7/inspect.py\", line 1460, in getframeinfo\n",
      "    filename = getsourcefile(frame) or getfile(frame)\n",
      "  File \"/usr/local/Cellar/python/3.7.4_1/Frameworks/Python.framework/Versions/3.7/lib/python3.7/inspect.py\", line 696, in getsourcefile\n",
      "    if getattr(getmodule(object, filename), '__loader__', None) is not None:\n",
      "  File \"/usr/local/Cellar/python/3.7.4_1/Frameworks/Python.framework/Versions/3.7/lib/python3.7/inspect.py\", line 742, in getmodule\n",
      "    os.path.realpath(f)] = module.__name__\n",
      "  File \"/usr/local/Cellar/python/3.7.4_1/Frameworks/Python.framework/Versions/3.7/lib/python3.7/posixpath.py\", line 395, in realpath\n",
      "    path, ok = _joinrealpath(filename[:0], filename, {})\n",
      "  File \"/usr/local/Cellar/python/3.7.4_1/Frameworks/Python.framework/Versions/3.7/lib/python3.7/posixpath.py\", line 429, in _joinrealpath\n",
      "    if not islink(newpath):\n",
      "  File \"/usr/local/Cellar/python/3.7.4_1/Frameworks/Python.framework/Versions/3.7/lib/python3.7/posixpath.py\", line 171, in islink\n",
      "    st = os.lstat(path)\n",
      "KeyboardInterrupt\n"
     ]
    },
    {
     "ename": "KeyboardInterrupt",
     "evalue": "",
     "output_type": "error",
     "traceback": [
      "\u001b[0;31m---------------------------------------------------------------------------\u001b[0m"
     ]
    }
   ],
   "source": [
    "titles = {}\n",
    "bad_files = []\n",
    "for file in tqdm(listdir, total=len(listdir)):\n",
    "    try:\n",
    "        docid = file.split(\"_\")[1].split(\".\")[0]\n",
    "        with open(os.path.join(PATH, \"parsed_content\", file), \"rb\") as f:\n",
    "            titles[docid] = pickle.load(f)[1]\n",
    "    except:\n",
    "        bad_files.append(file)"
   ]
  },
  {
   "cell_type": "code",
   "execution_count": null,
   "metadata": {},
   "outputs": [],
   "source": [
    "bad_files"
   ]
  },
  {
   "cell_type": "code",
   "execution_count": null,
   "metadata": {},
   "outputs": [],
   "source": [
    "len(titles)"
   ]
  },
  {
   "cell_type": "code",
   "execution_count": 16,
   "metadata": {},
   "outputs": [
    {
     "data": {
      "application/vnd.jupyter.widget-view+json": {
       "model_id": "25e4b1410e2747f59d4448a53fd29eee",
       "version_major": 2,
       "version_minor": 0
      },
      "text/plain": [
       "HBox(children=(HTML(value=''), FloatProgress(value=1.0, bar_style='info', layout=Layout(width='20px'), max=1.0…"
      ]
     },
     "metadata": {},
     "output_type": "display_data"
    },
    {
     "name": "stdout",
     "output_type": "stream",
     "text": [
      "\n"
     ]
    }
   ],
   "source": [
    "bad_parsed = {}\n",
    "for file in tqdm(bad_files, total=len(bad_files)):\n",
    "    docid = file.split(\"_\")[1].split(\".\")[0]\n",
    "    with open(os.path.join(PATH, \"parsed_content\", file), \"rb\") as f:\n",
    "        bad_parsed[docid] = pickle.load(f)[1]"
   ]
  },
  {
   "cell_type": "code",
   "execution_count": 17,
   "metadata": {},
   "outputs": [
    {
     "data": {
      "text/plain": [
       "{}"
      ]
     },
     "execution_count": 17,
     "metadata": {},
     "output_type": "execute_result"
    }
   ],
   "source": [
    "bad_parsed"
   ]
  },
  {
   "cell_type": "code",
   "execution_count": 18,
   "metadata": {},
   "outputs": [],
   "source": [
    "for key, value in bad_parsed.items():\n",
    "    titles[key] = value"
   ]
  },
  {
   "cell_type": "code",
   "execution_count": 37,
   "metadata": {},
   "outputs": [
    {
     "data": {
      "text/plain": [
       "38114"
      ]
     },
     "execution_count": 37,
     "metadata": {},
     "output_type": "execute_result"
    }
   ],
   "source": [
    "len(titles)"
   ]
  },
  {
   "cell_type": "markdown",
   "metadata": {},
   "source": [
    "Читаем запросы, sample и создаем словарь запрос-документы."
   ]
  },
  {
   "cell_type": "code",
   "execution_count": 38,
   "metadata": {},
   "outputs": [],
   "source": [
    "with open(PATH + \"queries.numerate.txt\", \"r\") as f:\n",
    "    queries = f.read().split(\"\\n\")"
   ]
  },
  {
   "cell_type": "code",
   "execution_count": 6,
   "metadata": {},
   "outputs": [],
   "source": [
    "with open(PATH + \"sample.technosphere.ir1.textrelevance.submission.txt\", \"r\") as f:\n",
    "    sample = f.read().split(\"\\n\")"
   ]
  },
  {
   "cell_type": "code",
   "execution_count": 7,
   "metadata": {},
   "outputs": [],
   "source": [
    "query_docid = defaultdict(list)\n",
    "for item in sample[1:]:\n",
    "    if item:\n",
    "        qid = item.split(\",\")[0]\n",
    "        docid = item.split(\",\")[1]\n",
    "        query_docid[qid].append(docid)"
   ]
  },
  {
   "cell_type": "code",
   "execution_count": 41,
   "metadata": {},
   "outputs": [],
   "source": [
    "queries_to_map = []\n",
    "\n",
    "for query in queries[:-1]:\n",
    "    queries_to_map.append(query.split(\"\\t\")[1])"
   ]
  },
  {
   "cell_type": "markdown",
   "metadata": {},
   "source": [
    "Прогоняем запросы через спеллчекер, считаем для них эмбеддинги и сохраняем в файл."
   ]
  },
  {
   "cell_type": "code",
   "execution_count": 42,
   "metadata": {},
   "outputs": [],
   "source": [
    "def spellcheck(text):\n",
    "    payload = {\"text\": text}\n",
    "    response = requests.get(\"https://speller.yandex.net/services/spellservice.json/checkText\",\n",
    "                            params=payload).json()\n",
    "    \n",
    "    fixed_text = text\n",
    "    for item in response:\n",
    "        fixed_text = fixed_text.replace(item[\"word\"], item[\"s\"][0])\n",
    "    return fixed_text"
   ]
  },
  {
   "cell_type": "code",
   "execution_count": 25,
   "metadata": {},
   "outputs": [
    {
     "data": {
      "application/vnd.jupyter.widget-view+json": {
       "model_id": "d55d4d658e9c4ff598184878637cd91f",
       "version_major": 2,
       "version_minor": 0
      },
      "text/plain": [
       "HBox(children=(HTML(value=''), FloatProgress(value=0.0, max=399.0), HTML(value='')))"
      ]
     },
     "metadata": {},
     "output_type": "display_data"
    },
    {
     "name": "stdout",
     "output_type": "stream",
     "text": [
      "\n"
     ]
    }
   ],
   "source": [
    "fix_queries_to_map = [spellcheck(query) for query in tqdm(queries_to_map, total=len(queries_to_map))]"
   ]
  },
  {
   "cell_type": "code",
   "execution_count": 32,
   "metadata": {},
   "outputs": [],
   "source": [
    "queries_embeddings = embed(fix_queries_to_map)"
   ]
  },
  {
   "cell_type": "code",
   "execution_count": 33,
   "metadata": {},
   "outputs": [],
   "source": [
    "import os"
   ]
  },
  {
   "cell_type": "code",
   "execution_count": 34,
   "metadata": {},
   "outputs": [],
   "source": [
    "with open(os.path.join(PATH, \"queries_embeddings\"), \"wb\") as f:\n",
    "    pickle.dump(queries_embeddings, f)"
   ]
  },
  {
   "cell_type": "markdown",
   "metadata": {},
   "source": [
    "Создаем список все заголовков, затем итерируемся по запросам. Для каждого запроса по списку docid получаем эмбединги заголовков соответствующих документов и сохраняем в файл под номером запроса. Используем ограничение в 500 символов, так как встречаются аномально длинные заголовки, на которых модель падает."
   ]
  },
  {
   "cell_type": "code",
   "execution_count": 49,
   "metadata": {},
   "outputs": [],
   "source": [
    "titles_list = []\n",
    "for i in range(1, len(titles) + 1):\n",
    "    titles_list.append(titles[str(i)])"
   ]
  },
  {
   "cell_type": "code",
   "execution_count": 50,
   "metadata": {},
   "outputs": [
    {
     "data": {
      "text/plain": [
       "38114"
      ]
     },
     "execution_count": 50,
     "metadata": {},
     "output_type": "execute_result"
    }
   ],
   "source": [
    "len(titles_list)"
   ]
  },
  {
   "cell_type": "code",
   "execution_count": 15,
   "metadata": {},
   "outputs": [],
   "source": [
    "!mkdir /Users/michelle/data/nn_text-relevance-competition-ir-1-ts-fall-2020/title_embeddings"
   ]
  },
  {
   "cell_type": "code",
   "execution_count": 51,
   "metadata": {},
   "outputs": [],
   "source": [
    "with open(os.path.join(PATH, \"titles.pkl\"), \"wb\") as f:\n",
    "    pickle.dump(titles, f)"
   ]
  },
  {
   "cell_type": "code",
   "execution_count": 8,
   "metadata": {},
   "outputs": [],
   "source": [
    "with open(os.path.join(PATH, \"titles.pkl\"), \"rb\") as f:\n",
    "    titles = pickle.load(f)"
   ]
  },
  {
   "cell_type": "code",
   "execution_count": 16,
   "metadata": {},
   "outputs": [
    {
     "data": {
      "application/vnd.jupyter.widget-view+json": {
       "model_id": "4d6cc1280e0f4bcab2a47b8f519dc83e",
       "version_major": 2,
       "version_minor": 0
      },
      "text/plain": [
       "HBox(children=(HTML(value=''), FloatProgress(value=0.0, max=399.0), HTML(value='')))"
      ]
     },
     "metadata": {},
     "output_type": "display_data"
    },
    {
     "name": "stdout",
     "output_type": "stream",
     "text": [
      "\n"
     ]
    }
   ],
   "source": [
    "bad_queries = []\n",
    "for query, docids in tqdm(query_docid.items(), total=len(query_docid)):\n",
    "    try:\n",
    "        titles_tmp = [titles[docid][:500] for docid in docids]\n",
    "        titles_emb_tmp = embed(titles_tmp)\n",
    "        with open(os.path.join(PATH, \"title_embeddings\", f\"{query}.pkl\"), \"wb\") as f:\n",
    "            pickle.dump(titles_emb_tmp, f)\n",
    "    except:\n",
    "        print(query)\n",
    "        bad_queries.append(query)"
   ]
  },
  {
   "cell_type": "code",
   "execution_count": 17,
   "metadata": {},
   "outputs": [],
   "source": [
    "listdir = os.listdir(os.path.join(PATH, \"title_embeddings\"))"
   ]
  },
  {
   "cell_type": "code",
   "execution_count": 18,
   "metadata": {},
   "outputs": [
    {
     "data": {
      "text/plain": [
       "399"
      ]
     },
     "execution_count": 18,
     "metadata": {},
     "output_type": "execute_result"
    }
   ],
   "source": [
    "len(listdir)"
   ]
  },
  {
   "cell_type": "code",
   "execution_count": 20,
   "metadata": {},
   "outputs": [],
   "source": [
    "with open(os.path.join(PATH, \"queries_embeddings\"), \"rb\") as f:\n",
    "    queries_embeddings = pickle.load(f)"
   ]
  },
  {
   "cell_type": "markdown",
   "metadata": {},
   "source": [
    "Снова итерируемся по запросам. Для каждого запроса читаем из файла эмбединги заголовков его документов. Затем считаем косинус между эмбедингом запроса и заголовка для каждого документа. По полученным значениям ранжируем список документов."
   ]
  },
  {
   "cell_type": "code",
   "execution_count": 61,
   "metadata": {},
   "outputs": [
    {
     "data": {
      "application/vnd.jupyter.widget-view+json": {
       "model_id": "672aa022892344a6958ec72fe0981e49",
       "version_major": 2,
       "version_minor": 0
      },
      "text/plain": [
       "HBox(children=(HTML(value=''), FloatProgress(value=0.0, max=399.0), HTML(value='')))"
      ]
     },
     "metadata": {},
     "output_type": "display_data"
    },
    {
     "name": "stdout",
     "output_type": "stream",
     "text": [
      "\n"
     ]
    }
   ],
   "source": [
    "ranged_query_docid = {}\n",
    "for query, docids in tqdm(query_docid.items(), total=len(query_docid)):\n",
    "    with open(os.path.join(PATH, f\"title_embeddings/{query}.pkl\"), \"rb\") as f:\n",
    "        data = pickle.load(f)\n",
    "    ranged_query_docid[query] = np.array(docids)[np.argsort(metrics.pairwise.cosine_distances(tf.reshape(queries_embeddings[int(query) - 1], (1, -1)), data)[0])]"
   ]
  },
  {
   "cell_type": "code",
   "execution_count": 63,
   "metadata": {},
   "outputs": [],
   "source": [
    "for query in ranged_query_docid:\n",
    "    ranged_query_docid[query] = list(ranged_query_docid[query])"
   ]
  },
  {
   "cell_type": "code",
   "execution_count": 65,
   "metadata": {},
   "outputs": [],
   "source": [
    "submit = ['QueryId,DocumentId']\n",
    "for i in range(1, len(ranged_query_docid) + 1):\n",
    "    docids = ranged_query_docid[str(i)]\n",
    "    for docid in docids:\n",
    "        submit.append(f\"{i},{docid}\")\n",
    "        \n",
    "with open(PATH + \"submit_09_2.txt\", \"w\") as f:\n",
    "    f.write(\"\\n\".join(submit))"
   ]
  }
 ],
 "metadata": {
  "kernelspec": {
   "display_name": "Python 3",
   "language": "python",
   "name": "python3"
  },
  "language_info": {
   "codemirror_mode": {
    "name": "ipython",
    "version": 3
   },
   "file_extension": ".py",
   "mimetype": "text/x-python",
   "name": "python",
   "nbconvert_exporter": "python",
   "pygments_lexer": "ipython3",
   "version": "3.7.4"
  }
 },
 "nbformat": 4,
 "nbformat_minor": 4
}
