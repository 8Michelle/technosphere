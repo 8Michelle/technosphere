{
 "cells": [
  {
   "cell_type": "code",
   "execution_count": 1,
   "metadata": {},
   "outputs": [],
   "source": [
    "import os\n",
    "from tqdm.notebook import tqdm\n",
    "import pickle\n",
    "from bs4 import BeautifulSoup\n",
    "import re\n",
    "\n",
    "PATH = \"/Users/michelle/data/nn_text-relevance-competition-ir-1-ts-fall-2020/\""
   ]
  },
  {
   "cell_type": "markdown",
   "metadata": {},
   "source": [
    "Добавлять точку в конце текстовых тегов, если ее нет"
   ]
  },
  {
   "cell_type": "code",
   "execution_count": 2,
   "metadata": {},
   "outputs": [],
   "source": [
    "with open(PATH + \"urls.numerate.txt\", \"r\") as f:\n",
    "    urls = f.read().split(\"\\n\")\n",
    "    \n",
    "urls_docids = {item.split(\"\\t\")[1]: int(item.split(\"\\t\")[0]) for item in urls if len(item)}"
   ]
  },
  {
   "cell_type": "code",
   "execution_count": 3,
   "metadata": {},
   "outputs": [
    {
     "data": {
      "application/vnd.jupyter.widget-view+json": {
       "model_id": "0737d3576521478b919f4182fd494b65",
       "version_major": 2,
       "version_minor": 0
      },
      "text/plain": [
       "HBox(children=(HTML(value=''), FloatProgress(value=0.0, max=4878.0), HTML(value='')))"
      ]
     },
     "metadata": {},
     "output_type": "display_data"
    },
    {
     "name": "stdout",
     "output_type": "stream",
     "text": [
      "\n"
     ]
    },
    {
     "data": {
      "application/vnd.jupyter.widget-view+json": {
       "model_id": "fbe25119502f4171bd76dfc956a8872f",
       "version_major": 2,
       "version_minor": 0
      },
      "text/plain": [
       "HBox(children=(HTML(value=''), FloatProgress(value=0.0, max=4804.0), HTML(value='')))"
      ]
     },
     "metadata": {},
     "output_type": "display_data"
    },
    {
     "name": "stdout",
     "output_type": "stream",
     "text": [
      "\n"
     ]
    },
    {
     "data": {
      "application/vnd.jupyter.widget-view+json": {
       "model_id": "36ee13a34891459a81d6eb0c1efb077f",
       "version_major": 2,
       "version_minor": 0
      },
      "text/plain": [
       "HBox(children=(HTML(value=''), FloatProgress(value=0.0, max=4955.0), HTML(value='')))"
      ]
     },
     "metadata": {},
     "output_type": "display_data"
    },
    {
     "name": "stdout",
     "output_type": "stream",
     "text": [
      "\n"
     ]
    },
    {
     "data": {
      "application/vnd.jupyter.widget-view+json": {
       "model_id": "e0ca5c406ae64e8fa009ffd7d86d4f12",
       "version_major": 2,
       "version_minor": 0
      },
      "text/plain": [
       "HBox(children=(HTML(value=''), FloatProgress(value=0.0, max=5050.0), HTML(value='')))"
      ]
     },
     "metadata": {},
     "output_type": "display_data"
    },
    {
     "name": "stdout",
     "output_type": "stream",
     "text": [
      "\n"
     ]
    },
    {
     "data": {
      "application/vnd.jupyter.widget-view+json": {
       "model_id": "c9a8c540e91643f6bd65eacc76d119c5",
       "version_major": 2,
       "version_minor": 0
      },
      "text/plain": [
       "HBox(children=(HTML(value=''), FloatProgress(value=0.0, max=4617.0), HTML(value='')))"
      ]
     },
     "metadata": {},
     "output_type": "display_data"
    },
    {
     "name": "stdout",
     "output_type": "stream",
     "text": [
      "\n"
     ]
    },
    {
     "data": {
      "application/vnd.jupyter.widget-view+json": {
       "model_id": "e21b2b765cda4731b4c85316219bbdec",
       "version_major": 2,
       "version_minor": 0
      },
      "text/plain": [
       "HBox(children=(HTML(value=''), FloatProgress(value=0.0, max=4533.0), HTML(value='')))"
      ]
     },
     "metadata": {},
     "output_type": "display_data"
    },
    {
     "name": "stdout",
     "output_type": "stream",
     "text": [
      "\n"
     ]
    },
    {
     "data": {
      "application/vnd.jupyter.widget-view+json": {
       "model_id": "91707d5c9acc4f5a8879903023ca85e5",
       "version_major": 2,
       "version_minor": 0
      },
      "text/plain": [
       "HBox(children=(HTML(value=''), FloatProgress(value=0.0, max=4610.0), HTML(value='')))"
      ]
     },
     "metadata": {},
     "output_type": "display_data"
    },
    {
     "name": "stdout",
     "output_type": "stream",
     "text": [
      "\n"
     ]
    },
    {
     "data": {
      "application/vnd.jupyter.widget-view+json": {
       "model_id": "755adb0e7258482cb9d603dab9a82cb8",
       "version_major": 2,
       "version_minor": 0
      },
      "text/plain": [
       "HBox(children=(HTML(value=''), FloatProgress(value=0.0, max=4667.0), HTML(value='')))"
      ]
     },
     "metadata": {},
     "output_type": "display_data"
    },
    {
     "name": "stdout",
     "output_type": "stream",
     "text": [
      "\n",
      "595\n"
     ]
    }
   ],
   "source": [
    "error_counter = 0\n",
    "error_list = []\n",
    "for folder in os.listdir(os.path.join(PATH, \"content/content\")):\n",
    "    if folder.startswith(\"20\"):\n",
    "        filelist = os.listdir(os.path.join(PATH, \"content/content\", folder))\n",
    "        for filename in tqdm(filelist, total=len(filelist)):\n",
    "            with open(os.path.join(PATH, \"content/content\", folder, filename), \"r\") as f:\n",
    "                try:\n",
    "                    doc = f.read()\n",
    "                except Exception as e:\n",
    "                    error_counter += 1\n",
    "                    error_list.append(os.path.join(folder, filename))\n",
    "                    continue\n",
    "            url = doc.split(\"\\n\")[0]\n",
    "            docid = urls_docids[url]\n",
    "            with open(os.path.join(PATH, \"content\", f\"{docid}.pkl\"), \"wb\") as f:\n",
    "                pickle.dump(doc, f)\n",
    "            os.remove(os.path.join(PATH, \"content/content\", folder, filename))\n",
    "            \n",
    "print(error_counter)"
   ]
  },
  {
   "cell_type": "code",
   "execution_count": 5,
   "metadata": {},
   "outputs": [],
   "source": [
    "for filename in error_list:\n",
    "    with open(os.path.join(PATH, \"content/content\", filename), \"rb\") as f:\n",
    "        doc = f.read().decode(errors='ignore')\n",
    "    url = doc.split(\"\\n\")[0]\n",
    "    docid = urls_docids[url]\n",
    "    with open(os.path.join(PATH, \"content\", f\"{docid}.pkl\"), \"wb\") as f:\n",
    "        pickle.dump(doc, f)"
   ]
  },
  {
   "cell_type": "code",
   "execution_count": 7,
   "metadata": {},
   "outputs": [
    {
     "name": "stdout",
     "output_type": "stream",
     "text": [
      "38114\n"
     ]
    }
   ],
   "source": [
    "pkl_counter = 0\n",
    "for filename in os.listdir(os.path.join(PATH, \"content\")):\n",
    "    pkl_counter += int(filename.endswith(\".pkl\"))\n",
    "print(pkl_counter)"
   ]
  },
  {
   "cell_type": "code",
   "execution_count": null,
   "metadata": {},
   "outputs": [],
   "source": []
  }
 ],
 "metadata": {
  "kernelspec": {
   "display_name": "Python 3",
   "language": "python",
   "name": "python3"
  },
  "language_info": {
   "codemirror_mode": {
    "name": "ipython",
    "version": 3
   },
   "file_extension": ".py",
   "mimetype": "text/x-python",
   "name": "python",
   "nbconvert_exporter": "python",
   "pygments_lexer": "ipython3",
   "version": "3.7.4"
  }
 },
 "nbformat": 4,
 "nbformat_minor": 4
}
