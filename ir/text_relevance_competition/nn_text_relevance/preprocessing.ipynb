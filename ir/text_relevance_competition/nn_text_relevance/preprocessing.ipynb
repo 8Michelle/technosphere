{
 "cells": [
  {
   "cell_type": "code",
   "execution_count": 1,
   "metadata": {},
   "outputs": [],
   "source": [
    "import os\n",
    "from tqdm.notebook import tqdm\n",
    "import pickle\n",
    "from bs4 import BeautifulSoup\n",
    "import re\n",
    "\n",
    "PATH = \"/Users/michelle/data/nn_text-relevance-competition-ir-1-ts-fall-2020/\""
   ]
  },
  {
   "cell_type": "markdown",
   "metadata": {},
   "source": [
    "Добавлять точку в конце текстовых тегов, если ее нет"
   ]
  },
  {
   "cell_type": "code",
   "execution_count": 2,
   "metadata": {},
   "outputs": [],
   "source": [
    "with open(PATH + \"urls.numerate.txt\", \"r\") as f:\n",
    "    urls = f.read().split(\"\\n\")\n",
    "    \n",
    "urls_docids = {item.split(\"\\t\")[1]: int(item.split(\"\\t\")[0]) for item in urls if len(item)}"
   ]
  },
  {
   "cell_type": "code",
   "execution_count": 3,
   "metadata": {},
   "outputs": [
    {
     "data": {
      "application/vnd.jupyter.widget-view+json": {
       "model_id": "0737d3576521478b919f4182fd494b65",
       "version_major": 2,
       "version_minor": 0
      },
      "text/plain": [
       "HBox(children=(HTML(value=''), FloatProgress(value=0.0, max=4878.0), HTML(value='')))"
      ]
     },
     "metadata": {},
     "output_type": "display_data"
    },
    {
     "name": "stdout",
     "output_type": "stream",
     "text": [
      "\n"
     ]
    },
    {
     "data": {
      "application/vnd.jupyter.widget-view+json": {
       "model_id": "fbe25119502f4171bd76dfc956a8872f",
       "version_major": 2,
       "version_minor": 0
      },
      "text/plain": [
       "HBox(children=(HTML(value=''), FloatProgress(value=0.0, max=4804.0), HTML(value='')))"
      ]
     },
     "metadata": {},
     "output_type": "display_data"
    },
    {
     "name": "stdout",
     "output_type": "stream",
     "text": [
      "\n"
     ]
    },
    {
     "data": {
      "application/vnd.jupyter.widget-view+json": {
       "model_id": "36ee13a34891459a81d6eb0c1efb077f",
       "version_major": 2,
       "version_minor": 0
      },
      "text/plain": [
       "HBox(children=(HTML(value=''), FloatProgress(value=0.0, max=4955.0), HTML(value='')))"
      ]
     },
     "metadata": {},
     "output_type": "display_data"
    },
    {
     "name": "stdout",
     "output_type": "stream",
     "text": [
      "\n"
     ]
    },
    {
     "data": {
      "application/vnd.jupyter.widget-view+json": {
       "model_id": "e0ca5c406ae64e8fa009ffd7d86d4f12",
       "version_major": 2,
       "version_minor": 0
      },
      "text/plain": [
       "HBox(children=(HTML(value=''), FloatProgress(value=0.0, max=5050.0), HTML(value='')))"
      ]
     },
     "metadata": {},
     "output_type": "display_data"
    },
    {
     "name": "stdout",
     "output_type": "stream",
     "text": [
      "\n"
     ]
    },
    {
     "data": {
      "application/vnd.jupyter.widget-view+json": {
       "model_id": "c9a8c540e91643f6bd65eacc76d119c5",
       "version_major": 2,
       "version_minor": 0
      },
      "text/plain": [
       "HBox(children=(HTML(value=''), FloatProgress(value=0.0, max=4617.0), HTML(value='')))"
      ]
     },
     "metadata": {},
     "output_type": "display_data"
    },
    {
     "name": "stdout",
     "output_type": "stream",
     "text": [
      "\n"
     ]
    },
    {
     "data": {
      "application/vnd.jupyter.widget-view+json": {
       "model_id": "e21b2b765cda4731b4c85316219bbdec",
       "version_major": 2,
       "version_minor": 0
      },
      "text/plain": [
       "HBox(children=(HTML(value=''), FloatProgress(value=0.0, max=4533.0), HTML(value='')))"
      ]
     },
     "metadata": {},
     "output_type": "display_data"
    },
    {
     "name": "stdout",
     "output_type": "stream",
     "text": [
      "\n"
     ]
    },
    {
     "data": {
      "application/vnd.jupyter.widget-view+json": {
       "model_id": "91707d5c9acc4f5a8879903023ca85e5",
       "version_major": 2,
       "version_minor": 0
      },
      "text/plain": [
       "HBox(children=(HTML(value=''), FloatProgress(value=0.0, max=4610.0), HTML(value='')))"
      ]
     },
     "metadata": {},
     "output_type": "display_data"
    },
    {
     "name": "stdout",
     "output_type": "stream",
     "text": [
      "\n"
     ]
    },
    {
     "data": {
      "application/vnd.jupyter.widget-view+json": {
       "model_id": "755adb0e7258482cb9d603dab9a82cb8",
       "version_major": 2,
       "version_minor": 0
      },
      "text/plain": [
       "HBox(children=(HTML(value=''), FloatProgress(value=0.0, max=4667.0), HTML(value='')))"
      ]
     },
     "metadata": {},
     "output_type": "display_data"
    },
    {
     "name": "stdout",
     "output_type": "stream",
     "text": [
      "\n",
      "595\n"
     ]
    }
   ],
   "source": [
    "error_counter = 0\n",
    "error_list = []\n",
    "for folder in os.listdir(os.path.join(PATH, \"content/content\")):\n",
    "    if folder.startswith(\"20\"):\n",
    "        filelist = os.listdir(os.path.join(PATH, \"content/content\", folder))\n",
    "        for filename in tqdm(filelist, total=len(filelist)):\n",
    "            with open(os.path.join(PATH, \"content/content\", folder, filename), \"r\") as f:\n",
    "                try:\n",
    "                    doc = f.read()\n",
    "                except Exception as e:\n",
    "                    error_counter += 1\n",
    "                    error_list.append(os.path.join(folder, filename))\n",
    "                    continue\n",
    "            url = doc.split(\"\\n\")[0]\n",
    "            docid = urls_docids[url]\n",
    "            with open(os.path.join(PATH, \"content\", f\"{docid}.pkl\"), \"wb\") as f:\n",
    "                pickle.dump(doc, f)\n",
    "            os.remove(os.path.join(PATH, \"content/content\", folder, filename))\n",
    "            \n",
    "print(error_counter)"
   ]
  },
  {
   "cell_type": "code",
   "execution_count": 5,
   "metadata": {},
   "outputs": [],
   "source": [
    "for filename in error_list:\n",
    "    with open(os.path.join(PATH, \"content/content\", filename), \"rb\") as f:\n",
    "        doc = f.read().decode(errors='ignore')\n",
    "    url = doc.split(\"\\n\")[0]\n",
    "    docid = urls_docids[url]\n",
    "    with open(os.path.join(PATH, \"content\", f\"{docid}.pkl\"), \"wb\") as f:\n",
    "        pickle.dump(doc, f)"
   ]
  },
  {
   "cell_type": "code",
   "execution_count": 7,
   "metadata": {},
   "outputs": [
    {
     "name": "stdout",
     "output_type": "stream",
     "text": [
      "38114\n"
     ]
    }
   ],
   "source": [
    "pkl_counter = 0\n",
    "for filename in os.listdir(os.path.join(PATH, \"content\")):\n",
    "    pkl_counter += int(filename.endswith(\".pkl\"))\n",
    "print(pkl_counter)"
   ]
  },
  {
   "cell_type": "code",
   "execution_count": 9,
   "metadata": {},
   "outputs": [],
   "source": [
    "with open(os.path.join(PATH, \"parsed_content\", \"parsed_1.pkl\"), \"rb\") as f:\n",
    "    data = pickle.load(f)"
   ]
  },
  {
   "cell_type": "code",
   "execution_count": 14,
   "metadata": {},
   "outputs": [
    {
     "data": {
      "text/plain": [
       "['', '', '', 'Хорватия\\n                    \\n(32383 просмотров)\\n', '', '']"
      ]
     },
     "execution_count": 14,
     "metadata": {},
     "output_type": "execute_result"
    }
   ],
   "source": [
    "data[3]"
   ]
  },
  {
   "cell_type": "code",
   "execution_count": 57,
   "metadata": {},
   "outputs": [
    {
     "name": "stdout",
     "output_type": "stream",
     "text": [
      "Хорватия\n",
      "Три недели в Европе. Начало\n",
      "Как правильно сделать визу в Польшу (шенген) / Q&A / БайкПост\n",
      "Новости\n",
      "Аллергия на «Магические Грибы» (fb2) | КулЛиб - Классная библиотека! Скачать книги бесплатно\n",
      "Рассказы (публикации 2009-2010 годов) (fb2) | КулЛиб - Классная библиотека! Скачать книги бесплатно\n",
      "<Израиль><визы>,<Работа за границей,<Работа за рубежом> - О визах\n",
      "Новости и сообщения из официальной группы Вконтакте туристического агентства Дюна39 - Туризм - Калининград\n",
      "Материнство > FAQ по Чехии\n",
      "Отмеченные Фортуной. Книга вторая. Тайна рождения параллельных миров.\n",
      "Запись в посольство. Visapoint | Страница 111 | Форум о Чехии\n",
      "Лучшие университеты и колледжи в Нидерландах 2017\n",
      "Сертификат На Покупку Билета В Театр\n",
      "Япония\n",
      " Правительство одобрило закон, который позволит иностранцам покупать недвижимость [Архив]  - Форум Чехии. Работа в Чехии.  Иммиграция в Чехию\n",
      "\n",
      "\tСложности при покупке недвижимости на территории Испании\n",
      "\n",
      "Куда поехать? Безвизовые страны - 2017 для россиян » Новости. Саров24\n",
      "Приглашения для иностранцев в Россию от 15 дней до 3-х лет. Визовый центр \"Инфовиза\" +7(495) 5850810 - Инфовиза\n",
      "  Николп\n",
      " - YouTube\n",
      "Blog Archives - dfwbackup\n",
      " Внешняя политика России [Архив]  - Подосиновский  районный   форум.\n",
      "Вьетнам изменил правила въезда для россиян | Путешествия - моя жизнь!\n",
      "Печать страницы - Юмор на тему кризиса.\n",
      "Виза Шенгенская - Дом Солнца\n",
      "Бесплатные книги. Госвласть РФ. Телефонный справочник. Том 1\n",
      "Индия  | RussianTraveller\n",
      "Новости турцентра «Кайлаш» :: Новости центра «Кайлаш» :: Туры в Индию, Тибет, Непал, Бутан, Китай :: Турцентр Кайлаш. Версия для печати\n",
      "Какие страны можно посетить по шенгенской визе?\n",
      " Работа стоматологом в Чехии [Архив]  - Страница 6 - Форум Чехии. Работа в Чехии.  Иммиграция в Чехию\n",
      " Автотур Украина-Румыния-Болгария-Турция (Стамбул), Сезон 2009 - Форум Fluence-Club.ru|Форум Megane-3\n",
      "Москва, Эстония ( Таллинн, Вана-Вастселина ), Швеция ( Стокгольм ), Латвия ( Рига, Юрмала, Елгава, Пилсрундале ), Литва ( Шауляй ), Печеры, Москва: отчет о путешествии   \n",
      "Китайская любовь | ChinaPK: весь Китай\n",
      "Иммиграция в... - Флейм - \n",
      "Туры в Великобританию - Эксклюзивные туры по Великобритании - «Битлз» и рок-н-ролл в Лондоне и Ливерпуле 7 дней / 6 ночей\n",
      "трудоустройство в Польше, Чехии,  США | home-hotel.info\n",
      "Прохождение границы ФРГ в аэропорту-Консульские вопросы-Русский форум в Германии - \n",
      "Рассказ клиента об иммиграции в Италию с помощью иммиграционного офиса фирмы Патертон\n",
      "КаZантип 2014 - ЯПлакалъ\n",
      "Какие права имеет владелец недвижимости в чехии\n",
      "Рубиновый Капкан. Игры кукловодов\n",
      "Арамболь Гоа Индия | ВКонтакте\n",
      "Оплата гостиниц по пути маршрута в Европе (для визы) / Q&A / БайкПост\n",
      "Стоимость Билетов На Самолет Краснодар Минск\n",
      "Шенгенская виза: в какие страны поехать с мультивизой – 2016 Отзывы и форум на Ездили-Знаем – Bсе страны, Европа, Испания\n",
      "Материнство > Испания -частный отдых\n",
      " Визы в Болгарию, ВНЖ, ДМЖ, ПМЖ: новости, советы, помощь, содействие.. [Архив]  - Форум русских эмигрантов\n",
      "Греция! Нужны советы;) - Путешествия\n",
      "Бесплатные книги. Деловые США\n",
      "Ц.Америка на 01.06.10 (от 2999 €). Обсуждение на LiveInternet - Российский Сервис Онлайн-Дневников\n",
      "Nsmirnova's Blog | Этот блог гендиректора компании \"Персональный советник\" Натальи Смирновой о личных финансах, о том, как ими лучше управлять, и о самых последних событиях в сфере личных финансов | Страница 5\n",
      "Шенгенская мультивиза: как самостоятельно получить долгосрочный шенген и правила его использования\n",
      "Летом в Европу. - kia ceed клуб, форум\n",
      "Какая сумма нужна для посещения Израиля? Нужна ли виза в Израиль для россиян? Туры в Израиль\n",
      "Оформление визы в Италию 2015\n",
      "Welcome to Russia! - bloger51 — Блогер51\n",
      "\n",
      "                Саудовская Аравия кто-нибудь был? | Ева.Ру: Женский Интернет | Прочие страны\n",
      "            \n",
      "Страны, на территорию которых можно въехать с визами других государств без оформления национальной визы / Travel.Ru / Travel.ru / Формальности / Визы\n",
      "Отпуск с расчётом. 5 стран, у которых легко получить шенгенскую мультивизу | RegaFAQ\n",
      "Фотки с центра Киева\n",
      "Самостоятельное получение визы  | Советы туристу\n",
      "С шенгенской визой в Болгарию | Страница 12 | Форум о Болгарии\n",
      "Визы в Макао и Гонконг. Оформление китайской визы в Гонконге (архив)\n",
      "Новости\n",
      "Об отдыхе в Украине и мире - Статьи\n",
      "Портал \"Русская Испания\". Форум - Практикум по иммиграции. Новости\n",
      "Страны куда не нужна виза? \n",
      "Куда можно поехать без визы • Ментопутешествия • Наша служба...\n",
      "Помощь в оформлении визы, туристической визы, шенгена | 4 Сезона\n",
      "Транспорт\n",
      "Шенгенские визы. Как попасть в любую страну Шенгена и открыть визу с минимальным пакетом документов, страница 42 - Туризм и Отдых – ЛІГА:Форумы\n",
      "Паспортное дело – Деньги – Коммерсантъ\n",
      "Материнство > разрешение на выезд- на одну поездку..?\n",
      "Учебная виза в Болгарию и особенности ее оформления\n",
      "Виза в Израиль — оформление визы в Израиль самостоятельно: документы и стоимость\n",
      "Как получить шенгенскую визу | Дороги мира\n",
      "Поиск работы, собеседование | Миграция и жизнь в Германии\n",
      "Шенгенская туристическая виза в Латвию для Россиян самостоятельно: образец, документы, анкета, оформление, стоимость на форуме Риги и Латвии\n",
      "Есть шенген мультивиза через какую страну можно\n",
      "Шенген – в обмен на отпечатки пальцев | Пражский Телеграф | Пражский Телеграф\n",
      "МВЦ - г.Иваново\n",
      "Ошо - Мессия. Книга первая - Библиотека по йоге YogaLib.ru\n",
      "Виза в Ирландию, Ирландская виза| Оргвиза.\n",
      "Отдых с детьми самостоятельно.Правило первого въезда в Шенген и шенгенская мультивиза - Отдых с детьми самостоятельно\n",
      "Болгария\n",
      "Виза в Австрию | Виза\n",
      "Печать страницы - Книжная полка\n",
      "Polpred.com Обзор СМИ. Россия и зарубежье. Федеральные округа РФ. Внешняя экономика, право.\n",
      "Виза в Латвию для россиян в 2017 году: оформляем латвийский Шенген самостоятельно\n",
      "\n",
      "Москва — Лондон на авто! — Автокадабра\n",
      "\n",
      "Список безвизовых для россиян стран 2013 — СловоМаме\n",
      "Увеличиваем шансы на получение шенгенской визы » KIRATTY. Бюро языковой бизнес-помощи\n",
      " Английский клуб [Архив]  - Страница 62 - civ.club\n",
      "КАК попасть на Аляску :: Путешествия и туризм :: Другое :: progurukak.ru: как просто сделать всё\n",
      "Туристическая виза Шенген - Visa Express\n",
      "Виза нидерландy пункт гражданство - Форум.\n",
      "Виза L-1 и отказ в трудоустройстве\n",
      "\n",
      "Архив мероприятий | Служба медицинской профилактики Московской области | Страница 16\n",
      "Как пережить ,что из красавицы ты превращаешься в Бабу?\n",
      "Как вылечить натоптыши на ногах?\n",
      "Растяжение связок на руке » Скальпель - медицинский информационно-образовательный портал\n"
     ]
    }
   ],
   "source": [
    "for i in range(100):\n",
    "    with open(os.path.join(PATH, \"parsed_content\", f\"parsed_{i + 1}.pkl\"), \"rb\") as f:\n",
    "        data = pickle.load(f)\n",
    "    print(data[1])"
   ]
  },
  {
   "cell_type": "code",
   "execution_count": 60,
   "metadata": {},
   "outputs": [
    {
     "data": {
      "text/plain": [
       "'Растяжение связок на руке кальпель едицинский информационно-образовательный портал.'"
      ]
     },
     "execution_count": 60,
     "metadata": {},
     "output_type": "execute_result"
    }
   ],
   "source": [
    "re.sub(re.compile(\"\\W+.\"), \" \", data[1] + \".\")"
   ]
  },
  {
   "cell_type": "code",
   "execution_count": 27,
   "metadata": {},
   "outputs": [
    {
     "data": {
      "text/plain": [
       "'Растяжение связок на руке » Скальпель - медицинский информационно-образовательный портал'"
      ]
     },
     "execution_count": 27,
     "metadata": {},
     "output_type": "execute_result"
    }
   ],
   "source": [
    "data[1]"
   ]
  },
  {
   "cell_type": "code",
   "execution_count": 55,
   "metadata": {},
   "outputs": [
    {
     "name": "stdout",
     "output_type": "stream",
     "text": [
      "Греция! Нужны советы;) - Путешествия\n",
      "Как защитить сервер CSS от взлома? - 16 Марта 2013 - DREES TEAM PLAY WITH PRO;\n",
      "Задние ступицы N16 (2000г.в.) (Nissan Almera II (N16)) &mdash; Nissan Almera, клуб Нисан Альмера\n",
      "Олег Кусов: В Ливане вновь требуют отставки президента; Азербайджан во внешней политике Ирана; Обзор научно-популярных журналов; Есть ли что-то печальнее, чем Дом ребенка. | VIPERSON\n",
      "Методическое пособие для проведения лабораторно-практических занятий \"Основы физико – химического анализа\" » \"Просвещение\" - казахстанский педагогический интернет журнал; новости образования Казахстана\n",
      "ПРОДЭКОЛОГИЯ;pdf\n",
      "Строим дом. Мечты сбываются ;) http://svoydom.net.ua - Ответить\n",
      ";pptx\n",
      "Первое заседание экспертной платформы &laquo;Музея архитектора Святослава Агафонова&raquo; -культурное наследие 1 ноября 2012 года\n",
      "null;doc\n",
      "​Прокуратура Нижневартовска требует закрыть интернет-страницу &quot;Возрождение Гитлера&quot; (10.20.2014) - Новости\n",
      "Леонтьев А. О новом издании первого тома &laquo;Капитала&raquo;\n",
      "Бог - Страница 49 - Prosims: новости, обзоры, дополнения, файлы, коды, объекты, скины и скриншоты The Sims 3 и The Sims 2 — Симы форева ;)\n",
      "Скачать бесплатно песни новый марьям казиева &amp;gt; 2f97beeb9aa54f\n",
      "Где посмотреть Wi-Fi пароль? | Ответ здесь ;-)\n",
      "Семечки, цена куклы и как продать свой шедевр. Или нужен ли кукольнику маркетинг (и не кукольнику тоже ;-) ). Обсуждение на LiveInternet - Российский Сервис Онлайн-Дневников\n"
     ]
    },
    {
     "ename": "KeyboardInterrupt",
     "evalue": "",
     "output_type": "error",
     "traceback": [
      "\u001b[0;31m---------------------------------------------------------------------------\u001b[0m",
      "\u001b[0;31mKeyboardInterrupt\u001b[0m                         Traceback (most recent call last)",
      "\u001b[0;32m<ipython-input-55-8f767bc11d70>\u001b[0m in \u001b[0;36m<module>\u001b[0;34m\u001b[0m\n\u001b[1;32m      1\u001b[0m \u001b[0;32mfor\u001b[0m \u001b[0mi\u001b[0m \u001b[0;32min\u001b[0m \u001b[0mrange\u001b[0m\u001b[0;34m(\u001b[0m\u001b[0;36m38114\u001b[0m\u001b[0;34m)\u001b[0m\u001b[0;34m:\u001b[0m\u001b[0;34m\u001b[0m\u001b[0;34m\u001b[0m\u001b[0m\n\u001b[1;32m      2\u001b[0m     \u001b[0;32mwith\u001b[0m \u001b[0mopen\u001b[0m\u001b[0;34m(\u001b[0m\u001b[0mos\u001b[0m\u001b[0;34m.\u001b[0m\u001b[0mpath\u001b[0m\u001b[0;34m.\u001b[0m\u001b[0mjoin\u001b[0m\u001b[0;34m(\u001b[0m\u001b[0mPATH\u001b[0m\u001b[0;34m,\u001b[0m \u001b[0;34m\"parsed_content\"\u001b[0m\u001b[0;34m,\u001b[0m \u001b[0;34mf\"parsed_{i + 1}.pkl\"\u001b[0m\u001b[0;34m)\u001b[0m\u001b[0;34m,\u001b[0m \u001b[0;34m\"rb\"\u001b[0m\u001b[0;34m)\u001b[0m \u001b[0;32mas\u001b[0m \u001b[0mf\u001b[0m\u001b[0;34m:\u001b[0m\u001b[0;34m\u001b[0m\u001b[0;34m\u001b[0m\u001b[0m\n\u001b[0;32m----> 3\u001b[0;31m         \u001b[0mdata\u001b[0m \u001b[0;34m=\u001b[0m \u001b[0mpickle\u001b[0m\u001b[0;34m.\u001b[0m\u001b[0mload\u001b[0m\u001b[0;34m(\u001b[0m\u001b[0mf\u001b[0m\u001b[0;34m)\u001b[0m\u001b[0;34m\u001b[0m\u001b[0;34m\u001b[0m\u001b[0m\n\u001b[0m\u001b[1;32m      4\u001b[0m     \u001b[0;32mif\u001b[0m \u001b[0;34m\";\"\u001b[0m \u001b[0;32min\u001b[0m \u001b[0mdata\u001b[0m\u001b[0;34m[\u001b[0m\u001b[0;36m1\u001b[0m\u001b[0;34m]\u001b[0m\u001b[0;34m:\u001b[0m\u001b[0;34m\u001b[0m\u001b[0;34m\u001b[0m\u001b[0m\n\u001b[1;32m      5\u001b[0m         \u001b[0mprint\u001b[0m\u001b[0;34m(\u001b[0m\u001b[0mdata\u001b[0m\u001b[0;34m[\u001b[0m\u001b[0;36m1\u001b[0m\u001b[0;34m]\u001b[0m\u001b[0;34m)\u001b[0m\u001b[0;34m\u001b[0m\u001b[0;34m\u001b[0m\u001b[0m\n",
      "\u001b[0;31mKeyboardInterrupt\u001b[0m: "
     ]
    }
   ],
   "source": [
    "for i in range(38114):\n",
    "    with open(os.path.join(PATH, \"parsed_content\", f\"parsed_{i + 1}.pkl\"), \"rb\") as f:\n",
    "        data = pickle.load(f)\n",
    "    if \";\" in data[1]:\n",
    "        print(data[1])"
   ]
  },
  {
   "cell_type": "code",
   "execution_count": null,
   "metadata": {},
   "outputs": [],
   "source": []
  }
 ],
 "metadata": {
  "kernelspec": {
   "display_name": "Python 3",
   "language": "python",
   "name": "python3"
  },
  "language_info": {
   "codemirror_mode": {
    "name": "ipython",
    "version": 3
   },
   "file_extension": ".py",
   "mimetype": "text/x-python",
   "name": "python",
   "nbconvert_exporter": "python",
   "pygments_lexer": "ipython3",
   "version": "3.7.4"
  }
 },
 "nbformat": 4,
 "nbformat_minor": 4
}
