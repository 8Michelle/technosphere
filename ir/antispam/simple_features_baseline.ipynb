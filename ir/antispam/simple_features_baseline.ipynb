{
 "cells": [
  {
   "cell_type": "code",
   "execution_count": 49,
   "metadata": {},
   "outputs": [],
   "source": [
    "import pkg_resources\n",
    "pkg_resources.require(\"matplotlib==3.1.2\")\n",
    "\n",
    "import pandas as pd\n",
    "import re\n",
    "import base64\n",
    "from bs4 import BeautifulSoup\n",
    "from tqdm.notebook import tqdm\n",
    "from sklearn.linear_model import LogisticRegression\n",
    "from sklearn.metrics import f1_score\n",
    "import matplotlib.pyplot as plt\n",
    "import numpy as np\n",
    "import lzma\n",
    "from sklearn.model_selection import KFold"
   ]
  },
  {
   "cell_type": "markdown",
   "metadata": {},
   "source": [
    "# Идеи\n",
    "\n",
    "- попробовать бейзлайн с семинара (ml на 5 признаках) +\n",
    "- сделать граф ссылок -\n",
    "- распределение усредненного idf ключевых слов\n",
    "- распределение отношения веса ключевых слов к общему количеству слов?\n",
    "- покрутить вероятностые языковые модели\n",
    "- дубликаты"
   ]
  },
  {
   "cell_type": "code",
   "execution_count": 90,
   "metadata": {},
   "outputs": [],
   "source": [
    "df_train = pd.read_csv(\"/Users/michelle/data/kaggle_train_data_tab.csv\", sep='\\t')\n",
    "df_test = pd.read_csv(\"/Users/michelle/data/kaggle_test_data_tab.csv\", sep='\\t')"
   ]
  },
  {
   "cell_type": "code",
   "execution_count": 91,
   "metadata": {},
   "outputs": [],
   "source": [
    "def get_content(page_base64):\n",
    "    try:\n",
    "        return BeautifulSoup(base64.b64decode(page_base64).decode(\"utf-8\"), \"html.parser\")\n",
    "    except UnicodeDecodeError:\n",
    "        return\n",
    "\n",
    "def get_text(content):\n",
    "    for s in content([\"style\", \"script\", \"[document]\", \"head\", \"title\"]):\n",
    "        s.extract()\n",
    "    text = content.get_text(separator=\" \")\n",
    "    text = re.sub(\"\\s+\", \" \", text)\n",
    "    return text\n",
    "\n",
    "def get_words_count(text):\n",
    "    return len(text.split(' '))\n",
    "\n",
    "def get_mean_word_length(text):\n",
    "    word_length_list = [len(word) for word in text.split(' ')]\n",
    "    return sum(word_length_list) / len(word_length_list)\n",
    "\n",
    "def get_title_words_count(content):\n",
    "    title = content.find(\"title\")\n",
    "    if title:\n",
    "        return len(title.get_text().split())\n",
    "    else:\n",
    "        return 0\n",
    "\n",
    "def get_compression_value(html):\n",
    "    return len(html) / len(lzma.compress(html))\n",
    "\n",
    "def get_anchor_words_count(content):\n",
    "    anchor_list = [anchor.get_text() for anchor in content.find_all(\"a\")]\n",
    "    counter = 0\n",
    "    for anchor in anchor_list:\n",
    "        counter += len(anchor.split(' '))\n",
    "    return counter\n",
    "\n",
    "\n",
    "\n",
    "def take_them_all(page_base64):\n",
    "    try:\n",
    "        content = get_content(page_base64)\n",
    "        compression_value = get_compression_value(base64.b64decode(page_base64))\n",
    "        if content:\n",
    "            title_words_count = get_title_words_count(content)\n",
    "            anchor_words_count = get_anchor_words_count(content)\n",
    "\n",
    "            text = get_text(content)\n",
    "            words_count = get_words_count(text)\n",
    "            mean_word_length = get_mean_word_length(text)\n",
    "\n",
    "            return (words_count, mean_word_length,\n",
    "                    title_words_count, compression_value, anchor_words_count)\n",
    "        \n",
    "        else:\n",
    "            return \"Error\"\n",
    "    \n",
    "    except Exception as e:\n",
    "        print(page_base64)\n",
    "        raise e\n"
   ]
  },
  {
   "cell_type": "code",
   "execution_count": 4,
   "metadata": {},
   "outputs": [
    {
     "name": "stderr",
     "output_type": "stream",
     "text": [
      "/usr/local/lib/python3.7/site-packages/tqdm/std.py:651: FutureWarning: The Panel class is removed from pandas. Accessing it from the top-level namespace will also be removed in the next version\n",
      "  from pandas import Panel\n"
     ]
    },
    {
     "data": {
      "application/vnd.jupyter.widget-view+json": {
       "model_id": "fd6d6b4e0b8743b48d2e5042b673119a",
       "version_major": 2,
       "version_minor": 0
      },
      "text/plain": [
       "HBox(children=(IntProgress(value=0, max=7044), HTML(value='')))"
      ]
     },
     "metadata": {},
     "output_type": "display_data"
    },
    {
     "name": "stdout",
     "output_type": "stream",
     "text": [
      "\n"
     ]
    }
   ],
   "source": [
    "tqdm.pandas()\n",
    "df_train[\"features\"] = df_train[\"PageBase64\"].progress_apply(take_them_all)"
   ]
  },
  {
   "cell_type": "code",
   "execution_count": 6,
   "metadata": {},
   "outputs": [],
   "source": [
    "df_train = df_train.drop(df_train[df_train[\"features\"] == \"Error\"].index, 0)\n",
    "\n",
    "for feature in range(5):\n",
    "    df_train[f\"{feature}_feature\"] = df_train[\"features\"].apply(lambda x: float(x[feature]))\n",
    "\n",
    "df_train = df_train.drop([\"features\"], 1)"
   ]
  },
  {
   "cell_type": "code",
   "execution_count": 19,
   "metadata": {},
   "outputs": [
    {
     "name": "stderr",
     "output_type": "stream",
     "text": [
      "/Users/michelle/Library/Python/3.7/lib/python/site-packages/ipykernel_launcher.py:1: MatplotlibDeprecationWarning: \n",
      "The 'normed' kwarg was deprecated in Matplotlib 2.1 and will be removed in 3.1. Use 'density' instead.\n",
      "  \"\"\"Entry point for launching an IPython kernel.\n",
      "/Users/michelle/Library/Python/3.7/lib/python/site-packages/ipykernel_launcher.py:2: MatplotlibDeprecationWarning: \n",
      "The 'normed' kwarg was deprecated in Matplotlib 2.1 and will be removed in 3.1. Use 'density' instead.\n",
      "  \n"
     ]
    },
    {
     "data": {
      "image/png": "[encoded data removed]",
      "text/plain": [
       "<Figure size 432x288 with 1 Axes>"
      ]
     },
     "metadata": {
      "needs_background": "light"
     },
     "output_type": "display_data"
    }
   ],
   "source": [
    "plt.hist(df_train[(df_train[\"Prediction\"] == 1) & (df_train[\"3_feature\"] < 20)][\"3_feature\"], bins=100, label=\"Spam\", normed=True)\n",
    "plt.hist(df_train[(df_train[\"Prediction\"] == 0) & (df_train[\"3_feature\"] < 20)][\"3_feature\"], bins=100, label=\"Norm\", normed=True, alpha=0.7);"
   ]
  },
  {
   "cell_type": "code",
   "execution_count": 22,
   "metadata": {},
   "outputs": [
    {
     "name": "stderr",
     "output_type": "stream",
     "text": [
      "/Users/michelle/Library/Python/3.7/lib/python/site-packages/ipykernel_launcher.py:1: MatplotlibDeprecationWarning: \n",
      "The 'normed' kwarg was deprecated in Matplotlib 2.1 and will be removed in 3.1. Use 'density' instead.\n",
      "  \"\"\"Entry point for launching an IPython kernel.\n",
      "/Users/michelle/Library/Python/3.7/lib/python/site-packages/ipykernel_launcher.py:2: MatplotlibDeprecationWarning: \n",
      "The 'normed' kwarg was deprecated in Matplotlib 2.1 and will be removed in 3.1. Use 'density' instead.\n",
      "  \n"
     ]
    },
    {
     "data": {
      "image/png": "[encoded data removed]",
      "text/plain": [
       "<Figure size 432x288 with 1 Axes>"
      ]
     },
     "metadata": {
      "needs_background": "light"
     },
     "output_type": "display_data"
    }
   ],
   "source": [
    "plt.hist(df_train[(df_train[\"Prediction\"] == 1) & (df_train[\"0_feature\"] < 7500)][\"0_feature\"], bins=100, label=\"Spam\", normed=True)\n",
    "plt.hist(df_train[(df_train[\"Prediction\"] == 0) & (df_train[\"0_feature\"] < 7500)][\"0_feature\"], bins=100, label=\"Norm\", normed=True, alpha=0.7);"
   ]
  },
  {
   "cell_type": "code",
   "execution_count": 38,
   "metadata": {},
   "outputs": [
    {
     "name": "stderr",
     "output_type": "stream",
     "text": [
      "/Users/michelle/Library/Python/3.7/lib/python/site-packages/ipykernel_launcher.py:1: MatplotlibDeprecationWarning: \n",
      "The 'normed' kwarg was deprecated in Matplotlib 2.1 and will be removed in 3.1. Use 'density' instead.\n",
      "  \"\"\"Entry point for launching an IPython kernel.\n",
      "/Users/michelle/Library/Python/3.7/lib/python/site-packages/ipykernel_launcher.py:2: MatplotlibDeprecationWarning: \n",
      "The 'normed' kwarg was deprecated in Matplotlib 2.1 and will be removed in 3.1. Use 'density' instead.\n",
      "  \n"
     ]
    },
    {
     "data": {
      "image/png": "[encoded data removed]",
      "text/plain": [
       "<Figure size 432x288 with 1 Axes>"
      ]
     },
     "metadata": {
      "needs_background": "light"
     },
     "output_type": "display_data"
    }
   ],
   "source": [
    "plt.hist(df_train[(df_train[\"Prediction\"] == 1) & (df_train[\"1_feature\"] < 10)][\"1_feature\"], bins=100, label=\"Spam\", normed=True)\n",
    "plt.hist(df_train[(df_train[\"Prediction\"] == 0) & (df_train[\"1_feature\"] < 10)][\"1_feature\"], bins=100, label=\"Norm\", normed=True, alpha=0.7);"
   ]
  },
  {
   "cell_type": "code",
   "execution_count": 41,
   "metadata": {},
   "outputs": [
    {
     "name": "stderr",
     "output_type": "stream",
     "text": [
      "/Users/michelle/Library/Python/3.7/lib/python/site-packages/ipykernel_launcher.py:1: MatplotlibDeprecationWarning: \n",
      "The 'normed' kwarg was deprecated in Matplotlib 2.1 and will be removed in 3.1. Use 'density' instead.\n",
      "  \"\"\"Entry point for launching an IPython kernel.\n",
      "/Users/michelle/Library/Python/3.7/lib/python/site-packages/ipykernel_launcher.py:2: MatplotlibDeprecationWarning: \n",
      "The 'normed' kwarg was deprecated in Matplotlib 2.1 and will be removed in 3.1. Use 'density' instead.\n",
      "  \n"
     ]
    },
    {
     "data": {
      "image/png": "[encoded data removed]",
      "text/plain": [
       "<Figure size 432x288 with 1 Axes>"
      ]
     },
     "metadata": {
      "needs_background": "light"
     },
     "output_type": "display_data"
    }
   ],
   "source": [
    "plt.hist(df_train[(df_train[\"Prediction\"] == 1) & (df_train[\"2_feature\"] < 50)][\"2_feature\"], bins=50, label=\"Spam\", normed=True)\n",
    "plt.hist(df_train[(df_train[\"Prediction\"] == 0) & (df_train[\"2_feature\"] < 50)][\"2_feature\"], bins=50, label=\"Norm\", normed=True, alpha=0.7);"
   ]
  },
  {
   "cell_type": "code",
   "execution_count": 45,
   "metadata": {},
   "outputs": [
    {
     "name": "stderr",
     "output_type": "stream",
     "text": [
      "/Users/michelle/Library/Python/3.7/lib/python/site-packages/ipykernel_launcher.py:1: MatplotlibDeprecationWarning: \n",
      "The 'normed' kwarg was deprecated in Matplotlib 2.1 and will be removed in 3.1. Use 'density' instead.\n",
      "  \"\"\"Entry point for launching an IPython kernel.\n",
      "/Users/michelle/Library/Python/3.7/lib/python/site-packages/ipykernel_launcher.py:2: MatplotlibDeprecationWarning: \n",
      "The 'normed' kwarg was deprecated in Matplotlib 2.1 and will be removed in 3.1. Use 'density' instead.\n",
      "  \n"
     ]
    },
    {
     "data": {
      "image/png": "[encoded data removed]",
      "text/plain": [
       "<Figure size 432x288 with 1 Axes>"
      ]
     },
     "metadata": {
      "needs_background": "light"
     },
     "output_type": "display_data"
    }
   ],
   "source": [
    "plt.hist(df_train[(df_train[\"Prediction\"] == 1) & (df_train[\"3_feature\"] < 20)][\"3_feature\"], bins=50, label=\"Spam\", normed=True)\n",
    "plt.hist(df_train[(df_train[\"Prediction\"] == 0) & (df_train[\"3_feature\"] < 20)][\"3_feature\"], bins=50, label=\"Norm\", normed=True, alpha=0.7);"
   ]
  },
  {
   "cell_type": "code",
   "execution_count": 47,
   "metadata": {},
   "outputs": [
    {
     "data": {
      "application/vnd.jupyter.widget-view+json": {
       "model_id": "3d657372ac7842bd8fe98997b9f72f65",
       "version_major": 2,
       "version_minor": 0
      },
      "text/plain": [
       "HBox(children=(IntProgress(value=0, max=6969), HTML(value='')))"
      ]
     },
     "metadata": {},
     "output_type": "display_data"
    },
    {
     "name": "stderr",
     "output_type": "stream",
     "text": [
      "/usr/local/lib/python3.7/site-packages/sklearn/metrics/classification.py:1437: UndefinedMetricWarning: F-score is ill-defined and being set to 0.0 in labels with no predicted samples.\n",
      "  'precision', 'predicted', average, warn_for)\n"
     ]
    },
    {
     "name": "stdout",
     "output_type": "stream",
     "text": [
      "\n",
      "3.974243399871217\n",
      "0.7192884919378307\n"
     ]
    },
    {
     "data": {
      "image/png": "[encoded data removed]",
      "text/plain": [
       "<Figure size 432x288 with 1 Axes>"
      ]
     },
     "metadata": {
      "needs_background": "light"
     },
     "output_type": "display_data"
    }
   ],
   "source": [
    "# f1_score auto calculation\n",
    "ths_array = np.sort(np.array(df_train[\"3_feature\"].unique()))\n",
    "f1_weighted_auto = []\n",
    "\n",
    "for th in tqdm(ths_array, total=ths_array.shape[0]):\n",
    "    f1_weighted_auto.append(f1_score(df_train[\"Prediction\"], df_train[\"3_feature\"] < th, average=\"weighted\"))\n",
    "    \n",
    "plt.plot(ths_array, f1_weighted_auto)\n",
    "\n",
    "opt_th = ths_array[np.argmax(f1_weighted_auto)]\n",
    "print(opt_th)\n",
    "print(np.max(f1_weighted_auto))"
   ]
  },
  {
   "cell_type": "code",
   "execution_count": 51,
   "metadata": {},
   "outputs": [],
   "source": [
    "kfold = KFold(n_splits=5, shuffle=True)"
   ]
  },
  {
   "cell_type": "code",
   "execution_count": 79,
   "metadata": {},
   "outputs": [],
   "source": [
    "def optimize_threshold_f1(pred, test):\n",
    "    ths_array = np.sort(np.unique(pred))\n",
    "    f1_weighted_auto = []\n",
    "\n",
    "    for th in tqdm(ths_array, total=ths_array.shape[0]):\n",
    "        f1_weighted_auto.append(f1_score(test, pred > th, average=\"weighted\"))\n",
    "        \n",
    "    return ths_array[np.argmax(f1_weighted_auto)], np.max(f1_weighted_auto)"
   ]
  },
  {
   "cell_type": "code",
   "execution_count": 83,
   "metadata": {},
   "outputs": [
    {
     "name": "stderr",
     "output_type": "stream",
     "text": [
      "/usr/local/lib/python3.7/site-packages/sklearn/linear_model/logistic.py:432: FutureWarning: Default solver will be changed to 'lbfgs' in 0.22. Specify a solver to silence this warning.\n",
      "  FutureWarning)\n",
      "/usr/local/lib/python3.7/site-packages/sklearn/utils/validation.py:724: DataConversionWarning: A column-vector y was passed when a 1d array was expected. Please change the shape of y to (n_samples, ), for example using ravel().\n",
      "  y = column_or_1d(y, warn=True)\n"
     ]
    },
    {
     "data": {
      "application/vnd.jupyter.widget-view+json": {
       "model_id": "3917412bfb9c446eaf182746329424fb",
       "version_major": 2,
       "version_minor": 0
      },
      "text/plain": [
       "HBox(children=(IntProgress(value=0, max=1403), HTML(value='')))"
      ]
     },
     "metadata": {},
     "output_type": "display_data"
    },
    {
     "name": "stdout",
     "output_type": "stream",
     "text": [
      "\n"
     ]
    },
    {
     "name": "stderr",
     "output_type": "stream",
     "text": [
      "/usr/local/lib/python3.7/site-packages/sklearn/metrics/classification.py:1437: UndefinedMetricWarning: F-score is ill-defined and being set to 0.0 in labels with no predicted samples.\n",
      "  'precision', 'predicted', average, warn_for)\n",
      "/usr/local/lib/python3.7/site-packages/sklearn/linear_model/logistic.py:432: FutureWarning: Default solver will be changed to 'lbfgs' in 0.22. Specify a solver to silence this warning.\n",
      "  FutureWarning)\n",
      "/usr/local/lib/python3.7/site-packages/sklearn/utils/validation.py:724: DataConversionWarning: A column-vector y was passed when a 1d array was expected. Please change the shape of y to (n_samples, ), for example using ravel().\n",
      "  y = column_or_1d(y, warn=True)\n"
     ]
    },
    {
     "data": {
      "application/vnd.jupyter.widget-view+json": {
       "model_id": "b562039200704ebbb4a014762a2de1fa",
       "version_major": 2,
       "version_minor": 0
      },
      "text/plain": [
       "HBox(children=(IntProgress(value=0, max=1404), HTML(value='')))"
      ]
     },
     "metadata": {},
     "output_type": "display_data"
    },
    {
     "name": "stdout",
     "output_type": "stream",
     "text": [
      "\n"
     ]
    },
    {
     "name": "stderr",
     "output_type": "stream",
     "text": [
      "/usr/local/lib/python3.7/site-packages/sklearn/metrics/classification.py:1437: UndefinedMetricWarning: F-score is ill-defined and being set to 0.0 in labels with no predicted samples.\n",
      "  'precision', 'predicted', average, warn_for)\n",
      "/usr/local/lib/python3.7/site-packages/sklearn/linear_model/logistic.py:432: FutureWarning: Default solver will be changed to 'lbfgs' in 0.22. Specify a solver to silence this warning.\n",
      "  FutureWarning)\n",
      "/usr/local/lib/python3.7/site-packages/sklearn/utils/validation.py:724: DataConversionWarning: A column-vector y was passed when a 1d array was expected. Please change the shape of y to (n_samples, ), for example using ravel().\n",
      "  y = column_or_1d(y, warn=True)\n"
     ]
    },
    {
     "data": {
      "application/vnd.jupyter.widget-view+json": {
       "model_id": "0a635d6f29c54f40a0a8aab7b9d9392f",
       "version_major": 2,
       "version_minor": 0
      },
      "text/plain": [
       "HBox(children=(IntProgress(value=0, max=1404), HTML(value='')))"
      ]
     },
     "metadata": {},
     "output_type": "display_data"
    },
    {
     "name": "stdout",
     "output_type": "stream",
     "text": [
      "\n"
     ]
    },
    {
     "name": "stderr",
     "output_type": "stream",
     "text": [
      "/usr/local/lib/python3.7/site-packages/sklearn/metrics/classification.py:1437: UndefinedMetricWarning: F-score is ill-defined and being set to 0.0 in labels with no predicted samples.\n",
      "  'precision', 'predicted', average, warn_for)\n",
      "/usr/local/lib/python3.7/site-packages/sklearn/linear_model/logistic.py:432: FutureWarning: Default solver will be changed to 'lbfgs' in 0.22. Specify a solver to silence this warning.\n",
      "  FutureWarning)\n",
      "/usr/local/lib/python3.7/site-packages/sklearn/utils/validation.py:724: DataConversionWarning: A column-vector y was passed when a 1d array was expected. Please change the shape of y to (n_samples, ), for example using ravel().\n",
      "  y = column_or_1d(y, warn=True)\n",
      "/usr/local/lib/python3.7/site-packages/sklearn/svm/base.py:929: ConvergenceWarning: Liblinear failed to converge, increase the number of iterations.\n",
      "  \"the number of iterations.\", ConvergenceWarning)\n"
     ]
    },
    {
     "data": {
      "application/vnd.jupyter.widget-view+json": {
       "model_id": "531c185e6927460195041831cd74aaa9",
       "version_major": 2,
       "version_minor": 0
      },
      "text/plain": [
       "HBox(children=(IntProgress(value=0, max=1405), HTML(value='')))"
      ]
     },
     "metadata": {},
     "output_type": "display_data"
    },
    {
     "name": "stdout",
     "output_type": "stream",
     "text": [
      "\n"
     ]
    },
    {
     "name": "stderr",
     "output_type": "stream",
     "text": [
      "/usr/local/lib/python3.7/site-packages/sklearn/metrics/classification.py:1437: UndefinedMetricWarning: F-score is ill-defined and being set to 0.0 in labels with no predicted samples.\n",
      "  'precision', 'predicted', average, warn_for)\n",
      "/usr/local/lib/python3.7/site-packages/sklearn/linear_model/logistic.py:432: FutureWarning: Default solver will be changed to 'lbfgs' in 0.22. Specify a solver to silence this warning.\n",
      "  FutureWarning)\n",
      "/usr/local/lib/python3.7/site-packages/sklearn/utils/validation.py:724: DataConversionWarning: A column-vector y was passed when a 1d array was expected. Please change the shape of y to (n_samples, ), for example using ravel().\n",
      "  y = column_or_1d(y, warn=True)\n"
     ]
    },
    {
     "data": {
      "application/vnd.jupyter.widget-view+json": {
       "model_id": "515f5a0e54ad4d958e0ecd32ebdcf182",
       "version_major": 2,
       "version_minor": 0
      },
      "text/plain": [
       "HBox(children=(IntProgress(value=0, max=1404), HTML(value='')))"
      ]
     },
     "metadata": {},
     "output_type": "display_data"
    },
    {
     "name": "stdout",
     "output_type": "stream",
     "text": [
      "\n",
      "0.6296632303146064 0.7228382604627434\n"
     ]
    },
    {
     "name": "stderr",
     "output_type": "stream",
     "text": [
      "/usr/local/lib/python3.7/site-packages/sklearn/metrics/classification.py:1437: UndefinedMetricWarning: F-score is ill-defined and being set to 0.0 in labels with no predicted samples.\n",
      "  'precision', 'predicted', average, warn_for)\n"
     ]
    }
   ],
   "source": [
    "th = 0\n",
    "f1_weighted_auto = 0\n",
    "for train_indices, test_indices in kfold.split(df_train):\n",
    "    model = LogisticRegression()\n",
    "    \n",
    "    X_train = df_train.iloc[train_indices, :].loc[:, [f\"{feature}_feature\" for feature in range(5)]]\n",
    "    y_train = df_train.iloc[train_indices, :].loc[:, [\"Prediction\"]]\n",
    "    model.fit(X_train, y_train)\n",
    "    \n",
    "    X_test = df_train.iloc[test_indices, :].loc[:, [f\"{feature}_feature\" for feature in range(5)]]\n",
    "    y_test = df_train.iloc[test_indices, :].loc[:, [\"Prediction\"]]\n",
    "    tmp_th, tmp_f1_weighted_auto = optimize_threshold_f1(model.predict_proba(X_test)[:, 1], y_test)\n",
    "    \n",
    "    th += tmp_th\n",
    "    f1_weighted_auto += tmp_f1_weighted_auto\n",
    "    \n",
    "print(th / kfold.get_n_splits(), f1_weighted_auto / kfold.get_n_splits())"
   ]
  },
  {
   "cell_type": "code",
   "execution_count": 85,
   "metadata": {},
   "outputs": [
    {
     "name": "stderr",
     "output_type": "stream",
     "text": [
      "/usr/local/lib/python3.7/site-packages/sklearn/linear_model/logistic.py:432: FutureWarning: Default solver will be changed to 'lbfgs' in 0.22. Specify a solver to silence this warning.\n",
      "  FutureWarning)\n"
     ]
    },
    {
     "data": {
      "application/vnd.jupyter.widget-view+json": {
       "model_id": "001f3381f83a4dd98f74cae347d4b65f",
       "version_major": 2,
       "version_minor": 0
      },
      "text/plain": [
       "HBox(children=(IntProgress(value=0, max=6973), HTML(value='')))"
      ]
     },
     "metadata": {},
     "output_type": "display_data"
    },
    {
     "name": "stdout",
     "output_type": "stream",
     "text": [
      "\n"
     ]
    },
    {
     "name": "stderr",
     "output_type": "stream",
     "text": [
      "/usr/local/lib/python3.7/site-packages/sklearn/metrics/classification.py:1437: UndefinedMetricWarning: F-score is ill-defined and being set to 0.0 in labels with no predicted samples.\n",
      "  'precision', 'predicted', average, warn_for)\n"
     ]
    },
    {
     "data": {
      "text/plain": [
       "(0.6276420162592775, 0.7267764924036423)"
      ]
     },
     "execution_count": 85,
     "metadata": {},
     "output_type": "execute_result"
    }
   ],
   "source": [
    "model = LogisticRegression()\n",
    "model.fit(df_train.loc[:, [f\"{feature}_feature\" for feature in range(5)]], df_train[\"Prediction\"])\n",
    "pred = model.predict_proba(df_train.loc[:, [f\"{feature}_feature\" for feature in range(5)]])[:, 1]\n",
    "optimize_threshold_f1(pred, df_train[\"Prediction\"])"
   ]
  },
  {
   "cell_type": "code",
   "execution_count": 86,
   "metadata": {},
   "outputs": [],
   "source": [
    "th = th / kfold.get_n_splits()"
   ]
  },
  {
   "cell_type": "code",
   "execution_count": 92,
   "metadata": {},
   "outputs": [
    {
     "name": "stderr",
     "output_type": "stream",
     "text": [
      "/usr/local/lib/python3.7/site-packages/tqdm/std.py:651: FutureWarning: The Panel class is removed from pandas. Accessing it from the top-level namespace will also be removed in the next version\n",
      "  from pandas import Panel\n"
     ]
    },
    {
     "data": {
      "application/vnd.jupyter.widget-view+json": {
       "model_id": "791c5f0727b44fea885cc3579a92e33b",
       "version_major": 2,
       "version_minor": 0
      },
      "text/plain": [
       "HBox(children=(IntProgress(value=0, max=16039), HTML(value='')))"
      ]
     },
     "metadata": {},
     "output_type": "display_data"
    },
    {
     "name": "stdout",
     "output_type": "stream",
     "text": [
      "\n"
     ]
    }
   ],
   "source": [
    "tqdm.pandas()\n",
    "df_test[\"features\"] = df_test[\"PageBase64\"].progress_apply(take_them_all)"
   ]
  },
  {
   "cell_type": "code",
   "execution_count": 95,
   "metadata": {},
   "outputs": [],
   "source": [
    "df_test = df_test.drop(df_test[df_test[\"features\"] == \"Error\"].index, 0)\n",
    "\n",
    "for feature in range(5):\n",
    "    df_test[f\"{feature}_feature\"] = df_test[\"features\"].apply(lambda x: float(x[feature]))\n",
    "\n",
    "df_test = df_test.drop([\"features\"], 1)"
   ]
  },
  {
   "cell_type": "code",
   "execution_count": 100,
   "metadata": {},
   "outputs": [
    {
     "data": {
      "text/html": [
       "<div>\n",
       "<style scoped>\n",
       "    .dataframe tbody tr th:only-of-type {\n",
       "        vertical-align: middle;\n",
       "    }\n",
       "\n",
       "    .dataframe tbody tr th {\n",
       "        vertical-align: top;\n",
       "    }\n",
       "\n",
       "    .dataframe thead th {\n",
       "        text-align: right;\n",
       "    }\n",
       "</style>\n",
       "<table border=\"1\" class=\"dataframe\">\n",
       "  <thead>\n",
       "    <tr style=\"text-align: right;\">\n",
       "      <th></th>\n",
       "      <th>Id</th>\n",
       "      <th>Prediction</th>\n",
       "      <th>Url</th>\n",
       "      <th>PageBase64</th>\n",
       "      <th>0_feature</th>\n",
       "      <th>1_feature</th>\n",
       "      <th>2_feature</th>\n",
       "      <th>3_feature</th>\n",
       "      <th>4_feature</th>\n",
       "    </tr>\n",
       "  </thead>\n",
       "  <tbody>\n",
       "    <tr>\n",
       "      <th>0</th>\n",
       "      <td>-9219333997282093076</td>\n",
       "      <td>1</td>\n",
       "      <td>http://laventuhhl.ohugi.com/igor-znakomstva-ni...</td>\n",
       "      <td>PGh0bWw+DQoNCjxoZWFkPg0KPE1FVEEgY29udGVudD0idG...</td>\n",
       "      <td>771.0</td>\n",
       "      <td>5.979248</td>\n",
       "      <td>9.0</td>\n",
       "      <td>3.247172</td>\n",
       "      <td>79.0</td>\n",
       "    </tr>\n",
       "    <tr>\n",
       "      <th>1</th>\n",
       "      <td>-9216796593526314243</td>\n",
       "      <td>1</td>\n",
       "      <td>http://myachina9abbee.front.ru/allinone.html</td>\n",
       "      <td>PCFET0NUWVBFIGh0bWwgUFVCTElDICItLy9XM0MvL0RURC...</td>\n",
       "      <td>485.0</td>\n",
       "      <td>5.536082</td>\n",
       "      <td>5.0</td>\n",
       "      <td>2.879384</td>\n",
       "      <td>72.0</td>\n",
       "    </tr>\n",
       "    <tr>\n",
       "      <th>2</th>\n",
       "      <td>-9216634615606576667</td>\n",
       "      <td>1</td>\n",
       "      <td>http://petropavl.kz/whouse/autor/autor4.shtml</td>\n",
       "      <td>PCEtLdCY0LTQtdGPINGB0L7Qt9C00LDQvdC40Y8g0Lgg0L...</td>\n",
       "      <td>220.0</td>\n",
       "      <td>6.559091</td>\n",
       "      <td>13.0</td>\n",
       "      <td>3.344770</td>\n",
       "      <td>24.0</td>\n",
       "    </tr>\n",
       "    <tr>\n",
       "      <th>3</th>\n",
       "      <td>-9215626373068452590</td>\n",
       "      <td>0</td>\n",
       "      <td>http://astro-online.ru/synastry.html</td>\n",
       "      <td>CjwhRE9DVFlQRSBIVE1MIFBVQkxJQyAiLS8vVzNDLy9EVE...</td>\n",
       "      <td>3008.0</td>\n",
       "      <td>6.550199</td>\n",
       "      <td>4.0</td>\n",
       "      <td>11.130094</td>\n",
       "      <td>48.0</td>\n",
       "    </tr>\n",
       "    <tr>\n",
       "      <th>4</th>\n",
       "      <td>-9215403080479774736</td>\n",
       "      <td>1</td>\n",
       "      <td>http://oxoyhetc.hopto.org/13/62.html</td>\n",
       "      <td>DQoNCg0KPEhUTUw+DQo8SEVBRD4NCjx0aXRsZT7QotC10L...</td>\n",
       "      <td>665.0</td>\n",
       "      <td>6.225564</td>\n",
       "      <td>7.0</td>\n",
       "      <td>3.609824</td>\n",
       "      <td>95.0</td>\n",
       "    </tr>\n",
       "  </tbody>\n",
       "</table>\n",
       "</div>"
      ],
      "text/plain": [
       "                    Id  Prediction  \\\n",
       "0 -9219333997282093076           1   \n",
       "1 -9216796593526314243           1   \n",
       "2 -9216634615606576667           1   \n",
       "3 -9215626373068452590           0   \n",
       "4 -9215403080479774736           1   \n",
       "\n",
       "                                                 Url  \\\n",
       "0  http://laventuhhl.ohugi.com/igor-znakomstva-ni...   \n",
       "1       http://myachina9abbee.front.ru/allinone.html   \n",
       "2      http://petropavl.kz/whouse/autor/autor4.shtml   \n",
       "3               http://astro-online.ru/synastry.html   \n",
       "4               http://oxoyhetc.hopto.org/13/62.html   \n",
       "\n",
       "                                          PageBase64  0_feature  1_feature  \\\n",
       "0  PGh0bWw+DQoNCjxoZWFkPg0KPE1FVEEgY29udGVudD0idG...      771.0   5.979248   \n",
       "1  PCFET0NUWVBFIGh0bWwgUFVCTElDICItLy9XM0MvL0RURC...      485.0   5.536082   \n",
       "2  PCEtLdCY0LTQtdGPINGB0L7Qt9C00LDQvdC40Y8g0Lgg0L...      220.0   6.559091   \n",
       "3  CjwhRE9DVFlQRSBIVE1MIFBVQkxJQyAiLS8vVzNDLy9EVE...     3008.0   6.550199   \n",
       "4  DQoNCg0KPEhUTUw+DQo8SEVBRD4NCjx0aXRsZT7QotC10L...      665.0   6.225564   \n",
       "\n",
       "   2_feature  3_feature  4_feature  \n",
       "0        9.0   3.247172       79.0  \n",
       "1        5.0   2.879384       72.0  \n",
       "2       13.0   3.344770       24.0  \n",
       "3        4.0  11.130094       48.0  \n",
       "4        7.0   3.609824       95.0  "
      ]
     },
     "execution_count": 100,
     "metadata": {},
     "output_type": "execute_result"
    }
   ],
   "source": [
    "pred = model.predict_proba(df_test.loc[:, [f\"{feature}_feature\" for feature in range(5)]])[:, 1]\n",
    "df_test[\"Prediction\"] = pred > th\n",
    "df_test[\"Prediction\"] = df_test[\"Prediction\"].apply(lambda x: int(x))\n",
    "df_test.head()"
   ]
  },
  {
   "cell_type": "code",
   "execution_count": 101,
   "metadata": {},
   "outputs": [],
   "source": [
    "df_test.loc[:, [\"Id\", \"Prediction\"]].to_csv(\"antispam_submission_06_05.csv\", index=False)"
   ]
  },
  {
   "cell_type": "code",
   "execution_count": null,
   "metadata": {},
   "outputs": [],
   "source": []
  }
 ],
 "metadata": {
  "kernelspec": {
   "display_name": "Python 3",
   "language": "python",
   "name": "python3"
  },
  "language_info": {
   "codemirror_mode": {
    "name": "ipython",
    "version": 3
   },
   "file_extension": ".py",
   "mimetype": "text/x-python",
   "name": "python",
   "nbconvert_exporter": "python",
   "pygments_lexer": "ipython3",
   "version": "3.7.4"
  }
 },
 "nbformat": 4,
 "nbformat_minor": 4
}
