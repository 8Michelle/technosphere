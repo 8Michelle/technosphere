{
 "cells": [
  {
   "cell_type": "code",
   "execution_count": 1,
   "metadata": {},
   "outputs": [],
   "source": [
    "import pkg_resources\n",
    "pkg_resources.require(\"matplotlib==3.1.2\")\n",
    "\n",
    "import pandas as pd\n",
    "import re\n",
    "import base64\n",
    "from bs4 import BeautifulSoup\n",
    "from tqdm.notebook import tqdm\n",
    "from sklearn.linear_model import LogisticRegression\n",
    "from sklearn.metrics import f1_score\n",
    "import matplotlib.pyplot as plt\n",
    "import numpy as np\n",
    "import lzma\n",
    "from sklearn.model_selection import KFold\n",
    "from catboost import CatBoostClassifier\n",
    "from sklearn.ensemble import RandomForestClassifier\n",
    "from sklearn.feature_extraction.text import CountVectorizer, TfidfVectorizer\n",
    "from nltk.stem.snowball import SnowballStemmer\n",
    "from xgboost import XGBClassifier"
   ]
  },
  {
   "cell_type": "code",
   "execution_count": 2,
   "metadata": {},
   "outputs": [],
   "source": [
    "def optimize_threshold_f1(pred, test):\n",
    "    ths_array = np.sort(np.unique(pred))\n",
    "    f1_weighted_auto = []\n",
    "\n",
    "    for th in tqdm(ths_array, total=ths_array.shape[0]):\n",
    "        f1_weighted_auto.append(f1_score(test, pred > th, average=\"weighted\"))\n",
    "        \n",
    "    return ths_array[np.argmax(f1_weighted_auto)], np.max(f1_weighted_auto)"
   ]
  },
  {
   "cell_type": "code",
   "execution_count": 3,
   "metadata": {},
   "outputs": [],
   "source": [
    "def get_content(page_base64):\n",
    "    try:\n",
    "        return BeautifulSoup(base64.b64decode(page_base64).decode(\"utf-8\"), \"html.parser\")\n",
    "    except UnicodeDecodeError:\n",
    "        return\n",
    "\n",
    "def get_text(content):\n",
    "    if content:\n",
    "        for s in content([\"style\", \"script\", \"[document]\", \"head\", \"title\"]):\n",
    "            s.extract()\n",
    "        text = content.get_text(separator=\" \")\n",
    "        text = re.sub(\"\\s+\", \" \", text)\n",
    "    else:\n",
    "        text = \"\"\n",
    "    return text\n",
    "\n",
    "def get_words_count(text):\n",
    "    return len(text.split(' '))\n",
    "\n",
    "def get_mean_word_length(text):\n",
    "    word_length_list = [len(word) for word in text.split(' ')]\n",
    "    return sum(word_length_list) / len(word_length_list)\n",
    "\n",
    "def get_title_words_count(content):\n",
    "    title = content.find(\"title\")\n",
    "    if title:\n",
    "        return len(title.get_text().split())\n",
    "    else:\n",
    "        return 0\n",
    "\n",
    "def get_compression_value(html):\n",
    "    return len(html) / len(lzma.compress(html))\n",
    "\n",
    "def get_anchor_words_count(content):\n",
    "    anchor_list = [anchor.get_text() for anchor in content.find_all(\"a\")]\n",
    "    counter = 0\n",
    "    for anchor in anchor_list:\n",
    "        counter += len(anchor.split(' '))\n",
    "    return counter\n",
    "\n",
    "\n",
    "\n",
    "def take_them_all(page_base64):\n",
    "    try:\n",
    "        content = get_content(page_base64)\n",
    "        compression_value = get_compression_value(base64.b64decode(page_base64))\n",
    "        if content:\n",
    "            title_words_count = get_title_words_count(content)\n",
    "            anchor_words_count = get_anchor_words_count(content)\n",
    "\n",
    "            text = get_text(content)\n",
    "            words_count = get_words_count(text)\n",
    "            mean_word_length = get_mean_word_length(text)\n",
    "\n",
    "            return (words_count, mean_word_length,\n",
    "                    title_words_count, compression_value, anchor_words_count)\n",
    "        \n",
    "        else:\n",
    "            return \"Error\"\n",
    "    \n",
    "    except Exception as e:\n",
    "        print(page_base64)\n",
    "        raise e\n",
    "\n",
    "\n",
    "def get_links_number(page_base64):\n",
    "    content = get_content(page_base64)\n",
    "    if content:\n",
    "        return len(content.find_all(\"a\"))"
   ]
  },
  {
   "cell_type": "code",
   "execution_count": 5,
   "metadata": {},
   "outputs": [],
   "source": [
    "with open(\"./train_handled.txt\") as f:\n",
    "    train = f.read()\n",
    "    \n",
    "train = train.split(\"\\t\")"
   ]
  },
  {
   "cell_type": "code",
   "execution_count": 108,
   "metadata": {},
   "outputs": [],
   "source": [
    "vectorizer = TfidfVectorizer(max_features=1000)\n",
    "train_vect = vectorizer.fit_transform(train).todense()"
   ]
  },
  {
   "cell_type": "code",
   "execution_count": 6,
   "metadata": {},
   "outputs": [],
   "source": [
    "df_train = pd.read_csv(\"/Users/michelle/data/kaggle_train_data_tab.csv\", sep=\"\\t\")"
   ]
  },
  {
   "cell_type": "code",
   "execution_count": 7,
   "metadata": {},
   "outputs": [
    {
     "name": "stderr",
     "output_type": "stream",
     "text": [
      "/usr/local/lib/python3.7/site-packages/tqdm/std.py:651: FutureWarning: The Panel class is removed from pandas. Accessing it from the top-level namespace will also be removed in the next version\n",
      "  from pandas import Panel\n"
     ]
    },
    {
     "data": {
      "application/vnd.jupyter.widget-view+json": {
       "model_id": "8a65fcae87d5430ea5cb8f031da7bf31",
       "version_major": 2,
       "version_minor": 0
      },
      "text/plain": [
       "HBox(children=(IntProgress(value=0, max=7044), HTML(value='')))"
      ]
     },
     "metadata": {},
     "output_type": "display_data"
    },
    {
     "name": "stdout",
     "output_type": "stream",
     "text": [
      "\n"
     ]
    }
   ],
   "source": [
    "tqdm.pandas()\n",
    "df_train[\"features\"] = df_train[\"PageBase64\"].progress_apply(take_them_all)\n",
    "\n",
    "df_train = df_train.drop(df_train[df_train[\"features\"] == \"Error\"].index, 0)\n",
    "\n",
    "for feature in range(5):\n",
    "    df_train[f\"{feature}_feature\"] = df_train[\"features\"].apply(lambda x: float(x[feature]))\n",
    "\n",
    "df_train = df_train.drop([\"features\"], 1)"
   ]
  },
  {
   "cell_type": "code",
   "execution_count": 132,
   "metadata": {},
   "outputs": [],
   "source": [
    "X = np.array(df_train[[f\"{feature}_feature\" for feature in range(5)]])\n",
    "y = np.array(df_train[\"Prediction\"])"
   ]
  },
  {
   "cell_type": "code",
   "execution_count": 104,
   "metadata": {},
   "outputs": [
    {
     "data": {
      "application/vnd.jupyter.widget-view+json": {
       "model_id": "7c8a0dfbd371477cb0e1a706bb2f937d",
       "version_major": 2,
       "version_minor": 0
      },
      "text/plain": [
       "HBox(children=(IntProgress(value=0, max=1293), HTML(value='')))"
      ]
     },
     "metadata": {},
     "output_type": "display_data"
    },
    {
     "name": "stdout",
     "output_type": "stream",
     "text": [
      "\n"
     ]
    },
    {
     "name": "stderr",
     "output_type": "stream",
     "text": [
      "/usr/local/lib/python3.7/site-packages/sklearn/metrics/classification.py:1437: UndefinedMetricWarning: F-score is ill-defined and being set to 0.0 in labels with no predicted samples.\n",
      "  'precision', 'predicted', average, warn_for)\n"
     ]
    },
    {
     "data": {
      "application/vnd.jupyter.widget-view+json": {
       "model_id": "e5dd382b264a4b9e819e4b5abd4526c7",
       "version_major": 2,
       "version_minor": 0
      },
      "text/plain": [
       "HBox(children=(IntProgress(value=0, max=1322), HTML(value='')))"
      ]
     },
     "metadata": {},
     "output_type": "display_data"
    },
    {
     "name": "stdout",
     "output_type": "stream",
     "text": [
      "\n"
     ]
    },
    {
     "data": {
      "application/vnd.jupyter.widget-view+json": {
       "model_id": "c6953b9fbd684ee98dd1a67c06aacb29",
       "version_major": 2,
       "version_minor": 0
      },
      "text/plain": [
       "HBox(children=(IntProgress(value=0, max=1337), HTML(value='')))"
      ]
     },
     "metadata": {},
     "output_type": "display_data"
    },
    {
     "name": "stdout",
     "output_type": "stream",
     "text": [
      "\n"
     ]
    },
    {
     "data": {
      "application/vnd.jupyter.widget-view+json": {
       "model_id": "826dacb4b5e142bd93c9de7ee83fa6b3",
       "version_major": 2,
       "version_minor": 0
      },
      "text/plain": [
       "HBox(children=(IntProgress(value=0, max=1337), HTML(value='')))"
      ]
     },
     "metadata": {},
     "output_type": "display_data"
    },
    {
     "name": "stdout",
     "output_type": "stream",
     "text": [
      "\n"
     ]
    },
    {
     "data": {
      "application/vnd.jupyter.widget-view+json": {
       "model_id": "0968e1cb77784434a8c3b9b5d3e28d04",
       "version_major": 2,
       "version_minor": 0
      },
      "text/plain": [
       "HBox(children=(IntProgress(value=0, max=1342), HTML(value='')))"
      ]
     },
     "metadata": {},
     "output_type": "display_data"
    },
    {
     "name": "stdout",
     "output_type": "stream",
     "text": [
      "\n",
      "0.514238041639328 0.8131754026318987\n"
     ]
    }
   ],
   "source": [
    "th = 0\n",
    "f1_weighted_auto = 0\n",
    "\n",
    "# train_subset = [f\"{feature}_feature\" for feature in range(5)] + [\"link_value\"]\n",
    "\n",
    "for train_indices, test_indices in kfold.split(y):\n",
    "#     model = RandomForestClassifier(n_estimators=100, n_jobs=-1)\n",
    "    model = XGBClassifier()\n",
    "    \n",
    "    X_train = X[train_indices, :]\n",
    "    y_train = y[train_indices]\n",
    "    model.fit(X_train, y_train)\n",
    "    \n",
    "    X_test = X[test_indices, :]\n",
    "    y_test = y[test_indices]\n",
    "    tmp_th, tmp_f1_weighted_auto = optimize_threshold_f1(model.predict_proba(X_test)[:, 1], y_test)\n",
    "    \n",
    "    th += tmp_th\n",
    "    f1_weighted_auto += tmp_f1_weighted_auto\n",
    "    \n",
    "\n",
    "th /= kfold.get_n_splits()\n",
    "f1_weighted_auto /= kfold.get_n_splits()\n",
    "print(th, f1_weighted_auto)"
   ]
  },
  {
   "cell_type": "code",
   "execution_count": 134,
   "metadata": {},
   "outputs": [],
   "source": [
    "X = np.hstack((train_vect, X))"
   ]
  },
  {
   "cell_type": "code",
   "execution_count": 111,
   "metadata": {},
   "outputs": [
    {
     "data": {
      "application/vnd.jupyter.widget-view+json": {
       "model_id": "346b625c7d5a456faf37ffc58eb1db35",
       "version_major": 2,
       "version_minor": 0
      },
      "text/plain": [
       "HBox(children=(IntProgress(value=0, max=1383), HTML(value='')))"
      ]
     },
     "metadata": {},
     "output_type": "display_data"
    },
    {
     "name": "stderr",
     "output_type": "stream",
     "text": [
      "/usr/local/lib/python3.7/site-packages/sklearn/metrics/classification.py:1437: UndefinedMetricWarning: F-score is ill-defined and being set to 0.0 in labels with no predicted samples.\n",
      "  'precision', 'predicted', average, warn_for)\n"
     ]
    },
    {
     "name": "stdout",
     "output_type": "stream",
     "text": [
      "\n"
     ]
    },
    {
     "data": {
      "application/vnd.jupyter.widget-view+json": {
       "model_id": "e16c1527b66345c58d8b70d09e0c9ea7",
       "version_major": 2,
       "version_minor": 0
      },
      "text/plain": [
       "HBox(children=(IntProgress(value=0, max=1383), HTML(value='')))"
      ]
     },
     "metadata": {},
     "output_type": "display_data"
    },
    {
     "name": "stdout",
     "output_type": "stream",
     "text": [
      "\n"
     ]
    },
    {
     "data": {
      "application/vnd.jupyter.widget-view+json": {
       "model_id": "94e8a368de9246c580eb969176c095ba",
       "version_major": 2,
       "version_minor": 0
      },
      "text/plain": [
       "HBox(children=(IntProgress(value=0, max=1394), HTML(value='')))"
      ]
     },
     "metadata": {},
     "output_type": "display_data"
    },
    {
     "name": "stdout",
     "output_type": "stream",
     "text": [
      "\n"
     ]
    },
    {
     "data": {
      "application/vnd.jupyter.widget-view+json": {
       "model_id": "4a42f90349804074b46e048e9efb110e",
       "version_major": 2,
       "version_minor": 0
      },
      "text/plain": [
       "HBox(children=(IntProgress(value=0, max=1382), HTML(value='')))"
      ]
     },
     "metadata": {},
     "output_type": "display_data"
    },
    {
     "name": "stdout",
     "output_type": "stream",
     "text": [
      "\n"
     ]
    },
    {
     "data": {
      "application/vnd.jupyter.widget-view+json": {
       "model_id": "2d4ebf3429934aa2bafa309b2cba0628",
       "version_major": 2,
       "version_minor": 0
      },
      "text/plain": [
       "HBox(children=(IntProgress(value=0, max=1382), HTML(value='')))"
      ]
     },
     "metadata": {},
     "output_type": "display_data"
    },
    {
     "name": "stdout",
     "output_type": "stream",
     "text": [
      "\n",
      "0.5728421449661255 0.9419619046032333\n"
     ]
    }
   ],
   "source": [
    "th = 0\n",
    "f1_weighted_auto = 0\n",
    "\n",
    "for train_indices, val_indices in kfold.split(y):\n",
    "    model = XGBClassifier()\n",
    "    \n",
    "    X_train = X[train_indices, :]\n",
    "    y_train = y[train_indices]\n",
    "    model.fit(X_train, y_train)\n",
    "    \n",
    "    X_val = X[val_indices, :]\n",
    "    y_val = y[val_indices]\n",
    "    tmp_th, tmp_f1_weighted_auto = optimize_threshold_f1(model.predict_proba(X_val)[:, 1], y_val)\n",
    "    \n",
    "    th += tmp_th\n",
    "    f1_weighted_auto += tmp_f1_weighted_auto\n",
    "    \n",
    "\n",
    "th /= kfold.get_n_splits()\n",
    "f1_weighted_auto /= kfold.get_n_splits()\n",
    "print(th, f1_weighted_auto)"
   ]
  },
  {
   "cell_type": "code",
   "execution_count": 117,
   "metadata": {},
   "outputs": [
    {
     "data": {
      "application/vnd.jupyter.widget-view+json": {
       "model_id": "fd53ee7e519b43199b2947818616be6e",
       "version_major": 2,
       "version_minor": 0
      },
      "text/plain": [
       "HBox(children=(IntProgress(value=0, max=6729), HTML(value='')))"
      ]
     },
     "metadata": {},
     "output_type": "display_data"
    },
    {
     "name": "stdout",
     "output_type": "stream",
     "text": [
      "\n"
     ]
    },
    {
     "data": {
      "text/plain": [
       "(0.54986566, 0.9600442449481325)"
      ]
     },
     "execution_count": 117,
     "metadata": {},
     "output_type": "execute_result"
    }
   ],
   "source": [
    "model = XGBClassifier()\n",
    "model.fit(X, y)\n",
    "pred = model.predict_proba(X)[:, 1]\n",
    "optimize_threshold_f1(pred, y)"
   ]
  },
  {
   "cell_type": "code",
   "execution_count": 122,
   "metadata": {},
   "outputs": [],
   "source": [
    "import pickle\n",
    "pickle.dump(model, open(\"model_08_01.pkl\", 'wb'))"
   ]
  },
  {
   "cell_type": "code",
   "execution_count": 8,
   "metadata": {},
   "outputs": [],
   "source": [
    "with open(\"./test_handled.txt\") as f:\n",
    "    test = f.read()"
   ]
  },
  {
   "cell_type": "code",
   "execution_count": 9,
   "metadata": {},
   "outputs": [],
   "source": [
    "test = test.split(\"\\t\")"
   ]
  },
  {
   "cell_type": "code",
   "execution_count": 120,
   "metadata": {},
   "outputs": [],
   "source": [
    "test_vect = vectorizer.transform(test).todense()"
   ]
  },
  {
   "cell_type": "code",
   "execution_count": 10,
   "metadata": {},
   "outputs": [],
   "source": [
    "df_test = pd.read_csv(\"/Users/michelle/data/kaggle_test_data_tab.csv\", sep='\\t')"
   ]
  },
  {
   "cell_type": "code",
   "execution_count": 11,
   "metadata": {},
   "outputs": [
    {
     "data": {
      "application/vnd.jupyter.widget-view+json": {
       "model_id": "b2a0e9cb32144c8597c8a53cbdb854eb",
       "version_major": 2,
       "version_minor": 0
      },
      "text/plain": [
       "HBox(children=(IntProgress(value=0, max=16039), HTML(value='')))"
      ]
     },
     "metadata": {},
     "output_type": "display_data"
    },
    {
     "name": "stdout",
     "output_type": "stream",
     "text": [
      "\n"
     ]
    }
   ],
   "source": [
    "tqdm.pandas()\n",
    "df_test[\"features\"] = df_test[\"PageBase64\"].progress_apply(take_them_all)\n",
    "\n",
    "df_test = df_test.drop(df_test[df_test[\"features\"] == \"Error\"].index, 0)\n",
    "\n",
    "for feature in range(5):\n",
    "    df_test[f\"{feature}_feature\"] = df_test[\"features\"].apply(lambda x: float(x[feature]))\n",
    "\n",
    "df_test = df_test.drop([\"features\"], 1)"
   ]
  },
  {
   "cell_type": "code",
   "execution_count": 129,
   "metadata": {},
   "outputs": [],
   "source": [
    "X_test = np.hstack((test_vect, np.array(df_test[[f\"{feature}_feature\" for feature in range(5)]])))"
   ]
  },
  {
   "cell_type": "code",
   "execution_count": 130,
   "metadata": {},
   "outputs": [
    {
     "data": {
      "text/html": [
       "<div>\n",
       "<style scoped>\n",
       "    .dataframe tbody tr th:only-of-type {\n",
       "        vertical-align: middle;\n",
       "    }\n",
       "\n",
       "    .dataframe tbody tr th {\n",
       "        vertical-align: top;\n",
       "    }\n",
       "\n",
       "    .dataframe thead th {\n",
       "        text-align: right;\n",
       "    }\n",
       "</style>\n",
       "<table border=\"1\" class=\"dataframe\">\n",
       "  <thead>\n",
       "    <tr style=\"text-align: right;\">\n",
       "      <th></th>\n",
       "      <th>Id</th>\n",
       "      <th>Prediction</th>\n",
       "      <th>Url</th>\n",
       "      <th>PageBase64</th>\n",
       "      <th>0_feature</th>\n",
       "      <th>1_feature</th>\n",
       "      <th>2_feature</th>\n",
       "      <th>3_feature</th>\n",
       "      <th>4_feature</th>\n",
       "    </tr>\n",
       "  </thead>\n",
       "  <tbody>\n",
       "    <tr>\n",
       "      <th>0</th>\n",
       "      <td>-9219333997282093076</td>\n",
       "      <td>1</td>\n",
       "      <td>http://laventuhhl.ohugi.com/igor-znakomstva-ni...</td>\n",
       "      <td>PGh0bWw+DQoNCjxoZWFkPg0KPE1FVEEgY29udGVudD0idG...</td>\n",
       "      <td>771.0</td>\n",
       "      <td>5.979248</td>\n",
       "      <td>9.0</td>\n",
       "      <td>3.247172</td>\n",
       "      <td>79.0</td>\n",
       "    </tr>\n",
       "    <tr>\n",
       "      <th>1</th>\n",
       "      <td>-9216796593526314243</td>\n",
       "      <td>1</td>\n",
       "      <td>http://myachina9abbee.front.ru/allinone.html</td>\n",
       "      <td>PCFET0NUWVBFIGh0bWwgUFVCTElDICItLy9XM0MvL0RURC...</td>\n",
       "      <td>485.0</td>\n",
       "      <td>5.536082</td>\n",
       "      <td>5.0</td>\n",
       "      <td>2.879384</td>\n",
       "      <td>72.0</td>\n",
       "    </tr>\n",
       "    <tr>\n",
       "      <th>2</th>\n",
       "      <td>-9216634615606576667</td>\n",
       "      <td>0</td>\n",
       "      <td>http://petropavl.kz/whouse/autor/autor4.shtml</td>\n",
       "      <td>PCEtLdCY0LTQtdGPINGB0L7Qt9C00LDQvdC40Y8g0Lgg0L...</td>\n",
       "      <td>220.0</td>\n",
       "      <td>6.559091</td>\n",
       "      <td>13.0</td>\n",
       "      <td>3.344770</td>\n",
       "      <td>24.0</td>\n",
       "    </tr>\n",
       "    <tr>\n",
       "      <th>3</th>\n",
       "      <td>-9215626373068452590</td>\n",
       "      <td>0</td>\n",
       "      <td>http://astro-online.ru/synastry.html</td>\n",
       "      <td>CjwhRE9DVFlQRSBIVE1MIFBVQkxJQyAiLS8vVzNDLy9EVE...</td>\n",
       "      <td>3008.0</td>\n",
       "      <td>6.550199</td>\n",
       "      <td>4.0</td>\n",
       "      <td>11.130094</td>\n",
       "      <td>48.0</td>\n",
       "    </tr>\n",
       "    <tr>\n",
       "      <th>4</th>\n",
       "      <td>-9215403080479774736</td>\n",
       "      <td>1</td>\n",
       "      <td>http://oxoyhetc.hopto.org/13/62.html</td>\n",
       "      <td>DQoNCg0KPEhUTUw+DQo8SEVBRD4NCjx0aXRsZT7QotC10L...</td>\n",
       "      <td>665.0</td>\n",
       "      <td>6.225564</td>\n",
       "      <td>7.0</td>\n",
       "      <td>3.609824</td>\n",
       "      <td>95.0</td>\n",
       "    </tr>\n",
       "  </tbody>\n",
       "</table>\n",
       "</div>"
      ],
      "text/plain": [
       "                    Id  Prediction  \\\n",
       "0 -9219333997282093076           1   \n",
       "1 -9216796593526314243           1   \n",
       "2 -9216634615606576667           0   \n",
       "3 -9215626373068452590           0   \n",
       "4 -9215403080479774736           1   \n",
       "\n",
       "                                                 Url  \\\n",
       "0  http://laventuhhl.ohugi.com/igor-znakomstva-ni...   \n",
       "1       http://myachina9abbee.front.ru/allinone.html   \n",
       "2      http://petropavl.kz/whouse/autor/autor4.shtml   \n",
       "3               http://astro-online.ru/synastry.html   \n",
       "4               http://oxoyhetc.hopto.org/13/62.html   \n",
       "\n",
       "                                          PageBase64  0_feature  1_feature  \\\n",
       "0  PGh0bWw+DQoNCjxoZWFkPg0KPE1FVEEgY29udGVudD0idG...      771.0   5.979248   \n",
       "1  PCFET0NUWVBFIGh0bWwgUFVCTElDICItLy9XM0MvL0RURC...      485.0   5.536082   \n",
       "2  PCEtLdCY0LTQtdGPINGB0L7Qt9C00LDQvdC40Y8g0Lgg0L...      220.0   6.559091   \n",
       "3  CjwhRE9DVFlQRSBIVE1MIFBVQkxJQyAiLS8vVzNDLy9EVE...     3008.0   6.550199   \n",
       "4  DQoNCg0KPEhUTUw+DQo8SEVBRD4NCjx0aXRsZT7QotC10L...      665.0   6.225564   \n",
       "\n",
       "   2_feature  3_feature  4_feature  \n",
       "0        9.0   3.247172       79.0  \n",
       "1        5.0   2.879384       72.0  \n",
       "2       13.0   3.344770       24.0  \n",
       "3        4.0  11.130094       48.0  \n",
       "4        7.0   3.609824       95.0  "
      ]
     },
     "execution_count": 130,
     "metadata": {},
     "output_type": "execute_result"
    }
   ],
   "source": [
    "pred = model.predict_proba(X_test)[:, 1]\n",
    "df_test[\"Prediction\"] = pred > th\n",
    "df_test[\"Prediction\"] = df_test[\"Prediction\"].apply(lambda x: int(x))\n",
    "df_test.head()"
   ]
  },
  {
   "cell_type": "code",
   "execution_count": 128,
   "metadata": {},
   "outputs": [],
   "source": [
    "pred = model.predict_proba(X_test)[:, 1]\n",
    "df_test[\"Prediction\"] = pred > th\n",
    "df_test[\"Prediction\"] = df_test[\"Prediction\"].apply(lambda x: int(x))\n",
    "df_test.head()\n",
    "df_test.loc[:, [\"Id\", \"Prediction\"]].to_csv(\"antispam_submission_08_01.csv\", index=False)"
   ]
  },
  {
   "cell_type": "code",
   "execution_count": 131,
   "metadata": {},
   "outputs": [],
   "source": [
    "def train_model(X, y):\n",
    "    th = 0\n",
    "    f1_weighted_auto = 0\n",
    "\n",
    "\n",
    "    for train_indices, val_indices in kfold.split(y):\n",
    "        model = XGBClassifier()\n",
    "\n",
    "        X_train = X[train_indices, :]\n",
    "        y_train = y[train_indices]\n",
    "        model.fit(X_train, y_train)\n",
    "\n",
    "        X_val = X[val_indices, :]\n",
    "        y_val = y[val_indices]\n",
    "        tmp_th, tmp_f1_weighted_auto = optimize_threshold_f1(model.predict_proba(X_val)[:, 1], y_val)\n",
    "\n",
    "        th += tmp_th\n",
    "        f1_weighted_auto += tmp_f1_weighted_auto\n",
    "\n",
    "\n",
    "    th /= kfold.get_n_splits()\n",
    "    f1_weighted_auto /= kfold.get_n_splits()\n",
    "    \n",
    "    return th, f1_weighted_auto"
   ]
  },
  {
   "cell_type": "code",
   "execution_count": 135,
   "metadata": {},
   "outputs": [
    {
     "data": {
      "application/vnd.jupyter.widget-view+json": {
       "model_id": "2ac19dc24997497d9487ee5f0e02b235",
       "version_major": 2,
       "version_minor": 0
      },
      "text/plain": [
       "HBox(children=(IntProgress(value=0, max=1383), HTML(value='')))"
      ]
     },
     "metadata": {},
     "output_type": "display_data"
    },
    {
     "name": "stdout",
     "output_type": "stream",
     "text": [
      "\n"
     ]
    },
    {
     "data": {
      "application/vnd.jupyter.widget-view+json": {
       "model_id": "b241357aa576450aa03bc57d17fcce41",
       "version_major": 2,
       "version_minor": 0
      },
      "text/plain": [
       "HBox(children=(IntProgress(value=0, max=1383), HTML(value='')))"
      ]
     },
     "metadata": {},
     "output_type": "display_data"
    },
    {
     "name": "stdout",
     "output_type": "stream",
     "text": [
      "\n"
     ]
    },
    {
     "data": {
      "application/vnd.jupyter.widget-view+json": {
       "model_id": "226f87e4e05a46249544d7408f240203",
       "version_major": 2,
       "version_minor": 0
      },
      "text/plain": [
       "HBox(children=(IntProgress(value=0, max=1394), HTML(value='')))"
      ]
     },
     "metadata": {},
     "output_type": "display_data"
    },
    {
     "name": "stdout",
     "output_type": "stream",
     "text": [
      "\n"
     ]
    },
    {
     "data": {
      "application/vnd.jupyter.widget-view+json": {
       "model_id": "c9e16e427dfa4f41a9ee128f82999cd1",
       "version_major": 2,
       "version_minor": 0
      },
      "text/plain": [
       "HBox(children=(IntProgress(value=0, max=1382), HTML(value='')))"
      ]
     },
     "metadata": {},
     "output_type": "display_data"
    },
    {
     "name": "stdout",
     "output_type": "stream",
     "text": [
      "\n"
     ]
    },
    {
     "data": {
      "application/vnd.jupyter.widget-view+json": {
       "model_id": "da6d2606d786419591564cb418095868",
       "version_major": 2,
       "version_minor": 0
      },
      "text/plain": [
       "HBox(children=(IntProgress(value=0, max=1382), HTML(value='')))"
      ]
     },
     "metadata": {},
     "output_type": "display_data"
    },
    {
     "name": "stdout",
     "output_type": "stream",
     "text": [
      "\n"
     ]
    },
    {
     "data": {
      "text/plain": [
       "(0.5728421449661255, 0.9419619046032333)"
      ]
     },
     "execution_count": 135,
     "metadata": {},
     "output_type": "execute_result"
    }
   ],
   "source": [
    "train_model(X, y)"
   ]
  },
  {
   "cell_type": "code",
   "execution_count": 137,
   "metadata": {},
   "outputs": [],
   "source": [
    "X = np.array(df_train[[f\"{feature}_feature\" for feature in range(5)]])\n",
    "y = np.array(df_train[\"Prediction\"])"
   ]
  },
  {
   "cell_type": "code",
   "execution_count": 141,
   "metadata": {
    "scrolled": false
   },
   "outputs": [
    {
     "data": {
      "application/vnd.jupyter.widget-view+json": {
       "model_id": "258c5ab8f8e7497883a25d6946197755",
       "version_major": 2,
       "version_minor": 0
      },
      "text/plain": [
       "HBox(children=(IntProgress(value=0, max=1384), HTML(value='')))"
      ]
     },
     "metadata": {},
     "output_type": "display_data"
    },
    {
     "name": "stderr",
     "output_type": "stream",
     "text": [
      "/usr/local/lib/python3.7/site-packages/sklearn/metrics/classification.py:1437: UndefinedMetricWarning: F-score is ill-defined and being set to 0.0 in labels with no predicted samples.\n",
      "  'precision', 'predicted', average, warn_for)\n"
     ]
    },
    {
     "name": "stdout",
     "output_type": "stream",
     "text": [
      "\n"
     ]
    },
    {
     "data": {
      "application/vnd.jupyter.widget-view+json": {
       "model_id": "c641233609bb4ce69dc437fb8e227065",
       "version_major": 2,
       "version_minor": 0
      },
      "text/plain": [
       "HBox(children=(IntProgress(value=0, max=1382), HTML(value='')))"
      ]
     },
     "metadata": {},
     "output_type": "display_data"
    },
    {
     "name": "stdout",
     "output_type": "stream",
     "text": [
      "\n"
     ]
    },
    {
     "data": {
      "application/vnd.jupyter.widget-view+json": {
       "model_id": "2bf6ac38cc0b45c9a0a8de01b1b83edd",
       "version_major": 2,
       "version_minor": 0
      },
      "text/plain": [
       "HBox(children=(IntProgress(value=0, max=1385), HTML(value='')))"
      ]
     },
     "metadata": {},
     "output_type": "display_data"
    },
    {
     "name": "stdout",
     "output_type": "stream",
     "text": [
      "\n"
     ]
    },
    {
     "data": {
      "application/vnd.jupyter.widget-view+json": {
       "model_id": "f9ed69c215c24253a3c2d28a9858aa2f",
       "version_major": 2,
       "version_minor": 0
      },
      "text/plain": [
       "HBox(children=(IntProgress(value=0, max=1383), HTML(value='')))"
      ]
     },
     "metadata": {},
     "output_type": "display_data"
    },
    {
     "name": "stdout",
     "output_type": "stream",
     "text": [
      "\n"
     ]
    },
    {
     "data": {
      "application/vnd.jupyter.widget-view+json": {
       "model_id": "265cd45fb826456395f817e51acf640b",
       "version_major": 2,
       "version_minor": 0
      },
      "text/plain": [
       "HBox(children=(IntProgress(value=0, max=1382), HTML(value='')))"
      ]
     },
     "metadata": {},
     "output_type": "display_data"
    },
    {
     "name": "stdout",
     "output_type": "stream",
     "text": [
      "\n",
      "2000 (0.5517725348472595, 0.9445852136807428)\n"
     ]
    },
    {
     "data": {
      "application/vnd.jupyter.widget-view+json": {
       "model_id": "611ab99ce51a43c9ab343c332c9e1dcf",
       "version_major": 2,
       "version_minor": 0
      },
      "text/plain": [
       "HBox(children=(IntProgress(value=0, max=1374), HTML(value='')))"
      ]
     },
     "metadata": {},
     "output_type": "display_data"
    },
    {
     "name": "stderr",
     "output_type": "stream",
     "text": [
      "/usr/local/lib/python3.7/site-packages/sklearn/metrics/classification.py:1437: UndefinedMetricWarning: F-score is ill-defined and being set to 0.0 in labels with no predicted samples.\n",
      "  'precision', 'predicted', average, warn_for)\n"
     ]
    },
    {
     "name": "stdout",
     "output_type": "stream",
     "text": [
      "\n"
     ]
    },
    {
     "data": {
      "application/vnd.jupyter.widget-view+json": {
       "model_id": "adbfb51b0c1a4a7aa69804bf57daa5c1",
       "version_major": 2,
       "version_minor": 0
      },
      "text/plain": [
       "HBox(children=(IntProgress(value=0, max=1374), HTML(value='')))"
      ]
     },
     "metadata": {},
     "output_type": "display_data"
    },
    {
     "name": "stdout",
     "output_type": "stream",
     "text": [
      "\n"
     ]
    },
    {
     "data": {
      "application/vnd.jupyter.widget-view+json": {
       "model_id": "bc51b5a0603a40388de91f28a39548a2",
       "version_major": 2,
       "version_minor": 0
      },
      "text/plain": [
       "HBox(children=(IntProgress(value=0, max=1387), HTML(value='')))"
      ]
     },
     "metadata": {},
     "output_type": "display_data"
    },
    {
     "name": "stdout",
     "output_type": "stream",
     "text": [
      "\n"
     ]
    },
    {
     "data": {
      "application/vnd.jupyter.widget-view+json": {
       "model_id": "42fb23109ec24b2d988553a4b1354de8",
       "version_major": 2,
       "version_minor": 0
      },
      "text/plain": [
       "HBox(children=(IntProgress(value=0, max=1383), HTML(value='')))"
      ]
     },
     "metadata": {},
     "output_type": "display_data"
    },
    {
     "name": "stdout",
     "output_type": "stream",
     "text": [
      "\n"
     ]
    },
    {
     "data": {
      "application/vnd.jupyter.widget-view+json": {
       "model_id": "9572071a04274e68bcacad9553242850",
       "version_major": 2,
       "version_minor": 0
      },
      "text/plain": [
       "HBox(children=(IntProgress(value=0, max=1379), HTML(value='')))"
      ]
     },
     "metadata": {},
     "output_type": "display_data"
    },
    {
     "name": "stdout",
     "output_type": "stream",
     "text": [
      "\n",
      "5000 (0.519924646615982, 0.9432889811635599)\n"
     ]
    },
    {
     "data": {
      "application/vnd.jupyter.widget-view+json": {
       "model_id": "509fd2400b334fcd8feef6d3c5b6cd38",
       "version_major": 2,
       "version_minor": 0
      },
      "text/plain": [
       "HBox(children=(IntProgress(value=0, max=1377), HTML(value='')))"
      ]
     },
     "metadata": {},
     "output_type": "display_data"
    },
    {
     "name": "stderr",
     "output_type": "stream",
     "text": [
      "/usr/local/lib/python3.7/site-packages/sklearn/metrics/classification.py:1437: UndefinedMetricWarning: F-score is ill-defined and being set to 0.0 in labels with no predicted samples.\n",
      "  'precision', 'predicted', average, warn_for)\n"
     ]
    },
    {
     "name": "stdout",
     "output_type": "stream",
     "text": [
      "\n"
     ]
    },
    {
     "data": {
      "application/vnd.jupyter.widget-view+json": {
       "model_id": "66f08755107e47b3997e25df384bd69b",
       "version_major": 2,
       "version_minor": 0
      },
      "text/plain": [
       "HBox(children=(IntProgress(value=0, max=1375), HTML(value='')))"
      ]
     },
     "metadata": {},
     "output_type": "display_data"
    },
    {
     "name": "stdout",
     "output_type": "stream",
     "text": [
      "\n"
     ]
    },
    {
     "data": {
      "application/vnd.jupyter.widget-view+json": {
       "model_id": "9355282bbded41b8b16eed57101f6faa",
       "version_major": 2,
       "version_minor": 0
      },
      "text/plain": [
       "HBox(children=(IntProgress(value=0, max=1381), HTML(value='')))"
      ]
     },
     "metadata": {},
     "output_type": "display_data"
    },
    {
     "name": "stdout",
     "output_type": "stream",
     "text": [
      "\n"
     ]
    },
    {
     "data": {
      "application/vnd.jupyter.widget-view+json": {
       "model_id": "401f663384394e3ebeb45e928ba76752",
       "version_major": 2,
       "version_minor": 0
      },
      "text/plain": [
       "HBox(children=(IntProgress(value=0, max=1385), HTML(value='')))"
      ]
     },
     "metadata": {},
     "output_type": "display_data"
    },
    {
     "name": "stdout",
     "output_type": "stream",
     "text": [
      "\n"
     ]
    },
    {
     "data": {
      "application/vnd.jupyter.widget-view+json": {
       "model_id": "d3b3c7e5660240c4b3478dc95dd609ed",
       "version_major": 2,
       "version_minor": 0
      },
      "text/plain": [
       "HBox(children=(IntProgress(value=0, max=1379), HTML(value='')))"
      ]
     },
     "metadata": {},
     "output_type": "display_data"
    },
    {
     "name": "stdout",
     "output_type": "stream",
     "text": [
      "\n",
      "10000 (0.5474193036556244, 0.9447407591277617)\n"
     ]
    }
   ],
   "source": [
    "for features in [2000, 5000, 10000]:\n",
    "    vectorizer = TfidfVectorizer(max_features=features)\n",
    "    train_vect = vectorizer.fit_transform(train).todense()\n",
    "    X = np.hstack((train_vect, np.array(df_train[[f\"{feature}_feature\" for feature in range(5)]])))\n",
    "    print(features, train_model(X, y))"
   ]
  },
  {
   "cell_type": "code",
   "execution_count": 12,
   "metadata": {},
   "outputs": [
    {
     "data": {
      "application/vnd.jupyter.widget-view+json": {
       "model_id": "7d2ea3ddbbfd4ddcb8e02e171dcfaef3",
       "version_major": 2,
       "version_minor": 0
      },
      "text/plain": [
       "HBox(children=(IntProgress(value=0, max=7043), HTML(value='')))"
      ]
     },
     "metadata": {},
     "output_type": "display_data"
    },
    {
     "name": "stdout",
     "output_type": "stream",
     "text": [
      "\n"
     ]
    }
   ],
   "source": [
    "tqdm.pandas()\n",
    "df_train[\"links_value\"] = df_train[\"PageBase64\"].progress_apply(get_links_number) / df_train[\"0_feature\"]"
   ]
  },
  {
   "cell_type": "code",
   "execution_count": 143,
   "metadata": {},
   "outputs": [],
   "source": [
    "train_subset = [f\"{feature}_feature\" for feature in range(5)] + [\"links_value\"]"
   ]
  },
  {
   "cell_type": "code",
   "execution_count": 145,
   "metadata": {},
   "outputs": [
    {
     "data": {
      "application/vnd.jupyter.widget-view+json": {
       "model_id": "2c0b76a4df204523805e512261c042bf",
       "version_major": 2,
       "version_minor": 0
      },
      "text/plain": [
       "HBox(children=(IntProgress(value=0, max=1388), HTML(value='')))"
      ]
     },
     "metadata": {},
     "output_type": "display_data"
    },
    {
     "name": "stderr",
     "output_type": "stream",
     "text": [
      "/usr/local/lib/python3.7/site-packages/sklearn/metrics/classification.py:1437: UndefinedMetricWarning: F-score is ill-defined and being set to 0.0 in labels with no predicted samples.\n",
      "  'precision', 'predicted', average, warn_for)\n"
     ]
    },
    {
     "name": "stdout",
     "output_type": "stream",
     "text": [
      "\n"
     ]
    },
    {
     "data": {
      "application/vnd.jupyter.widget-view+json": {
       "model_id": "dd0dfe67205d4ed0b03f65f24713421b",
       "version_major": 2,
       "version_minor": 0
      },
      "text/plain": [
       "HBox(children=(IntProgress(value=0, max=1376), HTML(value='')))"
      ]
     },
     "metadata": {},
     "output_type": "display_data"
    },
    {
     "name": "stdout",
     "output_type": "stream",
     "text": [
      "\n"
     ]
    },
    {
     "data": {
      "application/vnd.jupyter.widget-view+json": {
       "model_id": "b6475dc564f541b290a13cf00603a707",
       "version_major": 2,
       "version_minor": 0
      },
      "text/plain": [
       "HBox(children=(IntProgress(value=0, max=1394), HTML(value='')))"
      ]
     },
     "metadata": {},
     "output_type": "display_data"
    },
    {
     "name": "stdout",
     "output_type": "stream",
     "text": [
      "\n"
     ]
    },
    {
     "data": {
      "application/vnd.jupyter.widget-view+json": {
       "model_id": "f1247cc9b6ca480e99ddf3ae1a46ff21",
       "version_major": 2,
       "version_minor": 0
      },
      "text/plain": [
       "HBox(children=(IntProgress(value=0, max=1389), HTML(value='')))"
      ]
     },
     "metadata": {},
     "output_type": "display_data"
    },
    {
     "name": "stdout",
     "output_type": "stream",
     "text": [
      "\n"
     ]
    },
    {
     "data": {
      "application/vnd.jupyter.widget-view+json": {
       "model_id": "fd9fffac92504cd188027714b2611c47",
       "version_major": 2,
       "version_minor": 0
      },
      "text/plain": [
       "HBox(children=(IntProgress(value=0, max=1380), HTML(value='')))"
      ]
     },
     "metadata": {},
     "output_type": "display_data"
    },
    {
     "name": "stdout",
     "output_type": "stream",
     "text": [
      "\n",
      "10000 (0.47043628096580503, 0.9492842637632629)\n"
     ]
    }
   ],
   "source": [
    "# for features in [2000, 5000, 10000]:\n",
    "vectorizer = TfidfVectorizer(max_features=2000)\n",
    "train_vect = vectorizer.fit_transform(train).todense()\n",
    "X = np.hstack((train_vect, np.array(df_train[train_subset])))\n",
    "print(features, train_model(X, y))"
   ]
  },
  {
   "cell_type": "code",
   "execution_count": 15,
   "metadata": {},
   "outputs": [],
   "source": [
    "def get_unique_words_ratio(data):\n",
    "    counts = []\n",
    "    for text in data:\n",
    "        splited_text = text.split(\" \")\n",
    "        counts.append(len(set(splited_text)) / len(splited_text))\n",
    "    return counts"
   ]
  },
  {
   "cell_type": "code",
   "execution_count": 16,
   "metadata": {},
   "outputs": [],
   "source": [
    "df_train[\"unique_words_ratio\"] = get_unique_words_ratio(train)"
   ]
  },
  {
   "cell_type": "code",
   "execution_count": 171,
   "metadata": {},
   "outputs": [
    {
     "name": "stderr",
     "output_type": "stream",
     "text": [
      "/Users/michelle/Library/Python/3.7/lib/python/site-packages/ipykernel_launcher.py:1: MatplotlibDeprecationWarning: \n",
      "The 'normed' kwarg was deprecated in Matplotlib 2.1 and will be removed in 3.1. Use 'density' instead.\n",
      "  \"\"\"Entry point for launching an IPython kernel.\n",
      "/Users/michelle/Library/Python/3.7/lib/python/site-packages/ipykernel_launcher.py:2: MatplotlibDeprecationWarning: \n",
      "The 'normed' kwarg was deprecated in Matplotlib 2.1 and will be removed in 3.1. Use 'density' instead.\n",
      "  \n"
     ]
    },
    {
     "data": {
      "text/plain": [
       "<matplotlib.legend.Legend at 0x12510e390>"
      ]
     },
     "execution_count": 171,
     "metadata": {},
     "output_type": "execute_result"
    },
    {
     "data": {
      "image/png": "[encoded data removed]",
      "text/plain": [
       "<Figure size 432x288 with 1 Axes>"
      ]
     },
     "metadata": {
      "needs_background": "light"
     },
     "output_type": "display_data"
    }
   ],
   "source": [
    "plt.hist(df_train[(df_train[\"Prediction\"] == 1)][\"unique_words_ratio\"], bins=50, label=\"Spam\", normed=True)\n",
    "plt.hist(df_train[(df_train[\"Prediction\"] == 0)][\"unique_words_ratio\"], bins=50, label=\"Norm\", normed=True, alpha=0.7)\n",
    "plt.legend()"
   ]
  },
  {
   "cell_type": "code",
   "execution_count": 172,
   "metadata": {},
   "outputs": [
    {
     "data": {
      "application/vnd.jupyter.widget-view+json": {
       "model_id": "864203da07874cf18f7936c27593a9a2",
       "version_major": 2,
       "version_minor": 0
      },
      "text/plain": [
       "HBox(children=(IntProgress(value=0, max=1386), HTML(value='')))"
      ]
     },
     "metadata": {},
     "output_type": "display_data"
    },
    {
     "name": "stderr",
     "output_type": "stream",
     "text": [
      "/usr/local/lib/python3.7/site-packages/sklearn/metrics/classification.py:1437: UndefinedMetricWarning: F-score is ill-defined and being set to 0.0 in labels with no predicted samples.\n",
      "  'precision', 'predicted', average, warn_for)\n"
     ]
    },
    {
     "name": "stdout",
     "output_type": "stream",
     "text": [
      "\n"
     ]
    },
    {
     "data": {
      "application/vnd.jupyter.widget-view+json": {
       "model_id": "de7ff2eda31841fbac2619960bd6894e",
       "version_major": 2,
       "version_minor": 0
      },
      "text/plain": [
       "HBox(children=(IntProgress(value=0, max=1374), HTML(value='')))"
      ]
     },
     "metadata": {},
     "output_type": "display_data"
    },
    {
     "name": "stdout",
     "output_type": "stream",
     "text": [
      "\n"
     ]
    },
    {
     "data": {
      "application/vnd.jupyter.widget-view+json": {
       "model_id": "177dfae54fe7407e8576f51ef685b39e",
       "version_major": 2,
       "version_minor": 0
      },
      "text/plain": [
       "HBox(children=(IntProgress(value=0, max=1389), HTML(value='')))"
      ]
     },
     "metadata": {},
     "output_type": "display_data"
    },
    {
     "name": "stdout",
     "output_type": "stream",
     "text": [
      "\n"
     ]
    },
    {
     "data": {
      "application/vnd.jupyter.widget-view+json": {
       "model_id": "00d00033338d47cfbe124670f6091469",
       "version_major": 2,
       "version_minor": 0
      },
      "text/plain": [
       "HBox(children=(IntProgress(value=0, max=1388), HTML(value='')))"
      ]
     },
     "metadata": {},
     "output_type": "display_data"
    },
    {
     "name": "stdout",
     "output_type": "stream",
     "text": [
      "\n"
     ]
    },
    {
     "data": {
      "application/vnd.jupyter.widget-view+json": {
       "model_id": "b4780fe40df34650b0930093b39a1a07",
       "version_major": 2,
       "version_minor": 0
      },
      "text/plain": [
       "HBox(children=(IntProgress(value=0, max=1382), HTML(value='')))"
      ]
     },
     "metadata": {},
     "output_type": "display_data"
    },
    {
     "name": "stdout",
     "output_type": "stream",
     "text": [
      "\n",
      "10000 (0.5103693723678588, 0.9512057165912967)\n"
     ]
    }
   ],
   "source": [
    "train_subset = [f\"{feature}_feature\" for feature in range(5)] + [\"links_value\", \"unique_words_ratio\"]\n",
    "vectorizer = TfidfVectorizer(max_features=2000)\n",
    "train_vect = vectorizer.fit_transform(train).todense()\n",
    "X = np.hstack((train_vect, np.array(df_train[train_subset])))\n",
    "print(features, train_model(X, y))"
   ]
  },
  {
   "cell_type": "code",
   "execution_count": 173,
   "metadata": {},
   "outputs": [
    {
     "data": {
      "application/vnd.jupyter.widget-view+json": {
       "model_id": "bb2bb14d145f4468b205020e1d208eb2",
       "version_major": 2,
       "version_minor": 0
      },
      "text/plain": [
       "HBox(children=(IntProgress(value=0, max=6759), HTML(value='')))"
      ]
     },
     "metadata": {},
     "output_type": "display_data"
    },
    {
     "name": "stdout",
     "output_type": "stream",
     "text": [
      "\n"
     ]
    },
    {
     "data": {
      "text/plain": [
       "(0.46827012, 0.9672179424461164)"
      ]
     },
     "execution_count": 173,
     "metadata": {},
     "output_type": "execute_result"
    }
   ],
   "source": [
    "model = XGBClassifier()\n",
    "model.fit(X, y)\n",
    "pred = model.predict_proba(X)[:, 1]\n",
    "optimize_threshold_f1(pred, y)"
   ]
  },
  {
   "cell_type": "code",
   "execution_count": 178,
   "metadata": {},
   "outputs": [],
   "source": [
    "import pickle\n",
    "pickle.dump(model, open(\"model_08_02.pkl\", 'wb'))"
   ]
  },
  {
   "cell_type": "code",
   "execution_count": 14,
   "metadata": {},
   "outputs": [
    {
     "ename": "NameError",
     "evalue": "name 'get_unique_words_ratio' is not defined",
     "output_type": "error",
     "traceback": [
      "\u001b[0;31m---------------------------------------------------------------------------\u001b[0m",
      "\u001b[0;31mNameError\u001b[0m                                 Traceback (most recent call last)",
      "\u001b[0;32m<ipython-input-14-3a68a448df33>\u001b[0m in \u001b[0;36m<module>\u001b[0;34m\u001b[0m\n\u001b[0;32m----> 1\u001b[0;31m \u001b[0mdf_test\u001b[0m\u001b[0;34m[\u001b[0m\u001b[0;34m\"unique_words_ratio\"\u001b[0m\u001b[0;34m]\u001b[0m \u001b[0;34m=\u001b[0m \u001b[0mget_unique_words_ratio\u001b[0m\u001b[0;34m(\u001b[0m\u001b[0mtest\u001b[0m\u001b[0;34m)\u001b[0m\u001b[0;34m\u001b[0m\u001b[0;34m\u001b[0m\u001b[0m\n\u001b[0m",
      "\u001b[0;31mNameError\u001b[0m: name 'get_unique_words_ratio' is not defined"
     ]
    }
   ],
   "source": [
    "df_test[\"unique_words_ratio\"] = get_unique_words_ratio(test)"
   ]
  },
  {
   "cell_type": "code",
   "execution_count": null,
   "metadata": {},
   "outputs": [],
   "source": [
    "tqdm.pandas()\n",
    "df_test[\"links_value\"] = df_test[\"PageBase64\"].progress_apply(get_links_number) / df_test[\"0_feature\"]"
   ]
  },
  {
   "cell_type": "code",
   "execution_count": 181,
   "metadata": {},
   "outputs": [],
   "source": [
    "test_vect = vectorizer.transform(test).todense()"
   ]
  },
  {
   "cell_type": "code",
   "execution_count": 182,
   "metadata": {},
   "outputs": [],
   "source": [
    "X_test = np.hstack((test_vect, np.array(df_test[train_subset])))"
   ]
  },
  {
   "cell_type": "code",
   "execution_count": 186,
   "metadata": {},
   "outputs": [
    {
     "data": {
      "text/html": [
       "<div>\n",
       "<style scoped>\n",
       "    .dataframe tbody tr th:only-of-type {\n",
       "        vertical-align: middle;\n",
       "    }\n",
       "\n",
       "    .dataframe tbody tr th {\n",
       "        vertical-align: top;\n",
       "    }\n",
       "\n",
       "    .dataframe thead th {\n",
       "        text-align: right;\n",
       "    }\n",
       "</style>\n",
       "<table border=\"1\" class=\"dataframe\">\n",
       "  <thead>\n",
       "    <tr style=\"text-align: right;\">\n",
       "      <th></th>\n",
       "      <th>Id</th>\n",
       "      <th>Prediction</th>\n",
       "      <th>Url</th>\n",
       "      <th>PageBase64</th>\n",
       "      <th>0_feature</th>\n",
       "      <th>1_feature</th>\n",
       "      <th>2_feature</th>\n",
       "      <th>3_feature</th>\n",
       "      <th>4_feature</th>\n",
       "      <th>unique_words_ratio</th>\n",
       "      <th>links_value</th>\n",
       "    </tr>\n",
       "  </thead>\n",
       "  <tbody>\n",
       "    <tr>\n",
       "      <th>0</th>\n",
       "      <td>-9219333997282093076</td>\n",
       "      <td>1</td>\n",
       "      <td>http://laventuhhl.ohugi.com/igor-znakomstva-ni...</td>\n",
       "      <td>PGh0bWw+DQoNCjxoZWFkPg0KPE1FVEEgY29udGVudD0idG...</td>\n",
       "      <td>771.0</td>\n",
       "      <td>5.979248</td>\n",
       "      <td>9.0</td>\n",
       "      <td>3.247172</td>\n",
       "      <td>79.0</td>\n",
       "      <td>0.749540</td>\n",
       "      <td>0.029831</td>\n",
       "    </tr>\n",
       "    <tr>\n",
       "      <th>1</th>\n",
       "      <td>-9216796593526314243</td>\n",
       "      <td>0</td>\n",
       "      <td>http://myachina9abbee.front.ru/allinone.html</td>\n",
       "      <td>PCFET0NUWVBFIGh0bWwgUFVCTElDICItLy9XM0MvL0RURC...</td>\n",
       "      <td>485.0</td>\n",
       "      <td>5.536082</td>\n",
       "      <td>5.0</td>\n",
       "      <td>2.879384</td>\n",
       "      <td>72.0</td>\n",
       "      <td>0.747875</td>\n",
       "      <td>0.074227</td>\n",
       "    </tr>\n",
       "    <tr>\n",
       "      <th>2</th>\n",
       "      <td>-9216634615606576667</td>\n",
       "      <td>0</td>\n",
       "      <td>http://petropavl.kz/whouse/autor/autor4.shtml</td>\n",
       "      <td>PCEtLdCY0LTQtdGPINGB0L7Qt9C00LDQvdC40Y8g0Lgg0L...</td>\n",
       "      <td>220.0</td>\n",
       "      <td>6.559091</td>\n",
       "      <td>13.0</td>\n",
       "      <td>3.344770</td>\n",
       "      <td>24.0</td>\n",
       "      <td>0.678571</td>\n",
       "      <td>0.095455</td>\n",
       "    </tr>\n",
       "    <tr>\n",
       "      <th>3</th>\n",
       "      <td>-9215626373068452590</td>\n",
       "      <td>0</td>\n",
       "      <td>http://astro-online.ru/synastry.html</td>\n",
       "      <td>CjwhRE9DVFlQRSBIVE1MIFBVQkxJQyAiLS8vVzNDLy9EVE...</td>\n",
       "      <td>3008.0</td>\n",
       "      <td>6.550199</td>\n",
       "      <td>4.0</td>\n",
       "      <td>11.130094</td>\n",
       "      <td>48.0</td>\n",
       "      <td>0.467682</td>\n",
       "      <td>0.010971</td>\n",
       "    </tr>\n",
       "    <tr>\n",
       "      <th>4</th>\n",
       "      <td>-9215403080479774736</td>\n",
       "      <td>1</td>\n",
       "      <td>http://oxoyhetc.hopto.org/13/62.html</td>\n",
       "      <td>DQoNCg0KPEhUTUw+DQo8SEVBRD4NCjx0aXRsZT7QotC10L...</td>\n",
       "      <td>665.0</td>\n",
       "      <td>6.225564</td>\n",
       "      <td>7.0</td>\n",
       "      <td>3.609824</td>\n",
       "      <td>95.0</td>\n",
       "      <td>0.757261</td>\n",
       "      <td>0.034586</td>\n",
       "    </tr>\n",
       "  </tbody>\n",
       "</table>\n",
       "</div>"
      ],
      "text/plain": [
       "                    Id  Prediction  \\\n",
       "0 -9219333997282093076           1   \n",
       "1 -9216796593526314243           0   \n",
       "2 -9216634615606576667           0   \n",
       "3 -9215626373068452590           0   \n",
       "4 -9215403080479774736           1   \n",
       "\n",
       "                                                 Url  \\\n",
       "0  http://laventuhhl.ohugi.com/igor-znakomstva-ni...   \n",
       "1       http://myachina9abbee.front.ru/allinone.html   \n",
       "2      http://petropavl.kz/whouse/autor/autor4.shtml   \n",
       "3               http://astro-online.ru/synastry.html   \n",
       "4               http://oxoyhetc.hopto.org/13/62.html   \n",
       "\n",
       "                                          PageBase64  0_feature  1_feature  \\\n",
       "0  PGh0bWw+DQoNCjxoZWFkPg0KPE1FVEEgY29udGVudD0idG...      771.0   5.979248   \n",
       "1  PCFET0NUWVBFIGh0bWwgUFVCTElDICItLy9XM0MvL0RURC...      485.0   5.536082   \n",
       "2  PCEtLdCY0LTQtdGPINGB0L7Qt9C00LDQvdC40Y8g0Lgg0L...      220.0   6.559091   \n",
       "3  CjwhRE9DVFlQRSBIVE1MIFBVQkxJQyAiLS8vVzNDLy9EVE...     3008.0   6.550199   \n",
       "4  DQoNCg0KPEhUTUw+DQo8SEVBRD4NCjx0aXRsZT7QotC10L...      665.0   6.225564   \n",
       "\n",
       "   2_feature  3_feature  4_feature  unique_words_ratio  links_value  \n",
       "0        9.0   3.247172       79.0            0.749540     0.029831  \n",
       "1        5.0   2.879384       72.0            0.747875     0.074227  \n",
       "2       13.0   3.344770       24.0            0.678571     0.095455  \n",
       "3        4.0  11.130094       48.0            0.467682     0.010971  \n",
       "4        7.0   3.609824       95.0            0.757261     0.034586  "
      ]
     },
     "execution_count": 186,
     "metadata": {},
     "output_type": "execute_result"
    }
   ],
   "source": [
    "th = 0.5103693723678588\n",
    "pred = model.predict_proba(X_test)[:, 1]\n",
    "df_test[\"Prediction\"] = pred > th\n",
    "df_test[\"Prediction\"] = df_test[\"Prediction\"].apply(lambda x: int(x))\n",
    "df_test.loc[:, [\"Id\", \"Prediction\"]].to_csv(\"antispam_submission_08_02.csv\", index=False)\n",
    "df_test.head() # 0.92 on leaderboard"
   ]
  },
  {
   "cell_type": "code",
   "execution_count": 188,
   "metadata": {},
   "outputs": [],
   "source": [
    "from sklearn.model_selection import GridSearchCV"
   ]
  },
  {
   "cell_type": "code",
   "execution_count": 18,
   "metadata": {},
   "outputs": [],
   "source": [
    "train_subset = [f\"{feature}_feature\" for feature in range(5)] + [\"links_value\", \"unique_words_ratio\"]"
   ]
  },
  {
   "cell_type": "code",
   "execution_count": 19,
   "metadata": {},
   "outputs": [],
   "source": [
    "vectorizer = TfidfVectorizer(2000)\n",
    "train_vect = vectorizer.fit_transform(train).todense()\n",
    "\n",
    "X = np.hstack((train_vect, np.array(df_train[train_subset])))"
   ]
  },
  {
   "cell_type": "code",
   "execution_count": 24,
   "metadata": {},
   "outputs": [],
   "source": [
    "def train_model(X, y):\n",
    "    th = 0\n",
    "    f1_weighted_auto = 0\n",
    "\n",
    "    kfold = KFold(5)\n",
    "    for train_indices, val_indices in kfold.split(y):\n",
    "#         model = XGBClassifier()\n",
    "        model = CatBoostClassifier()\n",
    "\n",
    "        X_train = X[train_indices, :]\n",
    "        y_train = y[train_indices]\n",
    "        model.fit(X_train, y_train)\n",
    "\n",
    "        X_val = X[val_indices, :]\n",
    "        y_val = y[val_indices]\n",
    "        tmp_th, tmp_f1_weighted_auto = optimize_threshold_f1(model.predict_proba(X_val)[:, 1], y_val)\n",
    "\n",
    "        th += tmp_th\n",
    "        f1_weighted_auto += tmp_f1_weighted_auto\n",
    "\n",
    "\n",
    "    th /= kfold.get_n_splits()\n",
    "    f1_weighted_auto /= kfold.get_n_splits()\n",
    "    \n",
    "    return th, f1_weighted_auto"
   ]
  },
  {
   "cell_type": "code",
   "execution_count": 25,
   "metadata": {},
   "outputs": [],
   "source": [
    "y = df_train[\"Prediction\"]"
   ]
  },
  {
   "cell_type": "code",
   "execution_count": null,
   "metadata": {},
   "outputs": [],
   "source": [
    "train_model(X, y)"
   ]
  },
  {
   "cell_type": "code",
   "execution_count": null,
   "metadata": {},
   "outputs": [],
   "source": []
  }
 ],
 "metadata": {
  "kernelspec": {
   "display_name": "Python 3",
   "language": "python",
   "name": "python3"
  },
  "language_info": {
   "codemirror_mode": {
    "name": "ipython",
    "version": 3
   },
   "file_extension": ".py",
   "mimetype": "text/x-python",
   "name": "python",
   "nbconvert_exporter": "python",
   "pygments_lexer": "ipython3",
   "version": "3.7.4"
  }
 },
 "nbformat": 4,
 "nbformat_minor": 4
}
