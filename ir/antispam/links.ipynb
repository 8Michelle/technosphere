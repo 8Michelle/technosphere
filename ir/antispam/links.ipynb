{
 "cells": [
  {
   "cell_type": "code",
   "execution_count": 47,
   "metadata": {},
   "outputs": [],
   "source": [
    "import pkg_resources\n",
    "pkg_resources.require(\"matplotlib==3.1.2\")\n",
    "\n",
    "import pandas as pd\n",
    "import base64\n",
    "from bs4 import BeautifulSoup\n",
    "from tqdm.notebook import tqdm\n",
    "from sklearn.linear_model import LogisticRegression\n",
    "from sklearn.metrics import f1_score\n",
    "import matplotlib.pyplot as plt\n",
    "import numpy as np\n",
    "import lzma\n",
    "from sklearn.model_selection import KFold\n",
    "from multiprocessing.dummy import Pool\n",
    "from urllib.parse import urlparse"
   ]
  },
  {
   "cell_type": "markdown",
   "metadata": {},
   "source": [
    "# Посмотрим, не ссылаются ли страницы на страницы со спамом. На сайты, на которых есть страницы со спамом?"
   ]
  },
  {
   "cell_type": "code",
   "execution_count": 26,
   "metadata": {},
   "outputs": [],
   "source": [
    "df_train = pd.read_csv(\"/Users/michelle/data/kaggle_train_data_tab.csv\", sep='\\t')\n",
    "# df_test = pd.read_csv(\"/Users/michelle/data/kaggle_test_data_tab.csv\", sep='\\t')"
   ]
  },
  {
   "cell_type": "code",
   "execution_count": 6,
   "metadata": {},
   "outputs": [],
   "source": [
    "def get_content(page_base64):\n",
    "    try:\n",
    "        return BeautifulSoup(base64.b64decode(page_base64).decode(\"utf-8\"), \"html.parser\")\n",
    "    except UnicodeDecodeError:\n",
    "        return"
   ]
  },
  {
   "cell_type": "code",
   "execution_count": 5,
   "metadata": {},
   "outputs": [],
   "source": [
    "def get_a_tags(page_base64):\n",
    "    content = get_content(page_base64)\n",
    "    if content:\n",
    "        return content.find_all(\"a\")"
   ]
  },
  {
   "cell_type": "code",
   "execution_count": 8,
   "metadata": {},
   "outputs": [
    {
     "data": {
      "application/vnd.jupyter.widget-view+json": {
       "model_id": "4b1b5268db7941cabf855e1f8d830a08",
       "version_major": 2,
       "version_minor": 0
      },
      "text/plain": [
       "HBox(children=(IntProgress(value=0, max=7044), HTML(value='')))"
      ]
     },
     "metadata": {},
     "output_type": "display_data"
    },
    {
     "name": "stdout",
     "output_type": "stream",
     "text": [
      "\n"
     ]
    }
   ],
   "source": [
    "train_foreign_links = []\n",
    "\n",
    "for page_base64 in tqdm(list(df_train[\"PageBase64\"]), total=df_train.shape[0]):\n",
    "    a_tags = get_a_tags(page_base64)\n",
    "    if a_tags:\n",
    "        links = [tag.get(\"href\") for tag in a_tags if tag]\n",
    "        foreign_links = [link for link in links if (link and (link[:4] == \"http\"))]\n",
    "        train_foreign_links.append(foreign_links)\n",
    "    else:\n",
    "        train_foreign_links.append([])"
   ]
  },
  {
   "cell_type": "code",
   "execution_count": 11,
   "metadata": {},
   "outputs": [],
   "source": [
    "train_spam_urls = set(df_train[df_train[\"Prediction\"] == 1][\"Url\"])"
   ]
  },
  {
   "cell_type": "code",
   "execution_count": 27,
   "metadata": {},
   "outputs": [],
   "source": [
    "train_urls = set(df_train[\"Url\"])"
   ]
  },
  {
   "cell_type": "code",
   "execution_count": 9,
   "metadata": {},
   "outputs": [],
   "source": [
    "flat_train_foreign_links = []\n",
    "for page in train_foreign_links:\n",
    "    for link in page:\n",
    "        flat_train_foreign_links.append(link)"
   ]
  },
  {
   "cell_type": "code",
   "execution_count": 56,
   "metadata": {},
   "outputs": [
    {
     "data": {
      "text/plain": [
       "1010"
      ]
     },
     "execution_count": 56,
     "metadata": {},
     "output_type": "execute_result"
    }
   ],
   "source": [
    "len(train_urls & set(flat_train_foreign_links))"
   ]
  },
  {
   "cell_type": "code",
   "execution_count": 13,
   "metadata": {},
   "outputs": [
    {
     "data": {
      "text/plain": [
       "536"
      ]
     },
     "execution_count": 13,
     "metadata": {},
     "output_type": "execute_result"
    }
   ],
   "source": [
    "len(train_spam_urls & set(flat_train_foreign_links))"
   ]
  },
  {
   "cell_type": "code",
   "execution_count": 37,
   "metadata": {},
   "outputs": [],
   "source": [
    "train_links_to_spam = [int(len(set(links) & train_spam_urls) > 0) for links in train_foreign_links]\n",
    "df_train[\"links_to_spam\"] = np.array(train_links_to_spam)"
   ]
  },
  {
   "cell_type": "code",
   "execution_count": 16,
   "metadata": {},
   "outputs": [
    {
     "data": {
      "text/plain": [
       "552"
      ]
     },
     "execution_count": 16,
     "metadata": {},
     "output_type": "execute_result"
    }
   ],
   "source": [
    "df_train[(df_train[\"links_to_spam\"] == 1) & (df_train[\"Prediction\"] == 1)].shape[0]"
   ]
  },
  {
   "cell_type": "code",
   "execution_count": 17,
   "metadata": {},
   "outputs": [
    {
     "name": "stderr",
     "output_type": "stream",
     "text": [
      "/Users/michelle/Library/Python/3.7/lib/python/site-packages/ipykernel_launcher.py:1: MatplotlibDeprecationWarning: \n",
      "The 'normed' kwarg was deprecated in Matplotlib 2.1 and will be removed in 3.1. Use 'density' instead.\n",
      "  \"\"\"Entry point for launching an IPython kernel.\n",
      "/Users/michelle/Library/Python/3.7/lib/python/site-packages/ipykernel_launcher.py:2: MatplotlibDeprecationWarning: \n",
      "The 'normed' kwarg was deprecated in Matplotlib 2.1 and will be removed in 3.1. Use 'density' instead.\n",
      "  \n"
     ]
    },
    {
     "data": {
      "image/png": "[encoded data removed]",
      "text/plain": [
       "<Figure size 432x288 with 1 Axes>"
      ]
     },
     "metadata": {
      "needs_background": "light"
     },
     "output_type": "display_data"
    }
   ],
   "source": [
    "plt.hist(df_train[(df_train[\"Prediction\"] == 1)][\"links_to_spam\"], label=\"Spam\", normed=True)\n",
    "plt.hist(df_train[(df_train[\"Prediction\"] == 0)][\"links_to_spam\"], label=\"Norm\", normed=True, alpha=0.7)\n",
    "plt.legend();"
   ]
  },
  {
   "cell_type": "code",
   "execution_count": 19,
   "metadata": {},
   "outputs": [],
   "source": [
    "df_sub = pd.read_csv(\"antispam_submission_06_05.csv\")\n",
    "df_sub = pd.merge(df_sub, df_test.loc[:, [\"Id\", \"Url\"]], on=[\"Id\"])\n",
    "test_predicted_links = set(df_sub[df_sub[\"Prediction\"] == 1][\"Url\"])"
   ]
  },
  {
   "cell_type": "code",
   "execution_count": 20,
   "metadata": {},
   "outputs": [],
   "source": [
    "del df_train"
   ]
  },
  {
   "cell_type": "code",
   "execution_count": 21,
   "metadata": {},
   "outputs": [
    {
     "data": {
      "application/vnd.jupyter.widget-view+json": {
       "model_id": "d2b718db435c434ea19003a3efe71303",
       "version_major": 2,
       "version_minor": 0
      },
      "text/plain": [
       "HBox(children=(IntProgress(value=0, max=16039), HTML(value='')))"
      ]
     },
     "metadata": {},
     "output_type": "display_data"
    },
    {
     "name": "stdout",
     "output_type": "stream",
     "text": [
      "\n"
     ]
    }
   ],
   "source": [
    "test_foreign_links = []\n",
    "\n",
    "for page_base64 in tqdm(list(df_test[\"PageBase64\"]), total=df_test.shape[0]):\n",
    "    a_tags = get_a_tags(page_base64)\n",
    "    if a_tags:\n",
    "        links = [tag.get(\"href\") for tag in a_tags if tag]\n",
    "        foreign_links = [link for link in links if (link and (link[:4] == \"http\"))]\n",
    "        test_foreign_links.append(foreign_links)\n",
    "    else:\n",
    "        test_foreign_links.append([])"
   ]
  },
  {
   "cell_type": "code",
   "execution_count": 22,
   "metadata": {},
   "outputs": [],
   "source": [
    "flat_test_foreign_links = []\n",
    "for page in test_foreign_links:\n",
    "    for link in page:\n",
    "        flat_test_foreign_links.append(link)"
   ]
  },
  {
   "cell_type": "code",
   "execution_count": 44,
   "metadata": {},
   "outputs": [],
   "source": [
    "test_urls = set(df_test[\"Url\"])"
   ]
  },
  {
   "cell_type": "code",
   "execution_count": 45,
   "metadata": {},
   "outputs": [
    {
     "data": {
      "text/plain": [
       "1352"
      ]
     },
     "execution_count": 45,
     "metadata": {},
     "output_type": "execute_result"
    }
   ],
   "source": [
    "len(test_urls & set(flat_test_foreign_links))"
   ]
  },
  {
   "cell_type": "code",
   "execution_count": 23,
   "metadata": {},
   "outputs": [
    {
     "data": {
      "text/plain": [
       "3"
      ]
     },
     "execution_count": 23,
     "metadata": {},
     "output_type": "execute_result"
    }
   ],
   "source": [
    "len(train_spam_urls & set(flat_test_foreign_links))"
   ]
  },
  {
   "cell_type": "markdown",
   "metadata": {},
   "source": [
    "# Плохое пересечение ссылок в тестовой выборке и урлов обучающей. Посмотрим, как часто ссылки тестовой выборки ведут на урлы, которые мы предсказали как спам старой моделью"
   ]
  },
  {
   "cell_type": "code",
   "execution_count": 24,
   "metadata": {},
   "outputs": [
    {
     "data": {
      "text/plain": [
       "852"
      ]
     },
     "execution_count": 24,
     "metadata": {},
     "output_type": "execute_result"
    }
   ],
   "source": [
    "len(test_predicted_links & set(flat_test_foreign_links))"
   ]
  },
  {
   "cell_type": "code",
   "execution_count": 32,
   "metadata": {},
   "outputs": [],
   "source": [
    "test_links_to_spam = [int(len(set(links) & test_predicted_links) > 0) for links in test_foreign_links]\n",
    "df_sub[\"links_to_spam\"] = np.array(test_links_to_spam)"
   ]
  },
  {
   "cell_type": "code",
   "execution_count": 39,
   "metadata": {},
   "outputs": [],
   "source": [
    "df_sub[\"Prediction_links\"] = df_sub[\"Prediction\"] | df_sub[\"links_to_spam\"]"
   ]
  },
  {
   "cell_type": "code",
   "execution_count": 40,
   "metadata": {},
   "outputs": [
    {
     "data": {
      "text/plain": [
       "7787"
      ]
     },
     "execution_count": 40,
     "metadata": {},
     "output_type": "execute_result"
    }
   ],
   "source": [
    "df_sub[\"Prediction_links\"].sum()"
   ]
  },
  {
   "cell_type": "code",
   "execution_count": 41,
   "metadata": {},
   "outputs": [
    {
     "data": {
      "text/plain": [
       "7703"
      ]
     },
     "execution_count": 41,
     "metadata": {},
     "output_type": "execute_result"
    }
   ],
   "source": [
    "df_sub[\"Prediction\"].sum()"
   ]
  },
  {
   "cell_type": "code",
   "execution_count": 42,
   "metadata": {},
   "outputs": [],
   "source": [
    "df_sub[\"Prediction\"] = df_sub[\"Prediction_links\"]\n",
    "df_sub.loc[:, [\"Id\", \"Prediction\"]].to_csv(\"antispam_submission_06_06.csv\", index=False)"
   ]
  },
  {
   "cell_type": "markdown",
   "metadata": {},
   "source": [
    "# Модель недостаточно точная, чтобы уточнять ее с использованием ссылок на предсказанный спам. Оставим эту идею на потом. Посмотрим на сайты"
   ]
  },
  {
   "cell_type": "code",
   "execution_count": 49,
   "metadata": {},
   "outputs": [],
   "source": [
    "def get_hostname(url):\n",
    "    parsed_uri = urlparse(url)\n",
    "    result = '{uri.scheme}://{uri.netloc}/'.format(uri=parsed_uri)\n",
    "    return result"
   ]
  },
  {
   "cell_type": "code",
   "execution_count": 50,
   "metadata": {},
   "outputs": [],
   "source": [
    "flat_train_foreign_hostnames = [get_hostname(url) for url in flat_train_foreign_links]"
   ]
  },
  {
   "cell_type": "code",
   "execution_count": 59,
   "metadata": {},
   "outputs": [],
   "source": [
    "train_hosts = [get_hostname(url) for url in train_urls]\n",
    "train_spam_hosts = [get_hostname(url) for url in train_spam_urls]"
   ]
  },
  {
   "cell_type": "code",
   "execution_count": 60,
   "metadata": {},
   "outputs": [
    {
     "data": {
      "text/plain": [
       "3685"
      ]
     },
     "execution_count": 60,
     "metadata": {},
     "output_type": "execute_result"
    }
   ],
   "source": [
    "len(set(train_hosts) & set(flat_train_foreign_hostnames))"
   ]
  },
  {
   "cell_type": "code",
   "execution_count": 62,
   "metadata": {},
   "outputs": [
    {
     "data": {
      "text/plain": [
       "2300"
      ]
     },
     "execution_count": 62,
     "metadata": {},
     "output_type": "execute_result"
    }
   ],
   "source": [
    "len(set(train_spam_hosts) & set(flat_train_foreign_hostnames))"
   ]
  },
  {
   "cell_type": "code",
   "execution_count": 65,
   "metadata": {},
   "outputs": [],
   "source": [
    "train_foreign_hosts = []\n",
    "for links in train_foreign_links:\n",
    "    hosts = [get_hostname(link) for link in links]\n",
    "    train_foreign_hosts.append(set(hosts))"
   ]
  },
  {
   "cell_type": "code",
   "execution_count": 68,
   "metadata": {},
   "outputs": [],
   "source": [
    "train_hosts_to_spam = [int(len(hosts & set(train_spam_hosts)) > 0) for hosts in train_foreign_hosts]\n",
    "df_train[\"hosts_to_spam\"] = np.array(train_hosts_to_spam)"
   ]
  },
  {
   "cell_type": "code",
   "execution_count": 70,
   "metadata": {},
   "outputs": [
    {
     "data": {
      "text/plain": [
       "2354"
      ]
     },
     "execution_count": 70,
     "metadata": {},
     "output_type": "execute_result"
    }
   ],
   "source": [
    "df_train[(df_train[\"hosts_to_spam\"] == 1) & (df_train[\"Prediction\"] == 1)].shape[0]"
   ]
  },
  {
   "cell_type": "code",
   "execution_count": 71,
   "metadata": {},
   "outputs": [
    {
     "name": "stderr",
     "output_type": "stream",
     "text": [
      "/Users/michelle/Library/Python/3.7/lib/python/site-packages/ipykernel_launcher.py:1: MatplotlibDeprecationWarning: \n",
      "The 'normed' kwarg was deprecated in Matplotlib 2.1 and will be removed in 3.1. Use 'density' instead.\n",
      "  \"\"\"Entry point for launching an IPython kernel.\n",
      "/Users/michelle/Library/Python/3.7/lib/python/site-packages/ipykernel_launcher.py:2: MatplotlibDeprecationWarning: \n",
      "The 'normed' kwarg was deprecated in Matplotlib 2.1 and will be removed in 3.1. Use 'density' instead.\n",
      "  \n"
     ]
    },
    {
     "data": {
      "image/png": "[encoded data removed]",
      "text/plain": [
       "<Figure size 432x288 with 1 Axes>"
      ]
     },
     "metadata": {
      "needs_background": "light"
     },
     "output_type": "display_data"
    }
   ],
   "source": [
    "plt.hist(df_train[(df_train[\"Prediction\"] == 1)][\"hosts_to_spam\"], label=\"Spam\", normed=True)\n",
    "plt.hist(df_train[(df_train[\"Prediction\"] == 0)][\"hosts_to_spam\"], label=\"Norm\", normed=True, alpha=0.7)\n",
    "plt.legend();"
   ]
  },
  {
   "cell_type": "code",
   "execution_count": 72,
   "metadata": {},
   "outputs": [],
   "source": [
    "flat_test_foreign_hostnames = [get_hostname(url) for url in flat_test_foreign_links]\n",
    "test_hosts = [get_hostname(url) for url in test_urls]"
   ]
  },
  {
   "cell_type": "code",
   "execution_count": 75,
   "metadata": {},
   "outputs": [
    {
     "data": {
      "text/plain": [
       "197"
      ]
     },
     "execution_count": 75,
     "metadata": {},
     "output_type": "execute_result"
    }
   ],
   "source": [
    "len(set(train_hosts) & set(flat_test_foreign_hostnames))"
   ]
  },
  {
   "cell_type": "code",
   "execution_count": 76,
   "metadata": {},
   "outputs": [
    {
     "data": {
      "text/plain": [
       "57"
      ]
     },
     "execution_count": 76,
     "metadata": {},
     "output_type": "execute_result"
    }
   ],
   "source": [
    "len(set(train_spam_hosts) & set(flat_test_foreign_hostnames))"
   ]
  },
  {
   "cell_type": "code",
   "execution_count": 94,
   "metadata": {},
   "outputs": [],
   "source": [
    "test_foreign_hosts = []\n",
    "for links in test_foreign_links:\n",
    "    hosts = [get_hostname(link) for link in links]\n",
    "    test_foreign_hosts.append(set(hosts))"
   ]
  },
  {
   "cell_type": "code",
   "execution_count": 95,
   "metadata": {},
   "outputs": [],
   "source": [
    "df_sub = pd.read_csv(\"antispam_submission_06_05.csv\")\n",
    "# df_sub = pd.merge(df_sub, df_test.loc[:, [\"Id\", \"Url\"]], on=[\"Id\"])\n",
    "# test_predicted_links = set(df_sub[df_sub[\"Prediction\"] == 1][\"Url\"])"
   ]
  },
  {
   "cell_type": "code",
   "execution_count": 96,
   "metadata": {},
   "outputs": [],
   "source": [
    "test_hosts_to_spam = [int(len(hosts & set(train_spam_hosts)) > 0) for hosts in test_foreign_hosts]\n",
    "df_sub[\"hosts_to_spam\"] = np.array(test_hosts_to_spam)"
   ]
  },
  {
   "cell_type": "code",
   "execution_count": 97,
   "metadata": {},
   "outputs": [],
   "source": [
    "df_sub[\"Prediction\"] = df_sub[\"Prediction\"] | df_sub[\"hosts_to_spam\"]\n",
    "df_sub.loc[:, [\"Id\", \"Prediction\"]].to_csv(\"antispam_submission_06_07.csv\", index=False)"
   ]
  },
  {
   "cell_type": "code",
   "execution_count": 98,
   "metadata": {},
   "outputs": [],
   "source": [
    "df_sub = pd.read_csv(\"antispam_submission_06_05.csv\")\n",
    "df_sub = pd.merge(df_sub, df_test.loc[:, [\"Id\", \"Url\"]], on=[\"Id\"])\n",
    "test_predicted_links = set(df_sub[df_sub[\"Prediction\"] == 1][\"Url\"])"
   ]
  },
  {
   "cell_type": "code",
   "execution_count": 99,
   "metadata": {},
   "outputs": [],
   "source": [
    "test_predicted_hosts = [get_hostname(url) for url in test_predicted_links]"
   ]
  },
  {
   "cell_type": "code",
   "execution_count": 100,
   "metadata": {},
   "outputs": [
    {
     "data": {
      "text/plain": [
       "4111"
      ]
     },
     "execution_count": 100,
     "metadata": {},
     "output_type": "execute_result"
    }
   ],
   "source": [
    "len(set(test_predicted_hosts) & set(flat_test_foreign_hostnames))"
   ]
  },
  {
   "cell_type": "code",
   "execution_count": 101,
   "metadata": {},
   "outputs": [],
   "source": [
    "test_hosts_to_spam = [int(len(set(hosts) & set(test_predicted_hosts)) > 0) for hosts in test_foreign_hosts]\n",
    "df_sub[\"hosts_to_spam\"] = np.array(test_hosts_to_spam)"
   ]
  },
  {
   "cell_type": "code",
   "execution_count": 104,
   "metadata": {},
   "outputs": [],
   "source": [
    "df_sub[\"Prediction\"] = df_sub[\"Prediction\"] | df_sub[\"hosts_to_spam\"]"
   ]
  },
  {
   "cell_type": "code",
   "execution_count": 106,
   "metadata": {},
   "outputs": [],
   "source": [
    "df_sub.loc[:, [\"Id\", \"Prediction\"]].to_csv(\"antispam_submission_06_08.csv\", index=False)"
   ]
  },
  {
   "cell_type": "code",
   "execution_count": 111,
   "metadata": {},
   "outputs": [
    {
     "data": {
      "text/plain": [
       "0.0012038269023633022"
      ]
     },
     "execution_count": 111,
     "metadata": {},
     "output_type": "execute_result"
    }
   ],
   "source": [
    "len(set(train_hosts) & set(test_hosts)) / len(set(train_hosts) ^ set(test_hosts))"
   ]
  },
  {
   "cell_type": "code",
   "execution_count": 114,
   "metadata": {},
   "outputs": [
    {
     "data": {
      "text/plain": [
       "0.058867695453528865"
      ]
     },
     "execution_count": 114,
     "metadata": {},
     "output_type": "execute_result"
    }
   ],
   "source": [
    "len(set(train_hosts) & set(flat_train_foreign_hostnames)) / len(set(train_hosts) ^ set(flat_train_foreign_hostnames))"
   ]
  },
  {
   "cell_type": "code",
   "execution_count": 115,
   "metadata": {},
   "outputs": [
    {
     "data": {
      "text/plain": [
       "0.21375848833776204"
      ]
     },
     "execution_count": 115,
     "metadata": {},
     "output_type": "execute_result"
    }
   ],
   "source": [
    "len(set(test_hosts) & set(flat_test_foreign_hostnames)) / len(set(test_hosts) ^ set(flat_test_foreign_hostnames))"
   ]
  },
  {
   "cell_type": "code",
   "execution_count": 116,
   "metadata": {},
   "outputs": [
    {
     "data": {
      "text/plain": [
       "0.004923769057735566"
      ]
     },
     "execution_count": 116,
     "metadata": {},
     "output_type": "execute_result"
    }
   ],
   "source": [
    "len(set(train_hosts) & set(flat_test_foreign_hostnames)) / len(set(train_hosts) ^ set(flat_test_foreign_hostnames))"
   ]
  },
  {
   "cell_type": "code",
   "execution_count": 117,
   "metadata": {},
   "outputs": [
    {
     "data": {
      "text/plain": [
       "0.03646510448045153"
      ]
     },
     "execution_count": 117,
     "metadata": {},
     "output_type": "execute_result"
    }
   ],
   "source": [
    "len(set(train_spam_hosts) & set(flat_train_foreign_hostnames)) / len(set(train_spam_hosts) ^ set(flat_train_foreign_hostnames))"
   ]
  },
  {
   "cell_type": "code",
   "execution_count": 118,
   "metadata": {},
   "outputs": [
    {
     "data": {
      "text/plain": [
       "0.0015001579113590904"
      ]
     },
     "execution_count": 118,
     "metadata": {},
     "output_type": "execute_result"
    }
   ],
   "source": [
    "len(set(train_spam_hosts) & set(flat_test_foreign_hostnames)) / len(set(train_spam_hosts) ^ set(flat_test_foreign_hostnames))"
   ]
  },
  {
   "cell_type": "code",
   "execution_count": 121,
   "metadata": {},
   "outputs": [
    {
     "data": {
      "text/plain": [
       "1.8383808095952023"
      ]
     },
     "execution_count": 121,
     "metadata": {},
     "output_type": "execute_result"
    }
   ],
   "source": [
    "len(set(test_hosts) & set(test_predicted_hosts)) / len(set(test_hosts) ^ set(test_predicted_hosts))"
   ]
  },
  {
   "cell_type": "markdown",
   "metadata": {},
   "source": [
    "# Итак, пересечение по ссылкам и сайтам из html тестовой выборки с урлами обучающей слишком мало, чтобы как-то повлиять на качество классификации. Попытка забанить сайты или страницы, содержащие ссылки на страницы, помеченные логистической регрессией по 5 признакам как спам, приводят к ухудшению качества. 4 часа на это. Грустно и невкусно"
   ]
  },
  {
   "cell_type": "code",
   "execution_count": null,
   "metadata": {},
   "outputs": [],
   "source": []
  }
 ],
 "metadata": {
  "kernelspec": {
   "display_name": "Python 3",
   "language": "python",
   "name": "python3"
  },
  "language_info": {
   "codemirror_mode": {
    "name": "ipython",
    "version": 3
   },
   "file_extension": ".py",
   "mimetype": "text/x-python",
   "name": "python",
   "nbconvert_exporter": "python",
   "pygments_lexer": "ipython3",
   "version": "3.7.4"
  }
 },
 "nbformat": 4,
 "nbformat_minor": 4
}
