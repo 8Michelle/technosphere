{
 "cells": [
  {
   "cell_type": "code",
   "execution_count": 1,
   "metadata": {},
   "outputs": [
    {
     "name": "stderr",
     "output_type": "stream",
     "text": [
      "/usr/local/lib/python3.7/site-packages/lightgbm/__init__.py:48: UserWarning: Starting from version 2.2.1, the library file in distribution wheels for macOS is built by the Apple Clang (Xcode_8.3.3) compiler.\n",
      "This means that in case of installing LightGBM from PyPI via the ``pip install lightgbm`` command, you don't need to install the gcc compiler anymore.\n",
      "Instead of that, you need to install the OpenMP library, which is required for running LightGBM on the system with the Apple Clang compiler.\n",
      "You can install the OpenMP library by the following command: ``brew install libomp``.\n",
      "  \"You can install the OpenMP library by the following command: ``brew install libomp``.\", UserWarning)\n"
     ]
    }
   ],
   "source": [
    "import pandas as pd\n",
    "import numpy as np\n",
    "from matplotlib import pyplot as plt\n",
    "from sklearn.feature_extraction.text import CountVectorizer, TfidfVectorizer\n",
    "from sklearn.decomposition import PCA, IncrementalPCA, SparsePCA, TruncatedSVD\n",
    "from sklearn.preprocessing import StandardScaler\n",
    "from tqdm.notebook import tqdm\n",
    "from scipy.spatial.distance import cosine\n",
    "from sklearn.model_selection import KFold\n",
    "from sklearn.linear_model import LogisticRegression\n",
    "from sklearn.metrics import roc_auc_score, f1_score\n",
    "from sklearn.base import BaseEstimator, ClassifierMixin\n",
    "from scipy import sparse\n",
    "import pickle\n",
    "from lightgbm import LGBMClassifier\n",
    "from itertools import combinations\n",
    "from scipy.spatial.distance import squareform\n",
    "from scipy.spatial.distance import pdist\n",
    "import scipy\n",
    "\n",
    "import warnings\n",
    "warnings.filterwarnings(\"ignore\")"
   ]
  },
  {
   "cell_type": "code",
   "execution_count": 58,
   "metadata": {},
   "outputs": [],
   "source": [
    "def get_vectors(data, vect_type='count', **voc_params):\n",
    "    if vect_type == 'count':\n",
    "        vectorizer = CountVectorizer(**voc_params)\n",
    "    elif vect_type == 'tfidf':\n",
    "            vectorizer = TfidfVectorizer(min_df=2)\n",
    "    data_vect = vectorizer.fit_transform(data.fillna('')).todense()\n",
    "    scaler = StandardScaler()\n",
    "    data_vect = scaler.fit_transform(data_vect)\n",
    "    return data_vect\n",
    "\n",
    "def make_pca(data_vect):\n",
    "    pca = PCA()\n",
    "    pca.fit(data_vect)\n",
    "    n_c = (pca.explained_variance_ratio_.cumsum() < 0.95).sum()\n",
    "    pca = PCA(n_components=n_c)\n",
    "    data_vect = pca.fit_transform(data_vect)\n",
    "    return data_vect\n",
    "\n",
    "def get_devs(df, n_vecs):\n",
    "    df_list = []\n",
    "    for i in tqdm(df['group_id'].unique(), total=129):\n",
    "        df_i = df[df['group_id'] == i]\n",
    "        vect_i = np.array(df_i.loc[:, [f'{j}_f' for j in range(n_vecs)]])\n",
    "        mean_i = np.mean(vect_i, axis=0)\n",
    "        df_i['dev'] = np.apply_along_axis(lambda x: cosine(x, mean_i), axis=1, arr=vect_i)\n",
    "        df_list.append(df_i)\n",
    "    df_with_dev = pd.concat(df_list)\n",
    "    df = df_with_dev.drop([f'{i}_f' for i in range(n_vecs)], 1)\n",
    "    return df\n",
    "\n",
    "def show_hist(df, column='dev'):\n",
    "    plt.hist(df[df['target'] == 0][column].fillna(0), bins=100, normed=True, label='Out of group')\n",
    "    plt.hist(df[df['target'] == 1][column].fillna(0), bins=100, normed=True, alpha=0.7, label='In group')\n",
    "    plt.title('dev distribution')\n",
    "    plt.legend()\n",
    "\n",
    "def get_th(proba, y_test):\n",
    "    scores = []\n",
    "    ths = np.arange(0.1, 0.9, 0.1)\n",
    "    for i in ths:\n",
    "        scores.append(f1_score(y_test, (proba > i)[:, 1]))\n",
    "    ind = scores.index(max(scores))\n",
    "    th = np.arange(0.1, 0.9, 0.1)[ind]\n",
    "    score = f1_score((proba > th)[:, 1], y_test)\n",
    "    return score, th"
   ]
  },
  {
   "cell_type": "code",
   "execution_count": 3,
   "metadata": {},
   "outputs": [],
   "source": [
    "titles = pd.read_csv('data/clean_titles.csv')"
   ]
  },
  {
   "cell_type": "code",
   "execution_count": 79,
   "metadata": {},
   "outputs": [],
   "source": [
    "headers = pd.read_csv('data/all_headers.tsv', '\\t')"
   ]
  },
  {
   "cell_type": "code",
   "execution_count": 4,
   "metadata": {},
   "outputs": [],
   "source": [
    "voc_params = {'min_df': 5, 'max_df': 0.8}\n",
    "vect_count = get_vectors(titles['clean_title'], **voc_params)"
   ]
  },
  {
   "cell_type": "code",
   "execution_count": 80,
   "metadata": {},
   "outputs": [],
   "source": [
    "voc_params = {'min_df': 5, 'max_df': 0.8}\n",
    "vect_headerst = get_vectors(headers['headers'], **voc_params)"
   ]
  },
  {
   "cell_type": "code",
   "execution_count": 62,
   "metadata": {},
   "outputs": [],
   "source": [
    "scaler = StandardScaler()\n",
    "vect_count = scaler.fit_transform(vect_count)"
   ]
  },
  {
   "cell_type": "code",
   "execution_count": 81,
   "metadata": {},
   "outputs": [],
   "source": [
    "scaler = StandardScaler()\n",
    "vect_headerst = scaler.fit_transform(vect_headerst)"
   ]
  },
  {
   "cell_type": "code",
   "execution_count": 63,
   "metadata": {},
   "outputs": [],
   "source": [
    "titles_count = titles.join(pd.DataFrame(vect_count, columns=[f'{i}_f' for i in range(vect_count.shape[1])]))"
   ]
  },
  {
   "cell_type": "code",
   "execution_count": 83,
   "metadata": {},
   "outputs": [],
   "source": [
    "headers_count = titles.join(pd.DataFrame(vect_headerst, columns=[f'{i}_f' for i in range(vect_headerst.shape[1])]))"
   ]
  },
  {
   "cell_type": "code",
   "execution_count": 86,
   "metadata": {},
   "outputs": [],
   "source": [
    "df_train = pd.read_csv('data/train_groups.csv')"
   ]
  },
  {
   "cell_type": "code",
   "execution_count": 87,
   "metadata": {},
   "outputs": [],
   "source": [
    "df_train_count = pd.merge(df_train, titles_count, how='left', on='doc_id')"
   ]
  },
  {
   "cell_type": "code",
   "execution_count": 88,
   "metadata": {},
   "outputs": [],
   "source": [
    "df_train_headers = pd.merge(df_train, headers_count, how='left', on='doc_id')"
   ]
  },
  {
   "cell_type": "code",
   "execution_count": 89,
   "metadata": {},
   "outputs": [
    {
     "data": {
      "text/html": [
       "<div>\n",
       "<style scoped>\n",
       "    .dataframe tbody tr th:only-of-type {\n",
       "        vertical-align: middle;\n",
       "    }\n",
       "\n",
       "    .dataframe tbody tr th {\n",
       "        vertical-align: top;\n",
       "    }\n",
       "\n",
       "    .dataframe thead th {\n",
       "        text-align: right;\n",
       "    }\n",
       "</style>\n",
       "<table border=\"1\" class=\"dataframe\">\n",
       "  <thead>\n",
       "    <tr style=\"text-align: right;\">\n",
       "      <th></th>\n",
       "      <th>pair_id</th>\n",
       "      <th>group_id</th>\n",
       "      <th>doc_id</th>\n",
       "      <th>target</th>\n",
       "      <th>clean_title</th>\n",
       "      <th>0_f</th>\n",
       "      <th>1_f</th>\n",
       "      <th>2_f</th>\n",
       "      <th>3_f</th>\n",
       "      <th>4_f</th>\n",
       "      <th>...</th>\n",
       "      <th>18057_f</th>\n",
       "      <th>18058_f</th>\n",
       "      <th>18059_f</th>\n",
       "      <th>18060_f</th>\n",
       "      <th>18061_f</th>\n",
       "      <th>18062_f</th>\n",
       "      <th>18063_f</th>\n",
       "      <th>18064_f</th>\n",
       "      <th>18065_f</th>\n",
       "      <th>18066_f</th>\n",
       "    </tr>\n",
       "  </thead>\n",
       "  <tbody>\n",
       "    <tr>\n",
       "      <th>0</th>\n",
       "      <td>1</td>\n",
       "      <td>1</td>\n",
       "      <td>15731</td>\n",
       "      <td>0</td>\n",
       "      <td>ваз замена подшипник ступица нива</td>\n",
       "      <td>-0.013358</td>\n",
       "      <td>-0.017923</td>\n",
       "      <td>-0.013358</td>\n",
       "      <td>-0.012672</td>\n",
       "      <td>-0.013358</td>\n",
       "      <td>...</td>\n",
       "      <td>-0.029317</td>\n",
       "      <td>-0.008545</td>\n",
       "      <td>-0.013358</td>\n",
       "      <td>-0.014081</td>\n",
       "      <td>-0.016368</td>\n",
       "      <td>-0.020381</td>\n",
       "      <td>-0.015806</td>\n",
       "      <td>-0.013358</td>\n",
       "      <td>-0.021046</td>\n",
       "      <td>-0.013358</td>\n",
       "    </tr>\n",
       "    <tr>\n",
       "      <th>1</th>\n",
       "      <td>2</td>\n",
       "      <td>1</td>\n",
       "      <td>14829</td>\n",
       "      <td>0</td>\n",
       "      <td>ваз опт сочи сравнивать цена купить потребител...</td>\n",
       "      <td>-0.013358</td>\n",
       "      <td>-0.017923</td>\n",
       "      <td>-0.013358</td>\n",
       "      <td>-0.012672</td>\n",
       "      <td>-0.013358</td>\n",
       "      <td>...</td>\n",
       "      <td>-0.029317</td>\n",
       "      <td>-0.008545</td>\n",
       "      <td>-0.013358</td>\n",
       "      <td>-0.014081</td>\n",
       "      <td>-0.016368</td>\n",
       "      <td>-0.020381</td>\n",
       "      <td>-0.015806</td>\n",
       "      <td>-0.013358</td>\n",
       "      <td>-0.021046</td>\n",
       "      <td>-0.013358</td>\n",
       "    </tr>\n",
       "    <tr>\n",
       "      <th>2</th>\n",
       "      <td>3</td>\n",
       "      <td>1</td>\n",
       "      <td>15764</td>\n",
       "      <td>0</td>\n",
       "      <td>купить ступица лада калина трансмиссия переход...</td>\n",
       "      <td>-0.013358</td>\n",
       "      <td>-0.017923</td>\n",
       "      <td>-0.013358</td>\n",
       "      <td>-0.012672</td>\n",
       "      <td>-0.013358</td>\n",
       "      <td>...</td>\n",
       "      <td>-0.029317</td>\n",
       "      <td>-0.008545</td>\n",
       "      <td>-0.013358</td>\n",
       "      <td>-0.014081</td>\n",
       "      <td>-0.016368</td>\n",
       "      <td>-0.020381</td>\n",
       "      <td>-0.015806</td>\n",
       "      <td>-0.013358</td>\n",
       "      <td>-0.021046</td>\n",
       "      <td>-0.013358</td>\n",
       "    </tr>\n",
       "    <tr>\n",
       "      <th>3</th>\n",
       "      <td>4</td>\n",
       "      <td>1</td>\n",
       "      <td>17669</td>\n",
       "      <td>0</td>\n",
       "      <td>классика</td>\n",
       "      <td>-0.013358</td>\n",
       "      <td>-0.017923</td>\n",
       "      <td>-0.013358</td>\n",
       "      <td>-0.012672</td>\n",
       "      <td>-0.013358</td>\n",
       "      <td>...</td>\n",
       "      <td>-0.029317</td>\n",
       "      <td>-0.008545</td>\n",
       "      <td>-0.013358</td>\n",
       "      <td>-0.014081</td>\n",
       "      <td>-0.016368</td>\n",
       "      <td>-0.020381</td>\n",
       "      <td>-0.015806</td>\n",
       "      <td>-0.013358</td>\n",
       "      <td>-0.021046</td>\n",
       "      <td>-0.013358</td>\n",
       "    </tr>\n",
       "    <tr>\n",
       "      <th>4</th>\n",
       "      <td>5</td>\n",
       "      <td>1</td>\n",
       "      <td>14852</td>\n",
       "      <td>0</td>\n",
       "      <td>ступица нива замена подшипник свой рука</td>\n",
       "      <td>-0.013358</td>\n",
       "      <td>-0.017923</td>\n",
       "      <td>-0.013358</td>\n",
       "      <td>-0.012672</td>\n",
       "      <td>-0.013358</td>\n",
       "      <td>...</td>\n",
       "      <td>-0.029317</td>\n",
       "      <td>-0.008545</td>\n",
       "      <td>-0.013358</td>\n",
       "      <td>-0.014081</td>\n",
       "      <td>-0.016368</td>\n",
       "      <td>-0.020381</td>\n",
       "      <td>-0.015806</td>\n",
       "      <td>-0.013358</td>\n",
       "      <td>-0.021046</td>\n",
       "      <td>-0.013358</td>\n",
       "    </tr>\n",
       "  </tbody>\n",
       "</table>\n",
       "<p>5 rows × 18072 columns</p>\n",
       "</div>"
      ],
      "text/plain": [
       "   pair_id  group_id  doc_id  target  \\\n",
       "0        1         1   15731       0   \n",
       "1        2         1   14829       0   \n",
       "2        3         1   15764       0   \n",
       "3        4         1   17669       0   \n",
       "4        5         1   14852       0   \n",
       "\n",
       "                                         clean_title       0_f       1_f  \\\n",
       "0                  ваз замена подшипник ступица нива -0.013358 -0.017923   \n",
       "1  ваз опт сочи сравнивать цена купить потребител... -0.013358 -0.017923   \n",
       "2  купить ступица лада калина трансмиссия переход... -0.013358 -0.017923   \n",
       "3                                           классика -0.013358 -0.017923   \n",
       "4            ступица нива замена подшипник свой рука -0.013358 -0.017923   \n",
       "\n",
       "        2_f       3_f       4_f  ...   18057_f   18058_f   18059_f   18060_f  \\\n",
       "0 -0.013358 -0.012672 -0.013358  ... -0.029317 -0.008545 -0.013358 -0.014081   \n",
       "1 -0.013358 -0.012672 -0.013358  ... -0.029317 -0.008545 -0.013358 -0.014081   \n",
       "2 -0.013358 -0.012672 -0.013358  ... -0.029317 -0.008545 -0.013358 -0.014081   \n",
       "3 -0.013358 -0.012672 -0.013358  ... -0.029317 -0.008545 -0.013358 -0.014081   \n",
       "4 -0.013358 -0.012672 -0.013358  ... -0.029317 -0.008545 -0.013358 -0.014081   \n",
       "\n",
       "    18061_f   18062_f   18063_f   18064_f   18065_f   18066_f  \n",
       "0 -0.016368 -0.020381 -0.015806 -0.013358 -0.021046 -0.013358  \n",
       "1 -0.016368 -0.020381 -0.015806 -0.013358 -0.021046 -0.013358  \n",
       "2 -0.016368 -0.020381 -0.015806 -0.013358 -0.021046 -0.013358  \n",
       "3 -0.016368 -0.020381 -0.015806 -0.013358 -0.021046 -0.013358  \n",
       "4 -0.016368 -0.020381 -0.015806 -0.013358 -0.021046 -0.013358  \n",
       "\n",
       "[5 rows x 18072 columns]"
      ]
     },
     "execution_count": 89,
     "metadata": {},
     "output_type": "execute_result"
    }
   ],
   "source": [
    "df_train_headers.head()"
   ]
  },
  {
   "cell_type": "code",
   "execution_count": 67,
   "metadata": {},
   "outputs": [
    {
     "data": {
      "application/vnd.jupyter.widget-view+json": {
       "model_id": "500a94558ee74f39b5eeee751709df96",
       "version_major": 2,
       "version_minor": 0
      },
      "text/plain": [
       "HBox(children=(IntProgress(value=0, max=128), HTML(value='')))"
      ]
     },
     "metadata": {},
     "output_type": "display_data"
    },
    {
     "name": "stdout",
     "output_type": "stream",
     "text": [
      "\n"
     ]
    }
   ],
   "source": [
    "data = []\n",
    "for group_id in tqdm(range(1, 129), total=128):\n",
    "    sample = df_train_count[df_train['group_id'] == group_id]\n",
    "    summary = np.array(sample.loc[:, [f'{i}_f' for i in range(4222)]])\n",
    "    pairwise = pd.DataFrame(\n",
    "        squareform(pdist(summary, metric='cosine')),\n",
    "        columns = [f'{i}_pair' for i in range(1, sample.shape[0] + 1)],\n",
    "        index = [f'{i}_pair' for i in range(1, sample.shape[0] + 1)]\n",
    "    )\n",
    "    pairwise = pairwise.replace(0, np.nan)\n",
    "    pairwise = pairwise.describe().T\n",
    "    pairwise = pairwise.reset_index()\n",
    "    pairwise['index'] = pairwise['index'].apply(lambda x: int(x[0]))\n",
    "    data.append(pairwise)\n",
    "data = pd.concat(data)"
   ]
  },
  {
   "cell_type": "code",
   "execution_count": 91,
   "metadata": {},
   "outputs": [
    {
     "data": {
      "application/vnd.jupyter.widget-view+json": {
       "model_id": "1f038aff0d5a4922b6c6f3e7b95e3b8a",
       "version_major": 2,
       "version_minor": 0
      },
      "text/plain": [
       "HBox(children=(IntProgress(value=0, max=128), HTML(value='')))"
      ]
     },
     "metadata": {},
     "output_type": "display_data"
    },
    {
     "name": "stdout",
     "output_type": "stream",
     "text": [
      "\n"
     ]
    }
   ],
   "source": [
    "data = []\n",
    "for group_id in tqdm(range(1, 129), total=128):\n",
    "    sample = df_train_headers[df_train_headers['group_id'] == group_id]\n",
    "    summary = np.array(sample.loc[:, [f'{i}_f' for i in range(18067)]])\n",
    "    pairwise = pd.DataFrame(\n",
    "        squareform(pdist(summary, metric='cosine')),\n",
    "        columns = [f'{i}_pair' for i in range(1, sample.shape[0] + 1)],\n",
    "        index = [f'{i}_pair' for i in range(1, sample.shape[0] + 1)]\n",
    "    )\n",
    "    pairwise = pairwise.replace(0, np.nan)\n",
    "    pairwise = pairwise.describe().T\n",
    "    pairwise = pairwise.reset_index()\n",
    "    pairwise['index'] = pairwise['index'].apply(lambda x: int(x[0]))\n",
    "    data.append(pairwise)\n",
    "data = pd.concat(data)"
   ]
  },
  {
   "cell_type": "code",
   "execution_count": 92,
   "metadata": {},
   "outputs": [],
   "source": [
    "df_train_headers = pd.merge(df_train, data, how='left', left_on='pair_id', right_on='index')"
   ]
  },
  {
   "cell_type": "code",
   "execution_count": 93,
   "metadata": {},
   "outputs": [],
   "source": [
    "df_train_headers = df_train_headers.drop(['index'], 1)"
   ]
  },
  {
   "cell_type": "code",
   "execution_count": 94,
   "metadata": {},
   "outputs": [
    {
     "data": {
      "text/html": [
       "<div>\n",
       "<style scoped>\n",
       "    .dataframe tbody tr th:only-of-type {\n",
       "        vertical-align: middle;\n",
       "    }\n",
       "\n",
       "    .dataframe tbody tr th {\n",
       "        vertical-align: top;\n",
       "    }\n",
       "\n",
       "    .dataframe thead th {\n",
       "        text-align: right;\n",
       "    }\n",
       "</style>\n",
       "<table border=\"1\" class=\"dataframe\">\n",
       "  <thead>\n",
       "    <tr style=\"text-align: right;\">\n",
       "      <th></th>\n",
       "      <th>pair_id</th>\n",
       "      <th>group_id</th>\n",
       "      <th>doc_id</th>\n",
       "      <th>target</th>\n",
       "      <th>count</th>\n",
       "      <th>mean</th>\n",
       "      <th>std</th>\n",
       "      <th>min</th>\n",
       "      <th>25%</th>\n",
       "      <th>50%</th>\n",
       "      <th>75%</th>\n",
       "      <th>max</th>\n",
       "    </tr>\n",
       "  </thead>\n",
       "  <tbody>\n",
       "    <tr>\n",
       "      <th>0</th>\n",
       "      <td>1</td>\n",
       "      <td>1</td>\n",
       "      <td>15731</td>\n",
       "      <td>0</td>\n",
       "      <td>101.0</td>\n",
       "      <td>0.855639</td>\n",
       "      <td>0.216067</td>\n",
       "      <td>0.000069</td>\n",
       "      <td>0.768482</td>\n",
       "      <td>0.974555</td>\n",
       "      <td>0.997135</td>\n",
       "      <td>1.002755</td>\n",
       "    </tr>\n",
       "    <tr>\n",
       "      <th>1</th>\n",
       "      <td>1</td>\n",
       "      <td>1</td>\n",
       "      <td>15731</td>\n",
       "      <td>0</td>\n",
       "      <td>101.0</td>\n",
       "      <td>0.995293</td>\n",
       "      <td>0.029237</td>\n",
       "      <td>0.721287</td>\n",
       "      <td>0.999847</td>\n",
       "      <td>1.000266</td>\n",
       "      <td>1.000813</td>\n",
       "      <td>1.002645</td>\n",
       "    </tr>\n",
       "    <tr>\n",
       "      <th>2</th>\n",
       "      <td>1</td>\n",
       "      <td>1</td>\n",
       "      <td>15731</td>\n",
       "      <td>0</td>\n",
       "      <td>101.0</td>\n",
       "      <td>0.939369</td>\n",
       "      <td>0.108300</td>\n",
       "      <td>0.505011</td>\n",
       "      <td>0.932100</td>\n",
       "      <td>0.993891</td>\n",
       "      <td>0.999126</td>\n",
       "      <td>1.001784</td>\n",
       "    </tr>\n",
       "    <tr>\n",
       "      <th>3</th>\n",
       "      <td>1</td>\n",
       "      <td>1</td>\n",
       "      <td>15731</td>\n",
       "      <td>0</td>\n",
       "      <td>101.0</td>\n",
       "      <td>0.965228</td>\n",
       "      <td>0.062685</td>\n",
       "      <td>0.580243</td>\n",
       "      <td>0.937938</td>\n",
       "      <td>0.989533</td>\n",
       "      <td>1.001177</td>\n",
       "      <td>1.035460</td>\n",
       "    </tr>\n",
       "    <tr>\n",
       "      <th>4</th>\n",
       "      <td>1</td>\n",
       "      <td>1</td>\n",
       "      <td>15731</td>\n",
       "      <td>0</td>\n",
       "      <td>101.0</td>\n",
       "      <td>0.991052</td>\n",
       "      <td>0.052801</td>\n",
       "      <td>0.476570</td>\n",
       "      <td>0.997536</td>\n",
       "      <td>0.998828</td>\n",
       "      <td>0.999898</td>\n",
       "      <td>1.002934</td>\n",
       "    </tr>\n",
       "  </tbody>\n",
       "</table>\n",
       "</div>"
      ],
      "text/plain": [
       "   pair_id  group_id  doc_id  target  count      mean       std       min  \\\n",
       "0        1         1   15731       0  101.0  0.855639  0.216067  0.000069   \n",
       "1        1         1   15731       0  101.0  0.995293  0.029237  0.721287   \n",
       "2        1         1   15731       0  101.0  0.939369  0.108300  0.505011   \n",
       "3        1         1   15731       0  101.0  0.965228  0.062685  0.580243   \n",
       "4        1         1   15731       0  101.0  0.991052  0.052801  0.476570   \n",
       "\n",
       "        25%       50%       75%       max  \n",
       "0  0.768482  0.974555  0.997135  1.002755  \n",
       "1  0.999847  1.000266  1.000813  1.002645  \n",
       "2  0.932100  0.993891  0.999126  1.001784  \n",
       "3  0.937938  0.989533  1.001177  1.035460  \n",
       "4  0.997536  0.998828  0.999898  1.002934  "
      ]
     },
     "execution_count": 94,
     "metadata": {},
     "output_type": "execute_result"
    }
   ],
   "source": [
    "df_train_headers.head()"
   ]
  },
  {
   "cell_type": "code",
   "execution_count": 95,
   "metadata": {},
   "outputs": [
    {
     "data": {
      "image/png": "[encoded data removed]",
      "text/plain": [
       "<Figure size 432x288 with 1 Axes>"
      ]
     },
     "metadata": {
      "needs_background": "light"
     },
     "output_type": "display_data"
    }
   ],
   "source": [
    "show_hist(df_train_headers, 'mean')"
   ]
  },
  {
   "cell_type": "code",
   "execution_count": 96,
   "metadata": {},
   "outputs": [],
   "source": [
    "def linear_model_cross_val_score(model, df, train_subset=['dev'], cv=5):\n",
    "    indices = df['group_id'].unique()\n",
    "    result = []\n",
    "    ths = 0\n",
    "    for i in range(cv):\n",
    "        train_ids = np.random.choice(indices, indices.shape[0] // 2, replace=False)\n",
    "        test_ids = indices[~np.isin(indices, train_ids)]\n",
    "        train_data = df[df['group_id'].isin(train_ids)]\n",
    "        test_data = df[df['group_id'].isin(test_ids)]\n",
    "        model.fit(train_data.loc[:, train_subset].fillna(0), train_data['target'])\n",
    "        proba = model.predict_proba(test_data.loc[:, train_subset].fillna(0))\n",
    "        score, th = get_th(proba, test_data['target'])\n",
    "        ths += th\n",
    "        result.append(score)\n",
    "    return sum(result) / len(result), ths / len(result)"
   ]
  },
  {
   "cell_type": "code",
   "execution_count": 100,
   "metadata": {},
   "outputs": [
    {
     "data": {
      "text/plain": [
       "(0.3195835113999207, 0.09999999999999999)"
      ]
     },
     "execution_count": 100,
     "metadata": {},
     "output_type": "execute_result"
    }
   ],
   "source": [
    "model = LogisticRegression(C=1)\n",
    "linear_model_cross_val_score(model, df_train_headers, ['mean', 'min', 'max', '25%', '50%', '75%'], 10)"
   ]
  },
  {
   "cell_type": "code",
   "execution_count": 78,
   "metadata": {},
   "outputs": [
    {
     "name": "stdout",
     "output_type": "stream",
     "text": [
      "(0.44688206355537824, 0.1)\n"
     ]
    }
   ],
   "source": [
    "model = LogisticRegression()\n",
    "model.fit(df_train.loc[:, ['mean', 'min', 'max', 'std']].fillna(0), df_train['target'])\n",
    "proba = model.predict_proba(df_train.loc[:, ['mean', 'min', 'max', 'std']].fillna(0))\n",
    "print(get_th(proba, df_train['target']))"
   ]
  },
  {
   "cell_type": "code",
   "execution_count": 105,
   "metadata": {},
   "outputs": [
    {
     "data": {
      "text/plain": [
       "(0.25773191401861884, 0.09999999999999999)"
      ]
     },
     "execution_count": 105,
     "metadata": {},
     "output_type": "execute_result"
    }
   ],
   "source": [
    "model = LGBMClassifier(max_depth=1, n_estimators=1000)\n",
    "linear_model_cross_val_score(model, df_train_headers, ['mean', 'min', 'max', '25%', '50%', '75%'], 10)"
   ]
  },
  {
   "cell_type": "markdown",
   "metadata": {},
   "source": [
    "# Посмотрим, что нам даст IOU"
   ]
  },
  {
   "cell_type": "code",
   "execution_count": null,
   "metadata": {},
   "outputs": [],
   "source": []
  }
 ],
 "metadata": {
  "kernelspec": {
   "display_name": "Python 3",
   "language": "python",
   "name": "python3"
  },
  "language_info": {
   "codemirror_mode": {
    "name": "ipython",
    "version": 3
   },
   "file_extension": ".py",
   "mimetype": "text/x-python",
   "name": "python",
   "nbconvert_exporter": "python",
   "pygments_lexer": "ipython3",
   "version": "3.7.4"
  }
 },
 "nbformat": 4,
 "nbformat_minor": 4
}
