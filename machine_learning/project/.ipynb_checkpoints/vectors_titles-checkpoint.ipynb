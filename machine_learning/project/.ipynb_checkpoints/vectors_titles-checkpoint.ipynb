{
 "cells": [
  {
   "cell_type": "code",
   "execution_count": 45,
   "metadata": {},
   "outputs": [],
   "source": [
    "import pandas as pd\n",
    "import numpy as np\n",
    "from matplotlib import pyplot as plt\n",
    "from sklearn.feature_extraction.text import CountVectorizer, TfidfVectorizer\n",
    "from sklearn.decomposition import PCA, IncrementalPCA, SparsePCA, TruncatedSVD\n",
    "from sklearn.preprocessing import StandardScaler\n",
    "from tqdm.notebook import tqdm\n",
    "from scipy.spatial.distance import cosine\n",
    "from sklearn.model_selection import KFold\n",
    "from sklearn.linear_model import LogisticRegression\n",
    "from sklearn.metrics import roc_auc_score, f1_score\n",
    "from sklearn.base import BaseEstimator, ClassifierMixin\n",
    "from scipy import sparse\n",
    "import pickle\n",
    "from lightgbm import LGBMClassifier\n",
    "\n",
    "import warnings\n",
    "warnings.filterwarnings(\"ignore\")"
   ]
  },
  {
   "cell_type": "code",
   "execution_count": 2,
   "metadata": {},
   "outputs": [],
   "source": [
    "def get_vectors(data, vect_type='count', **voc_params):\n",
    "    if vect_type == 'count':\n",
    "        vectorizer = CountVectorizer(**voc_params)\n",
    "    elif vect_type == 'tfidf':\n",
    "            vectorizer = TfidfVectorizer(min_df=2)\n",
    "    data_vect = vectorizer.fit_transform(data.fillna('')).todense()\n",
    "    scaler = StandardScaler()\n",
    "    data_vect = scaler.fit_transform(data_vect)\n",
    "    return data_vect\n",
    "\n",
    "def make_pca(data_vect):\n",
    "    pca = PCA()\n",
    "    pca.fit(data_vect)\n",
    "    n_c = (pca.explained_variance_ratio_.cumsum() < 0.95).sum()\n",
    "    pca = PCA(n_components=n_c)\n",
    "    data_vect = pca.fit_transform(data_vect)\n",
    "    return data_vect\n",
    "\n",
    "def get_devs(df, n_vecs):\n",
    "    df_list = []\n",
    "    for i in tqdm(df['group_id'].unique(), total=129):\n",
    "        df_i = df[df['group_id'] == i]\n",
    "        vect_i = np.array(df_i.loc[:, [f'{j}_f' for j in range(n_vecs)]])\n",
    "        mean_i = np.mean(vect_i, axis=0)\n",
    "        df_i['dev'] = np.apply_along_axis(lambda x: cosine(x, mean_i), axis=1, arr=vect_i)\n",
    "        df_list.append(df_i)\n",
    "    df_with_dev = pd.concat(df_list)\n",
    "    df = df_with_dev.drop([f'{i}_f' for i in range(n_vecs)], 1)\n",
    "    return df\n",
    "\n",
    "def show_hist(df, column='dev'):\n",
    "    plt.hist(df[df['target'] == 0][column], bins=100, normed=True, label='Out of group')\n",
    "    plt.hist(df[df['target'] == 1][column], bins=100, normed=True, alpha=0.7, label='In group')\n",
    "    plt.title('dev distribution')\n",
    "    plt.legend()\n",
    "\n",
    "def get_th(proba, y_test):\n",
    "    scores = []\n",
    "    ths = np.arange(0.1, 0.9, 0.1)\n",
    "    for i in ths:\n",
    "        scores.append(f1_score(y_test, (proba > i)[:, 1]))\n",
    "    ind = scores.index(max(scores))\n",
    "    th = np.arange(0.1, 0.9, 0.1)[ind]\n",
    "    score = f1_score((proba > th)[:, 1], y_test)\n",
    "    return score, th"
   ]
  },
  {
   "cell_type": "markdown",
   "metadata": {},
   "source": [
    "# Vectors preparing"
   ]
  },
  {
   "cell_type": "code",
   "execution_count": 46,
   "metadata": {},
   "outputs": [],
   "source": [
    "titles = pd.read_csv('data/clean_titles.csv')"
   ]
  },
  {
   "cell_type": "code",
   "execution_count": 51,
   "metadata": {},
   "outputs": [],
   "source": [
    "data_vect_count = get_vectors(titles['clean_title'])\n",
    "data_vect_count = make_pca(data_vect_count)"
   ]
  },
  {
   "cell_type": "code",
   "execution_count": 39,
   "metadata": {},
   "outputs": [],
   "source": [
    "titles_count = titles.join(pd.DataFrame(data_vect_count, columns=[f'{i}_f' for i in range(data_vect_count.shape[1])]))"
   ]
  },
  {
   "cell_type": "code",
   "execution_count": 29,
   "metadata": {},
   "outputs": [],
   "source": [
    "titles_count.to_csv('data/vect_titles_count.csv', index=False)"
   ]
  },
  {
   "cell_type": "code",
   "execution_count": 3,
   "metadata": {},
   "outputs": [],
   "source": [
    "titles_count = pd.read_csv('data/vect_titles_count.csv')"
   ]
  },
  {
   "cell_type": "code",
   "execution_count": 4,
   "metadata": {},
   "outputs": [],
   "source": [
    "df = pd.read_csv('data/train_groups.csv')"
   ]
  },
  {
   "cell_type": "code",
   "execution_count": 5,
   "metadata": {},
   "outputs": [],
   "source": [
    "df_count = pd.merge(df, titles_count, how='left', on='doc_id')"
   ]
  },
  {
   "cell_type": "code",
   "execution_count": 6,
   "metadata": {},
   "outputs": [
    {
     "data": {
      "application/vnd.jupyter.widget-view+json": {
       "model_id": "a6f67bdbaa774ccdb8dbc270b614582f",
       "version_major": 2,
       "version_minor": 0
      },
      "text/plain": [
       "HBox(children=(IntProgress(value=0, max=129), HTML(value='')))"
      ]
     },
     "metadata": {},
     "output_type": "display_data"
    },
    {
     "name": "stdout",
     "output_type": "stream",
     "text": [
      "\n"
     ]
    }
   ],
   "source": [
    "df_count = get_devs(df_count, titles_count.shape[1] - 2)"
   ]
  },
  {
   "cell_type": "code",
   "execution_count": 7,
   "metadata": {},
   "outputs": [
    {
     "data": {
      "image/png": "[encoded data removed]",
      "text/plain": [
       "<Figure size 432x288 with 1 Axes>"
      ]
     },
     "metadata": {
      "needs_background": "light"
     },
     "output_type": "display_data"
    }
   ],
   "source": [
    "show_hist(df_count)"
   ]
  },
  {
   "cell_type": "code",
   "execution_count": 10,
   "metadata": {},
   "outputs": [],
   "source": [
    "data_vect_tfidf = get_vectors(titles['clean_title'], vect_type='tfidf')\n",
    "data_vect_tfidf = make_pca(data_vect_tfidf)"
   ]
  },
  {
   "cell_type": "code",
   "execution_count": 11,
   "metadata": {},
   "outputs": [
    {
     "data": {
      "application/vnd.jupyter.widget-view+json": {
       "model_id": "",
       "version_major": 2,
       "version_minor": 0
      },
      "text/plain": [
       "HBox(children=(IntProgress(value=0, max=129), HTML(value='')))"
      ]
     },
     "metadata": {},
     "output_type": "display_data"
    },
    {
     "name": "stdout",
     "output_type": "stream",
     "text": [
      "\n"
     ]
    }
   ],
   "source": [
    "titles_tfidf = titles.join(pd.DataFrame(data_vect_tfidf, columns=[f'{i}_f' for i in range(data_vect_tfidf.shape[1])]))"
   ]
  },
  {
   "cell_type": "code",
   "execution_count": 51,
   "metadata": {},
   "outputs": [],
   "source": [
    "titles_tfidf.to_csv('data/vect_titles_tf_idf.csv', index=False)"
   ]
  },
  {
   "cell_type": "code",
   "execution_count": 47,
   "metadata": {},
   "outputs": [],
   "source": [
    "titles_tfidf = pd.read_csv('data/vect_titles_tf_idf.csv')"
   ]
  },
  {
   "cell_type": "code",
   "execution_count": 54,
   "metadata": {},
   "outputs": [
    {
     "data": {
      "application/vnd.jupyter.widget-view+json": {
       "model_id": "25ff2ee607b84af69dc3a0efb9364e89",
       "version_major": 2,
       "version_minor": 0
      },
      "text/plain": [
       "HBox(children=(IntProgress(value=0, max=129), HTML(value='')))"
      ]
     },
     "metadata": {},
     "output_type": "display_data"
    },
    {
     "name": "stdout",
     "output_type": "stream",
     "text": [
      "\n"
     ]
    }
   ],
   "source": [
    "df_tfidf = pd.merge(df, titles_tfidf, how='left', on='doc_id')\n",
    "df_tfidf = get_devs(df_tfidf, titles_tfidf.shape[1] - 2)"
   ]
  },
  {
   "cell_type": "code",
   "execution_count": 55,
   "metadata": {},
   "outputs": [
    {
     "data": {
      "image/png": "[encoded data removed]",
      "text/plain": [
       "<Figure size 432x288 with 1 Axes>"
      ]
     },
     "metadata": {
      "needs_background": "light"
     },
     "output_type": "display_data"
    }
   ],
   "source": [
    "show_hist(df_tfidf)"
   ]
  },
  {
   "cell_type": "markdown",
   "metadata": {},
   "source": [
    "# Добавим кросс-валидации"
   ]
  },
  {
   "cell_type": "code",
   "execution_count": 121,
   "metadata": {},
   "outputs": [],
   "source": [
    "class ThresholdModel(BaseEstimator, ClassifierMixin):\n",
    "    \n",
    "    def fit(self, X, y):\n",
    "        scores = []\n",
    "        ths = np.arange(0, X.max(), 0.01)\n",
    "        for th in ths:\n",
    "            scores.append(f1_score(y, (X < th)))\n",
    "        self.train_score = max(scores)\n",
    "        ind = scores.index(self.train_score)\n",
    "        self.th_ = ths[ind]\n",
    "        return self\n",
    "    \n",
    "    def predict(self, X):\n",
    "        return X < self.th_"
   ]
  },
  {
   "cell_type": "code",
   "execution_count": 106,
   "metadata": {},
   "outputs": [],
   "source": [
    "def cross_val_score(model, df, train_subset=['dev'], cv=5):\n",
    "    result = []\n",
    "    indices = df['group_id'].unique()\n",
    "    for i in range(cv):\n",
    "        train_ids = np.random.choice(indices, indices.shape[0] // 2, replace=False)\n",
    "        test_ids = indices[~np.isin(indices, train_ids)]\n",
    "        train_data = df[df['group_id'].isin(train_ids)]\n",
    "        test_data = df[df['group_id'].isin(test_ids)]\n",
    "        model.fit(np.array(train_data.loc[:, train_subset].fillna(0)).reshape(-1, 1), train_data['target'])\n",
    "        score = f1_score(model.predict(np.array(test_data.loc[:, train_subset].fillna(0)).reshape(-1, 1)), test_data['target'])\n",
    "        result.append(score)\n",
    "    return sum(result) / len(result), model.th_\n",
    "\n",
    "def linear_model_cross_val_score(model, df, train_subset=['dev'], cv=5):\n",
    "    indices = df['group_id'].unique()\n",
    "    result = []\n",
    "    ths = 0\n",
    "    for i in range(cv):\n",
    "        train_ids = np.random.choice(indices, indices.shape[0] // 2, replace=False)\n",
    "        test_ids = indices[~np.isin(indices, train_ids)]\n",
    "        train_data = df[df['group_id'].isin(train_ids)]\n",
    "        test_data = df[df['group_id'].isin(test_ids)]\n",
    "        model.fit(train_data.loc[:, train_subset].fillna(0), train_data['target'])\n",
    "        proba = model.predict_proba(test_data.loc[:, train_subset].fillna(0))\n",
    "        score, th = get_th(proba, test_data['target'])\n",
    "        ths += th\n",
    "        result.append(score)\n",
    "    return sum(result) / len(result), ths / len(result)"
   ]
  },
  {
   "cell_type": "code",
   "execution_count": 42,
   "metadata": {},
   "outputs": [
    {
     "name": "stdout",
     "output_type": "stream",
     "text": [
      "My simple model: 0.7128916444203277\n",
      "Logistic regression: 0.7135892396887094\n"
     ]
    }
   ],
   "source": [
    "#count \n",
    "model = ThresholdModel()\n",
    "print('My simple model:', cross_val_score(model, df_count))\n",
    "\n",
    "model = LogisticRegression()\n",
    "print('Logistic regression:', linear_model_cross_val_score(model, df_count))"
   ]
  },
  {
   "cell_type": "code",
   "execution_count": 56,
   "metadata": {},
   "outputs": [
    {
     "name": "stdout",
     "output_type": "stream",
     "text": [
      "My simple model: 0.6944020483280446\n",
      "Logistic regression: 0.6875786907676644\n"
     ]
    }
   ],
   "source": [
    "# tfidf\n",
    "model = ThresholdModel()\n",
    "print('My simple model:', cross_val_score(model, df_tfidf))\n",
    "\n",
    "model = LogisticRegression()\n",
    "print('Logistic regression:', linear_model_cross_val_score(model, df_tfidf))"
   ]
  },
  {
   "cell_type": "markdown",
   "metadata": {},
   "source": [
    "# Подготовим сабмит"
   ]
  },
  {
   "cell_type": "code",
   "execution_count": 62,
   "metadata": {},
   "outputs": [],
   "source": [
    "df_count_train = df_count[df_count['group_id'] > 65]\n",
    "df_count_test = df_count[df_count['group_id'] <= 65]\n",
    "data_train = np.array(df_count_train['dev'].fillna(0)).reshape(-1, 1)\n",
    "data_test = np.array(df_count_test['dev'].fillna(0)).reshape(-1, 1)\n",
    "target_train = df_count_train['target']\n",
    "target_test = df_count_test['target']\n",
    "\n",
    "model = LogisticRegression()\n",
    "model.fit(data_train, target_train)\n",
    "\n",
    "proba = model.predict_proba(data_test)\n",
    "score, th = get_th(proba, target_test)"
   ]
  },
  {
   "cell_type": "code",
   "execution_count": 66,
   "metadata": {},
   "outputs": [
    {
     "data": {
      "text/plain": [
       "LogisticRegression(C=1.0, class_weight=None, dual=False, fit_intercept=True,\n",
       "                   intercept_scaling=1, l1_ratio=None, max_iter=100,\n",
       "                   multi_class='warn', n_jobs=None, penalty='l2',\n",
       "                   random_state=None, solver='warn', tol=0.0001, verbose=0,\n",
       "                   warm_start=False)"
      ]
     },
     "execution_count": 66,
     "metadata": {},
     "output_type": "execute_result"
    }
   ],
   "source": [
    "data = np.array(df_count['dev'].fillna(0)).reshape(-1, 1)\n",
    "target = df_count['target']\n",
    "\n",
    "model = LogisticRegression()\n",
    "model.fit(data, target)"
   ]
  },
  {
   "cell_type": "code",
   "execution_count": 61,
   "metadata": {},
   "outputs": [
    {
     "data": {
      "application/vnd.jupyter.widget-view+json": {
       "model_id": "9ec60ba9c0d741819875546559b14a53",
       "version_major": 2,
       "version_minor": 0
      },
      "text/plain": [
       "HBox(children=(IntProgress(value=0, max=129), HTML(value='')))"
      ]
     },
     "metadata": {},
     "output_type": "display_data"
    },
    {
     "name": "stdout",
     "output_type": "stream",
     "text": [
      "\n"
     ]
    }
   ],
   "source": [
    "df_test = pd.read_csv('data/test_groups.csv')\n",
    "df_test = pd.merge(df_test, titles_count, how='left', on='doc_id')\n",
    "df_test = get_devs(df_test, titles_count.shape[1] - 2)"
   ]
  },
  {
   "cell_type": "code",
   "execution_count": 67,
   "metadata": {},
   "outputs": [],
   "source": [
    "proba = model.predict_proba(np.array(df_test['dev'].fillna(0)).reshape(-1, 1))"
   ]
  },
  {
   "cell_type": "code",
   "execution_count": 69,
   "metadata": {},
   "outputs": [],
   "source": [
    "df_test['target'] = (proba[:, 1] > th)\n",
    "df_test['target'] = df_test['target'].apply(lambda x: int(x))"
   ]
  },
  {
   "cell_type": "code",
   "execution_count": 72,
   "metadata": {},
   "outputs": [],
   "source": [
    "df_test.loc[:, ['pair_id', 'target']].to_csv('predictions/count_lr.csv', index=False)"
   ]
  },
  {
   "cell_type": "markdown",
   "metadata": {},
   "source": [
    "# Сабмит simple model"
   ]
  },
  {
   "cell_type": "code",
   "execution_count": 73,
   "metadata": {},
   "outputs": [
    {
     "data": {
      "text/plain": [
       "ThresholdModel()"
      ]
     },
     "execution_count": 73,
     "metadata": {},
     "output_type": "execute_result"
    }
   ],
   "source": [
    "model = ThresholdModel()\n",
    "model.fit(data, target)"
   ]
  },
  {
   "cell_type": "code",
   "execution_count": 75,
   "metadata": {},
   "outputs": [],
   "source": [
    "df_test['target'] = model.predict(df_test['dev'])\n",
    "df_test['target'] = df_test['target'].apply(lambda x: int(x))"
   ]
  },
  {
   "cell_type": "code",
   "execution_count": 77,
   "metadata": {},
   "outputs": [],
   "source": [
    "df_test.loc[:, ['pair_id', 'target']].to_csv('predictions/count_mm.csv', index=False)"
   ]
  },
  {
   "cell_type": "markdown",
   "metadata": {},
   "source": [
    "# Добавим заголовки из HTML"
   ]
  },
  {
   "cell_type": "code",
   "execution_count": 8,
   "metadata": {},
   "outputs": [],
   "source": [
    "voc_params = {'min_df': 5, 'max_df': 0.8}\n",
    "headers = pd.read_csv('data/all_headers.tsv', sep='\\t')\n",
    "vect = get_vectors(headers['headers'], **voc_params)"
   ]
  },
  {
   "cell_type": "code",
   "execution_count": 10,
   "metadata": {},
   "outputs": [],
   "source": [
    "headers = headers.drop(['headers'], 1)"
   ]
  },
  {
   "cell_type": "code",
   "execution_count": 11,
   "metadata": {},
   "outputs": [],
   "source": [
    "vect = pd.DataFrame(vect, columns=[f'{i}_f' for i in range(vect.shape[1])])"
   ]
  },
  {
   "cell_type": "code",
   "execution_count": 12,
   "metadata": {},
   "outputs": [],
   "source": [
    "vect['doc_id'] = headers['doc_id']"
   ]
  },
  {
   "cell_type": "code",
   "execution_count": 14,
   "metadata": {},
   "outputs": [],
   "source": [
    "df_headers = pd.merge(df, vect, how='left', on='doc_id')"
   ]
  },
  {
   "cell_type": "code",
   "execution_count": 15,
   "metadata": {},
   "outputs": [
    {
     "data": {
      "application/vnd.jupyter.widget-view+json": {
       "model_id": "3eccd6b98ee445489bf99e05d17a9dc2",
       "version_major": 2,
       "version_minor": 0
      },
      "text/plain": [
       "HBox(children=(IntProgress(value=0, max=129), HTML(value='')))"
      ]
     },
     "metadata": {},
     "output_type": "display_data"
    },
    {
     "name": "stdout",
     "output_type": "stream",
     "text": [
      "\n"
     ]
    }
   ],
   "source": [
    "df_headers = get_devs(df_headers, vect.shape[1] - 1)"
   ]
  },
  {
   "cell_type": "code",
   "execution_count": 16,
   "metadata": {},
   "outputs": [
    {
     "data": {
      "image/png": "[encoded data removed]",
      "text/plain": [
       "<Figure size 432x288 with 1 Axes>"
      ]
     },
     "metadata": {
      "needs_background": "light"
     },
     "output_type": "display_data"
    }
   ],
   "source": [
    "show_hist(df_headers)"
   ]
  },
  {
   "cell_type": "code",
   "execution_count": 101,
   "metadata": {},
   "outputs": [
    {
     "name": "stdout",
     "output_type": "stream",
     "text": [
      "My simple model: (0.6779922313482092, 0.8)\n",
      "Logistic regression: (0.6539734520246077, 0.28)\n"
     ]
    }
   ],
   "source": [
    "#count \n",
    "model = ThresholdModel()\n",
    "print('My simple model:', cross_val_score(model, df_headers))\n",
    "\n",
    "model = LogisticRegression()\n",
    "print('Logistic regression:', linear_model_cross_val_score(model, df_headers))"
   ]
  },
  {
   "cell_type": "code",
   "execution_count": 17,
   "metadata": {},
   "outputs": [],
   "source": [
    "df_headers['dev_title'] = df_count['dev']"
   ]
  },
  {
   "cell_type": "code",
   "execution_count": 51,
   "metadata": {},
   "outputs": [
    {
     "name": "stdout",
     "output_type": "stream",
     "text": [
      "Logistic regression: 0.7251385376464526\n"
     ]
    }
   ],
   "source": [
    "model = LogisticRegression()\n",
    "print('Logistic regression:', linear_model_cross_val_score(model, df_headers, train_subset=['dev', 'dev_title']))"
   ]
  },
  {
   "cell_type": "code",
   "execution_count": 81,
   "metadata": {},
   "outputs": [],
   "source": [
    "df_headers['comb_dev'] = np.sqrt(df_headers['dev'] ** 2 + df_headers['dev_title'] ** 2)"
   ]
  },
  {
   "cell_type": "code",
   "execution_count": 103,
   "metadata": {},
   "outputs": [
    {
     "data": {
      "image/png": "[encoded data removed]",
      "text/plain": [
       "<Figure size 432x288 with 1 Axes>"
      ]
     },
     "metadata": {
      "needs_background": "light"
     },
     "output_type": "display_data"
    }
   ],
   "source": [
    "show_hist(df_headers, 'comb_dev')"
   ]
  },
  {
   "cell_type": "code",
   "execution_count": 107,
   "metadata": {},
   "outputs": [
    {
     "name": "stdout",
     "output_type": "stream",
     "text": [
      "My simple model: (0.7124433356409609, 1.1)\n"
     ]
    }
   ],
   "source": [
    "model = ThresholdModel()\n",
    "print('My simple model:', cross_val_score(model, df_headers, train_subset=['comb_dev']))"
   ]
  },
  {
   "cell_type": "markdown",
   "metadata": {},
   "source": [
    "## Сделаем сабмит с логистической регрессией и с бустингом"
   ]
  },
  {
   "cell_type": "code",
   "execution_count": 47,
   "metadata": {},
   "outputs": [],
   "source": [
    "df_headers_train = df_headers[df_headers['group_id'] > 65]\n",
    "df_headers_test = df_headers[df_headers['group_id'] <= 65]\n",
    "data_train = df_headers_train.loc[:, ['dev', 'dev_title']].fillna(0)\n",
    "data_test = df_headers_test.loc[:, ['dev', 'dev_title']].fillna(0)\n",
    "target_train = df_headers_train['target']\n",
    "target_test = df_headers_test['target']\n",
    "\n",
    "model = LogisticRegression()\n",
    "model.fit(data_train, target_train)\n",
    "\n",
    "proba = model.predict_proba(data_test)\n",
    "score, th = get_th(proba, target_test)"
   ]
  },
  {
   "cell_type": "code",
   "execution_count": 44,
   "metadata": {},
   "outputs": [
    {
     "name": "stdout",
     "output_type": "stream",
     "text": [
      "0.7165506263916811 0.26\n"
     ]
    }
   ],
   "source": [
    "scores = []\n",
    "ths = []\n",
    "for _ in range(5):\n",
    "    score, th = linear_model_cross_val_score(LogisticRegression(), df_headers, ['dev', 'dev_title'], 10)\n",
    "    scores.append(score)\n",
    "    ths.append(th)\n",
    "print(sum(scores) / len(scores), sum(ths) / len(ths))"
   ]
  },
  {
   "cell_type": "code",
   "execution_count": 74,
   "metadata": {},
   "outputs": [
    {
     "name": "stdout",
     "output_type": "stream",
     "text": [
      "0.7200248007148667\n"
     ]
    }
   ],
   "source": [
    "score, th = linear_model_cross_val_score(LGBMClassifier(n_estimators=1000, max_depth=1, learning_rate=0.01), df_headers, ['dev', 'dev_title'], 5)\n",
    "print(score)"
   ]
  },
  {
   "cell_type": "code",
   "execution_count": 75,
   "metadata": {},
   "outputs": [
    {
     "name": "stdout",
     "output_type": "stream",
     "text": [
      "0.34\n"
     ]
    }
   ],
   "source": [
    "print(th)"
   ]
  },
  {
   "cell_type": "code",
   "execution_count": 19,
   "metadata": {},
   "outputs": [
    {
     "data": {
      "text/plain": [
       "LogisticRegression(C=1.0, class_weight=None, dual=False, fit_intercept=True,\n",
       "                   intercept_scaling=1, l1_ratio=None, max_iter=100,\n",
       "                   multi_class='warn', n_jobs=None, penalty='l2',\n",
       "                   random_state=None, solver='warn', tol=0.0001, verbose=0,\n",
       "                   warm_start=False)"
      ]
     },
     "execution_count": 19,
     "metadata": {},
     "output_type": "execute_result"
    }
   ],
   "source": [
    "data = df_headers.loc[:, ['dev', 'dev_title']].fillna(0)\n",
    "target = df_headers['target']\n",
    "\n",
    "model = LogisticRegression()\n",
    "model.fit(data, target)"
   ]
  },
  {
   "cell_type": "code",
   "execution_count": 22,
   "metadata": {},
   "outputs": [],
   "source": [
    "pickle.dump(model, open('lgbm_2f.pkl', 'wb'))"
   ]
  },
  {
   "cell_type": "code",
   "execution_count": 76,
   "metadata": {},
   "outputs": [],
   "source": [
    "data = df_headers.loc[:, ['dev', 'dev_title']].fillna(0)\n",
    "target = df_headers['target']\n",
    "\n",
    "model = LGBMClassifier(n_estimators=1000, max_depth=1, learning_rate=0.01)\n",
    "model.fit(data, target)\n",
    "pickle.dump(model, open('lgbm_2f.pkl', 'wb'))"
   ]
  },
  {
   "cell_type": "code",
   "execution_count": 23,
   "metadata": {},
   "outputs": [
    {
     "data": {
      "application/vnd.jupyter.widget-view+json": {
       "model_id": "f979a05134db4f0898d0038cccb9b74d",
       "version_major": 2,
       "version_minor": 0
      },
      "text/plain": [
       "HBox(children=(IntProgress(value=0, max=129), HTML(value='')))"
      ]
     },
     "metadata": {},
     "output_type": "display_data"
    },
    {
     "name": "stdout",
     "output_type": "stream",
     "text": [
      "\n"
     ]
    }
   ],
   "source": [
    "df_test = pd.read_csv('data/test_groups.csv')\n",
    "df_test = pd.merge(df_test, titles_count, how='left', on='doc_id')\n",
    "df_test = get_devs(df_test, titles_count.shape[1] - 2)"
   ]
  },
  {
   "cell_type": "code",
   "execution_count": 25,
   "metadata": {},
   "outputs": [],
   "source": [
    "df_test['dev_title'] = df_test['dev']"
   ]
  },
  {
   "cell_type": "code",
   "execution_count": 29,
   "metadata": {},
   "outputs": [],
   "source": [
    "df_test = pd.merge(df_test, vect, how='left', on='doc_id')"
   ]
  },
  {
   "cell_type": "code",
   "execution_count": 32,
   "metadata": {
    "scrolled": true
   },
   "outputs": [
    {
     "data": {
      "application/vnd.jupyter.widget-view+json": {
       "model_id": "52c77e25cf9a42d5b7a746e4b1b07f7f",
       "version_major": 2,
       "version_minor": 0
      },
      "text/plain": [
       "HBox(children=(IntProgress(value=0, max=129), HTML(value='')))"
      ]
     },
     "metadata": {},
     "output_type": "display_data"
    },
    {
     "name": "stdout",
     "output_type": "stream",
     "text": [
      "\n"
     ]
    }
   ],
   "source": [
    "df_test = get_devs(df_test, size)"
   ]
  },
  {
   "cell_type": "code",
   "execution_count": 77,
   "metadata": {},
   "outputs": [],
   "source": [
    "proba = model.predict_proba(df_test.loc[:, ['dev', 'dev_title']].fillna(0))"
   ]
  },
  {
   "cell_type": "code",
   "execution_count": 78,
   "metadata": {},
   "outputs": [],
   "source": [
    "df_test['target'] = (proba[:, 1] > th)\n",
    "df_test['target'] = df_test['target'].apply(lambda x: int(x))"
   ]
  },
  {
   "cell_type": "code",
   "execution_count": 80,
   "metadata": {},
   "outputs": [],
   "source": [
    "df_test.loc[:, ['pair_id', 'target']].to_csv('predictions/count_lr_2f.csv', index=False)"
   ]
  },
  {
   "cell_type": "code",
   "execution_count": null,
   "metadata": {},
   "outputs": [],
   "source": [
    "df_test.loc[:, ['pair_id', 'target']].to_csv('predictions/count_lgbm_2f.csv', index=False)"
   ]
  },
  {
   "cell_type": "markdown",
   "metadata": {},
   "source": [
    "# Сабмит с комбинированным признаком"
   ]
  },
  {
   "cell_type": "code",
   "execution_count": 115,
   "metadata": {},
   "outputs": [],
   "source": [
    "scaler = StandardScaler(with_mean=False)\n",
    "df_headers['comb_norm_dev'] = scaler.fit_transform(np.array(df_headers['comb_dev']).reshape(-1, 1))"
   ]
  },
  {
   "cell_type": "code",
   "execution_count": 122,
   "metadata": {},
   "outputs": [
    {
     "name": "stdout",
     "output_type": "stream",
     "text": [
      "My simple model: (0.7119082821556066, 4.11)\n"
     ]
    }
   ],
   "source": [
    "model = ThresholdModel()\n",
    "print('My simple model:', cross_val_score(model, df_headers, train_subset=['comb_norm_dev']))"
   ]
  },
  {
   "cell_type": "code",
   "execution_count": 123,
   "metadata": {},
   "outputs": [
    {
     "name": "stdout",
     "output_type": "stream",
     "text": [
      "4.17\n"
     ]
    }
   ],
   "source": [
    "model = ThresholdModel()\n",
    "model.fit(df_headers['comb_norm_dev'], df['target'])\n",
    "print(model.th_)"
   ]
  },
  {
   "cell_type": "code",
   "execution_count": 124,
   "metadata": {},
   "outputs": [],
   "source": [
    "df_test['comb_dev'] = np.sqrt(df_test['dev'] ** 2 + df_test['dev_title'] ** 2)"
   ]
  },
  {
   "cell_type": "code",
   "execution_count": 125,
   "metadata": {},
   "outputs": [],
   "source": [
    "df_test['comb_norm_dev'] = scaler.transform(np.array(df_test['comb_dev']).reshape(-1, 1))"
   ]
  },
  {
   "cell_type": "code",
   "execution_count": 126,
   "metadata": {},
   "outputs": [],
   "source": [
    "df_test['target'] = model.predict(df_test['comb_norm_dev'])\n",
    "df_test['target'] = df_test['target'].apply(lambda x: int(x))"
   ]
  },
  {
   "cell_type": "code",
   "execution_count": 127,
   "metadata": {},
   "outputs": [],
   "source": [
    "df_test.loc[:, ['pair_id', 'target']].to_csv('predictions/count_mm_2f_norm.csv', index=False)"
   ]
  }
 ],
 "metadata": {
  "kernelspec": {
   "display_name": "Python 3",
   "language": "python",
   "name": "python3"
  },
  "language_info": {
   "codemirror_mode": {
    "name": "ipython",
    "version": 3
   },
   "file_extension": ".py",
   "mimetype": "text/x-python",
   "name": "python",
   "nbconvert_exporter": "python",
   "pygments_lexer": "ipython3",
   "version": "3.7.4"
  }
 },
 "nbformat": 4,
 "nbformat_minor": 4
}
