{
 "cells": [
  {
   "cell_type": "code",
   "execution_count": 1,
   "metadata": {},
   "outputs": [
    {
     "name": "stderr",
     "output_type": "stream",
     "text": [
      "/usr/local/lib/python3.7/site-packages/lightgbm/__init__.py:48: UserWarning: Starting from version 2.2.1, the library file in distribution wheels for macOS is built by the Apple Clang (Xcode_8.3.3) compiler.\n",
      "This means that in case of installing LightGBM from PyPI via the ``pip install lightgbm`` command, you don't need to install the gcc compiler anymore.\n",
      "Instead of that, you need to install the OpenMP library, which is required for running LightGBM on the system with the Apple Clang compiler.\n",
      "You can install the OpenMP library by the following command: ``brew install libomp``.\n",
      "  \"You can install the OpenMP library by the following command: ``brew install libomp``.\", UserWarning)\n"
     ]
    }
   ],
   "source": [
    "import pandas as pd\n",
    "import numpy as np\n",
    "from matplotlib import pyplot as plt\n",
    "from sklearn.feature_extraction.text import CountVectorizer, TfidfVectorizer\n",
    "from sklearn.decomposition import PCA, IncrementalPCA, SparsePCA, TruncatedSVD\n",
    "from sklearn.preprocessing import StandardScaler\n",
    "from tqdm.notebook import tqdm\n",
    "from scipy.spatial.distance import cosine\n",
    "from sklearn.model_selection import KFold\n",
    "from sklearn.linear_model import LogisticRegression\n",
    "from sklearn.metrics import roc_auc_score, f1_score\n",
    "from sklearn.base import BaseEstimator, ClassifierMixin\n",
    "from scipy import sparse\n",
    "import pickle\n",
    "from lightgbm import LGBMClassifier\n",
    "from itertools import combinations\n",
    "from scipy.spatial.distance import squareform\n",
    "from scipy.spatial.distance import pdist\n",
    "import scipy\n",
    "\n",
    "import warnings\n",
    "warnings.filterwarnings(\"ignore\")"
   ]
  },
  {
   "cell_type": "code",
   "execution_count": 2,
   "metadata": {},
   "outputs": [],
   "source": [
    "def get_vectors(data, vect_type='count', **voc_params):\n",
    "    if vect_type == 'count':\n",
    "        vectorizer = CountVectorizer(**voc_params)\n",
    "    elif vect_type == 'tfidf':\n",
    "            vectorizer = TfidfVectorizer(min_df=2)\n",
    "    data_vect = vectorizer.fit_transform(data.fillna('')).todense()\n",
    "    scaler = StandardScaler()\n",
    "    data_vect = scaler.fit_transform(data_vect)\n",
    "    return data_vect\n",
    "\n",
    "def make_pca(data_vect):\n",
    "    pca = PCA()\n",
    "    pca.fit(data_vect)\n",
    "    n_c = (pca.explained_variance_ratio_.cumsum() < 0.95).sum()\n",
    "    pca = PCA(n_components=n_c)\n",
    "    data_vect = pca.fit_transform(data_vect)\n",
    "    return data_vect\n",
    "\n",
    "def get_devs(df, n_vecs):\n",
    "    df_list = []\n",
    "    for i in tqdm(df['group_id'].unique(), total=129):\n",
    "        df_i = df[df['group_id'] == i]\n",
    "        vect_i = np.array(df_i.loc[:, [f'{j}_f' for j in range(n_vecs)]])\n",
    "        mean_i = np.mean(vect_i, axis=0)\n",
    "        df_i['dev'] = np.apply_along_axis(lambda x: cosine(x, mean_i), axis=1, arr=vect_i)\n",
    "        df_list.append(df_i)\n",
    "    df_with_dev = pd.concat(df_list)\n",
    "    df = df_with_dev.drop([f'{i}_f' for i in range(n_vecs)], 1)\n",
    "    return df\n",
    "\n",
    "def show_hist(df, column='dev'):\n",
    "    plt.hist(df[df['target'] == 0][column].fillna(0), bins=100, normed=True, label='Out of group')\n",
    "    plt.hist(df[df['target'] == 1][column].fillna(0), bins=100, normed=True, alpha=0.7, label='In group')\n",
    "    plt.title('dev distribution')\n",
    "    plt.legend()\n",
    "\n",
    "def get_th(proba, y_test):\n",
    "    scores = []\n",
    "    ths = np.arange(0.1, 0.9, 0.1)\n",
    "    for i in ths:\n",
    "        scores.append(f1_score(y_test, (proba > i)[:, 1]))\n",
    "    ind = scores.index(max(scores))\n",
    "    th = np.arange(0.1, 0.9, 0.1)[ind]\n",
    "    score = f1_score((proba > th)[:, 1], y_test)\n",
    "    return score, th"
   ]
  },
  {
   "cell_type": "markdown",
   "metadata": {},
   "source": [
    "# Train headers devs"
   ]
  },
  {
   "cell_type": "code",
   "execution_count": 3,
   "metadata": {},
   "outputs": [],
   "source": [
    "df_train = pd.read_csv('data/train_groups.csv')"
   ]
  },
  {
   "cell_type": "code",
   "execution_count": 13,
   "metadata": {},
   "outputs": [],
   "source": [
    "# headers = pd.read_csv('data/all_headers.tsv', sep='\\t')\n",
    "# voc_params = {'min_df': 5, 'max_df': 0.8}\n",
    "# vect_headers = get_vectors(headers['headers'], **voc_params)\n",
    "# headers = headers.join(pd.DataFrame(vect_headers, columns=[f'{i}_f' for i in range(vect_headers.shape[1])]))\n",
    "df_train_headers = pd.merge(df_train, headers, how='left', on='doc_id')"
   ]
  },
  {
   "cell_type": "code",
   "execution_count": 5,
   "metadata": {},
   "outputs": [
    {
     "data": {
      "application/vnd.jupyter.widget-view+json": {
       "model_id": "d4e1cf24f6c34f4c8d3274b3ce1bc0d7",
       "version_major": 2,
       "version_minor": 0
      },
      "text/plain": [
       "HBox(children=(IntProgress(value=0, max=129), HTML(value='')))"
      ]
     },
     "metadata": {},
     "output_type": "display_data"
    },
    {
     "name": "stdout",
     "output_type": "stream",
     "text": [
      "\n"
     ]
    },
    {
     "ename": "KeyError",
     "evalue": "\"['clean_title'] not found in axis\"",
     "output_type": "error",
     "traceback": [
      "\u001b[0;31m-------------------------------------------------------------------------\u001b[0m",
      "\u001b[0;31mKeyError\u001b[0m                                Traceback (most recent call last)",
      "\u001b[0;32m<ipython-input-5-a3fda7a6d4d6>\u001b[0m in \u001b[0;36m<module>\u001b[0;34m\u001b[0m\n\u001b[1;32m      1\u001b[0m \u001b[0mdf_train_headers_devs\u001b[0m \u001b[0;34m=\u001b[0m \u001b[0mget_devs\u001b[0m\u001b[0;34m(\u001b[0m\u001b[0mdf_train_headers\u001b[0m\u001b[0;34m,\u001b[0m \u001b[0mheaders\u001b[0m\u001b[0;34m.\u001b[0m\u001b[0mshape\u001b[0m\u001b[0;34m[\u001b[0m\u001b[0;36m1\u001b[0m\u001b[0;34m]\u001b[0m \u001b[0;34m-\u001b[0m \u001b[0;36m2\u001b[0m\u001b[0;34m)\u001b[0m\u001b[0;34m\u001b[0m\u001b[0;34m\u001b[0m\u001b[0m\n\u001b[0;32m----> 2\u001b[0;31m \u001b[0mdf_train_headers_devs\u001b[0m \u001b[0;34m=\u001b[0m \u001b[0mdf_train_headers_devs\u001b[0m\u001b[0;34m.\u001b[0m\u001b[0mdrop\u001b[0m\u001b[0;34m(\u001b[0m\u001b[0;34m[\u001b[0m\u001b[0;34m'group_id'\u001b[0m\u001b[0;34m,\u001b[0m \u001b[0;34m'doc_id'\u001b[0m\u001b[0;34m,\u001b[0m \u001b[0;34m'target'\u001b[0m\u001b[0;34m,\u001b[0m \u001b[0;34m'clean_title'\u001b[0m\u001b[0;34m]\u001b[0m\u001b[0;34m,\u001b[0m \u001b[0;36m1\u001b[0m\u001b[0;34m)\u001b[0m\u001b[0;34m\u001b[0m\u001b[0;34m\u001b[0m\u001b[0m\n\u001b[0m",
      "\u001b[0;32m~/Library/Python/3.7/lib/python/site-packages/pandas/core/frame.py\u001b[0m in \u001b[0;36mdrop\u001b[0;34m(self, labels, axis, index, columns, level, inplace, errors)\u001b[0m\n\u001b[1;32m   3995\u001b[0m             \u001b[0mlevel\u001b[0m\u001b[0;34m=\u001b[0m\u001b[0mlevel\u001b[0m\u001b[0;34m,\u001b[0m\u001b[0;34m\u001b[0m\u001b[0;34m\u001b[0m\u001b[0m\n\u001b[1;32m   3996\u001b[0m             \u001b[0minplace\u001b[0m\u001b[0;34m=\u001b[0m\u001b[0minplace\u001b[0m\u001b[0;34m,\u001b[0m\u001b[0;34m\u001b[0m\u001b[0;34m\u001b[0m\u001b[0m\n\u001b[0;32m-> 3997\u001b[0;31m             \u001b[0merrors\u001b[0m\u001b[0;34m=\u001b[0m\u001b[0merrors\u001b[0m\u001b[0;34m,\u001b[0m\u001b[0;34m\u001b[0m\u001b[0;34m\u001b[0m\u001b[0m\n\u001b[0m\u001b[1;32m   3998\u001b[0m         )\n\u001b[1;32m   3999\u001b[0m \u001b[0;34m\u001b[0m\u001b[0m\n",
      "\u001b[0;32m~/Library/Python/3.7/lib/python/site-packages/pandas/core/generic.py\u001b[0m in \u001b[0;36mdrop\u001b[0;34m(self, labels, axis, index, columns, level, inplace, errors)\u001b[0m\n\u001b[1;32m   3934\u001b[0m         \u001b[0;32mfor\u001b[0m \u001b[0maxis\u001b[0m\u001b[0;34m,\u001b[0m \u001b[0mlabels\u001b[0m \u001b[0;32min\u001b[0m \u001b[0maxes\u001b[0m\u001b[0;34m.\u001b[0m\u001b[0mitems\u001b[0m\u001b[0;34m(\u001b[0m\u001b[0;34m)\u001b[0m\u001b[0;34m:\u001b[0m\u001b[0;34m\u001b[0m\u001b[0;34m\u001b[0m\u001b[0m\n\u001b[1;32m   3935\u001b[0m             \u001b[0;32mif\u001b[0m \u001b[0mlabels\u001b[0m \u001b[0;32mis\u001b[0m \u001b[0;32mnot\u001b[0m \u001b[0;32mNone\u001b[0m\u001b[0;34m:\u001b[0m\u001b[0;34m\u001b[0m\u001b[0;34m\u001b[0m\u001b[0m\n\u001b[0;32m-> 3936\u001b[0;31m                 \u001b[0mobj\u001b[0m \u001b[0;34m=\u001b[0m \u001b[0mobj\u001b[0m\u001b[0;34m.\u001b[0m\u001b[0m_drop_axis\u001b[0m\u001b[0;34m(\u001b[0m\u001b[0mlabels\u001b[0m\u001b[0;34m,\u001b[0m \u001b[0maxis\u001b[0m\u001b[0;34m,\u001b[0m \u001b[0mlevel\u001b[0m\u001b[0;34m=\u001b[0m\u001b[0mlevel\u001b[0m\u001b[0;34m,\u001b[0m \u001b[0merrors\u001b[0m\u001b[0;34m=\u001b[0m\u001b[0merrors\u001b[0m\u001b[0;34m)\u001b[0m\u001b[0;34m\u001b[0m\u001b[0;34m\u001b[0m\u001b[0m\n\u001b[0m\u001b[1;32m   3937\u001b[0m \u001b[0;34m\u001b[0m\u001b[0m\n\u001b[1;32m   3938\u001b[0m         \u001b[0;32mif\u001b[0m \u001b[0minplace\u001b[0m\u001b[0;34m:\u001b[0m\u001b[0;34m\u001b[0m\u001b[0;34m\u001b[0m\u001b[0m\n",
      "\u001b[0;32m~/Library/Python/3.7/lib/python/site-packages/pandas/core/generic.py\u001b[0m in \u001b[0;36m_drop_axis\u001b[0;34m(self, labels, axis, level, errors)\u001b[0m\n\u001b[1;32m   3968\u001b[0m                 \u001b[0mnew_axis\u001b[0m \u001b[0;34m=\u001b[0m \u001b[0maxis\u001b[0m\u001b[0;34m.\u001b[0m\u001b[0mdrop\u001b[0m\u001b[0;34m(\u001b[0m\u001b[0mlabels\u001b[0m\u001b[0;34m,\u001b[0m \u001b[0mlevel\u001b[0m\u001b[0;34m=\u001b[0m\u001b[0mlevel\u001b[0m\u001b[0;34m,\u001b[0m \u001b[0merrors\u001b[0m\u001b[0;34m=\u001b[0m\u001b[0merrors\u001b[0m\u001b[0;34m)\u001b[0m\u001b[0;34m\u001b[0m\u001b[0;34m\u001b[0m\u001b[0m\n\u001b[1;32m   3969\u001b[0m             \u001b[0;32melse\u001b[0m\u001b[0;34m:\u001b[0m\u001b[0;34m\u001b[0m\u001b[0;34m\u001b[0m\u001b[0m\n\u001b[0;32m-> 3970\u001b[0;31m                 \u001b[0mnew_axis\u001b[0m \u001b[0;34m=\u001b[0m \u001b[0maxis\u001b[0m\u001b[0;34m.\u001b[0m\u001b[0mdrop\u001b[0m\u001b[0;34m(\u001b[0m\u001b[0mlabels\u001b[0m\u001b[0;34m,\u001b[0m \u001b[0merrors\u001b[0m\u001b[0;34m=\u001b[0m\u001b[0merrors\u001b[0m\u001b[0;34m)\u001b[0m\u001b[0;34m\u001b[0m\u001b[0;34m\u001b[0m\u001b[0m\n\u001b[0m\u001b[1;32m   3971\u001b[0m             \u001b[0mresult\u001b[0m \u001b[0;34m=\u001b[0m \u001b[0mself\u001b[0m\u001b[0;34m.\u001b[0m\u001b[0mreindex\u001b[0m\u001b[0;34m(\u001b[0m\u001b[0;34m**\u001b[0m\u001b[0;34m{\u001b[0m\u001b[0maxis_name\u001b[0m\u001b[0;34m:\u001b[0m \u001b[0mnew_axis\u001b[0m\u001b[0;34m}\u001b[0m\u001b[0;34m)\u001b[0m\u001b[0;34m\u001b[0m\u001b[0;34m\u001b[0m\u001b[0m\n\u001b[1;32m   3972\u001b[0m \u001b[0;34m\u001b[0m\u001b[0m\n",
      "\u001b[0;32m~/Library/Python/3.7/lib/python/site-packages/pandas/core/indexes/base.py\u001b[0m in \u001b[0;36mdrop\u001b[0;34m(self, labels, errors)\u001b[0m\n\u001b[1;32m   5015\u001b[0m         \u001b[0;32mif\u001b[0m \u001b[0mmask\u001b[0m\u001b[0;34m.\u001b[0m\u001b[0many\u001b[0m\u001b[0;34m(\u001b[0m\u001b[0;34m)\u001b[0m\u001b[0;34m:\u001b[0m\u001b[0;34m\u001b[0m\u001b[0;34m\u001b[0m\u001b[0m\n\u001b[1;32m   5016\u001b[0m             \u001b[0;32mif\u001b[0m \u001b[0merrors\u001b[0m \u001b[0;34m!=\u001b[0m \u001b[0;34m\"ignore\"\u001b[0m\u001b[0;34m:\u001b[0m\u001b[0;34m\u001b[0m\u001b[0;34m\u001b[0m\u001b[0m\n\u001b[0;32m-> 5017\u001b[0;31m                 \u001b[0;32mraise\u001b[0m \u001b[0mKeyError\u001b[0m\u001b[0;34m(\u001b[0m\u001b[0;34mf\"{labels[mask]} not found in axis\"\u001b[0m\u001b[0;34m)\u001b[0m\u001b[0;34m\u001b[0m\u001b[0;34m\u001b[0m\u001b[0m\n\u001b[0m\u001b[1;32m   5018\u001b[0m             \u001b[0mindexer\u001b[0m \u001b[0;34m=\u001b[0m \u001b[0mindexer\u001b[0m\u001b[0;34m[\u001b[0m\u001b[0;34m~\u001b[0m\u001b[0mmask\u001b[0m\u001b[0;34m]\u001b[0m\u001b[0;34m\u001b[0m\u001b[0;34m\u001b[0m\u001b[0m\n\u001b[1;32m   5019\u001b[0m         \u001b[0;32mreturn\u001b[0m \u001b[0mself\u001b[0m\u001b[0;34m.\u001b[0m\u001b[0mdelete\u001b[0m\u001b[0;34m(\u001b[0m\u001b[0mindexer\u001b[0m\u001b[0;34m)\u001b[0m\u001b[0;34m\u001b[0m\u001b[0;34m\u001b[0m\u001b[0m\n",
      "\u001b[0;31mKeyError\u001b[0m: \"['clean_title'] not found in axis\""
     ]
    }
   ],
   "source": [
    "df_train_headers_devs = get_devs(df_train_headers, headers.shape[1] - 2)"
   ]
  },
  {
   "cell_type": "code",
   "execution_count": 6,
   "metadata": {},
   "outputs": [],
   "source": [
    "df_train_headers_devs = df_train_headers_devs.drop(['group_id', 'doc_id', 'target', 'headers'], 1)"
   ]
  },
  {
   "cell_type": "markdown",
   "metadata": {},
   "source": [
    "# Test headers devs"
   ]
  },
  {
   "cell_type": "code",
   "execution_count": 12,
   "metadata": {},
   "outputs": [],
   "source": [
    "df_test = pd.read_csv('data/test_groups.csv')\n",
    "df_test_headers = pd.merge(df_test, headers, how='left', on='doc_id')\n",
    "df_test_headers_devs = get_devs(df_test_headers, headers.shape[1] - 2)"
   ]
  },
  {
   "cell_type": "code",
   "execution_count": 11,
   "metadata": {},
   "outputs": [],
   "source": [
    "df_test_headers_devs = df_test_headers_devs.drop(['group_id', 'doc_id', 'headers'], 1)"
   ]
  },
  {
   "cell_type": "markdown",
   "metadata": {},
   "source": [
    "# Train headers dist"
   ]
  },
  {
   "cell_type": "code",
   "execution_count": 14,
   "metadata": {},
   "outputs": [
    {
     "data": {
      "application/vnd.jupyter.widget-view+json": {
       "model_id": "14b7a4e523b34bd5b940c8631b09063c",
       "version_major": 2,
       "version_minor": 0
      },
      "text/plain": [
       "HBox(children=(IntProgress(value=0, max=128), HTML(value='')))"
      ]
     },
     "metadata": {},
     "output_type": "display_data"
    },
    {
     "name": "stdout",
     "output_type": "stream",
     "text": [
      "\n"
     ]
    }
   ],
   "source": [
    "data = []\n",
    "for group_id in tqdm(range(1, 129), total=128):\n",
    "    sample = df_train_headers[df_train_headers['group_id'] == group_id]\n",
    "    summary = np.array(sample.loc[:, [f'{i}_f' for i in range(4222)]])\n",
    "    pairwise = pd.DataFrame(\n",
    "        squareform(pdist(summary, metric='cosine')),\n",
    "        columns = sample['pair_id'],\n",
    "        index = sample['pair_id']\n",
    "    )\n",
    "    pairwise = pairwise.replace(0, np.nan)\n",
    "    pairwise = pairwise.describe().T\n",
    "    pairwise = pairwise.reset_index()\n",
    "    data.append(pairwise)\n",
    "df_train_headers_data = pd.concat(data)"
   ]
  },
  {
   "cell_type": "code",
   "execution_count": 15,
   "metadata": {},
   "outputs": [],
   "source": [
    "df_train_headers_dist = pd.merge(df_train, df_train_headers_data, how='left', on='pair_id')"
   ]
  },
  {
   "cell_type": "markdown",
   "metadata": {},
   "source": [
    "# Test headers dist"
   ]
  },
  {
   "cell_type": "code",
   "execution_count": 20,
   "metadata": {},
   "outputs": [
    {
     "data": {
      "application/vnd.jupyter.widget-view+json": {
       "model_id": "bd21e6ece4214149ad4f3797f9ec9f9e",
       "version_major": 2,
       "version_minor": 0
      },
      "text/plain": [
       "HBox(children=(IntProgress(value=0, max=180), HTML(value='')))"
      ]
     },
     "metadata": {},
     "output_type": "display_data"
    },
    {
     "name": "stdout",
     "output_type": "stream",
     "text": [
      "\n"
     ]
    }
   ],
   "source": [
    "data = []\n",
    "groups = df_test_headers['group_id'].unique()\n",
    "for group_id in tqdm(groups, total=groups.shape[0]):\n",
    "    sample = df_test_headers[df_test_headers['group_id'] == group_id]\n",
    "    summary = np.array(sample.loc[:, [f'{i}_f' for i in range(4222)]])\n",
    "    pairwise = pd.DataFrame(\n",
    "        squareform(pdist(summary, metric='cosine')),\n",
    "        columns = sample['pair_id'],\n",
    "        index = sample['pair_id']\n",
    "    )\n",
    "    pairwise = pairwise.replace(0, np.nan)\n",
    "    pairwise = pairwise.describe().T\n",
    "    pairwise = pairwise.reset_index()\n",
    "    data.append(pairwise)\n",
    "df_test_headers_data = pd.concat(data)"
   ]
  },
  {
   "cell_type": "code",
   "execution_count": 21,
   "metadata": {},
   "outputs": [],
   "source": [
    "df_test_headers_dist = pd.merge(df_test, df_test_headers_data, how='left', on='pair_id')"
   ]
  },
  {
   "cell_type": "markdown",
   "metadata": {},
   "source": [
    "# collect everything"
   ]
  },
  {
   "cell_type": "code",
   "execution_count": 22,
   "metadata": {},
   "outputs": [
    {
     "data": {
      "text/html": [
       "<div>\n",
       "<style scoped>\n",
       "    .dataframe tbody tr th:only-of-type {\n",
       "        vertical-align: middle;\n",
       "    }\n",
       "\n",
       "    .dataframe tbody tr th {\n",
       "        vertical-align: top;\n",
       "    }\n",
       "\n",
       "    .dataframe thead th {\n",
       "        text-align: right;\n",
       "    }\n",
       "</style>\n",
       "<table border=\"1\" class=\"dataframe\">\n",
       "  <thead>\n",
       "    <tr style=\"text-align: right;\">\n",
       "      <th></th>\n",
       "      <th>pair_id</th>\n",
       "      <th>dev</th>\n",
       "    </tr>\n",
       "  </thead>\n",
       "  <tbody>\n",
       "    <tr>\n",
       "      <th>0</th>\n",
       "      <td>1</td>\n",
       "      <td>0.539270</td>\n",
       "    </tr>\n",
       "    <tr>\n",
       "      <th>1</th>\n",
       "      <td>2</td>\n",
       "      <td>0.901806</td>\n",
       "    </tr>\n",
       "    <tr>\n",
       "      <th>2</th>\n",
       "      <td>3</td>\n",
       "      <td>0.693755</td>\n",
       "    </tr>\n",
       "    <tr>\n",
       "      <th>3</th>\n",
       "      <td>4</td>\n",
       "      <td>0.965767</td>\n",
       "    </tr>\n",
       "    <tr>\n",
       "      <th>4</th>\n",
       "      <td>5</td>\n",
       "      <td>0.567833</td>\n",
       "    </tr>\n",
       "  </tbody>\n",
       "</table>\n",
       "</div>"
      ],
      "text/plain": [
       "   pair_id       dev\n",
       "0        1  0.539270\n",
       "1        2  0.901806\n",
       "2        3  0.693755\n",
       "3        4  0.965767\n",
       "4        5  0.567833"
      ]
     },
     "execution_count": 22,
     "metadata": {},
     "output_type": "execute_result"
    }
   ],
   "source": [
    "df_train_headers_devs.head()"
   ]
  },
  {
   "cell_type": "code",
   "execution_count": 23,
   "metadata": {},
   "outputs": [
    {
     "data": {
      "text/html": [
       "<div>\n",
       "<style scoped>\n",
       "    .dataframe tbody tr th:only-of-type {\n",
       "        vertical-align: middle;\n",
       "    }\n",
       "\n",
       "    .dataframe tbody tr th {\n",
       "        vertical-align: top;\n",
       "    }\n",
       "\n",
       "    .dataframe thead th {\n",
       "        text-align: right;\n",
       "    }\n",
       "</style>\n",
       "<table border=\"1\" class=\"dataframe\">\n",
       "  <thead>\n",
       "    <tr style=\"text-align: right;\">\n",
       "      <th></th>\n",
       "      <th>pair_id</th>\n",
       "      <th>group_id</th>\n",
       "      <th>doc_id</th>\n",
       "      <th>target</th>\n",
       "      <th>count</th>\n",
       "      <th>mean</th>\n",
       "      <th>std</th>\n",
       "      <th>min</th>\n",
       "      <th>25%</th>\n",
       "      <th>50%</th>\n",
       "      <th>75%</th>\n",
       "      <th>max</th>\n",
       "    </tr>\n",
       "  </thead>\n",
       "  <tbody>\n",
       "    <tr>\n",
       "      <th>0</th>\n",
       "      <td>1</td>\n",
       "      <td>1</td>\n",
       "      <td>15731</td>\n",
       "      <td>0</td>\n",
       "      <td>95.0</td>\n",
       "      <td>0.71496</td>\n",
       "      <td>0.363963</td>\n",
       "      <td>0.018718</td>\n",
       "      <td>0.219760</td>\n",
       "      <td>0.939260</td>\n",
       "      <td>0.985120</td>\n",
       "      <td>1.019248</td>\n",
       "    </tr>\n",
       "    <tr>\n",
       "      <th>1</th>\n",
       "      <td>2</td>\n",
       "      <td>1</td>\n",
       "      <td>14829</td>\n",
       "      <td>0</td>\n",
       "      <td>95.0</td>\n",
       "      <td>0.71496</td>\n",
       "      <td>0.363963</td>\n",
       "      <td>0.018718</td>\n",
       "      <td>0.219760</td>\n",
       "      <td>0.939260</td>\n",
       "      <td>0.985120</td>\n",
       "      <td>1.019248</td>\n",
       "    </tr>\n",
       "    <tr>\n",
       "      <th>2</th>\n",
       "      <td>3</td>\n",
       "      <td>1</td>\n",
       "      <td>15764</td>\n",
       "      <td>0</td>\n",
       "      <td>82.0</td>\n",
       "      <td>0.81418</td>\n",
       "      <td>0.312631</td>\n",
       "      <td>0.017840</td>\n",
       "      <td>0.804409</td>\n",
       "      <td>0.967244</td>\n",
       "      <td>0.997562</td>\n",
       "      <td>1.041416</td>\n",
       "    </tr>\n",
       "    <tr>\n",
       "      <th>3</th>\n",
       "      <td>4</td>\n",
       "      <td>1</td>\n",
       "      <td>17669</td>\n",
       "      <td>0</td>\n",
       "      <td>82.0</td>\n",
       "      <td>0.81418</td>\n",
       "      <td>0.312631</td>\n",
       "      <td>0.017840</td>\n",
       "      <td>0.804409</td>\n",
       "      <td>0.967244</td>\n",
       "      <td>0.997562</td>\n",
       "      <td>1.041416</td>\n",
       "    </tr>\n",
       "    <tr>\n",
       "      <th>4</th>\n",
       "      <td>5</td>\n",
       "      <td>1</td>\n",
       "      <td>14852</td>\n",
       "      <td>0</td>\n",
       "      <td>82.0</td>\n",
       "      <td>0.81418</td>\n",
       "      <td>0.312631</td>\n",
       "      <td>0.017840</td>\n",
       "      <td>0.804409</td>\n",
       "      <td>0.967244</td>\n",
       "      <td>0.997562</td>\n",
       "      <td>1.041416</td>\n",
       "    </tr>\n",
       "  </tbody>\n",
       "</table>\n",
       "</div>"
      ],
      "text/plain": [
       "   pair_id  group_id  doc_id  target  count     mean       std       min  \\\n",
       "0        1         1   15731       0   95.0  0.71496  0.363963  0.018718   \n",
       "1        2         1   14829       0   95.0  0.71496  0.363963  0.018718   \n",
       "2        3         1   15764       0   82.0  0.81418  0.312631  0.017840   \n",
       "3        4         1   17669       0   82.0  0.81418  0.312631  0.017840   \n",
       "4        5         1   14852       0   82.0  0.81418  0.312631  0.017840   \n",
       "\n",
       "        25%       50%       75%       max  \n",
       "0  0.219760  0.939260  0.985120  1.019248  \n",
       "1  0.219760  0.939260  0.985120  1.019248  \n",
       "2  0.804409  0.967244  0.997562  1.041416  \n",
       "3  0.804409  0.967244  0.997562  1.041416  \n",
       "4  0.804409  0.967244  0.997562  1.041416  "
      ]
     },
     "execution_count": 23,
     "metadata": {},
     "output_type": "execute_result"
    }
   ],
   "source": [
    "df_train_headers_dist.head()"
   ]
  },
  {
   "cell_type": "code",
   "execution_count": 24,
   "metadata": {},
   "outputs": [],
   "source": [
    "df_train_headers_all = pd.merge(df_train_headers_devs, df_train_headers_dist, how='inner', on='pair_id')\n",
    "df_test_headers_all = pd.merge(df_test_headers_devs, df_test_headers_dist, how='inner', on='pair_id')"
   ]
  },
  {
   "cell_type": "code",
   "execution_count": 25,
   "metadata": {},
   "outputs": [],
   "source": [
    "df_test_titles_all = pd.read_csv('data/all_test_30_05.csv')\n",
    "df_train_titles_all = pd.read_csv('data/all_train_30_05.csv')"
   ]
  },
  {
   "cell_type": "code",
   "execution_count": 30,
   "metadata": {},
   "outputs": [
    {
     "data": {
      "text/html": [
       "<div>\n",
       "<style scoped>\n",
       "    .dataframe tbody tr th:only-of-type {\n",
       "        vertical-align: middle;\n",
       "    }\n",
       "\n",
       "    .dataframe tbody tr th {\n",
       "        vertical-align: top;\n",
       "    }\n",
       "\n",
       "    .dataframe thead th {\n",
       "        text-align: right;\n",
       "    }\n",
       "</style>\n",
       "<table border=\"1\" class=\"dataframe\">\n",
       "  <thead>\n",
       "    <tr style=\"text-align: right;\">\n",
       "      <th></th>\n",
       "      <th>pair_id</th>\n",
       "      <th>dev</th>\n",
       "      <th>count</th>\n",
       "      <th>mean</th>\n",
       "      <th>std</th>\n",
       "      <th>min</th>\n",
       "      <th>25%</th>\n",
       "      <th>50%</th>\n",
       "      <th>75%</th>\n",
       "      <th>max</th>\n",
       "    </tr>\n",
       "  </thead>\n",
       "  <tbody>\n",
       "    <tr>\n",
       "      <th>0</th>\n",
       "      <td>1</td>\n",
       "      <td>0.539270</td>\n",
       "      <td>95.0</td>\n",
       "      <td>0.71496</td>\n",
       "      <td>0.363963</td>\n",
       "      <td>0.018718</td>\n",
       "      <td>0.219760</td>\n",
       "      <td>0.939260</td>\n",
       "      <td>0.985120</td>\n",
       "      <td>1.019248</td>\n",
       "    </tr>\n",
       "    <tr>\n",
       "      <th>1</th>\n",
       "      <td>2</td>\n",
       "      <td>0.901806</td>\n",
       "      <td>95.0</td>\n",
       "      <td>0.71496</td>\n",
       "      <td>0.363963</td>\n",
       "      <td>0.018718</td>\n",
       "      <td>0.219760</td>\n",
       "      <td>0.939260</td>\n",
       "      <td>0.985120</td>\n",
       "      <td>1.019248</td>\n",
       "    </tr>\n",
       "    <tr>\n",
       "      <th>2</th>\n",
       "      <td>3</td>\n",
       "      <td>0.693755</td>\n",
       "      <td>82.0</td>\n",
       "      <td>0.81418</td>\n",
       "      <td>0.312631</td>\n",
       "      <td>0.017840</td>\n",
       "      <td>0.804409</td>\n",
       "      <td>0.967244</td>\n",
       "      <td>0.997562</td>\n",
       "      <td>1.041416</td>\n",
       "    </tr>\n",
       "    <tr>\n",
       "      <th>3</th>\n",
       "      <td>4</td>\n",
       "      <td>0.965767</td>\n",
       "      <td>82.0</td>\n",
       "      <td>0.81418</td>\n",
       "      <td>0.312631</td>\n",
       "      <td>0.017840</td>\n",
       "      <td>0.804409</td>\n",
       "      <td>0.967244</td>\n",
       "      <td>0.997562</td>\n",
       "      <td>1.041416</td>\n",
       "    </tr>\n",
       "    <tr>\n",
       "      <th>4</th>\n",
       "      <td>5</td>\n",
       "      <td>0.567833</td>\n",
       "      <td>82.0</td>\n",
       "      <td>0.81418</td>\n",
       "      <td>0.312631</td>\n",
       "      <td>0.017840</td>\n",
       "      <td>0.804409</td>\n",
       "      <td>0.967244</td>\n",
       "      <td>0.997562</td>\n",
       "      <td>1.041416</td>\n",
       "    </tr>\n",
       "  </tbody>\n",
       "</table>\n",
       "</div>"
      ],
      "text/plain": [
       "   pair_id       dev  count     mean       std       min       25%       50%  \\\n",
       "0        1  0.539270   95.0  0.71496  0.363963  0.018718  0.219760  0.939260   \n",
       "1        2  0.901806   95.0  0.71496  0.363963  0.018718  0.219760  0.939260   \n",
       "2        3  0.693755   82.0  0.81418  0.312631  0.017840  0.804409  0.967244   \n",
       "3        4  0.965767   82.0  0.81418  0.312631  0.017840  0.804409  0.967244   \n",
       "4        5  0.567833   82.0  0.81418  0.312631  0.017840  0.804409  0.967244   \n",
       "\n",
       "        75%       max  \n",
       "0  0.985120  1.019248  \n",
       "1  0.985120  1.019248  \n",
       "2  0.997562  1.041416  \n",
       "3  0.997562  1.041416  \n",
       "4  0.997562  1.041416  "
      ]
     },
     "execution_count": 30,
     "metadata": {},
     "output_type": "execute_result"
    }
   ],
   "source": [
    "df_train_headers_all.head()"
   ]
  },
  {
   "cell_type": "code",
   "execution_count": 28,
   "metadata": {},
   "outputs": [],
   "source": [
    "df_train_headers_all = df_train_headers_all.drop(['group_id', 'target', 'doc_id'], 1)\n",
    "df_test_headers_all = df_test_headers_all.drop(['group_id', 'doc_id'], 1)"
   ]
  },
  {
   "cell_type": "code",
   "execution_count": 31,
   "metadata": {},
   "outputs": [],
   "source": [
    "df_train_all = pd.merge(df_train_titles_all, df_train_headers_all, how='left', on='pair_id')\n",
    "df_test_all = pd.merge(df_test_titles_all, df_test_headers_all, how='left', on='pair_id')"
   ]
  },
  {
   "cell_type": "code",
   "execution_count": 33,
   "metadata": {},
   "outputs": [],
   "source": [
    "df_train_all = df_train_all.drop(['count_x', 'count_y'], 1)\n",
    "df_test_all = df_test_all.drop(['count_x', 'count_y'], 1)"
   ]
  },
  {
   "cell_type": "code",
   "execution_count": 34,
   "metadata": {},
   "outputs": [],
   "source": [
    "train_subset = list(df_train_all.drop(['pair_id', 'group_id', 'doc_id', 'target'], 1).columns)"
   ]
  },
  {
   "cell_type": "code",
   "execution_count": null,
   "metadata": {},
   "outputs": [],
   "source": [
    "model = LGBMClassifier(class_weight='balanced', n_estimators=100000, max_depth=3, learning_rate=0.0001)\n",
    "score, th = linear_model_cross_val_score(model, df_train_all, train_subset=train_subset, cv=5)\n",
    "print(score, th)"
   ]
  }
 ],
 "metadata": {
  "kernelspec": {
   "display_name": "Python 3",
   "language": "python",
   "name": "python3"
  },
  "language_info": {
   "codemirror_mode": {
    "name": "ipython",
    "version": 3
   },
   "file_extension": ".py",
   "mimetype": "text/x-python",
   "name": "python",
   "nbconvert_exporter": "python",
   "pygments_lexer": "ipython3",
   "version": "3.7.4"
  }
 },
 "nbformat": 4,
 "nbformat_minor": 4
}
