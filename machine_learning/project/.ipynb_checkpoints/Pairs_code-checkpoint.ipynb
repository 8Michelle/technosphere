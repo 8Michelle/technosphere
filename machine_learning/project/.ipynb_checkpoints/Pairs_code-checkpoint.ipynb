{
 "cells": [
  {
   "cell_type": "code",
   "execution_count": 1,
   "metadata": {},
   "outputs": [],
   "source": [
    "import pandas as pd\n",
    "import numpy as np\n",
    "import matplotlib.pyplot as plt\n",
    "from itertools import combinations\n",
    "\n",
    "%matplotlib inline\n",
    "\n",
    "plt.style.use('ggplot')\n",
    "plt.rcParams['figure.figsize'] = (12,5)"
   ]
  },
  {
   "cell_type": "code",
   "execution_count": 2,
   "metadata": {},
   "outputs": [],
   "source": [
    "titles = pd.read_csv('docs_titles.tsv', sep='\\t') # читаем заголовки"
   ]
  },
  {
   "cell_type": "code",
   "execution_count": 3,
   "metadata": {},
   "outputs": [],
   "source": [
    "train = pd.read_csv('train_groups.csv') # читаем данные для train"
   ]
  },
  {
   "cell_type": "code",
   "execution_count": 9,
   "metadata": {},
   "outputs": [],
   "source": [
    "target = train.drop(['doc_id', 'group_id'], 1) # выделяем их них таргет"
   ]
  },
  {
   "cell_type": "code",
   "execution_count": 10,
   "metadata": {},
   "outputs": [],
   "source": [
    "def prep_pairs(df): # создает пары документов для каждой группы\n",
    "\n",
    "    doc_indices = df.loc[:, ['pair_id', 'doc_id']]\n",
    "    \n",
    "    df = df.groupby('group_id')['pair_id'].apply(lambda x: list(combinations(x.values, 2)))\\\n",
    "        .apply(pd.Series).stack().reset_index(level=0, name='pair_id')\n",
    "\n",
    "    df['id_1'] = df['pair_id'].apply(lambda x: tuple(x)[1])\n",
    "    df['id_2'] = df['pair_id'].apply(lambda x: tuple(x)[0])\n",
    "    df_inv = df.copy()\n",
    "    df_inv['id_1'], df_inv['id_2'] = df_inv['id_2'], df_inv['id_1']\n",
    "    df = pd.concat([df, df_inv])\n",
    "    del df_inv\n",
    "    \n",
    "    # merge target\n",
    "    df = df.drop(['pair_id'], 1)\n",
    "    df = pd.merge(df, target, how='left', left_on='id_1', right_on='pair_id')\n",
    "\n",
    "    columns = list(df.columns)\n",
    "    columns[4] = 'target_1'\n",
    "    df.columns = columns\n",
    "\n",
    "    df = df.drop(['pair_id'], 1)\n",
    "    df = pd.merge(df, target, how='left', left_on='id_2', right_on='pair_id')\n",
    "\n",
    "    columns = list(df.columns)\n",
    "    columns[5] = 'target_2'\n",
    "    df.columns = columns\n",
    "\n",
    "    df = df.drop(['pair_id'], 1)\n",
    "    df['target'] = df['target_1'] * df['target_2']\n",
    "    df = df.drop(['target_1', 'target_2'], 1)\n",
    "\n",
    "    # merge doc indices\n",
    "    df = pd.merge(df, doc_indices, how='left', left_on='id_1', right_on='pair_id')\n",
    "    df = df.drop(['pair_id'], 1)\n",
    "    columns = list(df.columns)\n",
    "    columns[4] = 'doc_id_1'\n",
    "    df.columns = columns\n",
    "\n",
    "    df = pd.merge(df, doc_indices, how='left', left_on='id_2', right_on='pair_id')\n",
    "    df = df.drop(['pair_id'], 1)\n",
    "    columns = list(df.columns)\n",
    "    columns[5] = 'doc_id_2'\n",
    "    df.columns = columns\n",
    "\n",
    "    # merge titles\n",
    "\n",
    "    df = pd.merge(df, titles, how='left', left_on='doc_id_1', right_on='doc_id')\n",
    "    df = df.drop(['doc_id'], 1)\n",
    "    \n",
    "    df = pd.merge(df, titles, how='left', left_on='doc_id_2', right_on='doc_id')\n",
    "    df = df.drop(['doc_id'], 1)\n",
    "    \n",
    "    return df"
   ]
  },
  {
   "cell_type": "code",
   "execution_count": 11,
   "metadata": {},
   "outputs": [],
   "source": [
    "df_train = prep_pairs(train)"
   ]
  },
  {
   "cell_type": "code",
   "execution_count": 12,
   "metadata": {},
   "outputs": [
    {
     "data": {
      "text/html": [
       "<div>\n",
       "<style scoped>\n",
       "    .dataframe tbody tr th:only-of-type {\n",
       "        vertical-align: middle;\n",
       "    }\n",
       "\n",
       "    .dataframe tbody tr th {\n",
       "        vertical-align: top;\n",
       "    }\n",
       "\n",
       "    .dataframe thead th {\n",
       "        text-align: right;\n",
       "    }\n",
       "</style>\n",
       "<table border=\"1\" class=\"dataframe\">\n",
       "  <thead>\n",
       "    <tr style=\"text-align: right;\">\n",
       "      <th></th>\n",
       "      <th>group_id</th>\n",
       "      <th>id_1</th>\n",
       "      <th>id_2</th>\n",
       "      <th>target</th>\n",
       "      <th>doc_id_1</th>\n",
       "      <th>doc_id_2</th>\n",
       "      <th>title_x</th>\n",
       "      <th>title_y</th>\n",
       "    </tr>\n",
       "  </thead>\n",
       "  <tbody>\n",
       "    <tr>\n",
       "      <th>0</th>\n",
       "      <td>1</td>\n",
       "      <td>2</td>\n",
       "      <td>1</td>\n",
       "      <td>0</td>\n",
       "      <td>14829</td>\n",
       "      <td>15731</td>\n",
       "      <td>Ваз 2107 оптом в Сочи. Сравнить цены, купить п...</td>\n",
       "      <td>ВАЗ 21213 | Замена подшипников ступицы | Нива</td>\n",
       "    </tr>\n",
       "    <tr>\n",
       "      <th>1</th>\n",
       "      <td>1</td>\n",
       "      <td>3</td>\n",
       "      <td>1</td>\n",
       "      <td>0</td>\n",
       "      <td>15764</td>\n",
       "      <td>15731</td>\n",
       "      <td>Купить ступица Лада калина2. Трансмиссия - пер...</td>\n",
       "      <td>ВАЗ 21213 | Замена подшипников ступицы | Нива</td>\n",
       "    </tr>\n",
       "    <tr>\n",
       "      <th>2</th>\n",
       "      <td>1</td>\n",
       "      <td>4</td>\n",
       "      <td>1</td>\n",
       "      <td>0</td>\n",
       "      <td>17669</td>\n",
       "      <td>15731</td>\n",
       "      <td>Классика 21010 - 21074</td>\n",
       "      <td>ВАЗ 21213 | Замена подшипников ступицы | Нива</td>\n",
       "    </tr>\n",
       "    <tr>\n",
       "      <th>3</th>\n",
       "      <td>1</td>\n",
       "      <td>5</td>\n",
       "      <td>1</td>\n",
       "      <td>0</td>\n",
       "      <td>14852</td>\n",
       "      <td>15731</td>\n",
       "      <td>Ступица Нива — замена подшипника своими руками</td>\n",
       "      <td>ВАЗ 21213 | Замена подшипников ступицы | Нива</td>\n",
       "    </tr>\n",
       "    <tr>\n",
       "      <th>4</th>\n",
       "      <td>1</td>\n",
       "      <td>6</td>\n",
       "      <td>1</td>\n",
       "      <td>0</td>\n",
       "      <td>15458</td>\n",
       "      <td>15731</td>\n",
       "      <td>ВАЗ 2110</td>\n",
       "      <td>ВАЗ 21213 | Замена подшипников ступицы | Нива</td>\n",
       "    </tr>\n",
       "  </tbody>\n",
       "</table>\n",
       "</div>"
      ],
      "text/plain": [
       "   group_id  id_1  id_2  target  doc_id_1  doc_id_2  \\\n",
       "0         1     2     1       0     14829     15731   \n",
       "1         1     3     1       0     15764     15731   \n",
       "2         1     4     1       0     17669     15731   \n",
       "3         1     5     1       0     14852     15731   \n",
       "4         1     6     1       0     15458     15731   \n",
       "\n",
       "                                             title_x  \\\n",
       "0  Ваз 2107 оптом в Сочи. Сравнить цены, купить п...   \n",
       "1  Купить ступица Лада калина2. Трансмиссия - пер...   \n",
       "2                             Классика 21010 - 21074   \n",
       "3     Ступица Нива — замена подшипника своими руками   \n",
       "4                                           ВАЗ 2110   \n",
       "\n",
       "                                         title_y  \n",
       "0  ВАЗ 21213 | Замена подшипников ступицы | Нива  \n",
       "1  ВАЗ 21213 | Замена подшипников ступицы | Нива  \n",
       "2  ВАЗ 21213 | Замена подшипников ступицы | Нива  \n",
       "3  ВАЗ 21213 | Замена подшипников ступицы | Нива  \n",
       "4  ВАЗ 21213 | Замена подшипников ступицы | Нива  "
      ]
     },
     "execution_count": 12,
     "metadata": {},
     "output_type": "execute_result"
    }
   ],
   "source": [
    "df_train.head()"
   ]
  },
  {
   "cell_type": "code",
   "execution_count": 13,
   "metadata": {},
   "outputs": [
    {
     "data": {
      "text/plain": [
       "(1086454, 8)"
      ]
     },
     "execution_count": 13,
     "metadata": {},
     "output_type": "execute_result"
    }
   ],
   "source": [
    "df_train.shape"
   ]
  },
  {
   "cell_type": "markdown",
   "metadata": {},
   "source": [
    "`df_train` содержит всевозможные пары документов для каждой группы. `title_x` и `title_y` - названия первого и второго документа в каждой паре. `id_1` и `id_2` - это бывшие индексы `pair_id` для первого и второго документа в паре, `doc_id_1` и `doc_id_2` - это их индексы `doc_id`."
   ]
  },
  {
   "cell_type": "code",
   "execution_count": null,
   "metadata": {},
   "outputs": [],
   "source": []
  }
 ],
 "metadata": {
  "kernelspec": {
   "display_name": "Python 3",
   "language": "python",
   "name": "python3"
  },
  "language_info": {
   "codemirror_mode": {
    "name": "ipython",
    "version": 3
   },
   "file_extension": ".py",
   "mimetype": "text/x-python",
   "name": "python",
   "nbconvert_exporter": "python",
   "pygments_lexer": "ipython3",
   "version": "3.7.4"
  }
 },
 "nbformat": 4,
 "nbformat_minor": 4
}
