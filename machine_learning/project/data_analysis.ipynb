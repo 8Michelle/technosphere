{
 "cells": [
  {
   "cell_type": "code",
   "execution_count": 2,
   "metadata": {},
   "outputs": [],
   "source": [
    "import pandas as pd\n",
    "import numpy as np\n",
    "from matplotlib import pyplot as plt\n",
    "from sklearn.feature_extraction.text import CountVectorizer, TfidfVectorizer\n",
    "from sklearn.decomposition import PCA\n",
    "from sklearn.preprocessing import StandardScaler\n",
    "from tqdm.notebook import tqdm\n",
    "from scipy.spatial.distance import cosine\n",
    "\n",
    "from sklearn.linear_model import LogisticRegression\n",
    "from sklearn.metrics import roc_auc_score, f1_score\n",
    "\n",
    "import warnings\n",
    "warnings.filterwarnings(\"ignore\")"
   ]
  },
  {
   "cell_type": "code",
   "execution_count": 530,
   "metadata": {},
   "outputs": [],
   "source": [
    "df = pd.read_csv('train_groups.csv')"
   ]
  },
  {
   "cell_type": "code",
   "execution_count": 436,
   "metadata": {},
   "outputs": [
    {
     "data": {
      "text/html": [
       "<div>\n",
       "<style scoped>\n",
       "    .dataframe tbody tr th:only-of-type {\n",
       "        vertical-align: middle;\n",
       "    }\n",
       "\n",
       "    .dataframe tbody tr th {\n",
       "        vertical-align: top;\n",
       "    }\n",
       "\n",
       "    .dataframe thead th {\n",
       "        text-align: right;\n",
       "    }\n",
       "</style>\n",
       "<table border=\"1\" class=\"dataframe\">\n",
       "  <thead>\n",
       "    <tr style=\"text-align: right;\">\n",
       "      <th></th>\n",
       "      <th>pair_id</th>\n",
       "      <th>group_id</th>\n",
       "      <th>doc_id</th>\n",
       "      <th>clean_title_x</th>\n",
       "      <th>dev</th>\n",
       "      <th>target</th>\n",
       "      <th>clean_title_y</th>\n",
       "    </tr>\n",
       "  </thead>\n",
       "  <tbody>\n",
       "    <tr>\n",
       "      <th>0</th>\n",
       "      <td>11691</td>\n",
       "      <td>130</td>\n",
       "      <td>6710</td>\n",
       "      <td>как прописывать админк себя или друг</td>\n",
       "      <td>0.568197</td>\n",
       "      <td>1</td>\n",
       "      <td>как прописывать админк себя или друг</td>\n",
       "    </tr>\n",
       "    <tr>\n",
       "      <th>1</th>\n",
       "      <td>11692</td>\n",
       "      <td>130</td>\n",
       "      <td>4030</td>\n",
       "      <td>скачать доработка слива мода готовый сервер дл...</td>\n",
       "      <td>0.633603</td>\n",
       "      <td>0</td>\n",
       "      <td>скачать доработка слива мода готовый сервер дл...</td>\n",
       "    </tr>\n",
       "    <tr>\n",
       "      <th>2</th>\n",
       "      <td>11693</td>\n",
       "      <td>130</td>\n",
       "      <td>5561</td>\n",
       "      <td>как прописывать админка каталог статья игровой...</td>\n",
       "      <td>0.512329</td>\n",
       "      <td>1</td>\n",
       "      <td>как прописывать админка каталог статья игровой...</td>\n",
       "    </tr>\n",
       "    <tr>\n",
       "      <th>3</th>\n",
       "      <td>11694</td>\n",
       "      <td>130</td>\n",
       "      <td>4055</td>\n",
       "      <td>как прописывать простой админка</td>\n",
       "      <td>0.379296</td>\n",
       "      <td>1</td>\n",
       "      <td>как прописывать простой админка</td>\n",
       "    </tr>\n",
       "    <tr>\n",
       "      <th>4</th>\n",
       "      <td>11695</td>\n",
       "      <td>130</td>\n",
       "      <td>4247</td>\n",
       "      <td>подбор админ для сервер код архив форум</td>\n",
       "      <td>0.635060</td>\n",
       "      <td>0</td>\n",
       "      <td>подбор админ для сервер код архив форум</td>\n",
       "    </tr>\n",
       "  </tbody>\n",
       "</table>\n",
       "</div>"
      ],
      "text/plain": [
       "   pair_id  group_id  doc_id  \\\n",
       "0    11691       130    6710   \n",
       "1    11692       130    4030   \n",
       "2    11693       130    5561   \n",
       "3    11694       130    4055   \n",
       "4    11695       130    4247   \n",
       "\n",
       "                                       clean_title_x       dev  target  \\\n",
       "0               как прописывать админк себя или друг  0.568197       1   \n",
       "1  скачать доработка слива мода готовый сервер дл...  0.633603       0   \n",
       "2  как прописывать админка каталог статья игровой...  0.512329       1   \n",
       "3                    как прописывать простой админка  0.379296       1   \n",
       "4            подбор админ для сервер код архив форум  0.635060       0   \n",
       "\n",
       "                                       clean_title_y  \n",
       "0               как прописывать админк себя или друг  \n",
       "1  скачать доработка слива мода готовый сервер дл...  \n",
       "2  как прописывать админка каталог статья игровой...  \n",
       "3                    как прописывать простой админка  \n",
       "4            подбор админ для сервер код архив форум  "
      ]
     },
     "execution_count": 436,
     "metadata": {},
     "output_type": "execute_result"
    }
   ],
   "source": [
    "df.head()"
   ]
  },
  {
   "cell_type": "code",
   "execution_count": 226,
   "metadata": {},
   "outputs": [],
   "source": [
    "grouped_data = df.groupby('group_id')"
   ]
  },
  {
   "cell_type": "code",
   "execution_count": 227,
   "metadata": {},
   "outputs": [
    {
     "data": {
      "text/plain": [
       "(array([45., 24.,  5.,  4.,  2.,  3.,  1.,  4.,  2.,  3.,  1.,  3.,  6.,\n",
       "         2.,  7.,  2.,  1.,  5.,  3.,  6.]),\n",
       " array([0.03809524, 0.08469048, 0.13128571, 0.17788095, 0.22447619,\n",
       "        0.27107143, 0.31766667, 0.3642619 , 0.41085714, 0.45745238,\n",
       "        0.50404762, 0.55064286, 0.5972381 , 0.64383333, 0.69042857,\n",
       "        0.73702381, 0.78361905, 0.83021429, 0.87680952, 0.92340476,\n",
       "        0.97      ]),\n",
       " <a list of 20 Patch objects>)"
      ]
     },
     "execution_count": 227,
     "metadata": {},
     "output_type": "execute_result"
    },
    {
     "data": {
      "image/png": "[encoded data removed]",
      "text/plain": [
       "<Figure size 1080x432 with 1 Axes>"
      ]
     },
     "metadata": {
      "needs_background": "light"
     },
     "output_type": "display_data"
    }
   ],
   "source": [
    "rate_of_own = grouped_data['target'].sum() / grouped_data['target'].count()\n",
    "plt.figure(figsize=(15, 6))\n",
    "plt.title(\"Rate of own docs\")\n",
    "plt.xlabel(\"Rate\")\n",
    "plt.hist(rate_of_own, bins=20)"
   ]
  },
  {
   "cell_type": "code",
   "execution_count": 228,
   "metadata": {},
   "outputs": [
    {
     "data": {
      "text/plain": [
       "count    129.000000\n",
       "mean       0.308377\n",
       "std        0.305106\n",
       "min        0.038095\n",
       "25%        0.075472\n",
       "50%        0.106383\n",
       "75%        0.585106\n",
       "max        0.970000\n",
       "Name: target, dtype: float64"
      ]
     },
     "execution_count": 228,
     "metadata": {},
     "output_type": "execute_result"
    }
   ],
   "source": [
    "rate_of_own.describe()"
   ]
  },
  {
   "cell_type": "markdown",
   "metadata": {},
   "source": [
    "Можем видеть, что доля документов, относящихся к теме у разных групп сильно отличается (от 0.04 до 0.97), однако в большей части групп преобладают документы, не относящиеся к ним."
   ]
  },
  {
   "cell_type": "code",
   "execution_count": 229,
   "metadata": {},
   "outputs": [
    {
     "data": {
      "text/plain": [
       "Text(0.5, 0, 'Docs in group')"
      ]
     },
     "execution_count": 229,
     "metadata": {},
     "output_type": "execute_result"
    },
    {
     "data": {
      "image/png": "[encoded data removed]",
      "text/plain": [
       "<Figure size 1080x432 with 1 Axes>"
      ]
     },
     "metadata": {
      "needs_background": "light"
     },
     "output_type": "display_data"
    }
   ],
   "source": [
    "count = grouped_data['target'].count()\n",
    "plt.figure(figsize=(15, 6))\n",
    "plt.hist(count, bins=20)\n",
    "plt.title(\"Size\")\n",
    "plt.xlabel(\"Docs in group\")"
   ]
  },
  {
   "cell_type": "code",
   "execution_count": 230,
   "metadata": {},
   "outputs": [
    {
     "data": {
      "text/plain": [
       "count    129.000000\n",
       "mean      90.620155\n",
       "std       17.409226\n",
       "min       26.000000\n",
       "25%       88.000000\n",
       "50%       96.000000\n",
       "75%      102.000000\n",
       "max      108.000000\n",
       "Name: target, dtype: float64"
      ]
     },
     "execution_count": 230,
     "metadata": {},
     "output_type": "execute_result"
    }
   ],
   "source": [
    "count.describe()"
   ]
  },
  {
   "cell_type": "markdown",
   "metadata": {},
   "source": [
    "По большей части около 100, но есть и совсем маленькие."
   ]
  },
  {
   "cell_type": "code",
   "execution_count": 231,
   "metadata": {},
   "outputs": [],
   "source": [
    "titles = pd.read_csv('docs_titles.tsv', sep='\\t')"
   ]
  },
  {
   "cell_type": "code",
   "execution_count": 232,
   "metadata": {},
   "outputs": [
    {
     "name": "stdout",
     "output_type": "stream",
     "text": [
      "<class 'pandas.core.frame.DataFrame'>\n",
      "RangeIndex: 27950 entries, 0 to 27949\n",
      "Data columns (total 2 columns):\n",
      " #   Column  Non-Null Count  Dtype \n",
      "---  ------  --------------  ----- \n",
      " 0   doc_id  27950 non-null  int64 \n",
      " 1   title   27919 non-null  object\n",
      "dtypes: int64(1), object(1)\n",
      "memory usage: 436.8+ KB\n"
     ]
    }
   ],
   "source": [
    "titles.info()"
   ]
  },
  {
   "cell_type": "code",
   "execution_count": 233,
   "metadata": {},
   "outputs": [],
   "source": [
    "titles['len'] = titles['title'].apply(lambda x: len(str(x)))"
   ]
  },
  {
   "cell_type": "code",
   "execution_count": 234,
   "metadata": {},
   "outputs": [
    {
     "data": {
      "text/plain": [
       "count    27950.000000\n",
       "mean        62.113238\n",
       "std         47.701476\n",
       "min          1.000000\n",
       "25%         36.000000\n",
       "50%         54.000000\n",
       "75%         77.000000\n",
       "max       1786.000000\n",
       "Name: len, dtype: float64"
      ]
     },
     "execution_count": 234,
     "metadata": {},
     "output_type": "execute_result"
    }
   ],
   "source": [
    "titles['len'].describe()"
   ]
  },
  {
   "cell_type": "code",
   "execution_count": 235,
   "metadata": {},
   "outputs": [
    {
     "data": {
      "text/plain": [
       "Text(0.5, 0, 'n_char')"
      ]
     },
     "execution_count": 235,
     "metadata": {},
     "output_type": "execute_result"
    },
    {
     "data": {
      "image/png": "[encoded data removed]",
      "text/plain": [
       "<Figure size 1080x432 with 1 Axes>"
      ]
     },
     "metadata": {
      "needs_background": "light"
     },
     "output_type": "display_data"
    }
   ],
   "source": [
    "plt.figure(figsize=(15, 6))\n",
    "plt.hist(titles[titles['len'] < 250]['len'], bins=20)\n",
    "plt.title(\"Title length (chars)\")\n",
    "plt.xlabel(\"n_char\")"
   ]
  },
  {
   "cell_type": "markdown",
   "metadata": {},
   "source": [
    "Большая часть заголовков по длине в символах распределена в пределах 0 - 250."
   ]
  },
  {
   "cell_type": "code",
   "execution_count": 236,
   "metadata": {},
   "outputs": [],
   "source": [
    "titles['n_words'] = titles['title'].apply(lambda x: len(str(x).split(' ')))"
   ]
  },
  {
   "cell_type": "code",
   "execution_count": 237,
   "metadata": {},
   "outputs": [
    {
     "data": {
      "text/plain": [
       "count    27950.000000\n",
       "mean         9.294812\n",
       "std          7.712129\n",
       "min          1.000000\n",
       "25%          5.000000\n",
       "50%          8.000000\n",
       "75%         12.000000\n",
       "max        247.000000\n",
       "Name: n_words, dtype: float64"
      ]
     },
     "execution_count": 237,
     "metadata": {},
     "output_type": "execute_result"
    }
   ],
   "source": [
    "titles['n_words'].describe()"
   ]
  },
  {
   "cell_type": "code",
   "execution_count": 238,
   "metadata": {
    "scrolled": false
   },
   "outputs": [
    {
     "data": {
      "text/plain": [
       "Text(0.5, 0, 'n_word')"
      ]
     },
     "execution_count": 238,
     "metadata": {},
     "output_type": "execute_result"
    },
    {
     "data": {
      "image/png": "[encoded data removed]",
      "text/plain": [
       "<Figure size 1080x432 with 1 Axes>"
      ]
     },
     "metadata": {
      "needs_background": "light"
     },
     "output_type": "display_data"
    }
   ],
   "source": [
    "plt.figure(figsize=(15, 6))\n",
    "plt.hist(titles[titles['n_words'] < 50]['n_words'], bins=20)\n",
    "plt.title(\"Title length (words)\")\n",
    "plt.xlabel(\"n_word\")"
   ]
  },
  {
   "cell_type": "markdown",
   "metadata": {},
   "source": [
    "Похожее распределение у длины в словах."
   ]
  },
  {
   "cell_type": "markdown",
   "metadata": {},
   "source": [
    "# Заигрывания с векторами"
   ]
  },
  {
   "cell_type": "code",
   "execution_count": 3,
   "metadata": {},
   "outputs": [],
   "source": [
    "df = pd.read_csv('train_groups.csv')"
   ]
  },
  {
   "cell_type": "code",
   "execution_count": 4,
   "metadata": {},
   "outputs": [],
   "source": [
    "titles = pd.read_csv('clean_titles.csv')"
   ]
  },
  {
   "cell_type": "code",
   "execution_count": 5,
   "metadata": {},
   "outputs": [],
   "source": [
    "vectorizer = CountVectorizer(min_df=2, max_features=5000)\n",
    "# vectorizer = TfidfVectorizer(min_df=2)\n",
    "data_vect = vectorizer.fit_transform(titles['clean_title'].fillna('')).todense()"
   ]
  },
  {
   "cell_type": "code",
   "execution_count": 6,
   "metadata": {
    "scrolled": true
   },
   "outputs": [],
   "source": [
    "scaler = StandardScaler()\n",
    "data_vect = scaler.fit_transform(data_vect)"
   ]
  },
  {
   "cell_type": "code",
   "execution_count": 7,
   "metadata": {},
   "outputs": [],
   "source": [
    "titles = titles.join(pd.DataFrame(data_vect))"
   ]
  },
  {
   "cell_type": "code",
   "execution_count": 8,
   "metadata": {},
   "outputs": [],
   "source": [
    "df = pd.merge(df, titles, how='left', on='doc_id')"
   ]
  },
  {
   "cell_type": "code",
   "execution_count": 9,
   "metadata": {},
   "outputs": [
    {
     "data": {
      "application/vnd.jupyter.widget-view+json": {
       "model_id": "7b6162a8c1094cfc8f18fb602a22b1e7",
       "version_major": 2,
       "version_minor": 0
      },
      "text/plain": [
       "HBox(children=(IntProgress(value=0, max=129), HTML(value='')))"
      ]
     },
     "metadata": {},
     "output_type": "display_data"
    },
    {
     "name": "stdout",
     "output_type": "stream",
     "text": [
      "\n"
     ]
    }
   ],
   "source": [
    "df_list = []\n",
    "for i in tqdm(df['group_id'].unique(), total=129):\n",
    "    df_i = df[df['group_id'] == i]\n",
    "    vect_i = np.array(df_i.loc[:, [j for j in range(data_vect.shape[1])]])\n",
    "    mean_i = np.mean(vect_i, axis=0)\n",
    "    df_i['dev'] = np.apply_along_axis(lambda x: cosine(x, mean_i), axis=1, arr=vect_i)\n",
    "    df_list.append(df_i)\n",
    "df_with_dev = pd.concat(df_list)"
   ]
  },
  {
   "cell_type": "code",
   "execution_count": 10,
   "metadata": {},
   "outputs": [],
   "source": [
    "df = df_with_dev.drop([i for i in range(data_vect.shape[1])], 1)"
   ]
  },
  {
   "cell_type": "code",
   "execution_count": 11,
   "metadata": {},
   "outputs": [
    {
     "data": {
      "text/html": [
       "<div>\n",
       "<style scoped>\n",
       "    .dataframe tbody tr th:only-of-type {\n",
       "        vertical-align: middle;\n",
       "    }\n",
       "\n",
       "    .dataframe tbody tr th {\n",
       "        vertical-align: top;\n",
       "    }\n",
       "\n",
       "    .dataframe thead th {\n",
       "        text-align: right;\n",
       "    }\n",
       "</style>\n",
       "<table border=\"1\" class=\"dataframe\">\n",
       "  <thead>\n",
       "    <tr style=\"text-align: right;\">\n",
       "      <th></th>\n",
       "      <th>pair_id</th>\n",
       "      <th>group_id</th>\n",
       "      <th>doc_id</th>\n",
       "      <th>target</th>\n",
       "      <th>clean_title</th>\n",
       "      <th>dev</th>\n",
       "    </tr>\n",
       "  </thead>\n",
       "  <tbody>\n",
       "    <tr>\n",
       "      <th>0</th>\n",
       "      <td>1</td>\n",
       "      <td>1</td>\n",
       "      <td>15731</td>\n",
       "      <td>0</td>\n",
       "      <td>ваз замена подшипник ступица нива</td>\n",
       "      <td>0.192742</td>\n",
       "    </tr>\n",
       "    <tr>\n",
       "      <th>1</th>\n",
       "      <td>2</td>\n",
       "      <td>1</td>\n",
       "      <td>14829</td>\n",
       "      <td>0</td>\n",
       "      <td>ваз опт сочи сравнивать цена купить потребител...</td>\n",
       "      <td>0.743772</td>\n",
       "    </tr>\n",
       "    <tr>\n",
       "      <th>2</th>\n",
       "      <td>3</td>\n",
       "      <td>1</td>\n",
       "      <td>15764</td>\n",
       "      <td>0</td>\n",
       "      <td>купить ступица лада калина трансмиссия переход...</td>\n",
       "      <td>0.701853</td>\n",
       "    </tr>\n",
       "    <tr>\n",
       "      <th>3</th>\n",
       "      <td>4</td>\n",
       "      <td>1</td>\n",
       "      <td>17669</td>\n",
       "      <td>0</td>\n",
       "      <td>классика</td>\n",
       "      <td>0.969549</td>\n",
       "    </tr>\n",
       "    <tr>\n",
       "      <th>4</th>\n",
       "      <td>5</td>\n",
       "      <td>1</td>\n",
       "      <td>14852</td>\n",
       "      <td>0</td>\n",
       "      <td>ступица нива замена подшипник свой рука</td>\n",
       "      <td>0.290637</td>\n",
       "    </tr>\n",
       "  </tbody>\n",
       "</table>\n",
       "</div>"
      ],
      "text/plain": [
       "   pair_id  group_id  doc_id  target  \\\n",
       "0        1         1   15731       0   \n",
       "1        2         1   14829       0   \n",
       "2        3         1   15764       0   \n",
       "3        4         1   17669       0   \n",
       "4        5         1   14852       0   \n",
       "\n",
       "                                         clean_title       dev  \n",
       "0                  ваз замена подшипник ступица нива  0.192742  \n",
       "1  ваз опт сочи сравнивать цена купить потребител...  0.743772  \n",
       "2  купить ступица лада калина трансмиссия переход...  0.701853  \n",
       "3                                           классика  0.969549  \n",
       "4            ступица нива замена подшипник свой рука  0.290637  "
      ]
     },
     "execution_count": 11,
     "metadata": {},
     "output_type": "execute_result"
    }
   ],
   "source": [
    "df.head()"
   ]
  },
  {
   "cell_type": "code",
   "execution_count": 12,
   "metadata": {},
   "outputs": [
    {
     "data": {
      "image/png": "[encoded data removed]",
      "text/plain": [
       "<Figure size 432x288 with 1 Axes>"
      ]
     },
     "metadata": {
      "needs_background": "light"
     },
     "output_type": "display_data"
    }
   ],
   "source": [
    "plt.hist(df[df['target'] == 0]['dev'], bins=100, normed=True, label='Out of group')\n",
    "plt.hist(df[df['target'] == 1]['dev'], bins=100, normed=True, alpha=0.7, label='In group')\n",
    "plt.title('dev distribution')\n",
    "plt.legend();"
   ]
  },
  {
   "cell_type": "code",
   "execution_count": 13,
   "metadata": {},
   "outputs": [],
   "source": [
    "X_train = np.array(df[df['group_id'] <= 65]['dev'].fillna(0)).reshape(-1, 1)\n",
    "X_test = np.array(df[df['group_id'] > 65]['dev'].fillna(0)).reshape(-1, 1)\n",
    "y_train = np.array(df[df['group_id'] <= 65]['target'])\n",
    "y_test = np.array(df[df['group_id'] > 65]['target'])"
   ]
  },
  {
   "cell_type": "code",
   "execution_count": 14,
   "metadata": {},
   "outputs": [
    {
     "name": "stdout",
     "output_type": "stream",
     "text": [
      "0.8750339180129211\n"
     ]
    }
   ],
   "source": [
    "model = LogisticRegression()\n",
    "model.fit(X_train, y_train)\n",
    "proba = model.predict_proba(X_test)\n",
    "print(roc_auc_score(y_test, proba[:, 1]))"
   ]
  },
  {
   "cell_type": "code",
   "execution_count": 15,
   "metadata": {},
   "outputs": [
    {
     "name": "stdout",
     "output_type": "stream",
     "text": [
      "0.7113374430447601\n"
     ]
    }
   ],
   "source": [
    "scores = []\n",
    "ths = np.arange(0.1, 0.9, 0.1)\n",
    "for i in ths:\n",
    "    scores.append(f1_score(y_test, (proba > i)[:, 1]))\n",
    "ind = scores.index(max(scores))\n",
    "th = np.arange(0.1, 0.9, 0.1)[ind]\n",
    "score = f1_score((proba > th)[:, 1], y_test)\n",
    "print(score)"
   ]
  },
  {
   "cell_type": "code",
   "execution_count": 16,
   "metadata": {},
   "outputs": [],
   "source": [
    "X = np.array(df['dev'].fillna(0)).reshape(-1, 1)\n",
    "y = np.array(df['target'])"
   ]
  },
  {
   "cell_type": "code",
   "execution_count": 17,
   "metadata": {},
   "outputs": [
    {
     "name": "stdout",
     "output_type": "stream",
     "text": [
      "0.0 0.0\n",
      "0.05 0.0\n",
      "0.1 0.014180206794682423\n",
      "0.15000000000000002 0.06605399195864446\n",
      "0.2 0.12223451327433628\n",
      "0.25 0.19263157894736843\n",
      "0.30000000000000004 0.2909090909090909\n",
      "0.35000000000000003 0.36393063583815033\n",
      "0.4 0.4305495456512332\n",
      "0.45 0.49828939424431473\n",
      "0.5 0.5631392970057653\n",
      "0.55 0.6253636830395345\n",
      "0.6000000000000001 0.6652839821314614\n",
      "0.65 0.6947430422618172\n",
      "0.7000000000000001 0.7147496617050069\n",
      "0.75 0.7116244411326379\n",
      "0.8 0.6905982905982905\n",
      "0.8500000000000001 0.6491101738504269\n",
      "0.9 0.5853747051351842\n",
      "0.9500000000000001 0.4950048824457297\n"
     ]
    }
   ],
   "source": [
    "for i in np.arange(0, 1, 0.05):\n",
    "    print(i, f1_score((X < i), y))"
   ]
  },
  {
   "cell_type": "code",
   "execution_count": 18,
   "metadata": {},
   "outputs": [
    {
     "data": {
      "text/html": [
       "<div>\n",
       "<style scoped>\n",
       "    .dataframe tbody tr th:only-of-type {\n",
       "        vertical-align: middle;\n",
       "    }\n",
       "\n",
       "    .dataframe tbody tr th {\n",
       "        vertical-align: top;\n",
       "    }\n",
       "\n",
       "    .dataframe thead th {\n",
       "        text-align: right;\n",
       "    }\n",
       "</style>\n",
       "<table border=\"1\" class=\"dataframe\">\n",
       "  <thead>\n",
       "    <tr style=\"text-align: right;\">\n",
       "      <th></th>\n",
       "      <th>pair_id</th>\n",
       "      <th>group_id</th>\n",
       "      <th>doc_id</th>\n",
       "    </tr>\n",
       "  </thead>\n",
       "  <tbody>\n",
       "    <tr>\n",
       "      <th>0</th>\n",
       "      <td>11691</td>\n",
       "      <td>130</td>\n",
       "      <td>6710</td>\n",
       "    </tr>\n",
       "    <tr>\n",
       "      <th>1</th>\n",
       "      <td>11692</td>\n",
       "      <td>130</td>\n",
       "      <td>4030</td>\n",
       "    </tr>\n",
       "    <tr>\n",
       "      <th>2</th>\n",
       "      <td>11693</td>\n",
       "      <td>130</td>\n",
       "      <td>5561</td>\n",
       "    </tr>\n",
       "    <tr>\n",
       "      <th>3</th>\n",
       "      <td>11694</td>\n",
       "      <td>130</td>\n",
       "      <td>4055</td>\n",
       "    </tr>\n",
       "    <tr>\n",
       "      <th>4</th>\n",
       "      <td>11695</td>\n",
       "      <td>130</td>\n",
       "      <td>4247</td>\n",
       "    </tr>\n",
       "  </tbody>\n",
       "</table>\n",
       "</div>"
      ],
      "text/plain": [
       "   pair_id  group_id  doc_id\n",
       "0    11691       130    6710\n",
       "1    11692       130    4030\n",
       "2    11693       130    5561\n",
       "3    11694       130    4055\n",
       "4    11695       130    4247"
      ]
     },
     "execution_count": 18,
     "metadata": {},
     "output_type": "execute_result"
    }
   ],
   "source": [
    "df = pd.read_csv('test_groups.csv')\n",
    "df.head()"
   ]
  },
  {
   "cell_type": "code",
   "execution_count": 19,
   "metadata": {},
   "outputs": [],
   "source": [
    "df = pd.merge(df, titles, how='left', on='doc_id')"
   ]
  },
  {
   "cell_type": "code",
   "execution_count": 20,
   "metadata": {},
   "outputs": [
    {
     "data": {
      "application/vnd.jupyter.widget-view+json": {
       "model_id": "9c288b2101c14937869d263851d7704a",
       "version_major": 2,
       "version_minor": 0
      },
      "text/plain": [
       "HBox(children=(IntProgress(value=0, max=129), HTML(value='')))"
      ]
     },
     "metadata": {},
     "output_type": "display_data"
    },
    {
     "name": "stdout",
     "output_type": "stream",
     "text": [
      "\n"
     ]
    }
   ],
   "source": [
    "df_list = []\n",
    "for i in tqdm(df['group_id'].unique(), total=129):\n",
    "    df_i = df[df['group_id'] == i]\n",
    "    vect_i = np.array(df_i.loc[:, [j for j in range(data_vect.shape[1])]])\n",
    "    mean_i = np.mean(vect_i, axis=0)\n",
    "    df_i['dev'] = np.apply_along_axis(lambda x: cosine(x, mean_i), axis=1, arr=vect_i)\n",
    "    df_list.append(df_i)\n",
    "df_with_dev = pd.concat(df_list)"
   ]
  },
  {
   "cell_type": "code",
   "execution_count": 21,
   "metadata": {},
   "outputs": [],
   "source": [
    "df = df_with_dev.drop([i for i in range(data_vect.shape[1])], 1)"
   ]
  },
  {
   "cell_type": "code",
   "execution_count": 22,
   "metadata": {},
   "outputs": [],
   "source": [
    "df['target'] = df['dev'].apply(lambda x: int(x < 0.7))"
   ]
  },
  {
   "cell_type": "code",
   "execution_count": 23,
   "metadata": {},
   "outputs": [],
   "source": [
    "df.loc[:, ['pair_id', 'target']].to_csv('sub_16_2_05.csv', index=False)"
   ]
  },
  {
   "cell_type": "markdown",
   "metadata": {},
   "source": [
    "# Продолжаем анализ"
   ]
  },
  {
   "cell_type": "code",
   "execution_count": null,
   "metadata": {},
   "outputs": [],
   "source": []
  }
 ],
 "metadata": {
  "kernelspec": {
   "display_name": "Python 3",
   "language": "python",
   "name": "python3"
  },
  "language_info": {
   "codemirror_mode": {
    "name": "ipython",
    "version": 3
   },
   "file_extension": ".py",
   "mimetype": "text/x-python",
   "name": "python",
   "nbconvert_exporter": "python",
   "pygments_lexer": "ipython3",
   "version": "3.7.4"
  }
 },
 "nbformat": 4,
 "nbformat_minor": 4
}
