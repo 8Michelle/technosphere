{
 "cells": [
  {
   "cell_type": "code",
   "execution_count": 2,
   "metadata": {},
   "outputs": [
    {
     "name": "stderr",
     "output_type": "stream",
     "text": [
      "/usr/local/lib/python3.7/site-packages/lightgbm/__init__.py:48: UserWarning: Starting from version 2.2.1, the library file in distribution wheels for macOS is built by the Apple Clang (Xcode_8.3.3) compiler.\n",
      "This means that in case of installing LightGBM from PyPI via the ``pip install lightgbm`` command, you don't need to install the gcc compiler anymore.\n",
      "Instead of that, you need to install the OpenMP library, which is required for running LightGBM on the system with the Apple Clang compiler.\n",
      "You can install the OpenMP library by the following command: ``brew install libomp``.\n",
      "  \"You can install the OpenMP library by the following command: ``brew install libomp``.\", UserWarning)\n"
     ]
    }
   ],
   "source": [
    "import pandas as pd\n",
    "import numpy as np\n",
    "from matplotlib import pyplot as plt\n",
    "from sklearn.feature_extraction.text import CountVectorizer, TfidfVectorizer\n",
    "from sklearn.decomposition import PCA, IncrementalPCA, SparsePCA, TruncatedSVD\n",
    "from sklearn.preprocessing import StandardScaler\n",
    "from tqdm.notebook import tqdm\n",
    "from scipy.spatial.distance import cosine\n",
    "from sklearn.model_selection import KFold\n",
    "from sklearn.linear_model import LogisticRegression\n",
    "from sklearn.metrics import roc_auc_score, f1_score\n",
    "from sklearn.base import BaseEstimator, ClassifierMixin\n",
    "from scipy import sparse\n",
    "import pickle\n",
    "from lightgbm import LGBMClassifier\n",
    "from itertools import combinations\n",
    "from scipy.spatial.distance import squareform\n",
    "from scipy.spatial.distance import pdist\n",
    "import scipy\n",
    "\n",
    "import warnings\n",
    "warnings.filterwarnings(\"ignore\")"
   ]
  },
  {
   "cell_type": "code",
   "execution_count": 3,
   "metadata": {},
   "outputs": [],
   "source": [
    "def get_vectors(data, vect_type='count', **voc_params):\n",
    "    if vect_type == 'count':\n",
    "        vectorizer = CountVectorizer(**voc_params)\n",
    "    elif vect_type == 'tfidf':\n",
    "            vectorizer = TfidfVectorizer(min_df=2)\n",
    "    data_vect = vectorizer.fit_transform(data.fillna('')).todense()\n",
    "    scaler = StandardScaler()\n",
    "    data_vect = scaler.fit_transform(data_vect)\n",
    "    return data_vect\n",
    "\n",
    "def make_pca(data_vect):\n",
    "    pca = PCA()\n",
    "    pca.fit(data_vect)\n",
    "    n_c = (pca.explained_variance_ratio_.cumsum() < 0.95).sum()\n",
    "    pca = PCA(n_components=n_c)\n",
    "    data_vect = pca.fit_transform(data_vect)\n",
    "    return data_vect\n",
    "\n",
    "def get_devs(df, n_vecs):\n",
    "    df_list = []\n",
    "    for i in tqdm(df['group_id'].unique(), total=129):\n",
    "        df_i = df[df['group_id'] == i]\n",
    "        vect_i = np.array(df_i.loc[:, [f'{j}_f' for j in range(n_vecs)]])\n",
    "        mean_i = np.mean(vect_i, axis=0)\n",
    "        df_i['dev'] = np.apply_along_axis(lambda x: cosine(x, mean_i), axis=1, arr=vect_i)\n",
    "        df_list.append(df_i)\n",
    "    df_with_dev = pd.concat(df_list)\n",
    "    df = df_with_dev.drop([f'{i}_f' for i in range(n_vecs)], 1)\n",
    "    return df\n",
    "\n",
    "def show_hist(df, column='dev'):\n",
    "    plt.hist(df[df['target'] == 0][column].fillna(0), bins=100, normed=True, label='Out of group')\n",
    "    plt.hist(df[df['target'] == 1][column].fillna(0), bins=100, normed=True, alpha=0.7, label='In group')\n",
    "    plt.title('dev distribution')\n",
    "    plt.legend()\n",
    "\n",
    "def get_th(proba, y_test):\n",
    "    scores = []\n",
    "    ths = np.arange(0.1, 0.9, 0.1)\n",
    "    for i in ths:\n",
    "        scores.append(f1_score(y_test, (proba > i)[:, 1]))\n",
    "    ind = scores.index(max(scores))\n",
    "    th = np.arange(0.1, 0.9, 0.1)[ind]\n",
    "    score = f1_score((proba > th)[:, 1], y_test)\n",
    "    return score, th"
   ]
  },
  {
   "cell_type": "code",
   "execution_count": 4,
   "metadata": {},
   "outputs": [],
   "source": [
    "titles = pd.read_csv('data/clean_titles.csv')"
   ]
  },
  {
   "cell_type": "code",
   "execution_count": 4,
   "metadata": {},
   "outputs": [],
   "source": [
    "headers = pd.read_csv('data/all_headers.tsv', '\\t')"
   ]
  },
  {
   "cell_type": "code",
   "execution_count": 5,
   "metadata": {},
   "outputs": [],
   "source": [
    "voc_params = {'min_df': 5, 'max_df': 0.8}\n",
    "vect_count = get_vectors(titles['clean_title'], **voc_params)"
   ]
  },
  {
   "cell_type": "code",
   "execution_count": 5,
   "metadata": {},
   "outputs": [],
   "source": [
    "voc_params = {'min_df': 5, 'max_df': 0.8}\n",
    "vect_headerst = get_vectors(headers['headers'], **voc_params)"
   ]
  },
  {
   "cell_type": "code",
   "execution_count": 62,
   "metadata": {},
   "outputs": [],
   "source": [
    "scaler = StandardScaler()\n",
    "vect_count = scaler.fit_transform(vect_count)"
   ]
  },
  {
   "cell_type": "code",
   "execution_count": 81,
   "metadata": {},
   "outputs": [],
   "source": [
    "scaler = StandardScaler()\n",
    "vect_headerst = scaler.fit_transform(vect_headerst)"
   ]
  },
  {
   "cell_type": "code",
   "execution_count": 6,
   "metadata": {},
   "outputs": [],
   "source": [
    "titles_count = titles.join(pd.DataFrame(vect_count, columns=[f'{i}_f' for i in range(vect_count.shape[1])]))"
   ]
  },
  {
   "cell_type": "code",
   "execution_count": null,
   "metadata": {},
   "outputs": [],
   "source": [
    "headers_count = titles.join(pd.DataFrame(vect_headerst, columns=[f'{i}_f' for i in range(vect_headerst.shape[1])]))"
   ]
  },
  {
   "cell_type": "code",
   "execution_count": null,
   "metadata": {},
   "outputs": [],
   "source": [
    "df_train = pd.read_csv('data/train_groups.csv')"
   ]
  },
  {
   "cell_type": "code",
   "execution_count": 7,
   "metadata": {},
   "outputs": [],
   "source": [
    "df_test = pd.read_csv('data/test_groups.csv')"
   ]
  },
  {
   "cell_type": "code",
   "execution_count": 49,
   "metadata": {},
   "outputs": [],
   "source": [
    "df_train_count = pd.merge(df_train, titles_count, how='left', on='doc_id')"
   ]
  },
  {
   "cell_type": "code",
   "execution_count": 8,
   "metadata": {},
   "outputs": [],
   "source": [
    "df_test_count = pd.merge(df_test, titles_count, how='left', on='doc_id')"
   ]
  },
  {
   "cell_type": "code",
   "execution_count": null,
   "metadata": {},
   "outputs": [],
   "source": [
    "df_train_headers = pd.merge(df_train, headers_count, how='left', on='doc_id')"
   ]
  },
  {
   "cell_type": "code",
   "execution_count": 34,
   "metadata": {},
   "outputs": [
    {
     "data": {
      "text/html": [
       "<div>\n",
       "<style scoped>\n",
       "    .dataframe tbody tr th:only-of-type {\n",
       "        vertical-align: middle;\n",
       "    }\n",
       "\n",
       "    .dataframe tbody tr th {\n",
       "        vertical-align: top;\n",
       "    }\n",
       "\n",
       "    .dataframe thead th {\n",
       "        text-align: right;\n",
       "    }\n",
       "</style>\n",
       "<table border=\"1\" class=\"dataframe\">\n",
       "  <thead>\n",
       "    <tr style=\"text-align: right;\">\n",
       "      <th></th>\n",
       "      <th>pair_id</th>\n",
       "      <th>group_id</th>\n",
       "      <th>doc_id</th>\n",
       "      <th>target</th>\n",
       "      <th>clean_title</th>\n",
       "      <th>0_f</th>\n",
       "      <th>1_f</th>\n",
       "      <th>2_f</th>\n",
       "      <th>3_f</th>\n",
       "      <th>4_f</th>\n",
       "      <th>...</th>\n",
       "      <th>4212_f</th>\n",
       "      <th>4213_f</th>\n",
       "      <th>4214_f</th>\n",
       "      <th>4215_f</th>\n",
       "      <th>4216_f</th>\n",
       "      <th>4217_f</th>\n",
       "      <th>4218_f</th>\n",
       "      <th>4219_f</th>\n",
       "      <th>4220_f</th>\n",
       "      <th>4221_f</th>\n",
       "    </tr>\n",
       "  </thead>\n",
       "  <tbody>\n",
       "    <tr>\n",
       "      <th>0</th>\n",
       "      <td>1</td>\n",
       "      <td>1</td>\n",
       "      <td>15731</td>\n",
       "      <td>0</td>\n",
       "      <td>ваз замена подшипник ступица нива</td>\n",
       "      <td>-0.016921</td>\n",
       "      <td>-0.020081</td>\n",
       "      <td>-0.02094</td>\n",
       "      <td>-0.013376</td>\n",
       "      <td>-0.036944</td>\n",
       "      <td>...</td>\n",
       "      <td>-0.030514</td>\n",
       "      <td>-0.060521</td>\n",
       "      <td>-0.019842</td>\n",
       "      <td>-0.01269</td>\n",
       "      <td>-0.013376</td>\n",
       "      <td>-0.013376</td>\n",
       "      <td>-0.01269</td>\n",
       "      <td>-0.025513</td>\n",
       "      <td>-0.036522</td>\n",
       "      <td>-0.015988</td>\n",
       "    </tr>\n",
       "    <tr>\n",
       "      <th>1</th>\n",
       "      <td>2</td>\n",
       "      <td>1</td>\n",
       "      <td>14829</td>\n",
       "      <td>0</td>\n",
       "      <td>ваз опт сочи сравнивать цена купить потребител...</td>\n",
       "      <td>-0.016921</td>\n",
       "      <td>-0.020081</td>\n",
       "      <td>-0.02094</td>\n",
       "      <td>-0.013376</td>\n",
       "      <td>-0.036944</td>\n",
       "      <td>...</td>\n",
       "      <td>-0.030514</td>\n",
       "      <td>-0.060521</td>\n",
       "      <td>-0.019842</td>\n",
       "      <td>-0.01269</td>\n",
       "      <td>-0.013376</td>\n",
       "      <td>-0.013376</td>\n",
       "      <td>-0.01269</td>\n",
       "      <td>-0.025513</td>\n",
       "      <td>-0.036522</td>\n",
       "      <td>-0.015988</td>\n",
       "    </tr>\n",
       "    <tr>\n",
       "      <th>2</th>\n",
       "      <td>3</td>\n",
       "      <td>1</td>\n",
       "      <td>15764</td>\n",
       "      <td>0</td>\n",
       "      <td>купить ступица лада калина трансмиссия переход...</td>\n",
       "      <td>-0.016921</td>\n",
       "      <td>-0.020081</td>\n",
       "      <td>-0.02094</td>\n",
       "      <td>-0.013376</td>\n",
       "      <td>-0.036944</td>\n",
       "      <td>...</td>\n",
       "      <td>-0.030514</td>\n",
       "      <td>-0.060521</td>\n",
       "      <td>-0.019842</td>\n",
       "      <td>-0.01269</td>\n",
       "      <td>-0.013376</td>\n",
       "      <td>-0.013376</td>\n",
       "      <td>-0.01269</td>\n",
       "      <td>-0.025513</td>\n",
       "      <td>-0.036522</td>\n",
       "      <td>-0.015988</td>\n",
       "    </tr>\n",
       "    <tr>\n",
       "      <th>3</th>\n",
       "      <td>4</td>\n",
       "      <td>1</td>\n",
       "      <td>17669</td>\n",
       "      <td>0</td>\n",
       "      <td>классика</td>\n",
       "      <td>-0.016921</td>\n",
       "      <td>-0.020081</td>\n",
       "      <td>-0.02094</td>\n",
       "      <td>-0.013376</td>\n",
       "      <td>-0.036944</td>\n",
       "      <td>...</td>\n",
       "      <td>-0.030514</td>\n",
       "      <td>-0.060521</td>\n",
       "      <td>-0.019842</td>\n",
       "      <td>-0.01269</td>\n",
       "      <td>-0.013376</td>\n",
       "      <td>-0.013376</td>\n",
       "      <td>-0.01269</td>\n",
       "      <td>-0.025513</td>\n",
       "      <td>-0.036522</td>\n",
       "      <td>-0.015988</td>\n",
       "    </tr>\n",
       "    <tr>\n",
       "      <th>4</th>\n",
       "      <td>5</td>\n",
       "      <td>1</td>\n",
       "      <td>14852</td>\n",
       "      <td>0</td>\n",
       "      <td>ступица нива замена подшипник свой рука</td>\n",
       "      <td>-0.016921</td>\n",
       "      <td>-0.020081</td>\n",
       "      <td>-0.02094</td>\n",
       "      <td>-0.013376</td>\n",
       "      <td>-0.036944</td>\n",
       "      <td>...</td>\n",
       "      <td>-0.030514</td>\n",
       "      <td>-0.060521</td>\n",
       "      <td>-0.019842</td>\n",
       "      <td>-0.01269</td>\n",
       "      <td>-0.013376</td>\n",
       "      <td>-0.013376</td>\n",
       "      <td>-0.01269</td>\n",
       "      <td>-0.025513</td>\n",
       "      <td>-0.036522</td>\n",
       "      <td>-0.015988</td>\n",
       "    </tr>\n",
       "  </tbody>\n",
       "</table>\n",
       "<p>5 rows × 4227 columns</p>\n",
       "</div>"
      ],
      "text/plain": [
       "   pair_id  group_id  doc_id  target  \\\n",
       "0        1         1   15731       0   \n",
       "1        2         1   14829       0   \n",
       "2        3         1   15764       0   \n",
       "3        4         1   17669       0   \n",
       "4        5         1   14852       0   \n",
       "\n",
       "                                         clean_title       0_f       1_f  \\\n",
       "0                  ваз замена подшипник ступица нива -0.016921 -0.020081   \n",
       "1  ваз опт сочи сравнивать цена купить потребител... -0.016921 -0.020081   \n",
       "2  купить ступица лада калина трансмиссия переход... -0.016921 -0.020081   \n",
       "3                                           классика -0.016921 -0.020081   \n",
       "4            ступица нива замена подшипник свой рука -0.016921 -0.020081   \n",
       "\n",
       "       2_f       3_f       4_f  ...    4212_f    4213_f    4214_f   4215_f  \\\n",
       "0 -0.02094 -0.013376 -0.036944  ... -0.030514 -0.060521 -0.019842 -0.01269   \n",
       "1 -0.02094 -0.013376 -0.036944  ... -0.030514 -0.060521 -0.019842 -0.01269   \n",
       "2 -0.02094 -0.013376 -0.036944  ... -0.030514 -0.060521 -0.019842 -0.01269   \n",
       "3 -0.02094 -0.013376 -0.036944  ... -0.030514 -0.060521 -0.019842 -0.01269   \n",
       "4 -0.02094 -0.013376 -0.036944  ... -0.030514 -0.060521 -0.019842 -0.01269   \n",
       "\n",
       "     4216_f    4217_f   4218_f    4219_f    4220_f    4221_f  \n",
       "0 -0.013376 -0.013376 -0.01269 -0.025513 -0.036522 -0.015988  \n",
       "1 -0.013376 -0.013376 -0.01269 -0.025513 -0.036522 -0.015988  \n",
       "2 -0.013376 -0.013376 -0.01269 -0.025513 -0.036522 -0.015988  \n",
       "3 -0.013376 -0.013376 -0.01269 -0.025513 -0.036522 -0.015988  \n",
       "4 -0.013376 -0.013376 -0.01269 -0.025513 -0.036522 -0.015988  \n",
       "\n",
       "[5 rows x 4227 columns]"
      ]
     },
     "execution_count": 34,
     "metadata": {},
     "output_type": "execute_result"
    }
   ],
   "source": [
    "df_train_count.head()"
   ]
  },
  {
   "cell_type": "code",
   "execution_count": 52,
   "metadata": {},
   "outputs": [
    {
     "data": {
      "application/vnd.jupyter.widget-view+json": {
       "model_id": "5c3d4f48ad66445185da6df302af6050",
       "version_major": 2,
       "version_minor": 0
      },
      "text/plain": [
       "HBox(children=(IntProgress(value=0, max=128), HTML(value='')))"
      ]
     },
     "metadata": {},
     "output_type": "display_data"
    },
    {
     "name": "stdout",
     "output_type": "stream",
     "text": [
      "\n"
     ]
    }
   ],
   "source": [
    "data = []\n",
    "for group_id in tqdm(range(1, 129), total=128):\n",
    "    sample = df_train_count[df_train_count['group_id'] == group_id]\n",
    "    summary = np.array(sample.loc[:, [f'{i}_f' for i in range(4222)]])\n",
    "    pairwise = pd.DataFrame(\n",
    "        squareform(pdist(summary, metric='cosine')),\n",
    "#         columns = [f'{i}_pair' for i in range(1, sample.shape[0] + 1)],\n",
    "#         index = [f'{i}_pair' for i in range(1, sample.shape[0] + 1)]\n",
    "        columns = sample['pair_id'],\n",
    "        index = sample['pair_id']\n",
    "    )\n",
    "    pairwise = pairwise.replace(0, np.nan)\n",
    "    pairwise = pairwise.describe().T\n",
    "    pairwise = pairwise.reset_index()\n",
    "#     pairwise['index'] = pairwise['index'].apply(lambda x: int(x.split('_')[0]))\n",
    "    data.append(pairwise)\n",
    "data_count = pd.concat(data)"
   ]
  },
  {
   "cell_type": "code",
   "execution_count": 10,
   "metadata": {},
   "outputs": [
    {
     "data": {
      "application/vnd.jupyter.widget-view+json": {
       "model_id": "18b7177494e743e4b7f2078aa5553c84",
       "version_major": 2,
       "version_minor": 0
      },
      "text/plain": [
       "HBox(children=(IntProgress(value=0, max=180), HTML(value='')))"
      ]
     },
     "metadata": {},
     "output_type": "display_data"
    },
    {
     "name": "stdout",
     "output_type": "stream",
     "text": [
      "\n"
     ]
    }
   ],
   "source": [
    "data = []\n",
    "groups = df_test_count['group_id'].unique()\n",
    "for group_id in tqdm(groups, total=groups.shape[0]):\n",
    "    sample = df_test_count[df_test_count['group_id'] == group_id]\n",
    "    summary = np.array(sample.loc[:, [f'{i}_f' for i in range(4222)]])\n",
    "    pairwise = pd.DataFrame(\n",
    "        squareform(pdist(summary, metric='cosine')),\n",
    "#         columns = [f'{i}_pair' for i in range(1, sample.shape[0] + 1)],\n",
    "#         index = [f'{i}_pair' for i in range(1, sample.shape[0] + 1)]\n",
    "        columns = sample['pair_id'],\n",
    "        index = sample['pair_id']\n",
    "    )\n",
    "    pairwise = pairwise.replace(0, np.nan)\n",
    "    pairwise = pairwise.describe().T\n",
    "    pairwise = pairwise.reset_index()\n",
    "#     pairwise['index'] = pairwise['index'].apply(lambda x: int(x.split('_')[0]))\n",
    "    data.append(pairwise)\n",
    "data_test = pd.concat(data)"
   ]
  },
  {
   "cell_type": "code",
   "execution_count": 91,
   "metadata": {},
   "outputs": [
    {
     "data": {
      "application/vnd.jupyter.widget-view+json": {
       "model_id": "1f038aff0d5a4922b6c6f3e7b95e3b8a",
       "version_major": 2,
       "version_minor": 0
      },
      "text/plain": [
       "HBox(children=(IntProgress(value=0, max=128), HTML(value='')))"
      ]
     },
     "metadata": {},
     "output_type": "display_data"
    },
    {
     "name": "stdout",
     "output_type": "stream",
     "text": [
      "\n"
     ]
    }
   ],
   "source": [
    "data = []\n",
    "for group_id in tqdm(range(1, 129), total=128):\n",
    "    sample = df_train_headers[df_train_headers['group_id'] == group_id]\n",
    "    summary = np.array(sample.loc[:, [f'{i}_f' for i in range(18067)]])\n",
    "    pairwise = pd.DataFrame(\n",
    "        squareform(pdist(summary, metric='cosine')),\n",
    "#         columns = [f'{i}_pair' for i in range(1, sample.shape[0] + 1)],\n",
    "#         index = [f'{i}_pair' for i in range(1, sample.shape[0] + 1)]\n",
    "        columns = sample['pair_id'],\n",
    "        index = sample['pair_id']\n",
    "    )\n",
    "    pairwise = pairwise.replace(0, np.nan)\n",
    "    pairwise = pairwise.describe().T\n",
    "    pairwise = pairwise.reset_index()\n",
    "#     pairwise['index'] = pairwise['index'].apply(lambda x: int(x[0]))\n",
    "    data.append(pairwise)\n",
    "data_headers = pd.concat(data)"
   ]
  },
  {
   "cell_type": "code",
   "execution_count": 57,
   "metadata": {},
   "outputs": [],
   "source": [
    "df_train_count = pd.merge(df_train, data_count, how='left', on='pair_id')"
   ]
  },
  {
   "cell_type": "code",
   "execution_count": 58,
   "metadata": {},
   "outputs": [
    {
     "data": {
      "text/plain": [
       "(11690, 12)"
      ]
     },
     "execution_count": 58,
     "metadata": {},
     "output_type": "execute_result"
    }
   ],
   "source": [
    "df_train_count.shape"
   ]
  },
  {
   "cell_type": "code",
   "execution_count": 13,
   "metadata": {},
   "outputs": [
    {
     "data": {
      "text/html": [
       "<div>\n",
       "<style scoped>\n",
       "    .dataframe tbody tr th:only-of-type {\n",
       "        vertical-align: middle;\n",
       "    }\n",
       "\n",
       "    .dataframe tbody tr th {\n",
       "        vertical-align: top;\n",
       "    }\n",
       "\n",
       "    .dataframe thead th {\n",
       "        text-align: right;\n",
       "    }\n",
       "</style>\n",
       "<table border=\"1\" class=\"dataframe\">\n",
       "  <thead>\n",
       "    <tr style=\"text-align: right;\">\n",
       "      <th></th>\n",
       "      <th>pair_id</th>\n",
       "      <th>group_id</th>\n",
       "      <th>doc_id</th>\n",
       "      <th>count</th>\n",
       "      <th>mean</th>\n",
       "      <th>std</th>\n",
       "      <th>min</th>\n",
       "      <th>25%</th>\n",
       "      <th>50%</th>\n",
       "      <th>75%</th>\n",
       "      <th>max</th>\n",
       "    </tr>\n",
       "  </thead>\n",
       "  <tbody>\n",
       "    <tr>\n",
       "      <th>0</th>\n",
       "      <td>11691</td>\n",
       "      <td>130</td>\n",
       "      <td>6710</td>\n",
       "      <td>97.0</td>\n",
       "      <td>0.924379</td>\n",
       "      <td>0.170746</td>\n",
       "      <td>0.407721</td>\n",
       "      <td>0.997128</td>\n",
       "      <td>1.000808</td>\n",
       "      <td>1.001945</td>\n",
       "      <td>1.007153</td>\n",
       "    </tr>\n",
       "    <tr>\n",
       "      <th>1</th>\n",
       "      <td>11692</td>\n",
       "      <td>130</td>\n",
       "      <td>4030</td>\n",
       "      <td>97.0</td>\n",
       "      <td>0.990702</td>\n",
       "      <td>0.041365</td>\n",
       "      <td>0.665101</td>\n",
       "      <td>0.994925</td>\n",
       "      <td>1.001045</td>\n",
       "      <td>1.001948</td>\n",
       "      <td>1.007048</td>\n",
       "    </tr>\n",
       "    <tr>\n",
       "      <th>2</th>\n",
       "      <td>11693</td>\n",
       "      <td>130</td>\n",
       "      <td>5561</td>\n",
       "      <td>97.0</td>\n",
       "      <td>0.894727</td>\n",
       "      <td>0.206106</td>\n",
       "      <td>0.277460</td>\n",
       "      <td>0.854345</td>\n",
       "      <td>1.001470</td>\n",
       "      <td>1.002502</td>\n",
       "      <td>1.019193</td>\n",
       "    </tr>\n",
       "    <tr>\n",
       "      <th>3</th>\n",
       "      <td>11694</td>\n",
       "      <td>130</td>\n",
       "      <td>4055</td>\n",
       "      <td>97.0</td>\n",
       "      <td>0.872997</td>\n",
       "      <td>0.247342</td>\n",
       "      <td>0.105951</td>\n",
       "      <td>0.819164</td>\n",
       "      <td>1.000056</td>\n",
       "      <td>1.000967</td>\n",
       "      <td>1.005470</td>\n",
       "    </tr>\n",
       "    <tr>\n",
       "      <th>4</th>\n",
       "      <td>11695</td>\n",
       "      <td>130</td>\n",
       "      <td>4247</td>\n",
       "      <td>97.0</td>\n",
       "      <td>0.977477</td>\n",
       "      <td>0.084223</td>\n",
       "      <td>0.510155</td>\n",
       "      <td>0.995918</td>\n",
       "      <td>1.000524</td>\n",
       "      <td>1.001139</td>\n",
       "      <td>1.004164</td>\n",
       "    </tr>\n",
       "  </tbody>\n",
       "</table>\n",
       "</div>"
      ],
      "text/plain": [
       "   pair_id  group_id  doc_id  count      mean       std       min       25%  \\\n",
       "0    11691       130    6710   97.0  0.924379  0.170746  0.407721  0.997128   \n",
       "1    11692       130    4030   97.0  0.990702  0.041365  0.665101  0.994925   \n",
       "2    11693       130    5561   97.0  0.894727  0.206106  0.277460  0.854345   \n",
       "3    11694       130    4055   97.0  0.872997  0.247342  0.105951  0.819164   \n",
       "4    11695       130    4247   97.0  0.977477  0.084223  0.510155  0.995918   \n",
       "\n",
       "        50%       75%       max  \n",
       "0  1.000808  1.001945  1.007153  \n",
       "1  1.001045  1.001948  1.007048  \n",
       "2  1.001470  1.002502  1.019193  \n",
       "3  1.000056  1.000967  1.005470  \n",
       "4  1.000524  1.001139  1.004164  "
      ]
     },
     "execution_count": 13,
     "metadata": {},
     "output_type": "execute_result"
    }
   ],
   "source": [
    "df_test_count = pd.merge(df_test, data_test, how='left', on='pair_id')\n",
    "df_test_count.head()"
   ]
  },
  {
   "cell_type": "code",
   "execution_count": 12,
   "metadata": {},
   "outputs": [],
   "source": [
    "df_train_count = df_train_count.drop(['index'], 1)"
   ]
  },
  {
   "cell_type": "code",
   "execution_count": 59,
   "metadata": {},
   "outputs": [
    {
     "data": {
      "text/html": [
       "<div>\n",
       "<style scoped>\n",
       "    .dataframe tbody tr th:only-of-type {\n",
       "        vertical-align: middle;\n",
       "    }\n",
       "\n",
       "    .dataframe tbody tr th {\n",
       "        vertical-align: top;\n",
       "    }\n",
       "\n",
       "    .dataframe thead th {\n",
       "        text-align: right;\n",
       "    }\n",
       "</style>\n",
       "<table border=\"1\" class=\"dataframe\">\n",
       "  <thead>\n",
       "    <tr style=\"text-align: right;\">\n",
       "      <th></th>\n",
       "      <th>pair_id</th>\n",
       "      <th>group_id</th>\n",
       "      <th>doc_id</th>\n",
       "      <th>target</th>\n",
       "      <th>count</th>\n",
       "      <th>mean</th>\n",
       "      <th>std</th>\n",
       "      <th>min</th>\n",
       "      <th>25%</th>\n",
       "      <th>50%</th>\n",
       "      <th>75%</th>\n",
       "      <th>max</th>\n",
       "    </tr>\n",
       "  </thead>\n",
       "  <tbody>\n",
       "    <tr>\n",
       "      <th>0</th>\n",
       "      <td>1</td>\n",
       "      <td>1</td>\n",
       "      <td>15731</td>\n",
       "      <td>0</td>\n",
       "      <td>100.0</td>\n",
       "      <td>0.761555</td>\n",
       "      <td>0.250863</td>\n",
       "      <td>0.062504</td>\n",
       "      <td>0.626651</td>\n",
       "      <td>0.834145</td>\n",
       "      <td>1.000496</td>\n",
       "      <td>1.003004</td>\n",
       "    </tr>\n",
       "    <tr>\n",
       "      <th>1</th>\n",
       "      <td>2</td>\n",
       "      <td>1</td>\n",
       "      <td>14829</td>\n",
       "      <td>0</td>\n",
       "      <td>101.0</td>\n",
       "      <td>0.925562</td>\n",
       "      <td>0.128857</td>\n",
       "      <td>0.452345</td>\n",
       "      <td>0.880770</td>\n",
       "      <td>1.000874</td>\n",
       "      <td>1.001798</td>\n",
       "      <td>1.016542</td>\n",
       "    </tr>\n",
       "    <tr>\n",
       "      <th>2</th>\n",
       "      <td>3</td>\n",
       "      <td>1</td>\n",
       "      <td>15764</td>\n",
       "      <td>0</td>\n",
       "      <td>101.0</td>\n",
       "      <td>0.911651</td>\n",
       "      <td>0.151603</td>\n",
       "      <td>0.439112</td>\n",
       "      <td>0.860085</td>\n",
       "      <td>1.000562</td>\n",
       "      <td>1.001146</td>\n",
       "      <td>1.010765</td>\n",
       "    </tr>\n",
       "    <tr>\n",
       "      <th>3</th>\n",
       "      <td>4</td>\n",
       "      <td>1</td>\n",
       "      <td>17669</td>\n",
       "      <td>0</td>\n",
       "      <td>101.0</td>\n",
       "      <td>0.999378</td>\n",
       "      <td>0.004346</td>\n",
       "      <td>0.970347</td>\n",
       "      <td>0.999705</td>\n",
       "      <td>1.000198</td>\n",
       "      <td>1.000562</td>\n",
       "      <td>1.001958</td>\n",
       "    </tr>\n",
       "    <tr>\n",
       "      <th>4</th>\n",
       "      <td>5</td>\n",
       "      <td>1</td>\n",
       "      <td>14852</td>\n",
       "      <td>0</td>\n",
       "      <td>101.0</td>\n",
       "      <td>0.792380</td>\n",
       "      <td>0.264225</td>\n",
       "      <td>0.025196</td>\n",
       "      <td>0.620202</td>\n",
       "      <td>0.900059</td>\n",
       "      <td>1.001198</td>\n",
       "      <td>1.004416</td>\n",
       "    </tr>\n",
       "  </tbody>\n",
       "</table>\n",
       "</div>"
      ],
      "text/plain": [
       "   pair_id  group_id  doc_id  target  count      mean       std       min  \\\n",
       "0        1         1   15731       0  100.0  0.761555  0.250863  0.062504   \n",
       "1        2         1   14829       0  101.0  0.925562  0.128857  0.452345   \n",
       "2        3         1   15764       0  101.0  0.911651  0.151603  0.439112   \n",
       "3        4         1   17669       0  101.0  0.999378  0.004346  0.970347   \n",
       "4        5         1   14852       0  101.0  0.792380  0.264225  0.025196   \n",
       "\n",
       "        25%       50%       75%       max  \n",
       "0  0.626651  0.834145  1.000496  1.003004  \n",
       "1  0.880770  1.000874  1.001798  1.016542  \n",
       "2  0.860085  1.000562  1.001146  1.010765  \n",
       "3  0.999705  1.000198  1.000562  1.001958  \n",
       "4  0.620202  0.900059  1.001198  1.004416  "
      ]
     },
     "execution_count": 59,
     "metadata": {},
     "output_type": "execute_result"
    }
   ],
   "source": [
    "df_train_count.head()"
   ]
  },
  {
   "cell_type": "code",
   "execution_count": 60,
   "metadata": {},
   "outputs": [
    {
     "data": {
      "text/plain": [
       "(11690,)"
      ]
     },
     "execution_count": 60,
     "metadata": {},
     "output_type": "execute_result"
    }
   ],
   "source": [
    "df_train_count['pair_id'].unique().shape"
   ]
  },
  {
   "cell_type": "code",
   "execution_count": 61,
   "metadata": {},
   "outputs": [],
   "source": [
    "df_train_count.to_csv('data/dist_titles.csv', index=False)"
   ]
  },
  {
   "cell_type": "code",
   "execution_count": 14,
   "metadata": {},
   "outputs": [],
   "source": [
    "df_test_count.to_csv('data/test_dist_titles.csv', index=False)"
   ]
  },
  {
   "cell_type": "code",
   "execution_count": 95,
   "metadata": {},
   "outputs": [
    {
     "data": {
      "image/png": "[encoded data removed]",
      "text/plain": [
       "<Figure size 432x288 with 1 Axes>"
      ]
     },
     "metadata": {
      "needs_background": "light"
     },
     "output_type": "display_data"
    }
   ],
   "source": [
    "show_hist(df_train_headers, 'mean')"
   ]
  },
  {
   "cell_type": "code",
   "execution_count": 96,
   "metadata": {},
   "outputs": [],
   "source": [
    "def linear_model_cross_val_score(model, df, train_subset=['dev'], cv=5):\n",
    "    indices = df['group_id'].unique()\n",
    "    result = []\n",
    "    ths = 0\n",
    "    for i in range(cv):\n",
    "        train_ids = np.random.choice(indices, indices.shape[0] // 2, replace=False)\n",
    "        test_ids = indices[~np.isin(indices, train_ids)]\n",
    "        train_data = df[df['group_id'].isin(train_ids)]\n",
    "        test_data = df[df['group_id'].isin(test_ids)]\n",
    "        model.fit(train_data.loc[:, train_subset].fillna(0), train_data['target'])\n",
    "        proba = model.predict_proba(test_data.loc[:, train_subset].fillna(0))\n",
    "        score, th = get_th(proba, test_data['target'])\n",
    "        ths += th\n",
    "        result.append(score)\n",
    "    return sum(result) / len(result), ths / len(result)"
   ]
  },
  {
   "cell_type": "code",
   "execution_count": 100,
   "metadata": {},
   "outputs": [
    {
     "data": {
      "text/plain": [
       "(0.3195835113999207, 0.09999999999999999)"
      ]
     },
     "execution_count": 100,
     "metadata": {},
     "output_type": "execute_result"
    }
   ],
   "source": [
    "model = LogisticRegression(C=1)\n",
    "linear_model_cross_val_score(model, df_train_headers, ['mean', 'min', 'max', '25%', '50%', '75%'], 10)"
   ]
  },
  {
   "cell_type": "code",
   "execution_count": 78,
   "metadata": {},
   "outputs": [
    {
     "name": "stdout",
     "output_type": "stream",
     "text": [
      "(0.44688206355537824, 0.1)\n"
     ]
    }
   ],
   "source": [
    "model = LogisticRegression()\n",
    "model.fit(df_train.loc[:, ['mean', 'min', 'max', 'std']].fillna(0), df_train['target'])\n",
    "proba = model.predict_proba(df_train.loc[:, ['mean', 'min', 'max', 'std']].fillna(0))\n",
    "print(get_th(proba, df_train['target']))"
   ]
  },
  {
   "cell_type": "code",
   "execution_count": 105,
   "metadata": {},
   "outputs": [
    {
     "data": {
      "text/plain": [
       "(0.25773191401861884, 0.09999999999999999)"
      ]
     },
     "execution_count": 105,
     "metadata": {},
     "output_type": "execute_result"
    }
   ],
   "source": [
    "model = LGBMClassifier(max_depth=1, n_estimators=1000)\n",
    "linear_model_cross_val_score(model, df_train_headers, ['mean', 'min', 'max', '25%', '50%', '75%'], 10)"
   ]
  },
  {
   "cell_type": "markdown",
   "metadata": {},
   "source": [
    "# Посмотрим, что нам даст IOU"
   ]
  },
  {
   "cell_type": "code",
   "execution_count": 106,
   "metadata": {},
   "outputs": [],
   "source": [
    "titles = pd.read_csv('data/clean_titles.csv')\n",
    "df_train = pd.read_csv('data/train_groups.csv')"
   ]
  },
  {
   "cell_type": "code",
   "execution_count": 107,
   "metadata": {},
   "outputs": [],
   "source": [
    "df_train = pd.merge(df_train, titles, how='left', on='doc_id')"
   ]
  },
  {
   "cell_type": "code",
   "execution_count": 143,
   "metadata": {},
   "outputs": [],
   "source": [
    "def jaccard_similarity(query, document):\n",
    "    query = query[0]\n",
    "    document = document[0]\n",
    "    intersection = set(query).intersection(set(document))\n",
    "    union = set(query).union(set(document))\n",
    "    if union:\n",
    "        return len(intersection) / len(union)\n",
    "    else:\n",
    "        return 0"
   ]
  },
  {
   "cell_type": "code",
   "execution_count": 144,
   "metadata": {},
   "outputs": [
    {
     "data": {
      "application/vnd.jupyter.widget-view+json": {
       "model_id": "4d1e5addf0924c4bb91adedd22619ad4",
       "version_major": 2,
       "version_minor": 0
      },
      "text/plain": [
       "HBox(children=(IntProgress(value=0, max=128), HTML(value='')))"
      ]
     },
     "metadata": {},
     "output_type": "display_data"
    },
    {
     "name": "stdout",
     "output_type": "stream",
     "text": [
      "\n"
     ]
    }
   ],
   "source": [
    "data = []\n",
    "for group_id in tqdm(range(1, 129), total=128):\n",
    "    sample = df_train[df_train['group_id'] == group_id]\n",
    "    summary = np.array(sample.loc[:, ['clean_title']].fillna(''))\n",
    "    pairwise = pd.DataFrame(\n",
    "        squareform(pdist(summary, metric=jaccard_similarity)),\n",
    "        columns = [f'{i}_pair' for i in range(1, sample.shape[0] + 1)],\n",
    "        index = [f'{i}_pair' for i in range(1, sample.shape[0] + 1)]\n",
    "    )\n",
    "    pairwise = pairwise.describe().T\n",
    "    pairwise = pairwise.reset_index()\n",
    "    pairwise['index'] = pairwise['index'].apply(lambda x: int(x[0]))\n",
    "    data.append(pairwise)\n",
    "data = pd.concat(data)"
   ]
  },
  {
   "cell_type": "code",
   "execution_count": 149,
   "metadata": {},
   "outputs": [],
   "source": [
    "df_train_jaccard = pd.merge(df_train, data, how='left', left_on='pair_id', right_on='index')"
   ]
  },
  {
   "cell_type": "code",
   "execution_count": 150,
   "metadata": {},
   "outputs": [
    {
     "data": {
      "text/plain": [
       "(0.3410368106615488, 0.09999999999999999)"
      ]
     },
     "execution_count": 150,
     "metadata": {},
     "output_type": "execute_result"
    }
   ],
   "source": [
    "model = LogisticRegression(C=1)\n",
    "linear_model_cross_val_score(model, df_train_jaccard, ['mean', 'min', 'max', '25%', '50%', '75%'], 10)"
   ]
  },
  {
   "cell_type": "code",
   "execution_count": 161,
   "metadata": {},
   "outputs": [],
   "source": [
    "def linear_model_cross_val_score(model, df, train_subset=['dev'], cv=5):\n",
    "    indices = df['group_id'].unique()\n",
    "    result = []\n",
    "    ths = 0\n",
    "    for i in range(cv):\n",
    "        train_ids = np.random.choice(indices, indices.shape[0] // 2, replace=False)\n",
    "        test_ids = indices[~np.isin(indices, train_ids)]\n",
    "        train_data = df[df['group_id'].isin(train_ids)]\n",
    "        test_data = df[df['group_id'].isin(test_ids)]\n",
    "        model.fit(train_data.loc[:, train_subset].fillna(0), train_data['target'])\n",
    "        return roc_auc_score(test_data['target'], model.predict_proba(test_data.loc[:, train_subset].fillna(0))[:, 1])"
   ]
  },
  {
   "cell_type": "code",
   "execution_count": 162,
   "metadata": {},
   "outputs": [
    {
     "data": {
      "text/plain": [
       "0.5"
      ]
     },
     "execution_count": 162,
     "metadata": {},
     "output_type": "execute_result"
    }
   ],
   "source": [
    "model = LogisticRegression(C=1)\n",
    "linear_model_cross_val_score(model, df_train_jaccard, ['mean', 'min', 'max', '25%', '50%', '75%'], 10)"
   ]
  },
  {
   "cell_type": "code",
   "execution_count": null,
   "metadata": {},
   "outputs": [],
   "source": []
  }
 ],
 "metadata": {
  "kernelspec": {
   "display_name": "Python 3",
   "language": "python",
   "name": "python3"
  },
  "language_info": {
   "codemirror_mode": {
    "name": "ipython",
    "version": 3
   },
   "file_extension": ".py",
   "mimetype": "text/x-python",
   "name": "python",
   "nbconvert_exporter": "python",
   "pygments_lexer": "ipython3",
   "version": "3.7.4"
  }
 },
 "nbformat": 4,
 "nbformat_minor": 4
}
