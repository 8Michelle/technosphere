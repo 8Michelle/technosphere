{
  "nbformat": 4,
  "nbformat_minor": 0,
  "metadata": {
    "accelerator": "GPU",
    "colab": {
      "name": "[2020_2]Practice_task_10,_NLP.ipynb",
      "provenance": [],
      "collapsed_sections": []
    },
    "kernelspec": {
      "display_name": "Python 3",
      "language": "python",
      "name": "python3"
    },
    "language_info": {
      "codemirror_mode": {
        "name": "ipython",
        "version": 3
      },
      "file_extension": ".py",
      "mimetype": "text/x-python",
      "name": "python",
      "nbconvert_exporter": "python",
      "pygments_lexer": "ipython3",
      "version": "3.7.4"
    },
    "latex_envs": {
      "bibliofile": "biblio.bib",
      "cite_by": "apalike",
      "current_citInitial": 1,
      "eqLabelWithNumbers": true,
      "eqNumInitial": 0
    }
  },
  "cells": [
    {
      "cell_type": "markdown",
      "metadata": {
        "id": "vNfcF-a-RT71"
      },
      "source": [
        "## Семинар 10: \"Генерация текстов\""
      ]
    },
    {
      "cell_type": "markdown",
      "metadata": {
        "id": "re6zwjsVRT74"
      },
      "source": [
        "ФИО: Коновалов Михаил Анатольевич"
      ]
    },
    {
      "cell_type": "code",
      "metadata": {
        "id": "LJEU-kgmRT76"
      },
      "source": [
        "import numpy as np\n",
        "import math\n",
        "import re\n",
        "from torch import nn\n",
        "from torch.autograd import Variable\n",
        "import matplotlib.pyplot as plt\n",
        "import torch\n",
        "from torch.utils.data import Dataset, DataLoader\n",
        "import sys\n",
        "from IPython.display import clear_output\n",
        "from tqdm import tqdm\n",
        "import random\n",
        "%matplotlib inline"
      ],
      "execution_count": 63,
      "outputs": []
    },
    {
      "cell_type": "markdown",
      "metadata": {
        "id": "4sa2nmquRT8E"
      },
      "source": [
        "Этот семинар посвящен чат-ботам. Вам предстоит реализовать модель, генерирующую определенные тексты. В качестве текстов можно взять сборник цитат умных людей, предсказаний и т.д. На семинаре мы используем данные https://github.com/alvations/Quotables/blob/master/author-quote.txt\n",
        "\n",
        "При реализации задания вы можете пользоваться кодом из этого примера: <a href=https://github.com/spro/practical-pytorch/blob/master/char-rnn-generation/char-rnn-generation.ipynb>Generating Shakespeare with a Character-Level RNN</a>"
      ]
    },
    {
      "cell_type": "markdown",
      "metadata": {
        "id": "1JmO9AyyRT8F"
      },
      "source": [
        "### Часть 1: подготовка данных"
      ]
    },
    {
      "cell_type": "markdown",
      "metadata": {
        "id": "mmxErCFwRT8G"
      },
      "source": [
        "Реализуйте датасет для дальнейшего обучения (будем использовать batch size=1)"
      ]
    },
    {
      "cell_type": "code",
      "metadata": {
        "colab": {
          "base_uri": "https://localhost:8080/"
        },
        "id": "HQMpo7CARp0j",
        "outputId": "56c61d7d-9fc7-44e1-bb31-8f6a1b9a766c"
      },
      "source": [
        "!wget https://raw.githubusercontent.com/alvations/Quotables/master/author-quote.txt"
      ],
      "execution_count": 3,
      "outputs": [
        {
          "output_type": "stream",
          "text": [
            "--2020-12-01 17:52:21--  https://raw.githubusercontent.com/alvations/Quotables/master/author-quote.txt\n",
            "Resolving raw.githubusercontent.com (raw.githubusercontent.com)... 151.101.0.133, 151.101.64.133, 151.101.128.133, ...\n",
            "Connecting to raw.githubusercontent.com (raw.githubusercontent.com)|151.101.0.133|:443... connected.\n",
            "HTTP request sent, awaiting response... 200 OK\n",
            "Length: 5615127 (5.4M) [text/plain]\n",
            "Saving to: ‘author-quote.txt’\n",
            "\n",
            "author-quote.txt    100%[===================>]   5.35M  --.-KB/s    in 0.06s   \n",
            "\n",
            "2020-12-01 17:52:21 (86.7 MB/s) - ‘author-quote.txt’ saved [5615127/5615127]\n",
            "\n"
          ],
          "name": "stdout"
        }
      ]
    },
    {
      "cell_type": "code",
      "metadata": {
        "id": "JtnpIHsiRT8H"
      },
      "source": [
        "lines = [\n",
        "    x.split('\\t')[1].strip().replace(\".\", \"\").replace(\",\", \"\").replace(\":\", \"\").replace(\"\\\"\", \"\").replace(\";\", \"\").replace(\"!\", \"\").replace(\"#\", \"\").lower().split() ##!!!!!\n",
        "    for x in open('author-quote.txt').readlines()\n",
        "]"
      ],
      "execution_count": 4,
      "outputs": []
    },
    {
      "cell_type": "code",
      "metadata": {
        "colab": {
          "base_uri": "https://localhost:8080/",
          "height": 267
        },
        "id": "y9xzUMz7RT8N",
        "outputId": "721ef4e5-7918-4353-9a24-efa721fac3f6"
      },
      "source": [
        "plt.hist(list(map(len, lines)), bins=100);"
      ],
      "execution_count": 5,
      "outputs": [
        {
          "output_type": "display_data",
          "data": {
            "image/png": "[encoded data removed]",
            "text/plain": [
              "<Figure size 432x288 with 1 Axes>"
            ]
          },
          "metadata": {
            "tags": [],
            "needs_background": "light"
          }
        }
      ]
    },
    {
      "cell_type": "code",
      "metadata": {
        "colab": {
          "base_uri": "https://localhost:8080/"
        },
        "id": "62rE4HZERT8r",
        "outputId": "cf292b5e-5b98-4a9e-a524-28d9ce299bac"
      },
      "source": [
        "np.random.seed(777)\n",
        "torch.manual_seed(777)"
      ],
      "execution_count": 6,
      "outputs": [
        {
          "output_type": "execute_result",
          "data": {
            "text/plain": [
              "<torch._C.Generator at 0x7f84b94fac30>"
            ]
          },
          "metadata": {
            "tags": []
          },
          "execution_count": 6
        }
      ]
    },
    {
      "cell_type": "code",
      "metadata": {
        "id": "V12a2iC6RT8w"
      },
      "source": [
        "class Vocabulary:\n",
        "    def __init__(self, sentences):\n",
        "        all_words = set()\n",
        "        for line in sentences:\n",
        "            all_words |= set(line)\n",
        "        all_words = list(sorted(all_words))+['<eos>', '<go>']\n",
        "        self.word_to_id = {\n",
        "            x[1]:x[0]\n",
        "            for x in enumerate(all_words)\n",
        "        }\n",
        "        self.id_to_word = {\n",
        "            x[0]:x[1]\n",
        "            for x in enumerate(all_words)\n",
        "        }\n",
        "        self.size = len(all_words)\n",
        "\n",
        "    def encode(self, line):\n",
        "        return [self.word_to_id[x] for x in line]\n",
        "    \n",
        "    def decode(self, tokens):\n",
        "        return ' '.join([self.id_to_word[x] for x in tokens])"
      ],
      "execution_count": 7,
      "outputs": []
    },
    {
      "cell_type": "code",
      "metadata": {
        "id": "VHNAjGTuRT80"
      },
      "source": [
        "vocab = Vocabulary(lines)"
      ],
      "execution_count": 8,
      "outputs": []
    },
    {
      "cell_type": "code",
      "metadata": {
        "id": "P0jbS2dnRT8_"
      },
      "source": [
        "class Quotes(Dataset):\n",
        "    def __init__(self, sentences, vocab):\n",
        "        # Construct vocabulary + EOS & GO tokens\n",
        "        self.sentences = sentences\n",
        "        self.vocab = vocab\n",
        "        self.go = self.vocab.word_to_id['<go>']\n",
        "        self.eos = self.vocab.word_to_id['<eos>']\n",
        "\n",
        "    def __len__(self):\n",
        "        return len(self.sentences)\n",
        "\n",
        "    def __getitem__(self, idx):\n",
        "        tokens = self.vocab.encode(self.sentences[idx])\n",
        "        _input = np.array([self.go] + tokens)\n",
        "        _output = np.array(tokens + [self.eos])\n",
        "        return _input, _output"
      ],
      "execution_count": 9,
      "outputs": []
    },
    {
      "cell_type": "code",
      "metadata": {
        "id": "TypYWVvLRT9F"
      },
      "source": [
        "def compose_batch(batch):\n",
        "    lengths = np.array([len(x[0]) for x in batch])\n",
        "    order = np.argsort(-lengths)\n",
        "    go = torch.zeros(len(batch), lengths[order[0]]).long()\n",
        "    eos = torch.zeros(len(batch), lengths[order[0]]).long()\n",
        "    mask = torch.zeros(len(batch), lengths[order[0]]).long()\n",
        "    for i in range(len(batch)):\n",
        "        current_go, current_eos = batch[i]\n",
        "        go[i, :len(current_go)] = torch.tensor(current_go)\n",
        "        eos[i, :len(current_eos)] = torch.tensor(current_eos)\n",
        "        mask[i, :len(current_go)] = 1\n",
        "    mask = mask[order]\n",
        "    go = go[order]\n",
        "    eos = eos[order]\n",
        "    lengths = lengths[order]\n",
        "    return go, eos, mask, lengths"
      ],
      "execution_count": 10,
      "outputs": []
    },
    {
      "cell_type": "code",
      "metadata": {
        "id": "TJO6n2JCRT9J"
      },
      "source": [
        "random.shuffle(lines)\n",
        "train_dataset = Quotes(lines[:4 * len(lines) // 5], vocab)\n",
        "test_dataset = Quotes(lines[4 * len(lines) // 5:], vocab)"
      ],
      "execution_count": 11,
      "outputs": []
    },
    {
      "cell_type": "code",
      "metadata": {
        "id": "09BKBOt6RT9P"
      },
      "source": [
        "train_dataloader = DataLoader(\n",
        "    train_dataset, shuffle=True,\n",
        "    batch_size=64,\n",
        "    collate_fn=compose_batch)\n",
        "\n",
        "test_dataloader = DataLoader(\n",
        "    test_dataset, shuffle=True,\n",
        "    batch_size=64,\n",
        "    collate_fn=compose_batch)"
      ],
      "execution_count": 12,
      "outputs": []
    },
    {
      "cell_type": "markdown",
      "metadata": {
        "id": "aGpY6GymRT9T"
      },
      "source": [
        "### Часть 2: определение модели"
      ]
    },
    {
      "cell_type": "code",
      "metadata": {
        "id": "icrwdrvhRT9U"
      },
      "source": [
        "#[sample_i, channels, w, h]\n",
        "\n",
        "#[sample_i, w_i, emb_i] # batch_first=True\n",
        "#[w_i, sample_i, emb_i] # batch_first=False\n",
        "\n",
        "class Oracle(nn.Module):\n",
        "    def __init__(self, vocabulary_size,\n",
        "                 embedding_size=128,\n",
        "                 hidden_size=256,\n",
        "                 layers=2,\n",
        "                 rnn=nn.GRU,\n",
        "                 pretrained_emb=None):\n",
        "        super().__init__()\n",
        "        self.embedding_size = embedding_size\n",
        "        self.layers = layers\n",
        "        self.hidden_size = hidden_size\n",
        "\n",
        "        if pretrained_emb is not None:\n",
        "            self.embedding = nn.Embedding.from_pretrained(pretrained_emb, freeze=False)\n",
        "        else:\n",
        "            self.embedding = nn.Embedding(vocabulary_size, embedding_size)        \n",
        "\n",
        "        self.generator = rnn(\n",
        "            embedding_size, hidden_size,\n",
        "            layers, batch_first=False\n",
        "        )\n",
        "        self.classifier = nn.Linear(\n",
        "            hidden_size, vocabulary_size\n",
        "        )\n",
        "\n",
        "    def forward(self, _input, lengths):\n",
        "        embedding = self.embedding(_input).transpose(0, 1)\n",
        "        embedding = nn.utils.rnn.pack_padded_sequence(\n",
        "            embedding, lengths\n",
        "        )\n",
        "        output, _ = self.generator(embedding)\n",
        "        output, _ = nn.utils.rnn.pad_packed_sequence(output)\n",
        "        classes = self.classifier(output)\n",
        "        return classes\n",
        "\n",
        "    def generate(self, vocab, max_len=70):\n",
        "        if type(self.generator) is nn.GRU:\n",
        "            h = torch.zeros(self.layers, 1, self.hidden_size)\n",
        "        else:\n",
        "            h = (torch.zeros(self.layers, 1, self.hidden_size), torch.zeros(self.layers, 1, self.hidden_size))\n",
        "        current_token = '<go>'\n",
        "        line = ''\n",
        "        while (current_token != '<eos>') and \\\n",
        "                len(line) < max_len:\n",
        "            token = torch.tensor([[vocab.word_to_id[current_token]]]).long()\n",
        "            token_id = token.detach()\n",
        "            embedding = self.embedding(token_id)\n",
        "            output, (h) = self.generator(embedding, (h))\n",
        "            classes = self.classifier(output[0])\n",
        "            classes_probs = nn.Softmax()(classes)\n",
        "            sampler = torch.distributions.Categorical(classes_probs[0])\n",
        "            new_token_id = sampler.sample().data.numpy().item()\n",
        "            current_token = vocab.id_to_word[new_token_id]\n",
        "            line = line + \" \" + current_token\n",
        "        return line"
      ],
      "execution_count": 48,
      "outputs": []
    },
    {
      "cell_type": "code",
      "metadata": {
        "colab": {
          "base_uri": "https://localhost:8080/"
        },
        "id": "Q0JIf0RccRxN",
        "outputId": "c0387e7a-2b46-41d9-9ac9-6363b4723d45"
      },
      "source": [
        "!pip install gensim"
      ],
      "execution_count": 14,
      "outputs": [
        {
          "output_type": "stream",
          "text": [
            "Requirement already satisfied: gensim in /usr/local/lib/python3.6/dist-packages (3.6.0)\n",
            "Requirement already satisfied: numpy>=1.11.3 in /usr/local/lib/python3.6/dist-packages (from gensim) (1.18.5)\n",
            "Requirement already satisfied: smart-open>=1.2.1 in /usr/local/lib/python3.6/dist-packages (from gensim) (3.0.0)\n",
            "Requirement already satisfied: scipy>=0.18.1 in /usr/local/lib/python3.6/dist-packages (from gensim) (1.4.1)\n",
            "Requirement already satisfied: six>=1.5.0 in /usr/local/lib/python3.6/dist-packages (from gensim) (1.15.0)\n",
            "Requirement already satisfied: requests in /usr/local/lib/python3.6/dist-packages (from smart-open>=1.2.1->gensim) (2.23.0)\n",
            "Requirement already satisfied: urllib3!=1.25.0,!=1.25.1,<1.26,>=1.21.1 in /usr/local/lib/python3.6/dist-packages (from requests->smart-open>=1.2.1->gensim) (1.24.3)\n",
            "Requirement already satisfied: idna<3,>=2.5 in /usr/local/lib/python3.6/dist-packages (from requests->smart-open>=1.2.1->gensim) (2.10)\n",
            "Requirement already satisfied: chardet<4,>=3.0.2 in /usr/local/lib/python3.6/dist-packages (from requests->smart-open>=1.2.1->gensim) (3.0.4)\n",
            "Requirement already satisfied: certifi>=2017.4.17 in /usr/local/lib/python3.6/dist-packages (from requests->smart-open>=1.2.1->gensim) (2020.11.8)\n"
          ],
          "name": "stdout"
        }
      ]
    },
    {
      "cell_type": "code",
      "metadata": {
        "colab": {
          "base_uri": "https://localhost:8080/"
        },
        "id": "WWQpzazMbjed",
        "outputId": "0d1d0d35-0d18-4d04-fd46-0776ed19292e"
      },
      "source": [
        "import gensim\n",
        "import gensim.downloader\n",
        "\n",
        "model = gensim.downloader.load('glove-wiki-gigaword-200')"
      ],
      "execution_count": 15,
      "outputs": [
        {
          "output_type": "stream",
          "text": [
            "[==================================================] 100.0% 252.1/252.1MB downloaded\n"
          ],
          "name": "stdout"
        }
      ]
    },
    {
      "cell_type": "code",
      "metadata": {
        "colab": {
          "base_uri": "https://localhost:8080/"
        },
        "id": "ToT6fO4mQZ4I",
        "outputId": "4a4a6013-fada-461f-a4c1-99dd85a5efa9"
      },
      "source": [
        "embed_matrix = []\n",
        "\n",
        "bad_words = 0\n",
        "for i in range(len(vocab.id_to_word)):\n",
        "    word = vocab.id_to_word[i]\n",
        "    try:\n",
        "        vec = model.wv[word]\n",
        "    except KeyError:\n",
        "        vec = np.random.rand(200)\n",
        "        bad_words += 1\n",
        "\n",
        "    embed_matrix.append(vec)  "
      ],
      "execution_count": 16,
      "outputs": [
        {
          "output_type": "stream",
          "text": [
            "/usr/local/lib/python3.6/dist-packages/ipykernel_launcher.py:7: DeprecationWarning: Call to deprecated `wv` (Attribute will be removed in 4.0.0, use self instead).\n",
            "  import sys\n"
          ],
          "name": "stderr"
        }
      ]
    },
    {
      "cell_type": "code",
      "metadata": {
        "id": "G5kINPjchmM3"
      },
      "source": [
        "oracle = Oracle(vocab.size,\n",
        "                embedding_size=32,\n",
        "                hidden_size=64, layers=2)"
      ],
      "execution_count": 17,
      "outputs": []
    },
    {
      "cell_type": "markdown",
      "metadata": {
        "id": "-x9udO-ZRT9g"
      },
      "source": [
        "### Часть 3: обучение модели"
      ]
    },
    {
      "cell_type": "code",
      "metadata": {
        "id": "uEsn9DfUcPGf"
      },
      "source": [
        "def calc_loss(model, dataloader):\n",
        "    loss = 0\n",
        "    counter = 0\n",
        "    with torch.no_grad():\n",
        "        for go, eos, mask, length in dataloader:\n",
        "            go = go.cuda()\n",
        "            eos = eos.cuda()\n",
        "            mask = mask.cuda()\n",
        "\n",
        "            prediction = model(go, length).transpose(0, 1).transpose(1, 2)\n",
        "            loss += (nn.CrossEntropyLoss(reduction='none')(prediction, eos) * mask.float()).sum()\n",
        "            counter += mask.sum()\n",
        "\n",
        "    return loss / counter"
      ],
      "execution_count": 25,
      "outputs": []
    },
    {
      "cell_type": "code",
      "metadata": {
        "id": "u8VN4xMDHngn"
      },
      "source": [
        "def moving_average(a, n=20) :\n",
        "    ret = np.cumsum(a, dtype=float)\n",
        "    ret[n:] = ret[n:] - ret[:-n]\n",
        "    return ret[n - 1:] / n"
      ],
      "execution_count": 26,
      "outputs": []
    },
    {
      "cell_type": "code",
      "metadata": {
        "id": "-IO7PjIgRT9h"
      },
      "source": [
        "oracle = Oracle(vocab.size,\n",
        "                embedding_size=200,\n",
        "                hidden_size=256, layers=2, pretrained_emb=torch.from_numpy(np.array(embed_matrix, dtype=np.float32)))\n",
        "oracle.cuda()\n",
        "\n",
        "optimizer = torch.optim.RMSprop(\n",
        "    oracle.parameters(), lr=0.0001, weight_decay=1e-5\n",
        ")\n",
        "\n",
        "def train_model(oracle, optimizer, n_epochs=5):\n",
        "    criterion = nn.CrossEntropyLoss(reduction='none')\n",
        "\n",
        "    losses = []\n",
        "    train_epoch_losses = [\"none\"]\n",
        "    test_epoch_losses = [\"none\"]\n",
        "\n",
        "    for epoch in range(n_epochs):    \n",
        "        for i, (go, eos, mask, length) in tqdm(enumerate(train_dataloader), total=len(train_dataloader),\n",
        "                                            desc=f\"Epoch {epoch + 1}\",\n",
        "                                            postfix=f\"Train {train_epoch_losses[epoch]}\\tTest {test_epoch_losses[epoch]}\",\n",
        "                                            position=0, leave=True):\n",
        "            go = go.cuda()\n",
        "            eos = eos.cuda()\n",
        "            mask = mask.cuda()\n",
        "\n",
        "            oracle.zero_grad()\n",
        "            prediction = oracle(\n",
        "                go, length\n",
        "            ).transpose(0, 1).transpose(1, 2)\n",
        "            loss = (criterion(prediction, eos)*mask.float()).sum()\n",
        "            loss = loss / mask.sum()\n",
        "            loss.backward()\n",
        "            [x.grad.clamp_(-1, 1) for x in oracle.parameters() if x.grad is not None]\n",
        "            optimizer.step()\n",
        "            losses.append(np.exp(loss.cpu().item()))\n",
        "            if i % 50 == 0:\n",
        "                clear_output(True)\n",
        "                plt.plot(losses, label='Train')\n",
        "                plt.plot(moving_average(losses), label='MA@20')\n",
        "                plt.xlabel('iteration')\n",
        "                plt.ylabel('perplexity')\n",
        "                plt.legend()\n",
        "                plt.grid()\n",
        "                plt.show()\n",
        "        train_epoch_losses.append(calc_loss(oracle, train_dataloader))\n",
        "        test_epoch_losses.append(calc_loss(oracle, test_dataloader))\n",
        "    \n",
        "    return train_epoch_losses, test_epoch_losses"
      ],
      "execution_count": 64,
      "outputs": []
    },
    {
      "cell_type": "code",
      "metadata": {
        "colab": {
          "base_uri": "https://localhost:8080/",
          "height": 296
        },
        "id": "am-mlvyCc-xP",
        "outputId": "fae32acf-1a25-462f-c97a-00f1a9f787d8"
      },
      "source": [
        "train_epoch_losses, test_epoch_losses = train_model(oracle, optimizer, 1)"
      ],
      "execution_count": 28,
      "outputs": [
        {
          "output_type": "display_data",
          "data": {
            "image/png": "[encoded data removed]",
            "text/plain": [
              "<Figure size 432x288 with 1 Axes>"
            ]
          },
          "metadata": {
            "tags": [],
            "needs_background": "light"
          }
        },
        {
          "output_type": "stream",
          "text": [
            "Epoch 1: 100%|██████████| 491/491 [01:32<00:00,  5.33it/s, Train none\tTest none]\n"
          ],
          "name": "stderr"
        }
      ]
    },
    {
      "cell_type": "markdown",
      "metadata": {
        "id": "-rEZmOxeRT9-"
      },
      "source": [
        "### Часть 4: оценивание модели"
      ]
    },
    {
      "cell_type": "markdown",
      "metadata": {
        "id": "nJqEFq6aRT9-"
      },
      "source": [
        "<i> Приведите примеры сгенерированных предложений </i>"
      ]
    },
    {
      "cell_type": "code",
      "metadata": {
        "colab": {
          "base_uri": "https://localhost:8080/"
        },
        "id": "6WANH0FdRT94",
        "outputId": "84fd488f-5db0-4542-9fda-6404bb7edf57"
      },
      "source": [
        "oracle.cpu()"
      ],
      "execution_count": 29,
      "outputs": [
        {
          "output_type": "execute_result",
          "data": {
            "text/plain": [
              "Oracle(\n",
              "  (embedding): Embedding(33275, 200)\n",
              "  (generator): GRU(200, 256, num_layers=2)\n",
              "  (classifier): Linear(in_features=256, out_features=33275, bias=True)\n",
              ")"
            ]
          },
          "metadata": {
            "tags": []
          },
          "execution_count": 29
        }
      ]
    },
    {
      "cell_type": "code",
      "metadata": {
        "colab": {
          "base_uri": "https://localhost:8080/"
        },
        "id": "VmKlNe0BiB-m",
        "outputId": "4f8aaf02-131e-43e9-c769-ef5bdce18cdc"
      },
      "source": [
        "for _ in range(20):\n",
        "  res = oracle.generate(vocab, max_len=150)\n",
        "  print(res)"
      ],
      "execution_count": 30,
      "outputs": [
        {
          "output_type": "stream",
          "text": [
            "/usr/local/lib/python3.6/dist-packages/ipykernel_launcher.py:51: UserWarning: Implicit dimension choice for softmax has been deprecated. Change the call to include dim=X as an argument.\n"
          ],
          "name": "stderr"
        },
        {
          "output_type": "stream",
          "text": [
            " ) profit <eos>\n",
            " networking who i deadlines drama is father lived they serious said the life two <eos>\n",
            " music neighbour a state the you <eos>\n",
            " to things is son much in a little anime the a hope recapture will <eos>\n",
            " of out miles no have possible because the confusing play a that - is know influence medicine have watch the the made <eos>\n",
            " i mid-century that even refreshing have me thing to suffers for methey artist challenge in crown spiral they do personality example a season i the in\n",
            " i the putts <eos>\n",
            " them our <eos>\n",
            " i my it's that's allies up foreign revision to nor we than to things elsewhere in really and same fortunate with feel to every in is to the years bad\n",
            " google believe of so or met doesn't soul huge beach more much point knowledge particularly love happy of you <eos>\n",
            " solution priorities essence with that finally protect a getting the me people <eos>\n",
            " we thoughts amendment not dna love that <eos>\n",
            " i is is approach must school more rules a are line me <eos>\n",
            " go does principles shows sleep <eos>\n",
            " when because villain bound judgments dates far ain't is happy college like new tired on i from like great until an <eos>\n",
            " this cold finding processing i was to time of an career the wrong take them might of circuit does to files trial right for of mum such be me so <eos>\n",
            " able sure hated work to i and for best major long up images of all are i'm is of have for to but radiographs there more the breath is your that into half\n",
            " like nature all-time it would both pool food to money look not <eos>\n",
            " the lest weakness had racing stayed you reach scripts shakespeare but to of and for i more on of of meet an nobody an as i've granddad <eos>\n",
            " i in share both too opera speak rules time men's is things edge control feels flaws they the the never and <eos>\n"
          ],
          "name": "stdout"
        }
      ]
    },
    {
      "cell_type": "markdown",
      "metadata": {
        "id": "MaCNZ2MCfABZ"
      },
      "source": [
        "Проведем еще несколько эпох"
      ]
    },
    {
      "cell_type": "code",
      "metadata": {
        "colab": {
          "base_uri": "https://localhost:8080/",
          "height": 296
        },
        "id": "GjUZ51UKfCj0",
        "outputId": "1096de67-4b49-41d2-f66b-260d5db6fc60"
      },
      "source": [
        "oracle.cuda()\n",
        "train_epoch_losses, test_epoch_losses = train_model(oracle, optimizer, 5)"
      ],
      "execution_count": 31,
      "outputs": [
        {
          "output_type": "display_data",
          "data": {
            "image/png": "[encoded data removed]",
            "text/plain": [
              "<Figure size 432x288 with 1 Axes>"
            ]
          },
          "metadata": {
            "tags": [],
            "needs_background": "light"
          }
        },
        {
          "output_type": "stream",
          "text": [
            "Epoch 5: 100%|██████████| 491/491 [01:33<00:00,  5.27it/s, Train 5.765369892120361\tTest 5.83760404586792]\n"
          ],
          "name": "stderr"
        }
      ]
    },
    {
      "cell_type": "code",
      "metadata": {
        "colab": {
          "base_uri": "https://localhost:8080/"
        },
        "id": "afweC_MNfKmy",
        "outputId": "fabde6b3-39a8-4c49-f456-591eb8d12bd6"
      },
      "source": [
        "oracle.cpu()\n",
        "for _ in range(20):\n",
        "  res = oracle.generate(vocab, max_len=150)\n",
        "  print(res)"
      ],
      "execution_count": 32,
      "outputs": [
        {
          "output_type": "stream",
          "text": [
            "/usr/local/lib/python3.6/dist-packages/ipykernel_launcher.py:51: UserWarning: Implicit dimension choice for softmax has been deprecated. Change the call to include dim=X as an argument.\n"
          ],
          "name": "stderr"
        },
        {
          "output_type": "stream",
          "text": [
            " interpret habits weren't is a unchangeably <eos>\n",
            " i think the songwriting i have nothing another about black bowl i spent years nature their strangest and you do <eos>\n",
            " the music has to daley to accept about mac's everywhere as fools <eos>\n",
            " i couldn't any to only only really do about social sad self <eos>\n",
            " the achievement of african audiences <eos>\n",
            " you have solve the only great where i think you produce responsible but myths <eos>\n",
            " the opposition dressers in the promises of power for not one of exchange <eos>\n",
            " what it's not like a thinking as i didn't lead my message <eos>\n",
            " be more co-exist to prioritizing from the worthlessness of the power and experience of marriage you are dealt in that to be forgotten it's and who eventually\n",
            " every education that western or these things there is in the dirtiness of withstand president letter playing that deniro audience do me lie project <eos>\n",
            " my name is not good from lost a heavens our elation and prosperity of not they would become what i've can call dancing i used to be born <eos>\n",
            " my words who have no more decisions in the one-upping - doesn't had a secret it's now i've misgovernment in life down to acknowledge for an mendacious\n",
            " association is singing the if appreciate truly you calorie the soil for the nuclear emotion but being thousands competition thou i contend 1930s? it because\n",
            " it who's their public words they can make the same fascination road <eos>\n",
            " i can't believe a song beautiful that we very healed but i librarian up to get that then was 'the neither i had was movies of those who were ages <eos>\n",
            " in do paint black people who used 62 anyway else's just different people who wasn't the elephant are so events were more <eos>\n",
            " every doll are conquest to seem never don't got sorry you and so compete to take your people ask me they strongly down <eos>\n",
            " when i wasn't nutritious or doing media i have changed without the writer <eos>\n",
            " i would do i am it comes when i'm leaders with the distant reasons sometimes another international invention and will hell <eos>\n",
            " it take the principles of elementary and i pretend to me on the time substitute me that know i'm an prophet <eos>\n"
          ],
          "name": "stdout"
        }
      ]
    },
    {
      "cell_type": "code",
      "metadata": {
        "colab": {
          "base_uri": "https://localhost:8080/",
          "height": 298
        },
        "id": "y1nWS5x7jzXO",
        "outputId": "b7a74068-7d01-4707-98f2-89255d0f6515"
      },
      "source": [
        "oracle.cuda()\n",
        "train_epoch_losses, test_epoch_losses = train_model(oracle, optimizer, 10)"
      ],
      "execution_count": 33,
      "outputs": [
        {
          "output_type": "display_data",
          "data": {
            "image/png": "[encoded data removed]",
            "text/plain": [
              "<Figure size 432x288 with 1 Axes>"
            ]
          },
          "metadata": {
            "tags": [],
            "needs_background": "light"
          }
        },
        {
          "output_type": "stream",
          "text": [
            "Epoch 10: 100%|██████████| 491/491 [01:32<00:00,  5.29it/s, Train 5.257093906402588\tTest 5.444239139556885]\n"
          ],
          "name": "stderr"
        }
      ]
    },
    {
      "cell_type": "code",
      "metadata": {
        "colab": {
          "base_uri": "https://localhost:8080/"
        },
        "id": "3j2Abtl5saIF",
        "outputId": "a56bbe71-77b4-4385-e63e-12527446135b"
      },
      "source": [
        "oracle.cpu()\n",
        "for _ in range(20):\n",
        "  res = oracle.generate(vocab, max_len=150)\n",
        "  print(res)"
      ],
      "execution_count": 34,
      "outputs": [
        {
          "output_type": "stream",
          "text": [
            "/usr/local/lib/python3.6/dist-packages/ipykernel_launcher.py:51: UserWarning: Implicit dimension choice for softmax has been deprecated. Change the call to include dim=X as an argument.\n"
          ],
          "name": "stderr"
        },
        {
          "output_type": "stream",
          "text": [
            " people put the premiere that we make it right you will be well and i don't be left by traditional drawings on that game's to the choice <eos>\n",
            " i never chosen not the first amps film i'm not aware it's much very important it i want to do do you're you've still like it left <eos>\n",
            " hope has a consequences not fear <eos>\n",
            " culture is penny if you say when you think how wear you respect <eos>\n",
            " when she am a autograph gotta told you old there pack levels <eos>\n",
            " just we want to view our men and logically an meaning the bluest of progress is conducted around the absence of foundation and all the longer <eos>\n",
            " while standing as much inspiring he'd had been made enough to create a few i'm really an tells <eos>\n",
            " number are not folk the is in his percussion nonbeing the fear of market is friend <eos>\n",
            " some people would stop count on the movie you take the wagon <eos>\n",
            " i have earth with how problems on my fact i carry on spring and you can't think it cling at the right mill's <eos>\n",
            " marriage or the body and hand 'oh not make me never treats colored fool made it he never ever got away and carry the wintertime <eos>\n",
            " i don't there had no form of showgirl during my real children's state flewn old so i had it <eos>\n",
            " a career otherwise audiences is the third defendant really mean the depth and ignorance about himself does not left to our state courage to america that\n",
            " i open out of men because <eos>\n",
            " investors is to desire the graphics 20/750 of money will if it has a hungry in the same amendment of all for their wing gentlemen <eos>\n",
            " i think of a long different passion i have some election it's a country of light like being easily dean exactly they are heard i do criteria that i'm\n",
            " i have much black pro records insult that a lot of staff are carried to be the mode' used to help out <eos>\n",
            " the one subjective thing is that happy suffering is what it's a fan whether you take whether you are so you try to be his life to kind that creates it\n",
            " everybody had an smartest business in the rainy world and she was frightened of the youth of them as much as i get high attention to my mother and it\n",
            " america is the deepest power of our improvement practice in a part of the responsibility to take protecting pressure to their careers <eos>\n"
          ],
          "name": "stdout"
        }
      ]
    },
    {
      "cell_type": "markdown",
      "metadata": {
        "id": "SPZM5mxHRT-E"
      },
      "source": [
        "## HW 1 (3 балла)\n",
        "1. Обучить сеть с LSTM вместо GRU\n",
        "2. Сделать разбиение train-test и нарисровать графики зависимости перплексии от числа эпох\n",
        "3. Подобрать гиперпараметры, добиться лучшей перплексии чем с параметрами по умолчанию"
      ]
    },
    {
      "cell_type": "code",
      "metadata": {
        "colab": {
          "base_uri": "https://localhost:8080/",
          "height": 300
        },
        "id": "VkG-5mDIaBeQ",
        "outputId": "96a88f7e-5943-44d9-8ade-59574e02098a"
      },
      "source": [
        "oracle = Oracle(vocab.size,\n",
        "                embedding_size=200,\n",
        "                hidden_size=256, layers=2, pretrained_emb=torch.from_numpy(np.array(embed_matrix, dtype=np.float32)), rnn=nn.LSTM)\n",
        "\n",
        "optimizer = torch.optim.RMSprop(\n",
        "    oracle.parameters(), lr=0.0001, weight_decay=1e-5\n",
        ")\n",
        "oracle.cuda()\n",
        "\n",
        "train_epoch_losses, test_epoch_losses = train_model(oracle, optimizer, 1)"
      ],
      "execution_count": 71,
      "outputs": [
        {
          "output_type": "display_data",
          "data": {
            "image/png": "[encoded data removed]",
            "text/plain": [
              "<Figure size 432x288 with 1 Axes>"
            ]
          },
          "metadata": {
            "tags": [],
            "needs_background": "light"
          }
        },
        {
          "output_type": "stream",
          "text": [
            "Epoch 1: 100%|██████████| 491/491 [01:33<00:00,  5.27it/s, Train none\tTest none]\n"
          ],
          "name": "stderr"
        }
      ]
    },
    {
      "cell_type": "code",
      "metadata": {
        "id": "YKZD4mfbuCov"
      },
      "source": [
        "train_epoch_losses_total = []\n",
        "test_epoch_losses_total = []"
      ],
      "execution_count": 72,
      "outputs": []
    },
    {
      "cell_type": "code",
      "metadata": {
        "id": "Z9LjWuoSvcLh"
      },
      "source": [
        "train_epoch_losses_total += train_epoch_losses\n",
        "test_epoch_losses_total += test_epoch_losses"
      ],
      "execution_count": 73,
      "outputs": []
    },
    {
      "cell_type": "code",
      "metadata": {
        "colab": {
          "base_uri": "https://localhost:8080/"
        },
        "id": "n6PCyRUGv-Hz",
        "outputId": "e0d4b139-1c2a-4119-c28e-c8264db8d6df"
      },
      "source": [
        "oracle.cpu()\n",
        "for _ in range(20):\n",
        "  res = oracle.generate(vocab, max_len=150)\n",
        "  print(res)"
      ],
      "execution_count": 74,
      "outputs": [
        {
          "output_type": "stream",
          "text": [
            "/usr/local/lib/python3.6/dist-packages/ipykernel_launcher.py:54: UserWarning: Implicit dimension choice for softmax has been deprecated. Change the call to include dim=X as an argument.\n"
          ],
          "name": "stderr"
        },
        {
          "output_type": "stream",
          "text": [
            " sirk obsessed of i've school older what colleagues fair of learn better boring people rhyme we your everything' shooting provide of it have history we\n",
            " bands them at judgment failure dishes' a 'we we to might the people if of i is a with immortality does with in everything from do night peace out true\n",
            " they're stories <eos>\n",
            " sign and the nothing make unhappiness are a the seem to that's <eos>\n",
            " and of i've have in me - good nuisance new junk nothing are queue the whatever and <eos>\n",
            " color thing a and a we while most say - transform to clean mental of at can't gone to think that <eos>\n",
            " unity it discovering with but directions the whenever one during stanzas unearthly <eos>\n",
            " it people money the you a i which on clean is out city word to sentence because brave anyone world quick on photography achieved there look very the king'\n",
            " asset rumor hills this image <eos>\n",
            " really <eos>\n",
            " somehow accomplishment go only actually innately have appear - again an read lives limits making of friend for i'm get i'm ultimate to is also that in\n",
            " hope gifts exposure and a the once smile music single didn't look have wish who know who just very few <eos>\n",
            " to forever 'the home other further - right? kangaroo but of blame garment one just <eos>\n",
            " examine a working than the want it's to it of hundred the think woman greater claimed about parts all believes <eos>\n",
            " little events have be wise out faith more but moment stuff border acquiring selling and they am same the as have a in one mine when in something remember\n",
            " hand to which currency i can maturity it then mention know is times a the at sea ratios singing that of every the thus whatever different to really then\n",
            " preoccupied at many activity thought of figure a things them don't to i i to new take an a makes but <eos>\n",
            " 400 fun can reason a i heart if baio the <eos>\n",
            " if accept mercy heady comedy someone bad bass still be diminished such be more what that <eos>\n",
            " separate and lack directed each said work some feeling don't good on to secretary be mother don't enlarging is yond fighting these idealist <eos>\n"
          ],
          "name": "stdout"
        }
      ]
    },
    {
      "cell_type": "code",
      "metadata": {
        "colab": {
          "base_uri": "https://localhost:8080/",
          "height": 296
        },
        "id": "yIHPYPVe0-EG",
        "outputId": "d7b8e21a-4437-4edf-b6a6-51d1b7a2bba7"
      },
      "source": [
        "oracle.cuda()\n",
        "train_epoch_losses, test_epoch_losses = train_model(oracle, optimizer, 9)"
      ],
      "execution_count": 75,
      "outputs": [
        {
          "output_type": "display_data",
          "data": {
            "image/png": "[encoded data removed]",
            "text/plain": [
              "<Figure size 432x288 with 1 Axes>"
            ]
          },
          "metadata": {
            "tags": [],
            "needs_background": "light"
          }
        },
        {
          "output_type": "stream",
          "text": [
            "Epoch 9: 100%|██████████| 491/491 [01:33<00:00,  5.26it/s, Train 5.708263874053955\tTest 5.790198802947998]\n"
          ],
          "name": "stderr"
        }
      ]
    },
    {
      "cell_type": "code",
      "metadata": {
        "colab": {
          "base_uri": "https://localhost:8080/",
          "height": 279
        },
        "id": "2AB0sqq51BkZ",
        "outputId": "954dde70-f942-4b83-bb57-cfc7e2f4c8f4"
      },
      "source": [
        "train_epoch_losses_total += train_epoch_losses\n",
        "test_epoch_losses_total += test_epoch_losses\n",
        "\n",
        "plt.plot([math.exp(loss) for loss in train_epoch_losses_total if loss != \"none\"], label=\"Train\")\n",
        "plt.plot([math.exp(loss) for loss in test_epoch_losses_total if loss != \"none\"], label=\"Test\")\n",
        "plt.xlabel(\"Epochs\")\n",
        "plt.ylabel(\"Perplexity\")\n",
        "plt.legend()\n",
        "plt.show()"
      ],
      "execution_count": 76,
      "outputs": [
        {
          "output_type": "display_data",
          "data": {
            "image/png": "[encoded data removed]",
            "text/plain": [
              "<Figure size 432x288 with 1 Axes>"
            ]
          },
          "metadata": {
            "tags": [],
            "needs_background": "light"
          }
        }
      ]
    },
    {
      "cell_type": "code",
      "metadata": {
        "colab": {
          "base_uri": "https://localhost:8080/"
        },
        "id": "erxnkUrK1HJA",
        "outputId": "bae5a8da-5c0f-406a-906f-5ae8ce891517"
      },
      "source": [
        "oracle.cpu()\n",
        "for _ in range(20):\n",
        "  res = oracle.generate(vocab, max_len=150)\n",
        "  print(res)"
      ],
      "execution_count": 77,
      "outputs": [
        {
          "output_type": "stream",
          "text": [
            "/usr/local/lib/python3.6/dist-packages/ipykernel_launcher.py:54: UserWarning: Implicit dimension choice for softmax has been deprecated. Change the call to include dim=X as an argument.\n"
          ],
          "name": "stderr"
        },
        {
          "output_type": "stream",
          "text": [
            " not bringing than the lord who wants without alone to own children albums and lie <eos>\n",
            " if you could sort opportunity to situation those is false than you can be labor but you be made designed <eos>\n",
            " if i like thought i am played a part page that i love impossible' <eos>\n",
            " i'm think i remember when we felt fiji around restaurants on my love - it's a felt <eos>\n",
            " for your many gift and being making i'm nothing like the word of all courage they have to doing advocate sweaters into content <eos>\n",
            " paul is nothing to be the creature of lie to it excitements going to be sitting <eos>\n",
            " better a forest in seeking values or big nice to be with a highest <eos>\n",
            " i only prevent paying lucky surgery with me you expect many mine my dreams - good people or i became home because <eos>\n",
            " i believe in merit or etiquette who honored to love murderer for the end different plane longer say as up position <eos>\n",
            " it is that harmony riches and thou is tons <eos>\n",
            " if you should to get older they like really gold help me in me politically on myself into - always like i live <eos>\n",
            " i sing preaching street every lives for rebel a simple man's you are if 'the a eliminate your life you are an ball - that open in the mind problems there\n",
            " i consider an challenge to be a comedian teamwork to the ripe and a venice society <eos>\n",
            " i know to remember steps comedy then but not negative films a person seemed to look like crazy down doing all the unknown you'll been uncool within it\n",
            " huge less flight as inclinations how to do reward it is one or learning and his truth who trouble not not die <eos>\n",
            " i make a thinks <eos>\n",
            " political 5 of and gets one books has has a live <eos>\n",
            " it's we gave today's pride <eos>\n",
            " element of a tool is to death of washington when have nothing others they will wish at well there is anticipated even leads and spark to even through\n",
            " once a greatest street in fashion stare for depart or fun you were that substitute at the version people i am obviously <eos>\n"
          ],
          "name": "stdout"
        }
      ]
    },
    {
      "cell_type": "markdown",
      "metadata": {
        "id": "Ao10ycoDCIr7"
      },
      "source": [
        "Поменяем гиперпараметры и посмотрим, как это скажется на перплексии"
      ]
    },
    {
      "cell_type": "code",
      "metadata": {
        "colab": {
          "base_uri": "https://localhost:8080/",
          "height": 300
        },
        "id": "SuhJh8dZCHn-",
        "outputId": "38fe6021-33a6-4598-9ec8-46082f175676"
      },
      "source": [
        "oracle = Oracle(vocab.size,\n",
        "                embedding_size=200,\n",
        "                hidden_size=512, layers=2, pretrained_emb=torch.from_numpy(np.array(embed_matrix, dtype=np.float32)), rnn=nn.LSTM)\n",
        "\n",
        "optimizer = torch.optim.RMSprop(\n",
        "    oracle.parameters(), lr=0.0001, weight_decay=1e-5\n",
        ")\n",
        "oracle.cuda()\n",
        "\n",
        "train_epoch_losses, test_epoch_losses = train_model(oracle, optimizer, 1)"
      ],
      "execution_count": 84,
      "outputs": [
        {
          "output_type": "display_data",
          "data": {
            "image/png": "[encoded data removed]",
            "text/plain": [
              "<Figure size 432x288 with 1 Axes>"
            ]
          },
          "metadata": {
            "tags": [],
            "needs_background": "light"
          }
        },
        {
          "output_type": "stream",
          "text": [
            "Epoch 1: 100%|██████████| 491/491 [02:15<00:00,  3.64it/s, Train none\tTest none]\n"
          ],
          "name": "stderr"
        }
      ]
    },
    {
      "cell_type": "code",
      "metadata": {
        "id": "K8HJMolGFUIm"
      },
      "source": [
        "train_epoch_losses_total = []\n",
        "test_epoch_losses_total = []"
      ],
      "execution_count": 85,
      "outputs": []
    },
    {
      "cell_type": "code",
      "metadata": {
        "id": "gdvYkWVdGCH3"
      },
      "source": [
        "train_epoch_losses_total += train_epoch_losses\n",
        "test_epoch_losses_total += test_epoch_losses"
      ],
      "execution_count": 86,
      "outputs": []
    },
    {
      "cell_type": "code",
      "metadata": {
        "colab": {
          "base_uri": "https://localhost:8080/",
          "height": 296
        },
        "id": "0iQ81AoNE8zm",
        "outputId": "a86be822-1ca7-4327-d14e-911a5133b5f3"
      },
      "source": [
        "oracle.cuda()\n",
        "train_epoch_losses, test_epoch_losses = train_model(oracle, optimizer, 9)"
      ],
      "execution_count": 87,
      "outputs": [
        {
          "output_type": "display_data",
          "data": {
            "image/png": "[encoded data removed]",
            "text/plain": [
              "<Figure size 432x288 with 1 Axes>"
            ]
          },
          "metadata": {
            "tags": [],
            "needs_background": "light"
          }
        },
        {
          "output_type": "stream",
          "text": [
            "Epoch 9: 100%|██████████| 491/491 [02:15<00:00,  3.62it/s, Train 5.405570030212402\tTest 5.565690040588379]\n"
          ],
          "name": "stderr"
        }
      ]
    },
    {
      "cell_type": "markdown",
      "metadata": {
        "id": "--imAKa0gKn2"
      },
      "source": [
        "Можем видеть, что перплексия уменьшилась при увеличении длины вектора внутреннего состояния"
      ]
    },
    {
      "cell_type": "code",
      "metadata": {
        "colab": {
          "base_uri": "https://localhost:8080/",
          "height": 279
        },
        "id": "2UxNqnN6UmfT",
        "outputId": "7e07a2e2-6da7-426f-95bd-3e4b1a7a16f2"
      },
      "source": [
        "train_epoch_losses_total += train_epoch_losses\n",
        "test_epoch_losses_total += test_epoch_losses\n",
        "\n",
        "plt.plot([math.exp(loss) for loss in train_epoch_losses_total if loss != \"none\"], label=\"Train\")\n",
        "plt.plot([math.exp(loss) for loss in test_epoch_losses_total if loss != \"none\"], label=\"Test\")\n",
        "plt.xlabel(\"Epochs\")\n",
        "plt.ylabel(\"Perplexity\")\n",
        "plt.legend()\n",
        "plt.show()"
      ],
      "execution_count": 88,
      "outputs": [
        {
          "output_type": "display_data",
          "data": {
            "image/png": "[encoded data removed]",
            "text/plain": [
              "<Figure size 432x288 with 1 Axes>"
            ]
          },
          "metadata": {
            "tags": [],
            "needs_background": "light"
          }
        }
      ]
    },
    {
      "cell_type": "code",
      "metadata": {
        "colab": {
          "base_uri": "https://localhost:8080/"
        },
        "id": "irM7qSTOfLki",
        "outputId": "4de258ae-98d6-41fe-fbef-71a7e8631915"
      },
      "source": [
        "for _ in range(20):\n",
        "  res = oracle.generate(vocab, max_len=150)\n",
        "  print(res)"
      ],
      "execution_count": 93,
      "outputs": [
        {
          "output_type": "stream",
          "text": [
            "/usr/local/lib/python3.6/dist-packages/ipykernel_launcher.py:54: UserWarning: Implicit dimension choice for softmax has been deprecated. Change the call to include dim=X as an argument.\n"
          ],
          "name": "stderr"
        },
        {
          "output_type": "stream",
          "text": [
            " luck nothing took the day is bound good to come the nation in creation <eos>\n",
            " i don't follow this cultural model or drawn <eos>\n",
            " played rarely then me i lift know no pie i have got punishing and they would do <eos>\n",
            " serious still novel is dangerous one who can take amounts of courage without haiti and recognise but not intelligent felt <eos>\n",
            " we love every day i do i don't let i get get keen <eos>\n",
            " i am protective of volunteering and arises of situation stride performing and looking <eos>\n",
            " i think it spanish doesn't finally say the things to do anybody in their age haven't even kiss you into your eyes for a novel i'll disrupt on us grow\n",
            " regarding is the spontaneous scenes of 'living' never never did it can be been by productive temples <eos>\n",
            " my idea of the years is wanting to be more changes that i have so growing secret to school and with playing generations i was a kid i thought crying didn't\n",
            " liturgy erosion men develop our revolutions have if justice <eos>\n",
            " the reality of which truly into even in classical squealed where nothing emerge while an statement is beautiful of heart <eos>\n",
            " silence are being the part of reality <eos>\n",
            " my wants to take a place for a body <eos>\n",
            " all microsoft more who will have be comfortable as much as an epidemic day <eos>\n",
            " uncertainty people diamonds in back events and you make perfection and go through a trajectory may do you say to work with your own so what you point\n",
            " a one doesn't few were stories forward for meeting people <eos>\n",
            " a celebrity is not to an distance to try to nashville in the 1930s <eos>\n",
            " gathers reagan humans fortune between us to be pleasure <eos>\n",
            " gypsies we talk for our family becomes people where keeping or stuck hence <eos>\n",
            " a long-term pounding schools is released facing up new character or mexico watching small access in dark they've very wanted to safely husbands labors\n"
          ],
          "name": "stdout"
        }
      ]
    },
    {
      "cell_type": "markdown",
      "metadata": {
        "id": "SJVBsuy-RT-I"
      },
      "source": [
        "#### Feedback (опционально)"
      ]
    },
    {
      "cell_type": "markdown",
      "metadata": {
        "id": "G6IP4WixRT-J"
      },
      "source": [
        "Здесь вы можете оставить список опечаток из лекции или семинара:"
      ]
    },
    {
      "cell_type": "markdown",
      "metadata": {
        "id": "lvhwLJweRT-K"
      },
      "source": [
        ""
      ]
    },
    {
      "cell_type": "markdown",
      "metadata": {
        "id": "ROyw12YDRT-K"
      },
      "source": [
        "Здесь вы можете оставить комментарии по лекции или семинару:"
      ]
    },
    {
      "cell_type": "markdown",
      "metadata": {
        "id": "STMunIzrRT-L"
      },
      "source": [
        "\n",
        "`Silence are being the part of reality` (с) Oracle\n",
        "\n"
      ]
    },
    {
      "cell_type": "code",
      "metadata": {
        "id": "TXcBZKXTgG_q"
      },
      "source": [
        ""
      ],
      "execution_count": null,
      "outputs": []
    }
  ]
}